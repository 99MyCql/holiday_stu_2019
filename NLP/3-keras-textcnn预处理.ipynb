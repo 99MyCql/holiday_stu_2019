{
 "cells": [
  {
   "cell_type": "markdown",
   "metadata": {},
   "source": [
    "## Keras实现文本预处理"
   ]
  },
  {
   "cell_type": "code",
   "execution_count": 1,
   "metadata": {},
   "outputs": [
    {
     "name": "stderr",
     "output_type": "stream",
     "text": [
      "Using TensorFlow backend.\n"
     ]
    }
   ],
   "source": [
    "import keras.preprocessing.text as T\n",
    "from keras.preprocessing.text import Tokenizer"
   ]
  },
  {
   "cell_type": "code",
   "execution_count": 2,
   "metadata": {},
   "outputs": [
    {
     "name": "stdout",
     "output_type": "stream",
     "text": [
      "some thing to eat\n"
     ]
    }
   ],
   "source": [
    "text1 = 'some/thing to eat'\n",
    "text2 = 'some thing to drink'\n",
    "texts = [text1, text2]\n",
    "print(' '.join(text1.split('/')))\n"
   ]
  },
  {
   "cell_type": "code",
   "execution_count": 4,
   "metadata": {
    "scrolled": true
   },
   "outputs": [
    {
     "name": "stdout",
     "output_type": "stream",
     "text": [
      "[[1, 2, 3, 4], [1, 2, 3, 5]]\n"
     ]
    }
   ],
   "source": [
    "tokenizer = Tokenizer(num_words=None)  # num_words:None或整数,处理的最大单词数量。少于此数的单词丢掉\n",
    "tokenizer.fit_on_texts(texts)\n",
    "sequences = tokenizer.texts_to_sequences(texts)\n",
    "print(sequences)"
   ]
  },
  {
   "cell_type": "code",
   "execution_count": 6,
   "metadata": {},
   "outputs": [
    {
     "name": "stdout",
     "output_type": "stream",
     "text": [
      "OrderedDict([('some', 2), ('thing', 2), ('to', 2), ('eat', 1), ('drink', 1)])\n",
      "{'some': 1, 'thing': 2, 'to': 3, 'eat': 4, 'drink': 5}\n",
      "{'to': 2, 'thing': 2, 'eat': 1, 'some': 2, 'drink': 1}\n",
      "{3: 2, 2: 2, 4: 1, 1: 2, 5: 1}\n"
     ]
    }
   ],
   "source": [
    "print(tokenizer.word_counts)  # [('some', 2), ('thing', 2), ('to', 2), ('eat', 1), ('drink', 1)]\n",
    "print(tokenizer.word_index)  # {'some': 1, 'thing': 2,'to': 3 ','eat': 4, drink': 5}\n",
    "print(tokenizer.word_docs)  # {'some': 2, 'thing': 2, 'to': 2, 'drink': 1,  'eat': 1}\n",
    "print(tokenizer.index_docs)"
   ]
  },
  {
   "cell_type": "code",
   "execution_count": 12,
   "metadata": {},
   "outputs": [
    {
     "name": "stdout",
     "output_type": "stream",
     "text": [
      "[[0 0 0 0 0 0 1 2 3 4]\n",
      " [0 0 0 0 0 0 1 2 3 5]]\n"
     ]
    }
   ],
   "source": [
    "from keras.preprocessing.sequence import pad_sequences\n",
    "\n",
    "word_index = tokenizer.word_index\n",
    "data = pad_sequences(sequences, maxlen=10)\n",
    "print(data)"
   ]
  },
  {
   "cell_type": "code",
   "execution_count": 13,
   "metadata": {
    "scrolled": true
   },
   "outputs": [
    {
     "name": "stdout",
     "output_type": "stream",
     "text": [
      "['今天', '北京', '下', '暴雨', '了']\n",
      "2\n",
      "OrderedDict([('今天', 2), ('北京', 1), ('下', 1), ('暴雨', 1), ('了', 1), ('我', 1), ('打车', 1), ('回家', 1)])\n",
      "{'今天': 2, '北京': 1, '了': 1, '下': 1, '暴雨': 1, '我': 1, '打车': 1, '回家': 1}\n",
      "{'今天': 1, '北京': 2, '下': 3, '暴雨': 4, '了': 5, '我': 6, '打车': 7, '回家': 8}\n",
      "{1: 2, 2: 1, 5: 1, 3: 1, 4: 1, 6: 1, 7: 1, 8: 1}\n",
      "[[0 0 0 0 0 0 0 1 2 3]\n",
      " [0 0 0 0 0 0 0 4 5 6]]\n",
      "[[1 2 3 0 0 0 0 0 0 0]\n",
      " [4 5 6 0 0 0 0 0 0 0]]\n"
     ]
    }
   ],
   "source": [
    "from keras.preprocessing.text import text_to_word_sequence\n",
    "from keras.preprocessing.text import Tokenizer\n",
    "from keras.preprocessing.sequence import pad_sequences\n",
    "\n",
    "text1 = \"今天 北京 下 暴雨 了\"\n",
    "text2 = \"我 今天 打车 回家\"\n",
    "texts = [text1, text2]\n",
    "\n",
    "print(text_to_word_sequence(text1))  # 按空格分割语料\n",
    "# ['今天', '北京', '下', '暴雨', '了']\n",
    "\n",
    "tokenizer = Tokenizer(num_words=10)\n",
    "tokenizer.fit_on_texts(texts)\n",
    "print(tokenizer.document_count) # 处理文档的数量\n",
    "# 2\n",
    "print(tokenizer.word_counts) # 词频字典，按词频从大到小排序\n",
    "# OrderedDict([('今天', 2), ('北京', 1), ('下', 1), ('暴雨', 1), ('了', 1), ('我', 1), ('打车', 1), ('回家', 1)])\n",
    "print(tokenizer.word_docs) # 保存每个word出现的文档的数量\n",
    "# {'了': 1, '暴雨': 1, '北京': 1, '下': 1, '今天': 2, '打车': 1, '回家': 1, '我': 1}\n",
    "print(tokenizer.word_index) # 给每个词唯一id\n",
    "# {'今天': 1, '北京': 2, '下': 3, '暴雨': 4, '了': 5, '我': 6, '打车': 7, '回家': 8}\n",
    "print(tokenizer.index_docs) # 保存word的id出现的文档的数量\n",
    "# {5: 1, 4: 1, 2: 1, 3: 1, 1: 2, 7: 1, 8: 1, 6: 1}\n",
    "\n",
    "# 将序列填充到maxlen长度\n",
    "print(pad_sequences([[1,2,3],[4,5,6]],maxlen=10,padding='pre')) # 在序列前填充\n",
    "# [[0 0 0 0 0 0 0 1 2 3]\n",
    "# [0 0 0 0 0 0 0 4 5 6]]\n",
    "print(pad_sequences([[1,2,3],[4,5,6]],maxlen=10,padding='post')) # 在序列后填充\n",
    "# [[1 2 3 0 0 0 0 0 0 0]\n",
    "# [4 5 6 0 0 0 0 0 0 0]]"
   ]
  },
  {
   "cell_type": "markdown",
   "metadata": {},
   "source": [
    "[Keras文本预处理相关函数简介](https://blog.csdn.net/edogawachia/article/details/79394780)"
   ]
  },
  {
   "cell_type": "markdown",
   "metadata": {},
   "source": [
    "[Keras---text.Tokenizer：文本与序列预处理](https://blog.csdn.net/lovebyz/article/details/77712003)"
   ]
  },
  {
   "cell_type": "code",
   "execution_count": null,
   "metadata": {},
   "outputs": [],
   "source": []
  }
 ],
 "metadata": {
  "kernelspec": {
   "display_name": "Python 3",
   "language": "python",
   "name": "python3"
  },
  "language_info": {
   "codemirror_mode": {
    "name": "ipython",
    "version": 3
   },
   "file_extension": ".py",
   "mimetype": "text/x-python",
   "name": "python",
   "nbconvert_exporter": "python",
   "pygments_lexer": "ipython3",
   "version": "3.6.4"
  },
  "toc": {
   "base_numbering": 1,
   "nav_menu": {},
   "number_sections": true,
   "sideBar": true,
   "skip_h1_title": false,
   "title_cell": "Table of Contents",
   "title_sidebar": "Contents",
   "toc_cell": false,
   "toc_position": {},
   "toc_section_display": true,
   "toc_window_display": false
  }
 },
 "nbformat": 4,
 "nbformat_minor": 2
}
