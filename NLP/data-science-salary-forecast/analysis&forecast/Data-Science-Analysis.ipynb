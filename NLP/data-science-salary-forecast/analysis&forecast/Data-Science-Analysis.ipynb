{
 "cells": [
  {
   "cell_type": "code",
   "execution_count": 3,
   "metadata": {},
   "outputs": [],
   "source": [
    "import warnings\n",
    "warnings.filterwarnings(\"ignore\")"
   ]
  },
  {
   "cell_type": "markdown",
   "metadata": {},
   "source": [
    "# Read Data"
   ]
  },
  {
   "cell_type": "code",
   "execution_count": 4,
   "metadata": {},
   "outputs": [],
   "source": [
    "import pandas as pd\n",
    "from pandas import Series"
   ]
  },
  {
   "cell_type": "code",
   "execution_count": 5,
   "metadata": {},
   "outputs": [],
   "source": [
    "data_analysis = pd.read_csv('./data_to_be_analysed/data_analysis_with_skills.csv')\n",
    "data_mining = pd.read_csv('./data_to_be_analysed/data_mining_with_skills.csv')\n",
    "machine_learning = pd.read_csv('./data_to_be_analysed/machine_learning_with_skills.csv')\n",
    "business_analysis = pd.read_csv('./data_to_be_analysed/business_analysis_with_skills.csv')"
   ]
  },
  {
   "cell_type": "markdown",
   "metadata": {},
   "source": [
    "---"
   ]
  },
  {
   "cell_type": "code",
   "execution_count": 6,
   "metadata": {
    "scrolled": true
   },
   "outputs": [
    {
     "data": {
      "text/plain": [
       "(1053, 21)"
      ]
     },
     "execution_count": 6,
     "metadata": {},
     "output_type": "execute_result"
    }
   ],
   "source": [
    "data_analysis.shape"
   ]
  },
  {
   "cell_type": "markdown",
   "metadata": {},
   "source": [
    "---"
   ]
  },
  {
   "cell_type": "markdown",
   "metadata": {},
   "source": [
    "## 添加薪资均值"
   ]
  },
  {
   "cell_type": "code",
   "execution_count": 7,
   "metadata": {},
   "outputs": [],
   "source": [
    "import re\n",
    "# 均值函数\n",
    "def average(job_salary):\n",
    "    # 取薪资均值----------------\n",
    "    pattern = re.compile('\\d+')\n",
    "    salary = job_salary\n",
    "    try:\n",
    "        res = re.findall(pattern, salary)\n",
    "        avg_salary = 0\n",
    "        sum = 0\n",
    "        for i in res:\n",
    "            a = int(i)\n",
    "            sum = sum + a\n",
    "            avg_salary = sum / 2\n",
    "    except Exception:\n",
    "        avg_salary = 0\n",
    "    # 函数返回值\n",
    "    return avg_salary\n",
    "\n",
    "salary_list = []\n",
    "for i in range(0,data_analysis.shape[0]):\n",
    "    avg_sal = average(data_analysis['职位薪资'][i])\n",
    "    salary_list.append(avg_sal)\n",
    "sal = Series(salary_list)\n",
    "\n",
    "data_analysis.insert(9,'salary',sal)"
   ]
  },
  {
   "cell_type": "code",
   "execution_count": 8,
   "metadata": {},
   "outputs": [],
   "source": [
    "salary_list = []\n",
    "for i in range(0,data_mining.shape[0]):\n",
    "    avg_sal = average(data_mining['职位薪资'][i])\n",
    "    salary_list.append(avg_sal)\n",
    "sal = Series(salary_list)\n",
    "\n",
    "data_mining.insert(9,'salary',sal)"
   ]
  },
  {
   "cell_type": "code",
   "execution_count": 9,
   "metadata": {},
   "outputs": [],
   "source": [
    "salary_list = []\n",
    "for i in range(0,machine_learning.shape[0]):\n",
    "    avg_sal = average(machine_learning['职位薪资'][i])\n",
    "    salary_list.append(avg_sal)\n",
    "sal = Series(salary_list)\n",
    "\n",
    "machine_learning.insert(9,'salary',sal)"
   ]
  },
  {
   "cell_type": "code",
   "execution_count": 10,
   "metadata": {},
   "outputs": [],
   "source": [
    "salary_list = []\n",
    "for i in range(0,business_analysis.shape[0]):\n",
    "    avg_sal = average(business_analysis['职位薪资'][i])\n",
    "    salary_list.append(avg_sal)\n",
    "sal = Series(salary_list)\n",
    "\n",
    "business_analysis.insert(9,'salary',sal)"
   ]
  },
  {
   "cell_type": "markdown",
   "metadata": {},
   "source": [
    "---"
   ]
  },
  {
   "cell_type": "markdown",
   "metadata": {},
   "source": [
    "# 薪资分布探索"
   ]
  },
  {
   "cell_type": "code",
   "execution_count": 11,
   "metadata": {},
   "outputs": [
    {
     "data": {
      "text/plain": [
       "count    1053.000000\n",
       "mean       16.632479\n",
       "std         7.925945\n",
       "min         1.500000\n",
       "25%        11.000000\n",
       "50%        15.000000\n",
       "75%        22.500000\n",
       "max        52.500000\n",
       "Name: salary, dtype: float64"
      ]
     },
     "execution_count": 11,
     "metadata": {},
     "output_type": "execute_result"
    }
   ],
   "source": [
    "data_analysis.salary.describe()"
   ]
  },
  {
   "cell_type": "code",
   "execution_count": 12,
   "metadata": {},
   "outputs": [
    {
     "data": {
      "text/plain": [
       "Index(['Unnamed: 0', 'Keyword', '公司名称', '公司规模', '地区', '学历要求', '工作经验', '职位名称',\n",
       "       '职位描述', 'salary', '职位薪资', '融资情况', 'Sql', 'Python', 'Excel', 'Sas',\n",
       "       'Spss', 'Hive', 'Hadoop', 'Ppt', 'Tableau', 'Spark'],\n",
       "      dtype='object')"
      ]
     },
     "execution_count": 12,
     "metadata": {},
     "output_type": "execute_result"
    }
   ],
   "source": [
    "data_analysis.columns"
   ]
  },
  {
   "cell_type": "code",
   "execution_count": 13,
   "metadata": {},
   "outputs": [
    {
     "data": {
      "image/png": "[encoded data removed]",
      "text/plain": [
       "<matplotlib.figure.Figure at 0x1d08263fda0>"
      ]
     },
     "metadata": {
      "needs_background": "light"
     },
     "output_type": "display_data"
    }
   ],
   "source": [
    "%matplotlib inline\n",
    "import matplotlib.pyplot as plt\n",
    "data_analysis.salary.hist(bins=50, figsize=(8,5))\n",
    "\n",
    "plt.show()"
   ]
  },
  {
   "cell_type": "markdown",
   "metadata": {},
   "source": [
    "- 薪资主要分布在**5k-30k**之间"
   ]
  },
  {
   "cell_type": "code",
   "execution_count": 14,
   "metadata": {},
   "outputs": [
    {
     "data": {
      "text/plain": [
       "(42, 22)"
      ]
     },
     "execution_count": 14,
     "metadata": {},
     "output_type": "execute_result"
    }
   ],
   "source": [
    "data_analysis[data_analysis.salary>30].shape"
   ]
  },
  {
   "cell_type": "code",
   "execution_count": 15,
   "metadata": {},
   "outputs": [
    {
     "data": {
      "text/plain": [
       "(22, 22)"
      ]
     },
     "execution_count": 15,
     "metadata": {},
     "output_type": "execute_result"
    }
   ],
   "source": [
    "data_analysis[data_analysis.salary<5].shape"
   ]
  },
  {
   "cell_type": "code",
   "execution_count": 16,
   "metadata": {},
   "outputs": [],
   "source": [
    "data_analysis = data_analysis[data_analysis['salary']<30]\n",
    "data_analysis = data_analysis[data_analysis['salary']>5]"
   ]
  },
  {
   "cell_type": "markdown",
   "metadata": {},
   "source": [
    "---"
   ]
  },
  {
   "cell_type": "code",
   "execution_count": 17,
   "metadata": {},
   "outputs": [
    {
     "data": {
      "text/html": [
       "<div>\n",
       "<style scoped>\n",
       "    .dataframe tbody tr th:only-of-type {\n",
       "        vertical-align: middle;\n",
       "    }\n",
       "\n",
       "    .dataframe tbody tr th {\n",
       "        vertical-align: top;\n",
       "    }\n",
       "\n",
       "    .dataframe thead th {\n",
       "        text-align: right;\n",
       "    }\n",
       "</style>\n",
       "<table border=\"1\" class=\"dataframe\">\n",
       "  <thead>\n",
       "    <tr style=\"text-align: right;\">\n",
       "      <th></th>\n",
       "      <th>Unnamed: 0</th>\n",
       "      <th>Keyword</th>\n",
       "      <th>公司名称</th>\n",
       "      <th>公司规模</th>\n",
       "      <th>地区</th>\n",
       "      <th>学历要求</th>\n",
       "      <th>工作经验</th>\n",
       "      <th>职位名称</th>\n",
       "      <th>职位描述</th>\n",
       "      <th>salary</th>\n",
       "      <th>...</th>\n",
       "      <th>Sql</th>\n",
       "      <th>Python</th>\n",
       "      <th>Excel</th>\n",
       "      <th>Sas</th>\n",
       "      <th>Spss</th>\n",
       "      <th>Hive</th>\n",
       "      <th>Hadoop</th>\n",
       "      <th>Ppt</th>\n",
       "      <th>Tableau</th>\n",
       "      <th>Spark</th>\n",
       "    </tr>\n",
       "  </thead>\n",
       "  <tbody>\n",
       "    <tr>\n",
       "      <th>0</th>\n",
       "      <td>1</td>\n",
       "      <td>数据分析</td>\n",
       "      <td>上海恒奕集团</td>\n",
       "      <td>500-999人</td>\n",
       "      <td>上海 普陀区 武宁路</td>\n",
       "      <td>大专</td>\n",
       "      <td>1-3年</td>\n",
       "      <td>数据分析</td>\n",
       "      <td>岗位职责：通过抓取第三方数据来分析在不同地区，我们医院项目的目标人群画像分析，实时网络热度盘...</td>\n",
       "      <td>10.0</td>\n",
       "      <td>...</td>\n",
       "      <td>0</td>\n",
       "      <td>0</td>\n",
       "      <td>0</td>\n",
       "      <td>0</td>\n",
       "      <td>0</td>\n",
       "      <td>0</td>\n",
       "      <td>0</td>\n",
       "      <td>0</td>\n",
       "      <td>0</td>\n",
       "      <td>0</td>\n",
       "    </tr>\n",
       "    <tr>\n",
       "      <th>1</th>\n",
       "      <td>2</td>\n",
       "      <td>数据分析</td>\n",
       "      <td>晶赞科技</td>\n",
       "      <td>100-499人</td>\n",
       "      <td>上海 静安区 共和新路</td>\n",
       "      <td>本科</td>\n",
       "      <td>3-5年</td>\n",
       "      <td>数据分析</td>\n",
       "      <td>工作职责：1、负责政务数据/商业数据的研究和分析。例如，通过政务公开数据的挖掘和分析，形成主...</td>\n",
       "      <td>18.0</td>\n",
       "      <td>...</td>\n",
       "      <td>0</td>\n",
       "      <td>1</td>\n",
       "      <td>1</td>\n",
       "      <td>1</td>\n",
       "      <td>1</td>\n",
       "      <td>0</td>\n",
       "      <td>0</td>\n",
       "      <td>0</td>\n",
       "      <td>0</td>\n",
       "      <td>0</td>\n",
       "    </tr>\n",
       "  </tbody>\n",
       "</table>\n",
       "<p>2 rows × 22 columns</p>\n",
       "</div>"
      ],
      "text/plain": [
       "   Unnamed: 0 Keyword    公司名称      公司规模           地区 学历要求  工作经验  职位名称  \\\n",
       "0           1    数据分析  上海恒奕集团  500-999人   上海 普陀区 武宁路   大专  1-3年  数据分析   \n",
       "1           2    数据分析    晶赞科技  100-499人  上海 静安区 共和新路   本科  3-5年  数据分析   \n",
       "\n",
       "                                                职位描述  salary  ...   Sql  \\\n",
       "0  岗位职责：通过抓取第三方数据来分析在不同地区，我们医院项目的目标人群画像分析，实时网络热度盘...    10.0  ...     0   \n",
       "1  工作职责：1、负责政务数据/商业数据的研究和分析。例如，通过政务公开数据的挖掘和分析，形成主...    18.0  ...     0   \n",
       "\n",
       "  Python  Excel  Sas  Spss  Hive  Hadoop  Ppt  Tableau  Spark  \n",
       "0      0      0    0     0     0       0    0        0      0  \n",
       "1      1      1    1     1     0       0    0        0      0  \n",
       "\n",
       "[2 rows x 22 columns]"
      ]
     },
     "execution_count": 17,
     "metadata": {},
     "output_type": "execute_result"
    }
   ],
   "source": [
    "data_analysis.head(2)"
   ]
  },
  {
   "cell_type": "code",
   "execution_count": 18,
   "metadata": {},
   "outputs": [],
   "source": [
    "data_analysis = data_analysis.drop(['Unnamed: 0','Keyword','职位描述','职位薪资'],axis=1)"
   ]
  },
  {
   "cell_type": "code",
   "execution_count": 19,
   "metadata": {},
   "outputs": [],
   "source": [
    "data_mining = data_mining.drop(['Unnamed: 0','Keyword','职位描述','职位薪资'],axis=1)"
   ]
  },
  {
   "cell_type": "code",
   "execution_count": 20,
   "metadata": {},
   "outputs": [],
   "source": [
    "machine_learning = machine_learning.drop(['Unnamed: 0','Keyword','职位描述','职位薪资'],axis=1)"
   ]
  },
  {
   "cell_type": "code",
   "execution_count": 21,
   "metadata": {},
   "outputs": [],
   "source": [
    "business_analysis = business_analysis.drop(['Unnamed: 0','Keyword','职位描述','职位薪资'],axis=1)"
   ]
  },
  {
   "cell_type": "markdown",
   "metadata": {},
   "source": [
    "---"
   ]
  },
  {
   "cell_type": "markdown",
   "metadata": {},
   "source": [
    "## 掌握的软件技能对薪资的影响关系"
   ]
  },
  {
   "cell_type": "code",
   "execution_count": 22,
   "metadata": {},
   "outputs": [
    {
     "data": {
      "text/plain": [
       "salary     1.000000\n",
       "Python     0.249000\n",
       "Hive       0.248617\n",
       "Sql        0.248049\n",
       "Spark      0.185153\n",
       "Sas        0.164862\n",
       "Hadoop     0.159602\n",
       "Spss       0.071946\n",
       "Tableau    0.068340\n",
       "Ppt       -0.052048\n",
       "Excel     -0.077646\n",
       "Name: salary, dtype: float64"
      ]
     },
     "execution_count": 22,
     "metadata": {},
     "output_type": "execute_result"
    }
   ],
   "source": [
    "corr_matrix = data_analysis.corr()\n",
    "corr_matrix[\"salary\"].sort_values(ascending=False)"
   ]
  },
  {
   "cell_type": "markdown",
   "metadata": {},
   "source": [
    "- **Data Analysis**的职位中，`Hive`,`Spark`,`Hadoop`大数据应用方面的软件是**薪资的加分项**。\n",
    "- 同时，`Python`,`SQL`,`SAS`,`Tableau`,`SPSS`等统计分析软件与可视化软件也是数据分析师**区别于低薪分析专员**的因素。\n",
    "- `PPT`,`Excel`作为必须的软件技能，对薪资变化**并没有太大的影响**，甚至仅仅会Excel的职位沦落为专员，会是一个减分项。\n",
    "- 结论：在数据分析领域，拥有**大数据软件技能**并且懂得**Python**这一编程语言的分析师的待遇较好。"
   ]
  },
  {
   "cell_type": "code",
   "execution_count": 23,
   "metadata": {},
   "outputs": [
    {
     "data": {
      "text/plain": [
       "salary    1.000000\n",
       "Spark     0.199728\n",
       "Java      0.196519\n",
       "Hive      0.185769\n",
       "C         0.159396\n",
       "Hadoop    0.155124\n",
       "Python    0.102946\n",
       "Shell     0.037366\n",
       "Linux     0.005632\n",
       "Sql      -0.050092\n",
       "Sas      -0.072597\n",
       "Name: salary, dtype: float64"
      ]
     },
     "execution_count": 23,
     "metadata": {},
     "output_type": "execute_result"
    }
   ],
   "source": [
    "corr_matrix = data_mining.corr()\n",
    "corr_matrix[\"salary\"].sort_values(ascending=False)"
   ]
  },
  {
   "cell_type": "markdown",
   "metadata": {},
   "source": [
    "- **Data Mining**的职位中，`Hive`,`Spark`,`Hadoop`大数据方面的软件是薪资**极大的加分项**。\n",
    "- `Java`,`C`,`Python`等编程语言对数据挖掘的工作有很大帮助因此也体现在了对薪资的**正面影响**上。\n",
    "- 分析结论：具备**数据挖掘算法与编码能力**且具备**大数据方面分析技能**的数据挖掘工程师的待遇较好。"
   ]
  },
  {
   "cell_type": "code",
   "execution_count": 24,
   "metadata": {
    "scrolled": true
   },
   "outputs": [
    {
     "data": {
      "text/plain": [
       "salary        1.000000\n",
       "Spark         0.144507\n",
       "Hive          0.116132\n",
       "Hadoop        0.109608\n",
       "Java          0.088857\n",
       "Tensorflow    0.072449\n",
       "Sql          -0.022844\n",
       "C            -0.032998\n",
       "Python       -0.054629\n",
       "Linux        -0.058181\n",
       "Matlab       -0.062595\n",
       "Name: salary, dtype: float64"
      ]
     },
     "execution_count": 24,
     "metadata": {},
     "output_type": "execute_result"
    }
   ],
   "source": [
    "corr_matrix = machine_learning.corr()\n",
    "corr_matrix[\"salary\"].sort_values(ascending=False)"
   ]
  },
  {
   "cell_type": "markdown",
   "metadata": {},
   "source": [
    "- **Machine Learning**的职位中，没有特别突出的技能加分项，列表中的软件技能基本都是入职必备的技能。\n",
    "- `Hive`,`Spark`,`Hadoop`等大数据方面的技能会对薪资有一定程度的提升，不过影响较小。\n",
    "- 分析结论：机器学习工程师入门难度稍高，需要掌握具备的软件技能也较多，没有特别突出的薪资加分项。"
   ]
  },
  {
   "cell_type": "code",
   "execution_count": 25,
   "metadata": {},
   "outputs": [
    {
     "data": {
      "text/plain": [
       "salary    1.000000\n",
       "Python    0.394292\n",
       "C         0.371366\n",
       "Java      0.244305\n",
       "Linux     0.242700\n",
       "Hive      0.168359\n",
       "Sql       0.107485\n",
       "Sas       0.078156\n",
       "Excel     0.068413\n",
       "Ppt      -0.019429\n",
       "Spss     -0.091822\n",
       "Name: salary, dtype: float64"
      ]
     },
     "execution_count": 25,
     "metadata": {},
     "output_type": "execute_result"
    }
   ],
   "source": [
    "corr_matrix = business_analysis.corr()\n",
    "corr_matrix[\"salary\"].sort_values(ascending=False)"
   ]
  },
  {
   "cell_type": "markdown",
   "metadata": {},
   "source": [
    "- **Business Analysis**的职位中，编程语言是**极大的薪资加分项**。如`C`,`Python`,`Java`。\n",
    "- `Excel`,`PPT`,`SPSS`等软件是这个职位的**必备技能**，因此对职位薪资没有太大的影响。\n",
    "- 结论：在商业分析领域，拥有**商业分析思维**并且具有**编程能力**的分析师的待遇较好。"
   ]
  },
  {
   "cell_type": "markdown",
   "metadata": {},
   "source": [
    "---"
   ]
  },
  {
   "cell_type": "markdown",
   "metadata": {},
   "source": [
    "# 模型方法选择"
   ]
  },
  {
   "cell_type": "markdown",
   "metadata": {},
   "source": [
    "<pre>\n",
    "线性回归\n",
    "决策树回归\n",
    "随机森林回归\n",
    "KNN回归\n",
    "Adaboost回归\n",
    "GBRT回归\n",
    "Bagging回归\n",
    "ExtraTree极端随机树回归\n",
    "</pre>"
   ]
  },
  {
   "cell_type": "markdown",
   "metadata": {},
   "source": [
    "---"
   ]
  },
  {
   "cell_type": "markdown",
   "metadata": {},
   "source": [
    "# 准备数据"
   ]
  },
  {
   "cell_type": "code",
   "execution_count": 26,
   "metadata": {},
   "outputs": [
    {
     "data": {
      "text/html": [
       "<div>\n",
       "<style scoped>\n",
       "    .dataframe tbody tr th:only-of-type {\n",
       "        vertical-align: middle;\n",
       "    }\n",
       "\n",
       "    .dataframe tbody tr th {\n",
       "        vertical-align: top;\n",
       "    }\n",
       "\n",
       "    .dataframe thead th {\n",
       "        text-align: right;\n",
       "    }\n",
       "</style>\n",
       "<table border=\"1\" class=\"dataframe\">\n",
       "  <thead>\n",
       "    <tr style=\"text-align: right;\">\n",
       "      <th></th>\n",
       "      <th>公司名称</th>\n",
       "      <th>公司规模</th>\n",
       "      <th>地区</th>\n",
       "      <th>学历要求</th>\n",
       "      <th>工作经验</th>\n",
       "      <th>职位名称</th>\n",
       "      <th>salary</th>\n",
       "      <th>融资情况</th>\n",
       "      <th>Sql</th>\n",
       "      <th>Python</th>\n",
       "      <th>Excel</th>\n",
       "      <th>Sas</th>\n",
       "      <th>Spss</th>\n",
       "      <th>Hive</th>\n",
       "      <th>Hadoop</th>\n",
       "      <th>Ppt</th>\n",
       "      <th>Tableau</th>\n",
       "      <th>Spark</th>\n",
       "    </tr>\n",
       "  </thead>\n",
       "  <tbody>\n",
       "    <tr>\n",
       "      <th>0</th>\n",
       "      <td>上海恒奕集团</td>\n",
       "      <td>500-999人</td>\n",
       "      <td>上海 普陀区 武宁路</td>\n",
       "      <td>大专</td>\n",
       "      <td>1-3年</td>\n",
       "      <td>数据分析</td>\n",
       "      <td>10.0</td>\n",
       "      <td>A轮</td>\n",
       "      <td>0</td>\n",
       "      <td>0</td>\n",
       "      <td>0</td>\n",
       "      <td>0</td>\n",
       "      <td>0</td>\n",
       "      <td>0</td>\n",
       "      <td>0</td>\n",
       "      <td>0</td>\n",
       "      <td>0</td>\n",
       "      <td>0</td>\n",
       "    </tr>\n",
       "    <tr>\n",
       "      <th>1</th>\n",
       "      <td>晶赞科技</td>\n",
       "      <td>100-499人</td>\n",
       "      <td>上海 静安区 共和新路</td>\n",
       "      <td>本科</td>\n",
       "      <td>3-5年</td>\n",
       "      <td>数据分析</td>\n",
       "      <td>18.0</td>\n",
       "      <td>D轮及以上</td>\n",
       "      <td>0</td>\n",
       "      <td>1</td>\n",
       "      <td>1</td>\n",
       "      <td>1</td>\n",
       "      <td>1</td>\n",
       "      <td>0</td>\n",
       "      <td>0</td>\n",
       "      <td>0</td>\n",
       "      <td>0</td>\n",
       "      <td>0</td>\n",
       "    </tr>\n",
       "  </tbody>\n",
       "</table>\n",
       "</div>"
      ],
      "text/plain": [
       "     公司名称      公司规模           地区 学历要求  工作经验  职位名称  salary   融资情况  Sql  Python  \\\n",
       "0  上海恒奕集团  500-999人   上海 普陀区 武宁路   大专  1-3年  数据分析    10.0     A轮    0       0   \n",
       "1    晶赞科技  100-499人  上海 静安区 共和新路   本科  3-5年  数据分析    18.0  D轮及以上    0       1   \n",
       "\n",
       "   Excel  Sas  Spss  Hive  Hadoop  Ppt  Tableau  Spark  \n",
       "0      0    0     0     0       0    0        0      0  \n",
       "1      1    1     1     0       0    0        0      0  "
      ]
     },
     "execution_count": 26,
     "metadata": {},
     "output_type": "execute_result"
    }
   ],
   "source": [
    "data_analysis.head(2)"
   ]
  },
  {
   "cell_type": "code",
   "execution_count": 27,
   "metadata": {},
   "outputs": [],
   "source": [
    "from sklearn.model_selection import train_test_split\n",
    "\n",
    "train_set, test_set = train_test_split(data_analysis, test_size=0.2, random_state=42)"
   ]
  },
  {
   "cell_type": "code",
   "execution_count": 28,
   "metadata": {},
   "outputs": [],
   "source": [
    "data_train = train_set.copy()\n",
    "data_test = test_set.copy()"
   ]
  },
  {
   "cell_type": "code",
   "execution_count": 29,
   "metadata": {},
   "outputs": [
    {
     "data": {
      "text/plain": [
       "(737, 18)"
      ]
     },
     "execution_count": 29,
     "metadata": {},
     "output_type": "execute_result"
    }
   ],
   "source": [
    "data_train.shape"
   ]
  },
  {
   "cell_type": "code",
   "execution_count": 30,
   "metadata": {},
   "outputs": [
    {
     "data": {
      "text/plain": [
       "(185, 18)"
      ]
     },
     "execution_count": 30,
     "metadata": {},
     "output_type": "execute_result"
    }
   ],
   "source": [
    "data_test.shape"
   ]
  },
  {
   "cell_type": "code",
   "execution_count": 31,
   "metadata": {},
   "outputs": [],
   "source": [
    "from sklearn.pipeline import Pipeline\n",
    "from sklearn.preprocessing import StandardScaler\n",
    "from sklearn.preprocessing import Imputer\n",
    "from sklearn.compose import ColumnTransformer\n",
    "from sklearn.preprocessing import OneHotEncoder"
   ]
  },
  {
   "cell_type": "code",
   "execution_count": 32,
   "metadata": {},
   "outputs": [
    {
     "data": {
      "text/html": [
       "<div>\n",
       "<style scoped>\n",
       "    .dataframe tbody tr th:only-of-type {\n",
       "        vertical-align: middle;\n",
       "    }\n",
       "\n",
       "    .dataframe tbody tr th {\n",
       "        vertical-align: top;\n",
       "    }\n",
       "\n",
       "    .dataframe thead th {\n",
       "        text-align: right;\n",
       "    }\n",
       "</style>\n",
       "<table border=\"1\" class=\"dataframe\">\n",
       "  <thead>\n",
       "    <tr style=\"text-align: right;\">\n",
       "      <th></th>\n",
       "      <th>公司名称</th>\n",
       "      <th>公司规模</th>\n",
       "      <th>地区</th>\n",
       "      <th>学历要求</th>\n",
       "      <th>工作经验</th>\n",
       "      <th>职位名称</th>\n",
       "      <th>salary</th>\n",
       "      <th>融资情况</th>\n",
       "      <th>Sql</th>\n",
       "      <th>Python</th>\n",
       "      <th>Excel</th>\n",
       "      <th>Sas</th>\n",
       "      <th>Spss</th>\n",
       "      <th>Hive</th>\n",
       "      <th>Hadoop</th>\n",
       "      <th>Ppt</th>\n",
       "      <th>Tableau</th>\n",
       "      <th>Spark</th>\n",
       "    </tr>\n",
       "  </thead>\n",
       "  <tbody>\n",
       "    <tr>\n",
       "      <th>0</th>\n",
       "      <td>上海恒奕集团</td>\n",
       "      <td>500-999人</td>\n",
       "      <td>上海 普陀区 武宁路</td>\n",
       "      <td>大专</td>\n",
       "      <td>1-3年</td>\n",
       "      <td>数据分析</td>\n",
       "      <td>10.0</td>\n",
       "      <td>A轮</td>\n",
       "      <td>0</td>\n",
       "      <td>0</td>\n",
       "      <td>0</td>\n",
       "      <td>0</td>\n",
       "      <td>0</td>\n",
       "      <td>0</td>\n",
       "      <td>0</td>\n",
       "      <td>0</td>\n",
       "      <td>0</td>\n",
       "      <td>0</td>\n",
       "    </tr>\n",
       "  </tbody>\n",
       "</table>\n",
       "</div>"
      ],
      "text/plain": [
       "     公司名称      公司规模          地区 学历要求  工作经验  职位名称  salary 融资情况  Sql  Python  \\\n",
       "0  上海恒奕集团  500-999人  上海 普陀区 武宁路   大专  1-3年  数据分析    10.0   A轮    0       0   \n",
       "\n",
       "   Excel  Sas  Spss  Hive  Hadoop  Ppt  Tableau  Spark  \n",
       "0      0    0     0     0       0    0        0      0  "
      ]
     },
     "execution_count": 32,
     "metadata": {},
     "output_type": "execute_result"
    }
   ],
   "source": [
    "data_analysis.head(1)"
   ]
  },
  {
   "cell_type": "code",
   "execution_count": 33,
   "metadata": {},
   "outputs": [],
   "source": [
    "data_analysis_num = data_analysis.drop(['公司名称','公司规模','地区','学历要求','工作经验','职位名称','融资情况','salary'], axis=1)\n",
    "num_attribs = list(data_analysis_num)\n",
    "cat_attribs = ['公司规模','学历要求','工作经验']\n",
    "\n",
    "num_pipeline = Pipeline([\n",
    "        ('std_scaler', StandardScaler()),\n",
    "    ])\n",
    "\n",
    "full_pipeline = ColumnTransformer([\n",
    "        (\"num\", num_pipeline, num_attribs),\n",
    "        (\"cat\", OneHotEncoder(), cat_attribs),\n",
    "    ])\n",
    "\n",
    "data_analysis_prepared = full_pipeline.fit_transform(data_train)\n",
    "data_analysis_test = full_pipeline.transform(data_test)"
   ]
  },
  {
   "cell_type": "code",
   "execution_count": 34,
   "metadata": {
    "scrolled": true
   },
   "outputs": [
    {
     "data": {
      "text/plain": [
       "array([[ 1.01779743,  1.15424368, -0.70135785, -0.56638197,  2.02058373,\n",
       "        -0.40306397, -0.36822985, -0.36584991, -0.33908304, -0.26977806,\n",
       "         1.        ,  0.        ,  0.        ,  0.        ,  0.        ,\n",
       "         0.        ,  0.        ,  0.        ,  0.        ,  1.        ,\n",
       "         0.        ,  0.        ,  0.        ,  0.        ,  1.        ,\n",
       "         0.        ,  0.        ,  0.        ]])"
      ]
     },
     "execution_count": 34,
     "metadata": {},
     "output_type": "execute_result"
    }
   ],
   "source": [
    "data_analysis_prepared[:1]"
   ]
  },
  {
   "cell_type": "code",
   "execution_count": 35,
   "metadata": {},
   "outputs": [
    {
     "data": {
      "text/html": [
       "<div>\n",
       "<style scoped>\n",
       "    .dataframe tbody tr th:only-of-type {\n",
       "        vertical-align: middle;\n",
       "    }\n",
       "\n",
       "    .dataframe tbody tr th {\n",
       "        vertical-align: top;\n",
       "    }\n",
       "\n",
       "    .dataframe thead th {\n",
       "        text-align: right;\n",
       "    }\n",
       "</style>\n",
       "<table border=\"1\" class=\"dataframe\">\n",
       "  <thead>\n",
       "    <tr style=\"text-align: right;\">\n",
       "      <th></th>\n",
       "      <th>公司名称</th>\n",
       "      <th>公司规模</th>\n",
       "      <th>地区</th>\n",
       "      <th>学历要求</th>\n",
       "      <th>工作经验</th>\n",
       "      <th>职位名称</th>\n",
       "      <th>salary</th>\n",
       "      <th>融资情况</th>\n",
       "      <th>Sql</th>\n",
       "      <th>Python</th>\n",
       "      <th>Excel</th>\n",
       "      <th>Sas</th>\n",
       "      <th>Spss</th>\n",
       "      <th>Hive</th>\n",
       "      <th>Hadoop</th>\n",
       "      <th>Ppt</th>\n",
       "      <th>Tableau</th>\n",
       "      <th>Spark</th>\n",
       "    </tr>\n",
       "  </thead>\n",
       "  <tbody>\n",
       "    <tr>\n",
       "      <th>527</th>\n",
       "      <td>上海兴致</td>\n",
       "      <td>0-20人</td>\n",
       "      <td>上海 浦东新区 八佰伴</td>\n",
       "      <td>本科</td>\n",
       "      <td>3-5年</td>\n",
       "      <td>高级数据分析师</td>\n",
       "      <td>22.5</td>\n",
       "      <td>0-20人</td>\n",
       "      <td>1</td>\n",
       "      <td>1</td>\n",
       "      <td>0</td>\n",
       "      <td>0</td>\n",
       "      <td>1</td>\n",
       "      <td>0</td>\n",
       "      <td>0</td>\n",
       "      <td>0</td>\n",
       "      <td>0</td>\n",
       "      <td>0</td>\n",
       "    </tr>\n",
       "  </tbody>\n",
       "</table>\n",
       "</div>"
      ],
      "text/plain": [
       "     公司名称   公司规模           地区 学历要求  工作经验     职位名称  salary   融资情况  Sql  Python  \\\n",
       "527  上海兴致  0-20人  上海 浦东新区 八佰伴   本科  3-5年  高级数据分析师    22.5  0-20人    1       1   \n",
       "\n",
       "     Excel  Sas  Spss  Hive  Hadoop  Ppt  Tableau  Spark  \n",
       "527      0    0     1     0       0    0        0      0  "
      ]
     },
     "execution_count": 35,
     "metadata": {},
     "output_type": "execute_result"
    }
   ],
   "source": [
    "data_train.head(1)"
   ]
  },
  {
   "cell_type": "code",
   "execution_count": 36,
   "metadata": {},
   "outputs": [],
   "source": [
    "data_analysis_labels = data_train.salary.values\n",
    "test_labels = data_test.salary.values"
   ]
  },
  {
   "cell_type": "markdown",
   "metadata": {},
   "source": [
    "---"
   ]
  },
  {
   "cell_type": "markdown",
   "metadata": {},
   "source": [
    "# 训练模型"
   ]
  },
  {
   "cell_type": "markdown",
   "metadata": {},
   "source": [
    "## 线性回归"
   ]
  },
  {
   "cell_type": "code",
   "execution_count": 37,
   "metadata": {},
   "outputs": [
    {
     "data": {
      "text/plain": [
       "LinearRegression(copy_X=True, fit_intercept=True, n_jobs=None,\n",
       "         normalize=False)"
      ]
     },
     "execution_count": 37,
     "metadata": {},
     "output_type": "execute_result"
    }
   ],
   "source": [
    "from sklearn.linear_model import LinearRegression\n",
    "\n",
    "lin_reg = LinearRegression()\n",
    "lin_reg.fit(data_analysis_prepared, data_analysis_labels)"
   ]
  },
  {
   "cell_type": "code",
   "execution_count": 38,
   "metadata": {},
   "outputs": [
    {
     "data": {
      "text/plain": [
       "4.209936980782373"
      ]
     },
     "execution_count": 38,
     "metadata": {},
     "output_type": "execute_result"
    }
   ],
   "source": [
    "from sklearn.metrics import mean_squared_error\n",
    "import numpy as np\n",
    "\n",
    "salary_predictions = lin_reg.predict(data_analysis_prepared)\n",
    "lin_mse = mean_squared_error(data_analysis_labels, salary_predictions)\n",
    "lin_rmse = np.sqrt(lin_mse)\n",
    "lin_rmse"
   ]
  },
  {
   "cell_type": "code",
   "execution_count": 39,
   "metadata": {},
   "outputs": [],
   "source": [
    "#salary_predictions[:10]"
   ]
  },
  {
   "cell_type": "markdown",
   "metadata": {},
   "source": [
    "### 测试集"
   ]
  },
  {
   "cell_type": "code",
   "execution_count": 40,
   "metadata": {},
   "outputs": [],
   "source": [
    "#data_test.head(10)"
   ]
  },
  {
   "cell_type": "code",
   "execution_count": 41,
   "metadata": {},
   "outputs": [
    {
     "data": {
      "text/plain": [
       "array([19.13476562, 16.91992188, 14.8984375 , 14.0546875 , 20.76367188,\n",
       "       12.19921875, 18.13671875, 16.45507812, 20.40917969, 19.90820312])"
      ]
     },
     "execution_count": 41,
     "metadata": {},
     "output_type": "execute_result"
    }
   ],
   "source": [
    "y_test = lin_reg.predict(data_analysis_test)\n",
    "y_test[:10]"
   ]
  },
  {
   "cell_type": "code",
   "execution_count": 42,
   "metadata": {},
   "outputs": [
    {
     "data": {
      "text/plain": [
       "array([20.5, 13. , 11.5, 12.5, 15. , 12.5, 22.5, 15. , 22.5, 15.5])"
      ]
     },
     "execution_count": 42,
     "metadata": {},
     "output_type": "execute_result"
    }
   ],
   "source": [
    "test_labels[:10]"
   ]
  },
  {
   "cell_type": "code",
   "execution_count": 43,
   "metadata": {},
   "outputs": [
    {
     "data": {
      "text/plain": [
       "4.252707451377156"
      ]
     },
     "execution_count": 43,
     "metadata": {},
     "output_type": "execute_result"
    }
   ],
   "source": [
    "lin_mse = mean_squared_error(test_labels, y_test)\n",
    "lin_rmse = np.sqrt(lin_mse)\n",
    "lin_rmse"
   ]
  },
  {
   "cell_type": "markdown",
   "metadata": {},
   "source": [
    "- 测试集上误差约为**4.27**"
   ]
  },
  {
   "cell_type": "markdown",
   "metadata": {},
   "source": [
    "### 交叉验证"
   ]
  },
  {
   "cell_type": "code",
   "execution_count": 44,
   "metadata": {},
   "outputs": [],
   "source": [
    "from sklearn.model_selection import cross_val_score\n",
    "\n",
    "scores = cross_val_score(lin_reg, data_analysis_prepared, data_analysis_labels,\n",
    "                         scoring=\"neg_mean_squared_error\", cv=10)\n",
    "lin_rmse_scores = np.sqrt(-scores)"
   ]
  },
  {
   "cell_type": "code",
   "execution_count": 45,
   "metadata": {},
   "outputs": [
    {
     "name": "stdout",
     "output_type": "stream",
     "text": [
      "Scores: [4.54552557 4.54182215 3.94087967 4.42840937 4.4373358  4.62011098\n",
      " 4.22660386 4.38725655 4.42436899 4.60889902]\n",
      "Mean: 4.41612119574774\n",
      "Standard deviation: 0.1935445501197603\n"
     ]
    }
   ],
   "source": [
    "def display_scores(scores):\n",
    "    print(\"Scores:\", scores)\n",
    "    print(\"Mean:\", scores.mean())\n",
    "    print(\"Standard deviation:\", scores.std())\n",
    "\n",
    "display_scores(lin_rmse_scores)"
   ]
  },
  {
   "cell_type": "markdown",
   "metadata": {},
   "source": [
    "---"
   ]
  },
  {
   "cell_type": "markdown",
   "metadata": {},
   "source": [
    "## 决策树回归"
   ]
  },
  {
   "cell_type": "markdown",
   "metadata": {},
   "source": [
    "### 建模训练"
   ]
  },
  {
   "cell_type": "code",
   "execution_count": 46,
   "metadata": {},
   "outputs": [
    {
     "data": {
      "text/plain": [
       "DecisionTreeRegressor(criterion='mse', max_depth=None, max_features=None,\n",
       "           max_leaf_nodes=None, min_impurity_decrease=0.0,\n",
       "           min_impurity_split=None, min_samples_leaf=1,\n",
       "           min_samples_split=2, min_weight_fraction_leaf=0.0,\n",
       "           presort=False, random_state=42, splitter='best')"
      ]
     },
     "execution_count": 46,
     "metadata": {},
     "output_type": "execute_result"
    }
   ],
   "source": [
    "from sklearn.tree import DecisionTreeRegressor\n",
    "\n",
    "tree_reg = DecisionTreeRegressor(random_state=42)\n",
    "tree_reg.fit(data_analysis_prepared, data_analysis_labels)"
   ]
  },
  {
   "cell_type": "code",
   "execution_count": 47,
   "metadata": {},
   "outputs": [],
   "source": [
    "y_pred_tree = tree_reg.predict(data_analysis_prepared)"
   ]
  },
  {
   "cell_type": "code",
   "execution_count": 48,
   "metadata": {},
   "outputs": [
    {
     "data": {
      "text/plain": [
       "2.404700282979215"
      ]
     },
     "execution_count": 48,
     "metadata": {},
     "output_type": "execute_result"
    }
   ],
   "source": [
    "from sklearn.metrics import mean_squared_error\n",
    "\n",
    "tree_mse = mean_squared_error(data_analysis_labels, y_pred_tree)\n",
    "tree_rmse = np.sqrt(tree_mse)\n",
    "tree_rmse"
   ]
  },
  {
   "cell_type": "markdown",
   "metadata": {},
   "source": [
    "### 测试集"
   ]
  },
  {
   "cell_type": "code",
   "execution_count": 49,
   "metadata": {},
   "outputs": [
    {
     "data": {
      "text/plain": [
       "array([17.5       , 16.54166667, 14.75      ,  8.        , 18.75      ,\n",
       "       16.5       , 17.5       ,  7.        , 17.125     , 18.83333333])"
      ]
     },
     "execution_count": 49,
     "metadata": {},
     "output_type": "execute_result"
    }
   ],
   "source": [
    "y_test = tree_reg.predict(data_analysis_test)\n",
    "y_test[:10]"
   ]
  },
  {
   "cell_type": "code",
   "execution_count": 50,
   "metadata": {},
   "outputs": [
    {
     "data": {
      "text/plain": [
       "array([20.5, 13. , 11.5, 12.5, 15. , 12.5, 22.5, 15. , 22.5, 15.5])"
      ]
     },
     "execution_count": 50,
     "metadata": {},
     "output_type": "execute_result"
    }
   ],
   "source": [
    "test_labels[:10]"
   ]
  },
  {
   "cell_type": "code",
   "execution_count": 51,
   "metadata": {
    "scrolled": true
   },
   "outputs": [
    {
     "data": {
      "text/plain": [
       "5.585045537872495"
      ]
     },
     "execution_count": 51,
     "metadata": {},
     "output_type": "execute_result"
    }
   ],
   "source": [
    "tree_mse = mean_squared_error(test_labels, y_test)\n",
    "tree_rmse = np.sqrt(tree_mse)\n",
    "tree_rmse"
   ]
  },
  {
   "cell_type": "markdown",
   "metadata": {},
   "source": [
    "- 测试集上误差约为**5.4**"
   ]
  },
  {
   "cell_type": "markdown",
   "metadata": {},
   "source": [
    "---"
   ]
  },
  {
   "cell_type": "markdown",
   "metadata": {},
   "source": [
    "## Random Forest 随机森林回归"
   ]
  },
  {
   "cell_type": "markdown",
   "metadata": {},
   "source": [
    "### 建模训练"
   ]
  },
  {
   "cell_type": "code",
   "execution_count": 52,
   "metadata": {},
   "outputs": [
    {
     "data": {
      "text/plain": [
       "RandomForestRegressor(bootstrap=True, criterion='mse', max_depth=None,\n",
       "           max_features='auto', max_leaf_nodes=None,\n",
       "           min_impurity_decrease=0.0, min_impurity_split=None,\n",
       "           min_samples_leaf=1, min_samples_split=2,\n",
       "           min_weight_fraction_leaf=0.0, n_estimators=10, n_jobs=None,\n",
       "           oob_score=False, random_state=52, verbose=0, warm_start=False)"
      ]
     },
     "execution_count": 52,
     "metadata": {},
     "output_type": "execute_result"
    }
   ],
   "source": [
    "from sklearn.ensemble import RandomForestRegressor\n",
    "\n",
    "forest_reg = RandomForestRegressor(random_state=52)\n",
    "forest_reg.fit(data_analysis_prepared, data_analysis_labels)"
   ]
  },
  {
   "cell_type": "code",
   "execution_count": 53,
   "metadata": {},
   "outputs": [
    {
     "data": {
      "text/plain": [
       "2.825121630127617"
      ]
     },
     "execution_count": 53,
     "metadata": {},
     "output_type": "execute_result"
    }
   ],
   "source": [
    "y_pred_rf = forest_reg.predict(data_analysis_prepared)\n",
    "forest_mse = mean_squared_error(data_analysis_labels, y_pred_rf)\n",
    "forest_rmse = np.sqrt(forest_mse)\n",
    "forest_rmse"
   ]
  },
  {
   "cell_type": "markdown",
   "metadata": {},
   "source": [
    "### 测试集验证"
   ]
  },
  {
   "cell_type": "code",
   "execution_count": 54,
   "metadata": {},
   "outputs": [],
   "source": [
    "#data_test[:10]"
   ]
  },
  {
   "cell_type": "code",
   "execution_count": 55,
   "metadata": {},
   "outputs": [
    {
     "data": {
      "text/plain": [
       "array([17.55      , 16.76213231, 14.82916667, 11.5       , 23.55      ,\n",
       "       14.2       , 16.40416667, 12.9375    , 18.65738095, 20.11666667])"
      ]
     },
     "execution_count": 55,
     "metadata": {},
     "output_type": "execute_result"
    }
   ],
   "source": [
    "y_test = forest_reg.predict(data_analysis_test)\n",
    "y_test[:10]"
   ]
  },
  {
   "cell_type": "code",
   "execution_count": 56,
   "metadata": {},
   "outputs": [
    {
     "data": {
      "text/plain": [
       "array([20.5, 13. , 11.5, 12.5, 15. , 12.5, 22.5, 15. , 22.5, 15.5])"
      ]
     },
     "execution_count": 56,
     "metadata": {},
     "output_type": "execute_result"
    }
   ],
   "source": [
    "test_labels[:10]"
   ]
  },
  {
   "cell_type": "code",
   "execution_count": 57,
   "metadata": {},
   "outputs": [
    {
     "data": {
      "text/plain": [
       "4.53113932085526"
      ]
     },
     "execution_count": 57,
     "metadata": {},
     "output_type": "execute_result"
    }
   ],
   "source": [
    "forest_mse = mean_squared_error(test_labels, y_test)\n",
    "forest_rmse = np.sqrt(forest_mse)\n",
    "forest_rmse"
   ]
  },
  {
   "cell_type": "markdown",
   "metadata": {},
   "source": [
    "- 测试集上误差约为**4.2**"
   ]
  },
  {
   "cell_type": "markdown",
   "metadata": {},
   "source": [
    "### 交叉验证"
   ]
  },
  {
   "cell_type": "code",
   "execution_count": 58,
   "metadata": {},
   "outputs": [],
   "source": [
    "from sklearn.model_selection import cross_val_score\n",
    "\n",
    "scores = cross_val_score(forest_reg, data_analysis_prepared, data_analysis_labels,\n",
    "                         scoring=\"neg_mean_squared_error\", cv=10)\n",
    "forest_rmse_scores = np.sqrt(-scores)"
   ]
  },
  {
   "cell_type": "code",
   "execution_count": 59,
   "metadata": {},
   "outputs": [
    {
     "name": "stdout",
     "output_type": "stream",
     "text": [
      "Scores: [4.49936847 5.16831172 3.87212271 5.10449212 4.76825042 4.95531615\n",
      " 4.47363957 5.06157526 4.29351527 4.56866847]\n",
      "Mean: 4.676526015420327\n",
      "Standard deviation: 0.3920907106938965\n"
     ]
    }
   ],
   "source": [
    "display_scores(forest_rmse_scores)"
   ]
  },
  {
   "cell_type": "markdown",
   "metadata": {},
   "source": [
    "---"
   ]
  },
  {
   "cell_type": "markdown",
   "metadata": {},
   "source": [
    "## KNN回归"
   ]
  },
  {
   "cell_type": "code",
   "execution_count": 60,
   "metadata": {},
   "outputs": [
    {
     "data": {
      "text/plain": [
       "KNeighborsRegressor(algorithm='auto', leaf_size=30, metric='minkowski',\n",
       "          metric_params=None, n_jobs=None, n_neighbors=5, p=2,\n",
       "          weights='uniform')"
      ]
     },
     "execution_count": 60,
     "metadata": {},
     "output_type": "execute_result"
    }
   ],
   "source": [
    "from sklearn.neighbors import KNeighborsRegressor\n",
    "k = 5\n",
    "knn_reg = KNeighborsRegressor(k)\n",
    "knn_reg.fit(data_analysis_prepared, data_analysis_labels)"
   ]
  },
  {
   "cell_type": "code",
   "execution_count": 61,
   "metadata": {},
   "outputs": [
    {
     "data": {
      "text/plain": [
       "4.181154008963998"
      ]
     },
     "execution_count": 61,
     "metadata": {},
     "output_type": "execute_result"
    }
   ],
   "source": [
    "y_pred_knn = knn_reg.predict(data_analysis_prepared)\n",
    "knn_mse = mean_squared_error(data_analysis_labels, y_pred_knn)\n",
    "knn_rmse = np.sqrt(knn_mse)\n",
    "knn_rmse"
   ]
  },
  {
   "cell_type": "markdown",
   "metadata": {},
   "source": [
    "### 交叉验证"
   ]
  },
  {
   "cell_type": "code",
   "execution_count": 62,
   "metadata": {},
   "outputs": [
    {
     "name": "stdout",
     "output_type": "stream",
     "text": [
      "Scores: [4.91189951 5.22354338 4.69300803 5.17542269 5.59779155 6.05515193\n",
      " 5.07427268 5.46580904 4.81125962 4.8222089 ]\n",
      "Mean: 5.183036732034127\n",
      "Standard deviation: 0.40101789362628404\n"
     ]
    }
   ],
   "source": [
    "from sklearn.model_selection import cross_val_score\n",
    "\n",
    "scores = cross_val_score(knn_reg, data_analysis_prepared, data_analysis_labels,\n",
    "                         scoring=\"neg_mean_squared_error\", cv=10)\n",
    "knn_rmse_scores = np.sqrt(-scores)\n",
    "\n",
    "\n",
    "display_scores(knn_rmse_scores)"
   ]
  },
  {
   "cell_type": "markdown",
   "metadata": {},
   "source": [
    "### 测试集验证"
   ]
  },
  {
   "cell_type": "code",
   "execution_count": 63,
   "metadata": {},
   "outputs": [
    {
     "name": "stdout",
     "output_type": "stream",
     "text": [
      "[18.7 17.  16.5 16.5 18.3 14.2 16.2 11.3 18.2 20.3]\n",
      "[20.5 13.  11.5 12.5 15.  12.5 22.5 15.  22.5 15.5]\n"
     ]
    }
   ],
   "source": [
    "y_test = knn_reg.predict(data_analysis_test)\n",
    "print(y_test[:10])\n",
    "print(test_labels[:10])"
   ]
  },
  {
   "cell_type": "code",
   "execution_count": 64,
   "metadata": {},
   "outputs": [
    {
     "data": {
      "text/plain": [
       "4.933569509808097"
      ]
     },
     "execution_count": 64,
     "metadata": {},
     "output_type": "execute_result"
    }
   ],
   "source": [
    "knn_mse = mean_squared_error(test_labels, y_test)\n",
    "knn_rmse = np.sqrt(knn_mse)\n",
    "knn_rmse"
   ]
  },
  {
   "cell_type": "markdown",
   "metadata": {},
   "source": [
    "---"
   ]
  },
  {
   "cell_type": "markdown",
   "metadata": {},
   "source": [
    "# Adaboost回归"
   ]
  },
  {
   "cell_type": "code",
   "execution_count": 65,
   "metadata": {},
   "outputs": [
    {
     "data": {
      "text/plain": [
       "AdaBoostRegressor(base_estimator=None, learning_rate=1.0, loss='linear',\n",
       "         n_estimators=50, random_state=None)"
      ]
     },
     "execution_count": 65,
     "metadata": {},
     "output_type": "execute_result"
    }
   ],
   "source": [
    "from sklearn.ensemble import AdaBoostRegressor\n",
    "Adaboost_reg = AdaBoostRegressor(n_estimators=50)#这里使用50个决策树\n",
    "Adaboost_reg.fit(data_analysis_prepared, data_analysis_labels)"
   ]
  },
  {
   "cell_type": "markdown",
   "metadata": {},
   "source": [
    "### 交叉验证"
   ]
  },
  {
   "cell_type": "code",
   "execution_count": 66,
   "metadata": {},
   "outputs": [],
   "source": [
    "from sklearn.model_selection import cross_val_score\n",
    "\n",
    "scores = cross_val_score(Adaboost_reg, data_analysis_prepared, data_analysis_labels,\n",
    "                         scoring=\"neg_mean_squared_error\", cv=10)\n",
    "Adaboost_rmse_scores = np.sqrt(-scores)"
   ]
  },
  {
   "cell_type": "code",
   "execution_count": 67,
   "metadata": {},
   "outputs": [
    {
     "name": "stdout",
     "output_type": "stream",
     "text": [
      "Scores: [4.53692111 4.64122254 4.21608294 4.86740635 5.06359292 4.66208335\n",
      " 4.47708546 4.9059454  4.66957261 4.18020659]\n",
      "Mean: 4.622011927255484\n",
      "Standard deviation: 0.2698669328833233\n"
     ]
    }
   ],
   "source": [
    "display_scores(Adaboost_rmse_scores)"
   ]
  },
  {
   "cell_type": "markdown",
   "metadata": {},
   "source": [
    "### 测试集验证"
   ]
  },
  {
   "cell_type": "code",
   "execution_count": 68,
   "metadata": {},
   "outputs": [
    {
     "name": "stdout",
     "output_type": "stream",
     "text": [
      "[18.77375566 17.37943925 15.03588517 15.14973262 19.29107981 13.7369338\n",
      " 17.37943925 13.7369338  20.0625     18.39631336]\n",
      "[20.5 13.  11.5 12.5 15.  12.5 22.5 15.  22.5 15.5]\n"
     ]
    }
   ],
   "source": [
    "y_test = Adaboost_reg.predict(data_analysis_test)\n",
    "print(y_test[:10])\n",
    "print(test_labels[:10])"
   ]
  },
  {
   "cell_type": "code",
   "execution_count": 69,
   "metadata": {},
   "outputs": [
    {
     "data": {
      "text/plain": [
       "4.503983133229124"
      ]
     },
     "execution_count": 69,
     "metadata": {},
     "output_type": "execute_result"
    }
   ],
   "source": [
    "Adaboost_mse = mean_squared_error(test_labels, y_test)\n",
    "Adaboost_rmse = np.sqrt(Adaboost_mse)\n",
    "Adaboost_rmse"
   ]
  },
  {
   "cell_type": "markdown",
   "metadata": {},
   "source": [
    "---"
   ]
  },
  {
   "cell_type": "markdown",
   "metadata": {},
   "source": [
    "## GBRT回归"
   ]
  },
  {
   "cell_type": "code",
   "execution_count": 70,
   "metadata": {
    "scrolled": true
   },
   "outputs": [
    {
     "data": {
      "text/plain": [
       "GradientBoostingRegressor(alpha=0.9, criterion='friedman_mse', init=None,\n",
       "             learning_rate=0.1, loss='ls', max_depth=3, max_features=None,\n",
       "             max_leaf_nodes=None, min_impurity_decrease=0.0,\n",
       "             min_impurity_split=None, min_samples_leaf=1,\n",
       "             min_samples_split=2, min_weight_fraction_leaf=0.0,\n",
       "             n_estimators=100, n_iter_no_change=None, presort='auto',\n",
       "             random_state=None, subsample=1.0, tol=0.0001,\n",
       "             validation_fraction=0.1, verbose=0, warm_start=False)"
      ]
     },
     "execution_count": 70,
     "metadata": {},
     "output_type": "execute_result"
    }
   ],
   "source": [
    "from sklearn.ensemble import GradientBoostingRegressor\n",
    "grbt_reg = GradientBoostingRegressor(n_estimators=100)#这里使用100个决策树\n",
    "grbt_reg.fit(data_analysis_prepared, data_analysis_labels)"
   ]
  },
  {
   "cell_type": "markdown",
   "metadata": {},
   "source": [
    "### 交叉验证"
   ]
  },
  {
   "cell_type": "code",
   "execution_count": 71,
   "metadata": {},
   "outputs": [
    {
     "name": "stdout",
     "output_type": "stream",
     "text": [
      "Scores: [4.87398002 4.73250604 3.68256834 4.29583401 4.61267134 4.84613495\n",
      " 4.14931613 4.34059763 4.23123641 4.40989281]\n",
      "Mean: 4.417473768953092\n",
      "Standard deviation: 0.34596795982823186\n"
     ]
    }
   ],
   "source": [
    "from sklearn.model_selection import cross_val_score\n",
    "\n",
    "scores = cross_val_score(grbt_reg, data_analysis_prepared, data_analysis_labels,\n",
    "                         scoring=\"neg_mean_squared_error\", cv=10)\n",
    "grbt_rmse_scores = np.sqrt(-scores)\n",
    "\n",
    "display_scores(grbt_rmse_scores)"
   ]
  },
  {
   "cell_type": "markdown",
   "metadata": {},
   "source": [
    "### 测试集验证"
   ]
  },
  {
   "cell_type": "code",
   "execution_count": 72,
   "metadata": {},
   "outputs": [
    {
     "name": "stdout",
     "output_type": "stream",
     "text": [
      "[18.43702936 17.57478885 14.06200524 14.74538168 21.77043023 14.45351525\n",
      " 18.47068341 14.04148627 19.616117   20.43899639]\n",
      "[20.5 13.  11.5 12.5 15.  12.5 22.5 15.  22.5 15.5]\n"
     ]
    }
   ],
   "source": [
    "y_test = grbt_reg.predict(data_analysis_test)\n",
    "print(y_test[:10])\n",
    "print(test_labels[:10])"
   ]
  },
  {
   "cell_type": "code",
   "execution_count": 73,
   "metadata": {},
   "outputs": [
    {
     "data": {
      "text/plain": [
       "4.290941809182011"
      ]
     },
     "execution_count": 73,
     "metadata": {},
     "output_type": "execute_result"
    }
   ],
   "source": [
    "grbt_mse = mean_squared_error(test_labels, y_test)\n",
    "grbt_rmse = np.sqrt(grbt_mse)\n",
    "grbt_rmse"
   ]
  },
  {
   "cell_type": "markdown",
   "metadata": {},
   "source": [
    "---"
   ]
  },
  {
   "cell_type": "markdown",
   "metadata": {},
   "source": [
    "## Bagging回归"
   ]
  },
  {
   "cell_type": "code",
   "execution_count": 74,
   "metadata": {
    "scrolled": true
   },
   "outputs": [
    {
     "data": {
      "text/plain": [
       "BaggingRegressor(base_estimator=None, bootstrap=True,\n",
       "         bootstrap_features=False, max_features=1.0, max_samples=1.0,\n",
       "         n_estimators=10, n_jobs=None, oob_score=False, random_state=None,\n",
       "         verbose=0, warm_start=False)"
      ]
     },
     "execution_count": 74,
     "metadata": {},
     "output_type": "execute_result"
    }
   ],
   "source": [
    "from sklearn.ensemble import BaggingRegressor\n",
    "bagging_reg = BaggingRegressor()\n",
    "bagging_reg.fit(data_analysis_prepared, data_analysis_labels)"
   ]
  },
  {
   "cell_type": "markdown",
   "metadata": {},
   "source": [
    "### 交叉验证"
   ]
  },
  {
   "cell_type": "code",
   "execution_count": 75,
   "metadata": {},
   "outputs": [
    {
     "name": "stdout",
     "output_type": "stream",
     "text": [
      "Scores: [4.46370865 5.11419751 4.10735786 5.0408061  5.26292997 4.96593935\n",
      " 4.71601577 4.93185359 4.59819981 4.63789738]\n",
      "Mean: 4.783890598234823\n",
      "Standard deviation: 0.32866956869503\n"
     ]
    }
   ],
   "source": [
    "from sklearn.model_selection import cross_val_score\n",
    "\n",
    "scores = cross_val_score(bagging_reg, data_analysis_prepared, data_analysis_labels,\n",
    "                         scoring=\"neg_mean_squared_error\", cv=10)\n",
    "bagging_rmse_scores = np.sqrt(-scores)\n",
    "\n",
    "display_scores(bagging_rmse_scores)"
   ]
  },
  {
   "cell_type": "markdown",
   "metadata": {},
   "source": [
    "### 测试集验证"
   ]
  },
  {
   "cell_type": "code",
   "execution_count": 76,
   "metadata": {},
   "outputs": [
    {
     "name": "stdout",
     "output_type": "stream",
     "text": [
      "[17.53333333 16.95503081 15.19285714 11.65       19.43928571 14.36\n",
      " 18.40166667 11.55       17.67583333 19.52738095]\n",
      "[20.5 13.  11.5 12.5 15.  12.5 22.5 15.  22.5 15.5]\n"
     ]
    }
   ],
   "source": [
    "y_test = bagging_reg.predict(data_analysis_test)\n",
    "print(y_test[:10])\n",
    "print(test_labels[:10])"
   ]
  },
  {
   "cell_type": "code",
   "execution_count": 77,
   "metadata": {},
   "outputs": [
    {
     "data": {
      "text/plain": [
       "4.851544621491279"
      ]
     },
     "execution_count": 77,
     "metadata": {},
     "output_type": "execute_result"
    }
   ],
   "source": [
    "bagging_mse = mean_squared_error(test_labels, y_test)\n",
    "bagging_rmse = np.sqrt(bagging_mse)\n",
    "bagging_rmse"
   ]
  },
  {
   "cell_type": "markdown",
   "metadata": {},
   "source": [
    "---"
   ]
  },
  {
   "cell_type": "markdown",
   "metadata": {},
   "source": [
    "# 模型拟合效果评价"
   ]
  },
  {
   "cell_type": "code",
   "execution_count": 78,
   "metadata": {},
   "outputs": [
    {
     "name": "stdout",
     "output_type": "stream",
     "text": [
      "linear 在测试集上的误差表现为： 4.252707451377156\n",
      "tree 在测试集上的误差表现为： 5.585045537872495\n",
      "forest 在测试集上的误差表现为： 4.53113932085526\n",
      "knn 在测试集上的误差表现为： 4.933569509808097\n",
      "Adaboost 在测试集上的误差表现为： 4.503983133229124\n",
      "grbt 在测试集上的误差表现为： 4.290941809182011\n",
      "bagging 在测试集上的误差表现为： 4.851544621491279\n"
     ]
    }
   ],
   "source": [
    "model_list = [lin_rmse,tree_rmse,forest_rmse,knn_rmse,Adaboost_rmse,grbt_rmse,bagging_rmse]\n",
    "model_name = ['linear','tree','forest','knn','Adaboost','grbt','bagging']\n",
    "i = 0\n",
    "for model in model_list:\n",
    "    print(model_name[i],'在测试集上的误差表现为：',model)\n",
    "    i+=1"
   ]
  },
  {
   "cell_type": "markdown",
   "metadata": {},
   "source": [
    "---"
   ]
  },
  {
   "cell_type": "markdown",
   "metadata": {},
   "source": [
    "# 网格搜索调参"
   ]
  },
  {
   "cell_type": "markdown",
   "metadata": {},
   "source": [
    "### 对随机森林进行参数探索调整"
   ]
  },
  {
   "cell_type": "code",
   "execution_count": 79,
   "metadata": {},
   "outputs": [
    {
     "name": "stderr",
     "output_type": "stream",
     "text": [
      "C:\\Users\\13626\\Anaconda3\\lib\\site-packages\\sklearn\\model_selection\\_search.py:841: DeprecationWarning: The default of the `iid` parameter will change from True to False in version 0.22 and will be removed in 0.24. This will change numeric results when test-set sizes are unequal.\n",
      "  DeprecationWarning)\n"
     ]
    },
    {
     "data": {
      "text/plain": [
       "GridSearchCV(cv=5, error_score='raise-deprecating',\n",
       "       estimator=RandomForestRegressor(bootstrap=True, criterion='mse', max_depth=None,\n",
       "           max_features='auto', max_leaf_nodes=None,\n",
       "           min_impurity_decrease=0.0, min_impurity_split=None,\n",
       "           min_samples_leaf=1, min_samples_split=2,\n",
       "           min_weight_fraction_leaf=0.0, n_estimators='warn', n_jobs=None,\n",
       "           oob_score=False, random_state=42, verbose=0, warm_start=False),\n",
       "       fit_params=None, iid='warn', n_jobs=None,\n",
       "       param_grid=[{'n_estimators': [3, 10, 30], 'max_features': [2, 4, 6, 8]}, {'bootstrap': [False], 'n_estimators': [3, 10], 'max_features': [2, 3, 4]}],\n",
       "       pre_dispatch='2*n_jobs', refit=True, return_train_score=True,\n",
       "       scoring='neg_mean_squared_error', verbose=0)"
      ]
     },
     "execution_count": 79,
     "metadata": {},
     "output_type": "execute_result"
    }
   ],
   "source": [
    "from sklearn.model_selection import GridSearchCV\n",
    "\n",
    "param_grid = [\n",
    "    # try 12 (3×4) combinations of hyperparameters\n",
    "    {'n_estimators': [3, 10, 30], 'max_features': [2, 4, 6, 8]},\n",
    "    # then try 6 (2×3) combinations with bootstrap set as False\n",
    "    {'bootstrap': [False], 'n_estimators': [3, 10], 'max_features': [2, 3, 4]},\n",
    "  ]\n",
    "\n",
    "forest_reg = RandomForestRegressor(random_state=42)\n",
    "\n",
    "#grbt_reg = GradientBoostingRegressor()\n",
    "\n",
    "grid_search = GridSearchCV(forest_reg, param_grid, cv=5,\n",
    "                           scoring='neg_mean_squared_error', return_train_score=True)\n",
    "grid_search.fit(data_analysis_prepared, data_analysis_labels)"
   ]
  },
  {
   "cell_type": "code",
   "execution_count": 80,
   "metadata": {},
   "outputs": [
    {
     "name": "stdout",
     "output_type": "stream",
     "text": [
      "5.230290790238236 {'max_features': 2, 'n_estimators': 3}\n",
      "4.828374365895161 {'max_features': 2, 'n_estimators': 10}\n",
      "4.755202551631041 {'max_features': 2, 'n_estimators': 30}\n",
      "5.064133429590988 {'max_features': 4, 'n_estimators': 3}\n",
      "4.770620452203674 {'max_features': 4, 'n_estimators': 10}\n",
      "4.698809097897846 {'max_features': 4, 'n_estimators': 30}\n",
      "5.09938179972705 {'max_features': 6, 'n_estimators': 3}\n",
      "4.7206651591273845 {'max_features': 6, 'n_estimators': 10}\n",
      "4.687999289996666 {'max_features': 6, 'n_estimators': 30}\n",
      "5.072523426909564 {'max_features': 8, 'n_estimators': 3}\n",
      "4.75724488427645 {'max_features': 8, 'n_estimators': 10}\n",
      "4.708816709801628 {'max_features': 8, 'n_estimators': 30}\n",
      "5.388487805697899 {'bootstrap': False, 'max_features': 2, 'n_estimators': 3}\n",
      "5.0528879660893775 {'bootstrap': False, 'max_features': 2, 'n_estimators': 10}\n",
      "5.316193794492318 {'bootstrap': False, 'max_features': 3, 'n_estimators': 3}\n",
      "5.022162677508516 {'bootstrap': False, 'max_features': 3, 'n_estimators': 10}\n",
      "5.281169036748664 {'bootstrap': False, 'max_features': 4, 'n_estimators': 3}\n",
      "5.056574946174836 {'bootstrap': False, 'max_features': 4, 'n_estimators': 10}\n"
     ]
    }
   ],
   "source": [
    "cvres = grid_search.cv_results_\n",
    "for mean_score, params in zip(cvres[\"mean_test_score\"], cvres[\"params\"]):\n",
    "    print(np.sqrt(-mean_score), params)"
   ]
  },
  {
   "cell_type": "code",
   "execution_count": 81,
   "metadata": {},
   "outputs": [
    {
     "data": {
      "text/plain": [
       "{'max_features': 6, 'n_estimators': 30}"
      ]
     },
     "execution_count": 81,
     "metadata": {},
     "output_type": "execute_result"
    }
   ],
   "source": [
    "grid_search.best_params_"
   ]
  },
  {
   "cell_type": "markdown",
   "metadata": {},
   "source": [
    "## 变量重要性"
   ]
  },
  {
   "cell_type": "code",
   "execution_count": 82,
   "metadata": {},
   "outputs": [],
   "source": [
    "feature_importances = grid_search.best_estimator_.feature_importances_\n",
    "#feature_importances"
   ]
  },
  {
   "cell_type": "code",
   "execution_count": 83,
   "metadata": {},
   "outputs": [],
   "source": [
    "num_attribs = list(data_analysis_num)\n",
    "cat_attribs = ['公司规模','学历要求','工作经验']"
   ]
  },
  {
   "cell_type": "code",
   "execution_count": 84,
   "metadata": {},
   "outputs": [
    {
     "data": {
      "text/plain": [
       "[(0.06256050964151738, 'Sql'),\n",
       " (0.05996157379002209, 'Hive'),\n",
       " (0.05833431092085402, 'Python'),\n",
       " (0.05536655983841162, 'Sas'),\n",
       " (0.039090728357453634, 'Excel'),\n",
       " (0.0372204358630469, 'Spss'),\n",
       " (0.03173383704493009, 'Spark'),\n",
       " (0.029334029896999316, '学历要求'),\n",
       " (0.027283707992806678, '工作经验'),\n",
       " (0.026729166721593346, 'Tableau'),\n",
       " (0.025363715544763292, 'Hadoop'),\n",
       " (0.018739070532311868, 'Ppt'),\n",
       " (0.016549484575144015, '公司规模')]"
      ]
     },
     "execution_count": 84,
     "metadata": {},
     "output_type": "execute_result"
    }
   ],
   "source": [
    "# 变量重要性排序\n",
    "attributes = num_attribs + cat_attribs\n",
    "sorted(zip(feature_importances, attributes), reverse=True)"
   ]
  },
  {
   "cell_type": "markdown",
   "metadata": {},
   "source": [
    "- **公司规模**对薪资的影响相比之下比较小。"
   ]
  },
  {
   "cell_type": "markdown",
   "metadata": {},
   "source": [
    "---"
   ]
  },
  {
   "cell_type": "markdown",
   "metadata": {},
   "source": [
    "# 最终模型"
   ]
  },
  {
   "cell_type": "code",
   "execution_count": 85,
   "metadata": {},
   "outputs": [
    {
     "data": {
      "text/plain": [
       "RandomForestRegressor(bootstrap=True, criterion='mse', max_depth=None,\n",
       "           max_features=6, max_leaf_nodes=None, min_impurity_decrease=0.0,\n",
       "           min_impurity_split=None, min_samples_leaf=1,\n",
       "           min_samples_split=2, min_weight_fraction_leaf=0.0,\n",
       "           n_estimators=30, n_jobs=None, oob_score=False, random_state=42,\n",
       "           verbose=0, warm_start=False)"
      ]
     },
     "execution_count": 85,
     "metadata": {},
     "output_type": "execute_result"
    }
   ],
   "source": [
    "final_model = grid_search.best_estimator_\n",
    "final_model"
   ]
  },
  {
   "cell_type": "code",
   "execution_count": 86,
   "metadata": {},
   "outputs": [],
   "source": [
    "scores = cross_val_score(final_model, data_analysis_prepared, data_analysis_labels,\n",
    "                         scoring=\"neg_mean_squared_error\", cv=10)\n",
    "final_model_rmse_scores = np.sqrt(-scores)"
   ]
  },
  {
   "cell_type": "code",
   "execution_count": 87,
   "metadata": {},
   "outputs": [
    {
     "name": "stdout",
     "output_type": "stream",
     "text": [
      "Scores: [4.53008814 5.08441071 3.97171206 4.80954518 5.01055618 4.71745052\n",
      " 4.66927057 4.74793007 4.18567529 4.34334473]\n",
      "Mean: 4.606998345081946\n",
      "Standard deviation: 0.3353022753836264\n"
     ]
    }
   ],
   "source": [
    "display_scores(final_model_rmse_scores)"
   ]
  },
  {
   "cell_type": "markdown",
   "metadata": {},
   "source": [
    "- 交叉验证误差为**4.56**"
   ]
  },
  {
   "cell_type": "markdown",
   "metadata": {},
   "source": [
    "---"
   ]
  },
  {
   "cell_type": "markdown",
   "metadata": {},
   "source": [
    "# 薪资预测"
   ]
  },
  {
   "cell_type": "code",
   "execution_count": 88,
   "metadata": {},
   "outputs": [],
   "source": [
    "final_predictions = final_model.predict(data_analysis_test)"
   ]
  },
  {
   "cell_type": "code",
   "execution_count": 89,
   "metadata": {},
   "outputs": [],
   "source": [
    "salary_test_series = Series(final_predictions,index=data_test.index)"
   ]
  },
  {
   "cell_type": "code",
   "execution_count": 90,
   "metadata": {},
   "outputs": [],
   "source": [
    "data_test_prediction = data_test.copy()\n",
    "data_test_prediction.insert(7,'prediction',salary_test_series)"
   ]
  },
  {
   "cell_type": "code",
   "execution_count": 91,
   "metadata": {
    "scrolled": false
   },
   "outputs": [
    {
     "data": {
      "text/html": [
       "<div>\n",
       "<style scoped>\n",
       "    .dataframe tbody tr th:only-of-type {\n",
       "        vertical-align: middle;\n",
       "    }\n",
       "\n",
       "    .dataframe tbody tr th {\n",
       "        vertical-align: top;\n",
       "    }\n",
       "\n",
       "    .dataframe thead th {\n",
       "        text-align: right;\n",
       "    }\n",
       "</style>\n",
       "<table border=\"1\" class=\"dataframe\">\n",
       "  <thead>\n",
       "    <tr style=\"text-align: right;\">\n",
       "      <th></th>\n",
       "      <th>公司名称</th>\n",
       "      <th>公司规模</th>\n",
       "      <th>地区</th>\n",
       "      <th>学历要求</th>\n",
       "      <th>工作经验</th>\n",
       "      <th>职位名称</th>\n",
       "      <th>salary</th>\n",
       "      <th>prediction</th>\n",
       "      <th>融资情况</th>\n",
       "      <th>Sql</th>\n",
       "      <th>Python</th>\n",
       "      <th>Excel</th>\n",
       "      <th>Sas</th>\n",
       "      <th>Spss</th>\n",
       "      <th>Hive</th>\n",
       "      <th>Hadoop</th>\n",
       "      <th>Ppt</th>\n",
       "      <th>Tableau</th>\n",
       "      <th>Spark</th>\n",
       "    </tr>\n",
       "  </thead>\n",
       "  <tbody>\n",
       "    <tr>\n",
       "      <th>602</th>\n",
       "      <td>旗计智能</td>\n",
       "      <td>1000-9999人</td>\n",
       "      <td>上海 浦东新区 张江</td>\n",
       "      <td>本科</td>\n",
       "      <td>3-5年</td>\n",
       "      <td>数据分析主管/经理（风险方向）</td>\n",
       "      <td>25.0</td>\n",
       "      <td>17.123016</td>\n",
       "      <td>已上市</td>\n",
       "      <td>1</td>\n",
       "      <td>1</td>\n",
       "      <td>1</td>\n",
       "      <td>1</td>\n",
       "      <td>0</td>\n",
       "      <td>0</td>\n",
       "      <td>0</td>\n",
       "      <td>0</td>\n",
       "      <td>0</td>\n",
       "      <td>0</td>\n",
       "    </tr>\n",
       "    <tr>\n",
       "      <th>260</th>\n",
       "      <td>速网电商</td>\n",
       "      <td>100-499人</td>\n",
       "      <td>上海 闵行区 莘庄</td>\n",
       "      <td>本科</td>\n",
       "      <td>1-3年</td>\n",
       "      <td>数据分析</td>\n",
       "      <td>10.0</td>\n",
       "      <td>11.195915</td>\n",
       "      <td>不需要融资</td>\n",
       "      <td>0</td>\n",
       "      <td>0</td>\n",
       "      <td>0</td>\n",
       "      <td>0</td>\n",
       "      <td>0</td>\n",
       "      <td>0</td>\n",
       "      <td>0</td>\n",
       "      <td>0</td>\n",
       "      <td>0</td>\n",
       "      <td>0</td>\n",
       "    </tr>\n",
       "    <tr>\n",
       "      <th>512</th>\n",
       "      <td>Oriente</td>\n",
       "      <td>500-999人</td>\n",
       "      <td>上海 黄浦区 人民广场</td>\n",
       "      <td>本科</td>\n",
       "      <td>3-5年</td>\n",
       "      <td>数据分析师</td>\n",
       "      <td>27.5</td>\n",
       "      <td>19.633333</td>\n",
       "      <td>B轮</td>\n",
       "      <td>1</td>\n",
       "      <td>1</td>\n",
       "      <td>0</td>\n",
       "      <td>1</td>\n",
       "      <td>0</td>\n",
       "      <td>0</td>\n",
       "      <td>1</td>\n",
       "      <td>0</td>\n",
       "      <td>0</td>\n",
       "      <td>0</td>\n",
       "    </tr>\n",
       "    <tr>\n",
       "      <th>1027</th>\n",
       "      <td>儒傲会软件定制</td>\n",
       "      <td>20-99人</td>\n",
       "      <td>上海 嘉定区 江桥</td>\n",
       "      <td>本科</td>\n",
       "      <td>5-10年</td>\n",
       "      <td>系统数据分析师招募要求（儒傲会）</td>\n",
       "      <td>17.5</td>\n",
       "      <td>19.751667</td>\n",
       "      <td>天使轮</td>\n",
       "      <td>1</td>\n",
       "      <td>0</td>\n",
       "      <td>0</td>\n",
       "      <td>0</td>\n",
       "      <td>0</td>\n",
       "      <td>0</td>\n",
       "      <td>0</td>\n",
       "      <td>0</td>\n",
       "      <td>0</td>\n",
       "      <td>0</td>\n",
       "    </tr>\n",
       "    <tr>\n",
       "      <th>787</th>\n",
       "      <td>华数康</td>\n",
       "      <td>100-499人</td>\n",
       "      <td>上海 长宁区 古北</td>\n",
       "      <td>学历不限</td>\n",
       "      <td>经验不限</td>\n",
       "      <td>数据分析师</td>\n",
       "      <td>22.5</td>\n",
       "      <td>11.050000</td>\n",
       "      <td>B轮</td>\n",
       "      <td>0</td>\n",
       "      <td>0</td>\n",
       "      <td>0</td>\n",
       "      <td>1</td>\n",
       "      <td>0</td>\n",
       "      <td>0</td>\n",
       "      <td>0</td>\n",
       "      <td>0</td>\n",
       "      <td>0</td>\n",
       "      <td>0</td>\n",
       "    </tr>\n",
       "    <tr>\n",
       "      <th>85</th>\n",
       "      <td>上海深界信息科技</td>\n",
       "      <td>0-20人</td>\n",
       "      <td>上海 徐汇区 漕河泾</td>\n",
       "      <td>大专</td>\n",
       "      <td>1-3年</td>\n",
       "      <td>数据分析师</td>\n",
       "      <td>12.5</td>\n",
       "      <td>13.820000</td>\n",
       "      <td>不需要融资</td>\n",
       "      <td>0</td>\n",
       "      <td>1</td>\n",
       "      <td>0</td>\n",
       "      <td>1</td>\n",
       "      <td>0</td>\n",
       "      <td>1</td>\n",
       "      <td>0</td>\n",
       "      <td>0</td>\n",
       "      <td>0</td>\n",
       "      <td>0</td>\n",
       "    </tr>\n",
       "    <tr>\n",
       "      <th>368</th>\n",
       "      <td>汉云信息</td>\n",
       "      <td>100-499人</td>\n",
       "      <td>上海 长宁区 天山路</td>\n",
       "      <td>本科</td>\n",
       "      <td>1-3年</td>\n",
       "      <td>互联网数据分析师</td>\n",
       "      <td>9.0</td>\n",
       "      <td>10.550000</td>\n",
       "      <td>不需要融资</td>\n",
       "      <td>1</td>\n",
       "      <td>0</td>\n",
       "      <td>1</td>\n",
       "      <td>0</td>\n",
       "      <td>0</td>\n",
       "      <td>0</td>\n",
       "      <td>0</td>\n",
       "      <td>0</td>\n",
       "      <td>0</td>\n",
       "      <td>0</td>\n",
       "    </tr>\n",
       "    <tr>\n",
       "      <th>907</th>\n",
       "      <td>饿了么</td>\n",
       "      <td>1000-9999人</td>\n",
       "      <td>上海 普陀区 金沙江路</td>\n",
       "      <td>本科</td>\n",
       "      <td>3-5年</td>\n",
       "      <td>运力规划/数据分析</td>\n",
       "      <td>22.5</td>\n",
       "      <td>17.009510</td>\n",
       "      <td>D轮及以上</td>\n",
       "      <td>0</td>\n",
       "      <td>0</td>\n",
       "      <td>0</td>\n",
       "      <td>0</td>\n",
       "      <td>0</td>\n",
       "      <td>0</td>\n",
       "      <td>0</td>\n",
       "      <td>0</td>\n",
       "      <td>0</td>\n",
       "      <td>0</td>\n",
       "    </tr>\n",
       "    <tr>\n",
       "      <th>1050</th>\n",
       "      <td>上海翔鸢信息科技</td>\n",
       "      <td>20-99人</td>\n",
       "      <td>上海 青浦区 赵巷</td>\n",
       "      <td>大专</td>\n",
       "      <td>经验不限</td>\n",
       "      <td>王者荣耀数据分析师</td>\n",
       "      <td>7.0</td>\n",
       "      <td>7.725000</td>\n",
       "      <td>20-99人</td>\n",
       "      <td>0</td>\n",
       "      <td>0</td>\n",
       "      <td>1</td>\n",
       "      <td>0</td>\n",
       "      <td>0</td>\n",
       "      <td>0</td>\n",
       "      <td>0</td>\n",
       "      <td>0</td>\n",
       "      <td>0</td>\n",
       "      <td>0</td>\n",
       "    </tr>\n",
       "    <tr>\n",
       "      <th>917</th>\n",
       "      <td>观安信息</td>\n",
       "      <td>100-499人</td>\n",
       "      <td>上海 普陀区 金沙江路</td>\n",
       "      <td>本科</td>\n",
       "      <td>5-10年</td>\n",
       "      <td>大数据安全产品经理</td>\n",
       "      <td>25.0</td>\n",
       "      <td>25.044444</td>\n",
       "      <td>B轮</td>\n",
       "      <td>0</td>\n",
       "      <td>0</td>\n",
       "      <td>0</td>\n",
       "      <td>0</td>\n",
       "      <td>0</td>\n",
       "      <td>0</td>\n",
       "      <td>0</td>\n",
       "      <td>0</td>\n",
       "      <td>0</td>\n",
       "      <td>0</td>\n",
       "    </tr>\n",
       "  </tbody>\n",
       "</table>\n",
       "</div>"
      ],
      "text/plain": [
       "          公司名称        公司规模           地区  学历要求   工作经验              职位名称  \\\n",
       "602       旗计智能  1000-9999人   上海 浦东新区 张江    本科   3-5年   数据分析主管/经理（风险方向）   \n",
       "260       速网电商    100-499人    上海 闵行区 莘庄    本科   1-3年              数据分析   \n",
       "512    Oriente    500-999人  上海 黄浦区 人民广场    本科   3-5年             数据分析师   \n",
       "1027   儒傲会软件定制      20-99人    上海 嘉定区 江桥    本科  5-10年  系统数据分析师招募要求（儒傲会）   \n",
       "787        华数康    100-499人    上海 长宁区 古北  学历不限   经验不限             数据分析师   \n",
       "85    上海深界信息科技       0-20人   上海 徐汇区 漕河泾    大专   1-3年             数据分析师   \n",
       "368       汉云信息    100-499人   上海 长宁区 天山路    本科   1-3年          互联网数据分析师   \n",
       "907        饿了么  1000-9999人  上海 普陀区 金沙江路    本科   3-5年         运力规划/数据分析   \n",
       "1050  上海翔鸢信息科技      20-99人    上海 青浦区 赵巷    大专   经验不限         王者荣耀数据分析师   \n",
       "917       观安信息    100-499人  上海 普陀区 金沙江路    本科  5-10年         大数据安全产品经理   \n",
       "\n",
       "      salary  prediction    融资情况  Sql  Python  Excel  Sas  Spss  Hive  Hadoop  \\\n",
       "602     25.0   17.123016     已上市    1       1      1    1     0     0       0   \n",
       "260     10.0   11.195915   不需要融资    0       0      0    0     0     0       0   \n",
       "512     27.5   19.633333      B轮    1       1      0    1     0     0       1   \n",
       "1027    17.5   19.751667     天使轮    1       0      0    0     0     0       0   \n",
       "787     22.5   11.050000      B轮    0       0      0    1     0     0       0   \n",
       "85      12.5   13.820000   不需要融资    0       1      0    1     0     1       0   \n",
       "368      9.0   10.550000   不需要融资    1       0      1    0     0     0       0   \n",
       "907     22.5   17.009510   D轮及以上    0       0      0    0     0     0       0   \n",
       "1050     7.0    7.725000  20-99人    0       0      1    0     0     0       0   \n",
       "917     25.0   25.044444      B轮    0       0      0    0     0     0       0   \n",
       "\n",
       "      Ppt  Tableau  Spark  \n",
       "602     0        0      0  \n",
       "260     0        0      0  \n",
       "512     0        0      0  \n",
       "1027    0        0      0  \n",
       "787     0        0      0  \n",
       "85      0        0      0  \n",
       "368     0        0      0  \n",
       "907     0        0      0  \n",
       "1050    0        0      0  \n",
       "917     0        0      0  "
      ]
     },
     "execution_count": 91,
     "metadata": {},
     "output_type": "execute_result"
    }
   ],
   "source": [
    "data_test_prediction.sample(10)"
   ]
  },
  {
   "cell_type": "markdown",
   "metadata": {},
   "source": [
    "- 预测结果与实际薪资相比误差在**可接受范围内**。"
   ]
  },
  {
   "cell_type": "markdown",
   "metadata": {},
   "source": [
    "# 预测函数接口"
   ]
  },
  {
   "cell_type": "code",
   "execution_count": 92,
   "metadata": {},
   "outputs": [
    {
     "data": {
      "text/html": [
       "<div>\n",
       "<style scoped>\n",
       "    .dataframe tbody tr th:only-of-type {\n",
       "        vertical-align: middle;\n",
       "    }\n",
       "\n",
       "    .dataframe tbody tr th {\n",
       "        vertical-align: top;\n",
       "    }\n",
       "\n",
       "    .dataframe thead th {\n",
       "        text-align: right;\n",
       "    }\n",
       "</style>\n",
       "<table border=\"1\" class=\"dataframe\">\n",
       "  <thead>\n",
       "    <tr style=\"text-align: right;\">\n",
       "      <th></th>\n",
       "      <th>公司名称</th>\n",
       "      <th>公司规模</th>\n",
       "      <th>地区</th>\n",
       "      <th>学历要求</th>\n",
       "      <th>工作经验</th>\n",
       "      <th>职位名称</th>\n",
       "      <th>salary</th>\n",
       "      <th>融资情况</th>\n",
       "      <th>Sql</th>\n",
       "      <th>Python</th>\n",
       "      <th>Excel</th>\n",
       "      <th>Sas</th>\n",
       "      <th>Spss</th>\n",
       "      <th>Hive</th>\n",
       "      <th>Hadoop</th>\n",
       "      <th>Ppt</th>\n",
       "      <th>Tableau</th>\n",
       "      <th>Spark</th>\n",
       "    </tr>\n",
       "  </thead>\n",
       "  <tbody>\n",
       "    <tr>\n",
       "      <th>361</th>\n",
       "      <td>携程旅行网</td>\n",
       "      <td>10000人以上</td>\n",
       "      <td>上海 长宁区 北新泾</td>\n",
       "      <td>本科</td>\n",
       "      <td>3-5年</td>\n",
       "      <td>海外运营数据分析师</td>\n",
       "      <td>20.5</td>\n",
       "      <td>已上市</td>\n",
       "      <td>1</td>\n",
       "      <td>1</td>\n",
       "      <td>0</td>\n",
       "      <td>0</td>\n",
       "      <td>0</td>\n",
       "      <td>0</td>\n",
       "      <td>0</td>\n",
       "      <td>0</td>\n",
       "      <td>0</td>\n",
       "      <td>0</td>\n",
       "    </tr>\n",
       "  </tbody>\n",
       "</table>\n",
       "</div>"
      ],
      "text/plain": [
       "      公司名称      公司规模          地区 学历要求  工作经验       职位名称  salary 融资情况  Sql  \\\n",
       "361  携程旅行网  10000人以上  上海 长宁区 北新泾   本科  3-5年  海外运营数据分析师    20.5  已上市    1   \n",
       "\n",
       "     Python  Excel  Sas  Spss  Hive  Hadoop  Ppt  Tableau  Spark  \n",
       "361       1      0    0     0     0       0    0        0      0  "
      ]
     },
     "execution_count": 92,
     "metadata": {},
     "output_type": "execute_result"
    }
   ],
   "source": [
    "data_test.head(1)"
   ]
  },
  {
   "cell_type": "code",
   "execution_count": 93,
   "metadata": {},
   "outputs": [],
   "source": [
    "from pandas import DataFrame"
   ]
  },
  {
   "cell_type": "markdown",
   "metadata": {},
   "source": [
    "### 预测功能函数"
   ]
  },
  {
   "cell_type": "code",
   "execution_count": 94,
   "metadata": {},
   "outputs": [],
   "source": [
    "def prediction_function(scale,degree,experience,v_skills):\n",
    "    predict_X = {\n",
    "        '公司规模':[scale],\n",
    "        '学历要求':[degree],\n",
    "        '工作经验':[experience],\n",
    "        'Sql':[v_skills[0]],\n",
    "        'Python':[v_skills[1]],\n",
    "        'Excel':[v_skills[2]],\n",
    "        'Sas':[v_skills[3]],\n",
    "        'Spss':[v_skills[4]],\n",
    "        'Hive':[v_skills[5]],\n",
    "        'Hadoop':[v_skills[6]],\n",
    "        'Ppt':[v_skills[7]],\n",
    "        'Tableau':[v_skills[8]],\n",
    "        'Spark':[v_skills[9]],\n",
    "    }\n",
    "    predict_tmp = pd.DataFrame(predict_X)\n",
    "    X_predict = full_pipeline.transform(predict_tmp)\n",
    "    return X_predict"
   ]
  },
  {
   "cell_type": "markdown",
   "metadata": {},
   "source": [
    "### 技能转换函数"
   ]
  },
  {
   "cell_type": "code",
   "execution_count": 95,
   "metadata": {},
   "outputs": [],
   "source": [
    "def skills_switch(skill_list):\n",
    "    tmp_list = []\n",
    "    skills = ['Sql','Python','Excel','Sas','Spss','Hive','Hadoop','Ppt','Tableau','Spark']\n",
    "    for skill in skills:\n",
    "        # 大小写转换\n",
    "        if skill in skill_list:\n",
    "            tmp_list.append(1)\n",
    "        else:\n",
    "            tmp_list.append(0)\n",
    "    return tmp_list"
   ]
  },
  {
   "cell_type": "markdown",
   "metadata": {},
   "source": [
    "### 预测主函数"
   ]
  },
  {
   "cell_type": "code",
   "execution_count": 96,
   "metadata": {},
   "outputs": [],
   "source": [
    "def predict(scale,degree,experience,v_skills):\n",
    "    X_predict = prediction_function(scale,degree,experience,v_skills)\n",
    "    Y_predict = final_model.predict(X_predict)\n",
    "    print('预测薪资为：',Y_predict[0],'k/month')"
   ]
  },
  {
   "cell_type": "markdown",
   "metadata": {},
   "source": [
    "---"
   ]
  },
  {
   "cell_type": "markdown",
   "metadata": {},
   "source": [
    "<pre>\n",
    "企业规模：['10000人以上' '1000-9999人' '20-99人' '0-20人' '500-999人' '100-499人']\n",
    "学历：['本科' '大专' '学历不限' '硕士']\n",
    "工作经验：['3-5年' '1-3年' '经验不限' '5-10年' '1年以内' '应届生']\n",
    "Skills:[Sql,Python,Excel,Sas,Spss,Hive,Hadoop,Ppt,Tableau,Spark]\n",
    "</pre>"
   ]
  },
  {
   "cell_type": "markdown",
   "metadata": {},
   "source": [
    "### 预测函数"
   ]
  },
  {
   "cell_type": "code",
   "execution_count": 97,
   "metadata": {},
   "outputs": [
    {
     "name": "stdout",
     "output_type": "stream",
     "text": [
      "预测薪资为： 12.14722222222222 k/month\n"
     ]
    }
   ],
   "source": [
    "#-----------设置变量\n",
    "scale = '10000人以上'\n",
    "degree = '本科'\n",
    "experience = '1-3年'\n",
    "# ------------------\n",
    "# --------设置所掌握的技能（顺序无关）\n",
    "mastered_skills = ['Sql','Python','Excel','Spss','Ppt']\n",
    "v_skills = skills_switch(mastered_skills)\n",
    "# -----------------------------------\n",
    "predict(scale,degree,experience,v_skills)"
   ]
  },
  {
   "cell_type": "code",
   "execution_count": 98,
   "metadata": {},
   "outputs": [
    {
     "name": "stdout",
     "output_type": "stream",
     "text": [
      "10000人以上 | 本科 | 应届生 | Sql,Python,Excel,Spss,Ppt\n",
      "预测薪资为： 13.066666666666666 k/month\n",
      "------------------------------------------------------------\n",
      "10000人以上 | 本科 | 1年以内 | Sql,Python,Excel,Spss,Ppt\n",
      "预测薪资为： 13.308333333333334 k/month\n",
      "------------------------------------------------------------\n",
      "10000人以上 | 本科 | 1-3年 | Sql,Python,Excel,Spss,Ppt\n",
      "预测薪资为： 12.14722222222222 k/month\n",
      "------------------------------------------------------------\n",
      "10000人以上 | 本科 | 3-5年 | Sql,Python,Excel,Spss,Ppt\n",
      "预测薪资为： 20.964444444444446 k/month\n",
      "------------------------------------------------------------\n",
      "10000人以上 | 本科 | 5-10年 | Sql,Python,Excel,Spss,Ppt\n",
      "预测薪资为： 23.97222222222222 k/month\n",
      "------------------------------------------------------------\n"
     ]
    }
   ],
   "source": [
    "experiences = ['应届生','1年以内', '1-3年','3-5年', '5-10年' ]\n",
    "\n",
    "for exp in experiences:\n",
    "    print(scale,'|',degree,'|',exp,'|',\",\".join(mastered_skills))\n",
    "    predict(scale,degree,exp,v_skills)\n",
    "    print('-'*60)"
   ]
  },
  {
   "cell_type": "markdown",
   "metadata": {},
   "source": [
    "---"
   ]
  },
  {
   "cell_type": "code",
   "execution_count": 101,
   "metadata": {},
   "outputs": [
    {
     "name": "stdout",
     "output_type": "stream",
     "text": [
      "500-999人 | 学历不限 | 1-3年 | Sql,Python,Excel,Spss,Ppt\n",
      "预测薪资为： 21.625 k/month\n",
      "------------------------------------------------------------\n",
      "500-999人 | 大专 | 1-3年 | Sql,Python,Excel,Spss,Ppt\n",
      "预测薪资为： 19.925 k/month\n",
      "------------------------------------------------------------\n",
      "500-999人 | 本科 | 1-3年 | Sql,Python,Excel,Spss,Ppt\n",
      "预测薪资为： 23.091666666666665 k/month\n",
      "------------------------------------------------------------\n",
      "500-999人 | 硕士 | 1-3年 | Sql,Python,Excel,Spss,Ppt\n",
      "预测薪资为： 20.791666666666668 k/month\n",
      "------------------------------------------------------------\n"
     ]
    }
   ],
   "source": [
    "experience = '1-3年'\n",
    "scale = '500-999人'\n",
    "degrees = ['学历不限','大专','本科','硕士']\n",
    "\n",
    "for degree in degrees:\n",
    "    print(scale,'|',degree,'|',experience,'|',\",\".join(mastered_skills))\n",
    "    predict(scale,degree,exp,v_skills)\n",
    "    print('-'*60)"
   ]
  },
  {
   "cell_type": "code",
   "execution_count": null,
   "metadata": {},
   "outputs": [],
   "source": []
  }
 ],
 "metadata": {
  "kernelspec": {
   "display_name": "Python 3",
   "language": "python",
   "name": "python3"
  },
  "language_info": {
   "codemirror_mode": {
    "name": "ipython",
    "version": 3
   },
   "file_extension": ".py",
   "mimetype": "text/x-python",
   "name": "python",
   "nbconvert_exporter": "python",
   "pygments_lexer": "ipython3",
   "version": "3.7.1"
  },
  "toc": {
   "base_numbering": 1,
   "nav_menu": {},
   "number_sections": true,
   "sideBar": true,
   "skip_h1_title": false,
   "title_cell": "Table of Contents",
   "title_sidebar": "Contents",
   "toc_cell": false,
   "toc_position": {},
   "toc_section_display": true,
   "toc_window_display": true
  }
 },
 "nbformat": 4,
 "nbformat_minor": 2
}
