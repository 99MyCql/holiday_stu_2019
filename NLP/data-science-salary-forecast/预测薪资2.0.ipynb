{
 "cells": [
  {
   "cell_type": "markdown",
   "metadata": {},
   "source": [
    "导入相关库"
   ]
  },
  {
   "cell_type": "code",
   "execution_count": 517,
   "metadata": {},
   "outputs": [],
   "source": [
    "import warnings\n",
    "warnings.filterwarnings(\"ignore\")\n",
    "import pandas as pd\n",
    "from pandas import Series"
   ]
  },
  {
   "cell_type": "markdown",
   "metadata": {},
   "source": [
    "读入数据"
   ]
  },
  {
   "cell_type": "code",
   "execution_count": 518,
   "metadata": {},
   "outputs": [],
   "source": [
    "data_analysis = pd.read_csv('data_hd.csv')"
   ]
  },
  {
   "cell_type": "code",
   "execution_count": 519,
   "metadata": {},
   "outputs": [
    {
     "data": {
      "text/plain": [
       "(130, 43)"
      ]
     },
     "execution_count": 519,
     "metadata": {},
     "output_type": "execute_result"
    }
   ],
   "source": [
    "data_analysis.shape"
   ]
  },
  {
   "cell_type": "code",
   "execution_count": 520,
   "metadata": {},
   "outputs": [
    {
     "data": {
      "text/plain": [
       "Index(['Unnamed: 0', '职位名称', '关键字', '薪资', '公司', '地区', '工作经验', '学历要求', 'Java',\n",
       "       'Linux', 'Redis', 'Python', 'C', 'Sql', 'Git', 'Mongodb', 'Shell',\n",
       "       'Github', 'Oracle', 'Hadoop', 'Unix', 'Spark', 'Hive', 'Or', 'Stack',\n",
       "       'Tensorflow', 'Power', '数据库', '算法', '数据结构', '逻辑思维', '数据分析', '评估', '建模',\n",
       "       '英语', '数据仓库', '决策', '人工智能', '机器学习', '数据模型', '数据清洗', '数字', '报表'],\n",
       "      dtype='object')"
      ]
     },
     "execution_count": 520,
     "metadata": {},
     "output_type": "execute_result"
    }
   ],
   "source": [
    "data_analysis.columns"
   ]
  },
  {
   "cell_type": "markdown",
   "metadata": {},
   "source": [
    "添加薪资均值"
   ]
  },
  {
   "cell_type": "code",
   "execution_count": 521,
   "metadata": {},
   "outputs": [],
   "source": [
    "import re\n",
    "# 均值函数\n",
    "def average(job_salary):\n",
    "    # 取薪资均值----------------\n",
    "    pattern = re.compile('\\d+')\n",
    "    salary = job_salary\n",
    "    try:\n",
    "        res = re.findall(pattern, salary)\n",
    "        avg_salary = 0\n",
    "        sum = 0\n",
    "        for i in res:\n",
    "            a = int(i)\n",
    "            sum = sum + a\n",
    "            avg_salary = sum / 2\n",
    "    except Exception:\n",
    "        avg_salary = 0\n",
    "    # 函数返回值\n",
    "    return avg_salary\n",
    "\n",
    "salary_list = []\n",
    "for i in range(0,data_analysis.shape[0]):\n",
    "    avg_sal = average(data_analysis['薪资'][i])\n",
    "    salary_list.append(avg_sal)\n",
    "sal = Series(salary_list)\n",
    "\n",
    "data_analysis.insert(9,'salary',sal)"
   ]
  },
  {
   "cell_type": "markdown",
   "metadata": {},
   "source": [
    "薪资分布探索"
   ]
  },
  {
   "cell_type": "code",
   "execution_count": 522,
   "metadata": {},
   "outputs": [
    {
     "data": {
      "text/plain": [
       "count    130.000000\n",
       "mean      24.557692\n",
       "std       15.123347\n",
       "min        4.500000\n",
       "25%       17.500000\n",
       "50%       22.500000\n",
       "75%       30.000000\n",
       "max      165.000000\n",
       "Name: salary, dtype: float64"
      ]
     },
     "execution_count": 522,
     "metadata": {},
     "output_type": "execute_result"
    }
   ],
   "source": [
    "data_analysis.salary.describe()"
   ]
  },
  {
   "cell_type": "code",
   "execution_count": 523,
   "metadata": {},
   "outputs": [
    {
     "data": {
      "text/plain": [
       "Index(['Unnamed: 0', '职位名称', '关键字', '薪资', '公司', '地区', '工作经验', '学历要求', 'Java',\n",
       "       'salary', 'Linux', 'Redis', 'Python', 'C', 'Sql', 'Git', 'Mongodb',\n",
       "       'Shell', 'Github', 'Oracle', 'Hadoop', 'Unix', 'Spark', 'Hive', 'Or',\n",
       "       'Stack', 'Tensorflow', 'Power', '数据库', '算法', '数据结构', '逻辑思维', '数据分析',\n",
       "       '评估', '建模', '英语', '数据仓库', '决策', '人工智能', '机器学习', '数据模型', '数据清洗', '数字',\n",
       "       '报表'],\n",
       "      dtype='object')"
      ]
     },
     "execution_count": 523,
     "metadata": {},
     "output_type": "execute_result"
    }
   ],
   "source": [
    "data_analysis.columns"
   ]
  },
  {
   "cell_type": "code",
   "execution_count": 524,
   "metadata": {},
   "outputs": [
    {
     "data": {
      "image/png": "[encoded data removed]",
      "text/plain": [
       "<matplotlib.figure.Figure at 0x1c3dd66af60>"
      ]
     },
     "metadata": {},
     "output_type": "display_data"
    }
   ],
   "source": [
    "%matplotlib inline\n",
    "import matplotlib.pyplot as plt\n",
    "data_analysis.salary.hist(bins=50, figsize=(8,5))\n",
    "plt.show()"
   ]
  },
  {
   "cell_type": "markdown",
   "metadata": {},
   "source": [
    "从上图可以看出薪资主要分布在5k—35k之间"
   ]
  },
  {
   "cell_type": "code",
   "execution_count": 525,
   "metadata": {},
   "outputs": [
    {
     "data": {
      "text/plain": [
       "(16, 44)"
      ]
     },
     "execution_count": 525,
     "metadata": {},
     "output_type": "execute_result"
    }
   ],
   "source": [
    "data_analysis[data_analysis.salary>35].shape"
   ]
  },
  {
   "cell_type": "code",
   "execution_count": 526,
   "metadata": {},
   "outputs": [
    {
     "data": {
      "text/plain": [
       "(1, 44)"
      ]
     },
     "execution_count": 526,
     "metadata": {},
     "output_type": "execute_result"
    }
   ],
   "source": [
    "data_analysis[data_analysis.salary<5].shape"
   ]
  },
  {
   "cell_type": "code",
   "execution_count": 527,
   "metadata": {},
   "outputs": [],
   "source": [
    "data_analysis = data_analysis[data_analysis['salary']<35]\n",
    "data_analysis = data_analysis[data_analysis['salary']>5]"
   ]
  },
  {
   "cell_type": "code",
   "execution_count": 528,
   "metadata": {},
   "outputs": [
    {
     "data": {
      "text/html": [
       "<div>\n",
       "<style scoped>\n",
       "    .dataframe tbody tr th:only-of-type {\n",
       "        vertical-align: middle;\n",
       "    }\n",
       "\n",
       "    .dataframe tbody tr th {\n",
       "        vertical-align: top;\n",
       "    }\n",
       "\n",
       "    .dataframe thead th {\n",
       "        text-align: right;\n",
       "    }\n",
       "</style>\n",
       "<table border=\"1\" class=\"dataframe\">\n",
       "  <thead>\n",
       "    <tr style=\"text-align: right;\">\n",
       "      <th></th>\n",
       "      <th>Unnamed: 0</th>\n",
       "      <th>职位名称</th>\n",
       "      <th>关键字</th>\n",
       "      <th>薪资</th>\n",
       "      <th>公司</th>\n",
       "      <th>地区</th>\n",
       "      <th>工作经验</th>\n",
       "      <th>学历要求</th>\n",
       "      <th>Java</th>\n",
       "      <th>salary</th>\n",
       "      <th>...</th>\n",
       "      <th>建模</th>\n",
       "      <th>英语</th>\n",
       "      <th>数据仓库</th>\n",
       "      <th>决策</th>\n",
       "      <th>人工智能</th>\n",
       "      <th>机器学习</th>\n",
       "      <th>数据模型</th>\n",
       "      <th>数据清洗</th>\n",
       "      <th>数字</th>\n",
       "      <th>报表</th>\n",
       "    </tr>\n",
       "  </thead>\n",
       "  <tbody>\n",
       "    <tr>\n",
       "      <th>1</th>\n",
       "      <td>1</td>\n",
       "      <td>JAVA后端开发</td>\n",
       "      <td>后端开发</td>\n",
       "      <td>18-36K</td>\n",
       "      <td>携程旅行网</td>\n",
       "      <td>上海 长宁区 北新泾</td>\n",
       "      <td>1-3年</td>\n",
       "      <td>本科</td>\n",
       "      <td>1.0</td>\n",
       "      <td>27.0</td>\n",
       "      <td>...</td>\n",
       "      <td>0.0</td>\n",
       "      <td>0.0</td>\n",
       "      <td>1.0</td>\n",
       "      <td>0.0</td>\n",
       "      <td>0.0</td>\n",
       "      <td>0.0</td>\n",
       "      <td>0.0</td>\n",
       "      <td>0.0</td>\n",
       "      <td>0.0</td>\n",
       "      <td>0.0</td>\n",
       "    </tr>\n",
       "    <tr>\n",
       "      <th>3</th>\n",
       "      <td>3</td>\n",
       "      <td>java后端开发</td>\n",
       "      <td>后端开发</td>\n",
       "      <td>15-25K</td>\n",
       "      <td>泛微网络</td>\n",
       "      <td>上海 闵行区 浦江</td>\n",
       "      <td>3-5年</td>\n",
       "      <td>本科</td>\n",
       "      <td>1.0</td>\n",
       "      <td>20.0</td>\n",
       "      <td>...</td>\n",
       "      <td>0.0</td>\n",
       "      <td>0.0</td>\n",
       "      <td>0.0</td>\n",
       "      <td>0.0</td>\n",
       "      <td>0.0</td>\n",
       "      <td>0.0</td>\n",
       "      <td>0.0</td>\n",
       "      <td>0.0</td>\n",
       "      <td>0.0</td>\n",
       "      <td>0.0</td>\n",
       "    </tr>\n",
       "  </tbody>\n",
       "</table>\n",
       "<p>2 rows × 44 columns</p>\n",
       "</div>"
      ],
      "text/plain": [
       "   Unnamed: 0      职位名称   关键字      薪资     公司          地区  工作经验 学历要求  Java  \\\n",
       "1           1  JAVA后端开发  后端开发  18-36K  携程旅行网  上海 长宁区 北新泾  1-3年   本科   1.0   \n",
       "3           3  java后端开发  后端开发  15-25K   泛微网络   上海 闵行区 浦江  3-5年   本科   1.0   \n",
       "\n",
       "   salary ...    建模   英语  数据仓库   决策  人工智能  机器学习  数据模型  数据清洗   数字   报表  \n",
       "1    27.0 ...   0.0  0.0   1.0  0.0   0.0   0.0   0.0   0.0  0.0  0.0  \n",
       "3    20.0 ...   0.0  0.0   0.0  0.0   0.0   0.0   0.0   0.0  0.0  0.0  \n",
       "\n",
       "[2 rows x 44 columns]"
      ]
     },
     "execution_count": 528,
     "metadata": {},
     "output_type": "execute_result"
    }
   ],
   "source": [
    "data_analysis.head(2)"
   ]
  },
  {
   "cell_type": "code",
   "execution_count": 529,
   "metadata": {},
   "outputs": [],
   "source": [
    "data_analysis = data_analysis.drop(['Unnamed: 0','关键字','薪资'],axis=1)"
   ]
  },
  {
   "cell_type": "markdown",
   "metadata": {},
   "source": [
    "掌握的软件技能对薪资的影响关系"
   ]
  },
  {
   "cell_type": "code",
   "execution_count": 530,
   "metadata": {},
   "outputs": [
    {
     "data": {
      "text/plain": [
       "salary        1.000000\n",
       "Github        0.241608\n",
       "算法            0.214396\n",
       "数据结构          0.171729\n",
       "数据仓库          0.161309\n",
       "Linux         0.157156\n",
       "Python        0.145544\n",
       "人工智能          0.135208\n",
       "Stack         0.127111\n",
       "Or            0.127111\n",
       "机器学习          0.127111\n",
       "Shell         0.124679\n",
       "数据清洗          0.104715\n",
       "逻辑思维          0.098817\n",
       "Redis         0.098395\n",
       "C             0.092933\n",
       "建模            0.083683\n",
       "Java          0.073476\n",
       "Hive          0.065607\n",
       "数据分析          0.060091\n",
       "决策            0.035157\n",
       "Git           0.033718\n",
       "Power         0.030064\n",
       "数据库           0.026566\n",
       "Spark         0.000554\n",
       "Hadoop       -0.007590\n",
       "Tensorflow   -0.022192\n",
       "Sql          -0.024457\n",
       "数据模型         -0.031529\n",
       "英语           -0.118589\n",
       "报表           -0.126703\n",
       "评估           -0.127410\n",
       "Oracle       -0.133122\n",
       "Unix         -0.149251\n",
       "Mongodb      -0.157613\n",
       "数字           -0.164029\n",
       "Name: salary, dtype: float64"
      ]
     },
     "execution_count": 530,
     "metadata": {},
     "output_type": "execute_result"
    }
   ],
   "source": [
    "corr_matrix = data_analysis.corr()\n",
    "corr_matrix[\"salary\"].sort_values(ascending=False)"
   ]
  },
  {
   "cell_type": "markdown",
   "metadata": {},
   "source": [
    "- **Data Analysis**的职位中，`github`,`算法`,`数据结构`是**薪资的加分项**。\n",
    "- 同时，`Python`,`人工智能`,`机器学习`,也是数据分析师**区别于低薪**的因素。\n",
    "- `英语`,`报表`作为必须的软件技能，对薪资变化**并没有太大的影响**，甚至仅仅会报表的职位沦落为专员，会是一个减分项。\n",
    "- 结论：在数据分析领域，拥有**大数据软件技能**并且懂得**Python**这一编程语言的分析师的待遇较好。"
   ]
  },
  {
   "cell_type": "markdown",
   "metadata": {},
   "source": [
    "## 模型方法选择\n",
    "<pre>\n",
    "线性回归\n",
    "决策树回归\n",
    "随机森林回归\n",
    "KNN回归\n",
    "Adaboost回归\n",
    "GBRT回归\n",
    "Bagging回归\n",
    "ExtraTree极端随机树回归\n",
    "</pre>"
   ]
  },
  {
   "cell_type": "markdown",
   "metadata": {},
   "source": [
    "准备数据"
   ]
  },
  {
   "cell_type": "code",
   "execution_count": 531,
   "metadata": {},
   "outputs": [
    {
     "data": {
      "text/html": [
       "<div>\n",
       "<style scoped>\n",
       "    .dataframe tbody tr th:only-of-type {\n",
       "        vertical-align: middle;\n",
       "    }\n",
       "\n",
       "    .dataframe tbody tr th {\n",
       "        vertical-align: top;\n",
       "    }\n",
       "\n",
       "    .dataframe thead th {\n",
       "        text-align: right;\n",
       "    }\n",
       "</style>\n",
       "<table border=\"1\" class=\"dataframe\">\n",
       "  <thead>\n",
       "    <tr style=\"text-align: right;\">\n",
       "      <th></th>\n",
       "      <th>职位名称</th>\n",
       "      <th>公司</th>\n",
       "      <th>地区</th>\n",
       "      <th>工作经验</th>\n",
       "      <th>学历要求</th>\n",
       "      <th>Java</th>\n",
       "      <th>salary</th>\n",
       "      <th>Linux</th>\n",
       "      <th>Redis</th>\n",
       "      <th>Python</th>\n",
       "      <th>...</th>\n",
       "      <th>建模</th>\n",
       "      <th>英语</th>\n",
       "      <th>数据仓库</th>\n",
       "      <th>决策</th>\n",
       "      <th>人工智能</th>\n",
       "      <th>机器学习</th>\n",
       "      <th>数据模型</th>\n",
       "      <th>数据清洗</th>\n",
       "      <th>数字</th>\n",
       "      <th>报表</th>\n",
       "    </tr>\n",
       "  </thead>\n",
       "  <tbody>\n",
       "    <tr>\n",
       "      <th>1</th>\n",
       "      <td>JAVA后端开发</td>\n",
       "      <td>携程旅行网</td>\n",
       "      <td>上海 长宁区 北新泾</td>\n",
       "      <td>1-3年</td>\n",
       "      <td>本科</td>\n",
       "      <td>1.0</td>\n",
       "      <td>27.0</td>\n",
       "      <td>1.0</td>\n",
       "      <td>0.0</td>\n",
       "      <td>0.0</td>\n",
       "      <td>...</td>\n",
       "      <td>0.0</td>\n",
       "      <td>0.0</td>\n",
       "      <td>1.0</td>\n",
       "      <td>0.0</td>\n",
       "      <td>0.0</td>\n",
       "      <td>0.0</td>\n",
       "      <td>0.0</td>\n",
       "      <td>0.0</td>\n",
       "      <td>0.0</td>\n",
       "      <td>0.0</td>\n",
       "    </tr>\n",
       "    <tr>\n",
       "      <th>3</th>\n",
       "      <td>java后端开发</td>\n",
       "      <td>泛微网络</td>\n",
       "      <td>上海 闵行区 浦江</td>\n",
       "      <td>3-5年</td>\n",
       "      <td>本科</td>\n",
       "      <td>1.0</td>\n",
       "      <td>20.0</td>\n",
       "      <td>1.0</td>\n",
       "      <td>0.0</td>\n",
       "      <td>0.0</td>\n",
       "      <td>...</td>\n",
       "      <td>0.0</td>\n",
       "      <td>0.0</td>\n",
       "      <td>0.0</td>\n",
       "      <td>0.0</td>\n",
       "      <td>0.0</td>\n",
       "      <td>0.0</td>\n",
       "      <td>0.0</td>\n",
       "      <td>0.0</td>\n",
       "      <td>0.0</td>\n",
       "      <td>0.0</td>\n",
       "    </tr>\n",
       "  </tbody>\n",
       "</table>\n",
       "<p>2 rows × 41 columns</p>\n",
       "</div>"
      ],
      "text/plain": [
       "       职位名称     公司          地区  工作经验 学历要求  Java  salary  Linux  Redis  Python  \\\n",
       "1  JAVA后端开发  携程旅行网  上海 长宁区 北新泾  1-3年   本科   1.0    27.0    1.0    0.0     0.0   \n",
       "3  java后端开发   泛微网络   上海 闵行区 浦江  3-5年   本科   1.0    20.0    1.0    0.0     0.0   \n",
       "\n",
       "  ...    建模   英语  数据仓库   决策  人工智能  机器学习  数据模型  数据清洗   数字   报表  \n",
       "1 ...   0.0  0.0   1.0  0.0   0.0   0.0   0.0   0.0  0.0  0.0  \n",
       "3 ...   0.0  0.0   0.0  0.0   0.0   0.0   0.0   0.0  0.0  0.0  \n",
       "\n",
       "[2 rows x 41 columns]"
      ]
     },
     "execution_count": 531,
     "metadata": {},
     "output_type": "execute_result"
    }
   ],
   "source": [
    "data_analysis.head(2)"
   ]
  },
  {
   "cell_type": "code",
   "execution_count": 532,
   "metadata": {},
   "outputs": [],
   "source": [
    "from sklearn.model_selection import train_test_split\n",
    "\n",
    "train_set, test_set = train_test_split(data_analysis, test_size=0.2, random_state=42)"
   ]
  },
  {
   "cell_type": "code",
   "execution_count": 533,
   "metadata": {},
   "outputs": [],
   "source": [
    "data_train = train_set.copy()\n",
    "data_test = test_set.copy()"
   ]
  },
  {
   "cell_type": "code",
   "execution_count": 534,
   "metadata": {},
   "outputs": [
    {
     "data": {
      "text/plain": [
       "(88, 41)"
      ]
     },
     "execution_count": 534,
     "metadata": {},
     "output_type": "execute_result"
    }
   ],
   "source": [
    "data_train.shape"
   ]
  },
  {
   "cell_type": "code",
   "execution_count": 535,
   "metadata": {},
   "outputs": [
    {
     "data": {
      "text/plain": [
       "(22, 41)"
      ]
     },
     "execution_count": 535,
     "metadata": {},
     "output_type": "execute_result"
    }
   ],
   "source": [
    "data_test.shape"
   ]
  },
  {
   "cell_type": "code",
   "execution_count": 536,
   "metadata": {},
   "outputs": [
    {
     "data": {
      "text/plain": [
       "'0.21.2'"
      ]
     },
     "execution_count": 536,
     "metadata": {},
     "output_type": "execute_result"
    }
   ],
   "source": [
    "import sklearn\n",
    "sklearn.__version__"
   ]
  },
  {
   "cell_type": "code",
   "execution_count": 537,
   "metadata": {},
   "outputs": [],
   "source": [
    "from sklearn.pipeline import Pipeline\n",
    "from sklearn.preprocessing import StandardScaler\n",
    "from sklearn.preprocessing import Imputer\n",
    "from sklearn.compose import ColumnTransformer\n",
    "from sklearn.preprocessing import OneHotEncoder"
   ]
  },
  {
   "cell_type": "code",
   "execution_count": 538,
   "metadata": {},
   "outputs": [
    {
     "data": {
      "text/html": [
       "<div>\n",
       "<style scoped>\n",
       "    .dataframe tbody tr th:only-of-type {\n",
       "        vertical-align: middle;\n",
       "    }\n",
       "\n",
       "    .dataframe tbody tr th {\n",
       "        vertical-align: top;\n",
       "    }\n",
       "\n",
       "    .dataframe thead th {\n",
       "        text-align: right;\n",
       "    }\n",
       "</style>\n",
       "<table border=\"1\" class=\"dataframe\">\n",
       "  <thead>\n",
       "    <tr style=\"text-align: right;\">\n",
       "      <th></th>\n",
       "      <th>职位名称</th>\n",
       "      <th>公司</th>\n",
       "      <th>地区</th>\n",
       "      <th>工作经验</th>\n",
       "      <th>学历要求</th>\n",
       "      <th>Java</th>\n",
       "      <th>salary</th>\n",
       "      <th>Linux</th>\n",
       "      <th>Redis</th>\n",
       "      <th>Python</th>\n",
       "      <th>...</th>\n",
       "      <th>建模</th>\n",
       "      <th>英语</th>\n",
       "      <th>数据仓库</th>\n",
       "      <th>决策</th>\n",
       "      <th>人工智能</th>\n",
       "      <th>机器学习</th>\n",
       "      <th>数据模型</th>\n",
       "      <th>数据清洗</th>\n",
       "      <th>数字</th>\n",
       "      <th>报表</th>\n",
       "    </tr>\n",
       "  </thead>\n",
       "  <tbody>\n",
       "    <tr>\n",
       "      <th>1</th>\n",
       "      <td>JAVA后端开发</td>\n",
       "      <td>携程旅行网</td>\n",
       "      <td>上海 长宁区 北新泾</td>\n",
       "      <td>1-3年</td>\n",
       "      <td>本科</td>\n",
       "      <td>1.0</td>\n",
       "      <td>27.0</td>\n",
       "      <td>1.0</td>\n",
       "      <td>0.0</td>\n",
       "      <td>0.0</td>\n",
       "      <td>...</td>\n",
       "      <td>0.0</td>\n",
       "      <td>0.0</td>\n",
       "      <td>1.0</td>\n",
       "      <td>0.0</td>\n",
       "      <td>0.0</td>\n",
       "      <td>0.0</td>\n",
       "      <td>0.0</td>\n",
       "      <td>0.0</td>\n",
       "      <td>0.0</td>\n",
       "      <td>0.0</td>\n",
       "    </tr>\n",
       "  </tbody>\n",
       "</table>\n",
       "<p>1 rows × 41 columns</p>\n",
       "</div>"
      ],
      "text/plain": [
       "       职位名称     公司          地区  工作经验 学历要求  Java  salary  Linux  Redis  Python  \\\n",
       "1  JAVA后端开发  携程旅行网  上海 长宁区 北新泾  1-3年   本科   1.0    27.0    1.0    0.0     0.0   \n",
       "\n",
       "  ...    建模   英语  数据仓库   决策  人工智能  机器学习  数据模型  数据清洗   数字   报表  \n",
       "1 ...   0.0  0.0   1.0  0.0   0.0   0.0   0.0   0.0  0.0  0.0  \n",
       "\n",
       "[1 rows x 41 columns]"
      ]
     },
     "execution_count": 538,
     "metadata": {},
     "output_type": "execute_result"
    }
   ],
   "source": [
    "data_analysis.head(1)"
   ]
  },
  {
   "cell_type": "code",
   "execution_count": 539,
   "metadata": {},
   "outputs": [
    {
     "data": {
      "text/plain": [
       "93      True\n",
       "17      True\n",
       "8       True\n",
       "101    False\n",
       "78      True\n",
       "82      True\n",
       "40      True\n",
       "57      True\n",
       "116     True\n",
       "18      True\n",
       "94      True\n",
       "95      True\n",
       "1       True\n",
       "96      True\n",
       "27      True\n",
       "84      True\n",
       "70      True\n",
       "86      True\n",
       "128     True\n",
       "53      True\n",
       "20      True\n",
       "46      True\n",
       "Name: 工作经验, dtype: bool"
      ]
     },
     "execution_count": 539,
     "metadata": {},
     "output_type": "execute_result"
    }
   ],
   "source": [
    "data_test['工作经验']!=\"10年以上\""
   ]
  },
  {
   "cell_type": "code",
   "execution_count": 540,
   "metadata": {},
   "outputs": [],
   "source": [
    "data_test=data_test[data_test['工作经验']!=\"10年以上\"]"
   ]
  },
  {
   "cell_type": "code",
   "execution_count": 541,
   "metadata": {},
   "outputs": [],
   "source": [
    "data_analysis_num = data_analysis.drop(['职位名称','公司','地区','工作经验','学历要求','salary'], axis=1)\n",
    "num_attribs = list(data_analysis_num)\n",
    "cat_attribs = ['学历要求','工作经验']\n",
    "\n",
    "num_pipeline = Pipeline([\n",
    "        ('std_scaler', StandardScaler()),\n",
    "    ])\n",
    "\n",
    "full_pipeline = ColumnTransformer([\n",
    "        (\"num\", num_pipeline, num_attribs),\n",
    "        (\"cat\", OneHotEncoder(), cat_attribs),\n",
    "    ])\n",
    "\n",
    "data_analysis_prepared = full_pipeline.fit_transform(data_train)\n",
    "data_analysis_test = full_pipeline.transform(data_test)"
   ]
  },
  {
   "cell_type": "code",
   "execution_count": 542,
   "metadata": {},
   "outputs": [
    {
     "data": {
      "text/plain": [
       "array([[ 0.93399166,  0.97752522, -0.71919495, -0.62994079, -0.59484969,\n",
       "        -0.64757613, -0.52474977, -0.47140452, -0.47140452, -0.33752637,\n",
       "        -0.35805744, -0.29397237, -0.27050089, -0.27050089, -0.15249857,\n",
       "        -0.10721125, -0.10721125, -0.10721125, -0.10721125, -1.32287566,\n",
       "         1.39044357,  1.58745079, -0.29397237, -0.29397237, -0.24544035,\n",
       "        -0.18786729,  5.32290647, -0.15249857, -0.15249857, -0.10721125,\n",
       "        -0.10721125, -0.10721125, -0.10721125, -0.10721125, -0.10721125,\n",
       "         0.        ,  0.        ,  1.        ,  0.        ,  0.        ,\n",
       "         0.        ,  0.        ,  0.        ,  1.        ]])"
      ]
     },
     "execution_count": 542,
     "metadata": {},
     "output_type": "execute_result"
    }
   ],
   "source": [
    "data_analysis_prepared[:1]"
   ]
  },
  {
   "cell_type": "code",
   "execution_count": 543,
   "metadata": {},
   "outputs": [
    {
     "data": {
      "text/html": [
       "<div>\n",
       "<style scoped>\n",
       "    .dataframe tbody tr th:only-of-type {\n",
       "        vertical-align: middle;\n",
       "    }\n",
       "\n",
       "    .dataframe tbody tr th {\n",
       "        vertical-align: top;\n",
       "    }\n",
       "\n",
       "    .dataframe thead th {\n",
       "        text-align: right;\n",
       "    }\n",
       "</style>\n",
       "<table border=\"1\" class=\"dataframe\">\n",
       "  <thead>\n",
       "    <tr style=\"text-align: right;\">\n",
       "      <th></th>\n",
       "      <th>职位名称</th>\n",
       "      <th>公司</th>\n",
       "      <th>地区</th>\n",
       "      <th>工作经验</th>\n",
       "      <th>学历要求</th>\n",
       "      <th>Java</th>\n",
       "      <th>salary</th>\n",
       "      <th>Linux</th>\n",
       "      <th>Redis</th>\n",
       "      <th>Python</th>\n",
       "      <th>...</th>\n",
       "      <th>建模</th>\n",
       "      <th>英语</th>\n",
       "      <th>数据仓库</th>\n",
       "      <th>决策</th>\n",
       "      <th>人工智能</th>\n",
       "      <th>机器学习</th>\n",
       "      <th>数据模型</th>\n",
       "      <th>数据清洗</th>\n",
       "      <th>数字</th>\n",
       "      <th>报表</th>\n",
       "    </tr>\n",
       "  </thead>\n",
       "  <tbody>\n",
       "    <tr>\n",
       "      <th>79</th>\n",
       "      <td>后端开发工程师实习生</td>\n",
       "      <td>思科</td>\n",
       "      <td>上海 徐汇区 漕河泾</td>\n",
       "      <td>经验不限</td>\n",
       "      <td>本科</td>\n",
       "      <td>1.0</td>\n",
       "      <td>6.5</td>\n",
       "      <td>1.0</td>\n",
       "      <td>0.0</td>\n",
       "      <td>0.0</td>\n",
       "      <td>...</td>\n",
       "      <td>0.0</td>\n",
       "      <td>1.0</td>\n",
       "      <td>0.0</td>\n",
       "      <td>0.0</td>\n",
       "      <td>0.0</td>\n",
       "      <td>0.0</td>\n",
       "      <td>0.0</td>\n",
       "      <td>0.0</td>\n",
       "      <td>0.0</td>\n",
       "      <td>0.0</td>\n",
       "    </tr>\n",
       "  </tbody>\n",
       "</table>\n",
       "<p>1 rows × 41 columns</p>\n",
       "</div>"
      ],
      "text/plain": [
       "          职位名称  公司          地区  工作经验 学历要求  Java  salary  Linux  Redis  Python  \\\n",
       "79  后端开发工程师实习生  思科  上海 徐汇区 漕河泾  经验不限   本科   1.0     6.5    1.0    0.0     0.0   \n",
       "\n",
       "   ...    建模   英语  数据仓库   决策  人工智能  机器学习  数据模型  数据清洗   数字   报表  \n",
       "79 ...   0.0  1.0   0.0  0.0   0.0   0.0   0.0   0.0  0.0  0.0  \n",
       "\n",
       "[1 rows x 41 columns]"
      ]
     },
     "execution_count": 543,
     "metadata": {},
     "output_type": "execute_result"
    }
   ],
   "source": [
    "data_train.head(1)"
   ]
  },
  {
   "cell_type": "code",
   "execution_count": 544,
   "metadata": {},
   "outputs": [],
   "source": [
    "data_analysis_labels = data_train.salary.values\n",
    "test_labels = data_test.salary.values"
   ]
  },
  {
   "cell_type": "markdown",
   "metadata": {},
   "source": [
    "训练模型"
   ]
  },
  {
   "cell_type": "markdown",
   "metadata": {},
   "source": [
    "## 线性回归"
   ]
  },
  {
   "cell_type": "code",
   "execution_count": 545,
   "metadata": {},
   "outputs": [
    {
     "data": {
      "text/plain": [
       "LinearRegression(copy_X=True, fit_intercept=True, n_jobs=None, normalize=False)"
      ]
     },
     "execution_count": 545,
     "metadata": {},
     "output_type": "execute_result"
    }
   ],
   "source": [
    "from sklearn.linear_model import LinearRegression\n",
    "\n",
    "lin_reg = LinearRegression()\n",
    "lin_reg.fit(data_analysis_prepared, data_analysis_labels)"
   ]
  },
  {
   "cell_type": "code",
   "execution_count": 546,
   "metadata": {},
   "outputs": [
    {
     "data": {
      "text/plain": [
       "4.2267799681473175"
      ]
     },
     "execution_count": 546,
     "metadata": {},
     "output_type": "execute_result"
    }
   ],
   "source": [
    "from sklearn.metrics import mean_squared_error\n",
    "import numpy as np\n",
    "\n",
    "salary_predictions = lin_reg.predict(data_analysis_prepared)\n",
    "lin_mse = mean_squared_error(data_analysis_labels, salary_predictions)\n",
    "lin_rmse = np.sqrt(lin_mse)\n",
    "lin_rmse"
   ]
  },
  {
   "cell_type": "code",
   "execution_count": 547,
   "metadata": {},
   "outputs": [
    {
     "data": {
      "text/plain": [
       "array([19.83335661, 28.23948445, 23.12895143, 20.36307833,  9.26136354,\n",
       "       18.73883694, 18.922609  , 23.07411305, 23.67302117, 19.4258067 ])"
      ]
     },
     "execution_count": 547,
     "metadata": {},
     "output_type": "execute_result"
    }
   ],
   "source": [
    "y_test = lin_reg.predict(data_analysis_test)\n",
    "y_test[:10]"
   ]
  },
  {
   "cell_type": "code",
   "execution_count": 548,
   "metadata": {},
   "outputs": [
    {
     "data": {
      "text/plain": [
       "array([22.5, 30. , 27. , 20. , 20. , 21. , 18. , 25. , 30. , 15.5])"
      ]
     },
     "execution_count": 548,
     "metadata": {},
     "output_type": "execute_result"
    }
   ],
   "source": [
    "test_labels[:10]"
   ]
  },
  {
   "cell_type": "code",
   "execution_count": 549,
   "metadata": {},
   "outputs": [
    {
     "data": {
      "text/plain": [
       "5.649603152842213"
      ]
     },
     "execution_count": 549,
     "metadata": {},
     "output_type": "execute_result"
    }
   ],
   "source": [
    "lin_mse = mean_squared_error(test_labels, y_test)\n",
    "lin_rmse = np.sqrt(lin_mse)\n",
    "lin_rmse"
   ]
  },
  {
   "cell_type": "markdown",
   "metadata": {},
   "source": [
    "测试集上误差约为5.5"
   ]
  },
  {
   "cell_type": "markdown",
   "metadata": {},
   "source": [
    "交叉验证"
   ]
  },
  {
   "cell_type": "code",
   "execution_count": 550,
   "metadata": {},
   "outputs": [],
   "source": [
    "from sklearn.model_selection import cross_val_score\n",
    "\n",
    "scores = cross_val_score(lin_reg, data_analysis_prepared, data_analysis_labels,\n",
    "                         scoring=\"neg_mean_squared_error\", cv=10)\n",
    "lin_rmse_scores = np.sqrt(-scores)"
   ]
  },
  {
   "cell_type": "code",
   "execution_count": 551,
   "metadata": {},
   "outputs": [
    {
     "name": "stdout",
     "output_type": "stream",
     "text": [
      "Scores: [1.17805667e+01 1.30486026e+15 6.62763191e+00 4.49584581e+00\n",
      " 5.02507195e+00 7.02185493e+00 8.98903296e+00 5.52346174e+00\n",
      " 7.23762238e+00 1.05686414e+01]\n",
      "Mean: 130486026490605.38\n",
      "Standard deviation: 391458079471793.75\n"
     ]
    }
   ],
   "source": [
    "def display_scores(scores):\n",
    "    print(\"Scores:\", scores)\n",
    "    print(\"Mean:\", scores.mean())\n",
    "    print(\"Standard deviation:\", scores.std())\n",
    "\n",
    "display_scores(lin_rmse_scores)"
   ]
  },
  {
   "cell_type": "markdown",
   "metadata": {},
   "source": [
    "## 决策树回归"
   ]
  },
  {
   "cell_type": "code",
   "execution_count": 552,
   "metadata": {},
   "outputs": [
    {
     "data": {
      "text/plain": [
       "DecisionTreeRegressor(criterion='mse', max_depth=None, max_features=None,\n",
       "                      max_leaf_nodes=None, min_impurity_decrease=0.0,\n",
       "                      min_impurity_split=None, min_samples_leaf=1,\n",
       "                      min_samples_split=2, min_weight_fraction_leaf=0.0,\n",
       "                      presort=False, random_state=42, splitter='best')"
      ]
     },
     "execution_count": 552,
     "metadata": {},
     "output_type": "execute_result"
    }
   ],
   "source": [
    "from sklearn.tree import DecisionTreeRegressor\n",
    "\n",
    "tree_reg = DecisionTreeRegressor(random_state=42)\n",
    "tree_reg.fit(data_analysis_prepared, data_analysis_labels)"
   ]
  },
  {
   "cell_type": "code",
   "execution_count": 553,
   "metadata": {},
   "outputs": [],
   "source": [
    "y_pred_tree = tree_reg.predict(data_analysis_prepared)"
   ]
  },
  {
   "cell_type": "code",
   "execution_count": 554,
   "metadata": {},
   "outputs": [
    {
     "data": {
      "text/plain": [
       "0.8065780692643346"
      ]
     },
     "execution_count": 554,
     "metadata": {},
     "output_type": "execute_result"
    }
   ],
   "source": [
    "from sklearn.metrics import mean_squared_error\n",
    "\n",
    "tree_mse = mean_squared_error(data_analysis_labels, y_pred_tree)\n",
    "tree_rmse = np.sqrt(tree_mse)\n",
    "tree_rmse"
   ]
  },
  {
   "cell_type": "code",
   "execution_count": 555,
   "metadata": {},
   "outputs": [
    {
     "data": {
      "text/plain": [
       "array([20. , 20. , 25. , 20. , 22.5, 20. , 12. , 27.5, 23.5, 10.5])"
      ]
     },
     "execution_count": 555,
     "metadata": {},
     "output_type": "execute_result"
    }
   ],
   "source": [
    "y_test = tree_reg.predict(data_analysis_test)\n",
    "y_test[:10]"
   ]
  },
  {
   "cell_type": "code",
   "execution_count": 556,
   "metadata": {},
   "outputs": [
    {
     "data": {
      "text/plain": [
       "array([22.5, 30. , 27. , 20. , 20. , 21. , 18. , 25. , 30. , 15.5])"
      ]
     },
     "execution_count": 556,
     "metadata": {},
     "output_type": "execute_result"
    }
   ],
   "source": [
    "test_labels[:10]"
   ]
  },
  {
   "cell_type": "code",
   "execution_count": 557,
   "metadata": {},
   "outputs": [
    {
     "data": {
      "text/plain": [
       "5.844716784046451"
      ]
     },
     "execution_count": 557,
     "metadata": {},
     "output_type": "execute_result"
    }
   ],
   "source": [
    "tree_mse = mean_squared_error(test_labels, y_test)\n",
    "tree_rmse = np.sqrt(tree_mse)\n",
    "tree_rmse"
   ]
  },
  {
   "cell_type": "markdown",
   "metadata": {},
   "source": [
    "测试集上误差约为5.8"
   ]
  },
  {
   "cell_type": "markdown",
   "metadata": {},
   "source": [
    "## Random Forest 随机森林回归"
   ]
  },
  {
   "cell_type": "code",
   "execution_count": 558,
   "metadata": {},
   "outputs": [
    {
     "data": {
      "text/plain": [
       "RandomForestRegressor(bootstrap=True, criterion='mse', max_depth=None,\n",
       "                      max_features='auto', max_leaf_nodes=None,\n",
       "                      min_impurity_decrease=0.0, min_impurity_split=None,\n",
       "                      min_samples_leaf=1, min_samples_split=2,\n",
       "                      min_weight_fraction_leaf=0.0, n_estimators=10,\n",
       "                      n_jobs=None, oob_score=False, random_state=52, verbose=0,\n",
       "                      warm_start=False)"
      ]
     },
     "execution_count": 558,
     "metadata": {},
     "output_type": "execute_result"
    }
   ],
   "source": [
    "from sklearn.ensemble import RandomForestRegressor\n",
    "forest_reg = RandomForestRegressor(random_state=52)\n",
    "forest_reg.fit(data_analysis_prepared, data_analysis_labels)"
   ]
  },
  {
   "cell_type": "code",
   "execution_count": 559,
   "metadata": {},
   "outputs": [
    {
     "data": {
      "text/plain": [
       "3.2901164705069146"
      ]
     },
     "execution_count": 559,
     "metadata": {},
     "output_type": "execute_result"
    }
   ],
   "source": [
    "y_pred_rf = forest_reg.predict(data_analysis_prepared)\n",
    "forest_mse = mean_squared_error(data_analysis_labels, y_pred_rf)\n",
    "forest_rmse = np.sqrt(forest_mse)\n",
    "forest_rmse"
   ]
  },
  {
   "cell_type": "code",
   "execution_count": 560,
   "metadata": {},
   "outputs": [
    {
     "data": {
      "text/plain": [
       "array([20.8       , 23.16666667, 24.15      , 18.4       , 12.4       ,\n",
       "       21.85416667, 17.2       , 27.95      , 20.9       , 16.3       ])"
      ]
     },
     "execution_count": 560,
     "metadata": {},
     "output_type": "execute_result"
    }
   ],
   "source": [
    "y_test = forest_reg.predict(data_analysis_test)\n",
    "y_test[:10]"
   ]
  },
  {
   "cell_type": "code",
   "execution_count": 561,
   "metadata": {},
   "outputs": [
    {
     "data": {
      "text/plain": [
       "array([22.5, 30. , 27. , 20. , 20. , 21. , 18. , 25. , 30. , 15.5])"
      ]
     },
     "execution_count": 561,
     "metadata": {},
     "output_type": "execute_result"
    }
   ],
   "source": [
    "test_labels[:10]"
   ]
  },
  {
   "cell_type": "code",
   "execution_count": 562,
   "metadata": {},
   "outputs": [
    {
     "data": {
      "text/plain": [
       "5.217140727864126"
      ]
     },
     "execution_count": 562,
     "metadata": {},
     "output_type": "execute_result"
    }
   ],
   "source": [
    "forest_mse = mean_squared_error(test_labels, y_test)\n",
    "forest_rmse = np.sqrt(forest_mse)\n",
    "forest_rmse"
   ]
  },
  {
   "cell_type": "markdown",
   "metadata": {},
   "source": [
    "测试集上误差约为5.2"
   ]
  },
  {
   "cell_type": "markdown",
   "metadata": {},
   "source": [
    "交叉验证"
   ]
  },
  {
   "cell_type": "code",
   "execution_count": 563,
   "metadata": {},
   "outputs": [],
   "source": [
    "from sklearn.model_selection import cross_val_score\n",
    "\n",
    "scores = cross_val_score(forest_reg, data_analysis_prepared, data_analysis_labels,\n",
    "                         scoring=\"neg_mean_squared_error\", cv=10)\n",
    "forest_rmse_scores = np.sqrt(-scores)"
   ]
  },
  {
   "cell_type": "code",
   "execution_count": 564,
   "metadata": {},
   "outputs": [
    {
     "name": "stdout",
     "output_type": "stream",
     "text": [
      "Scores: [9.13703798 5.47325286 6.55202883 6.48551107 5.03154632 8.7929146\n",
      " 8.29669911 4.45919774 9.38183084 7.63483307]\n",
      "Mean: 7.124485241147913\n",
      "Standard deviation: 1.6885167456669572\n"
     ]
    }
   ],
   "source": [
    "display_scores(forest_rmse_scores)"
   ]
  },
  {
   "cell_type": "markdown",
   "metadata": {},
   "source": [
    "## knn回归"
   ]
  },
  {
   "cell_type": "code",
   "execution_count": 565,
   "metadata": {},
   "outputs": [
    {
     "data": {
      "text/plain": [
       "KNeighborsRegressor(algorithm='auto', leaf_size=30, metric='minkowski',\n",
       "                    metric_params=None, n_jobs=None, n_neighbors=5, p=2,\n",
       "                    weights='uniform')"
      ]
     },
     "execution_count": 565,
     "metadata": {},
     "output_type": "execute_result"
    }
   ],
   "source": [
    "from sklearn.neighbors import KNeighborsRegressor\n",
    "k = 5\n",
    "knn_reg = KNeighborsRegressor(k)\n",
    "knn_reg.fit(data_analysis_prepared, data_analysis_labels)"
   ]
  },
  {
   "cell_type": "code",
   "execution_count": 566,
   "metadata": {},
   "outputs": [
    {
     "data": {
      "text/plain": [
       "5.788762624885626"
      ]
     },
     "execution_count": 566,
     "metadata": {},
     "output_type": "execute_result"
    }
   ],
   "source": [
    "y_pred_knn = knn_reg.predict(data_analysis_prepared)\n",
    "knn_mse = mean_squared_error(data_analysis_labels, y_pred_knn)\n",
    "knn_rmse = np.sqrt(knn_mse)\n",
    "knn_rmse"
   ]
  },
  {
   "cell_type": "markdown",
   "metadata": {},
   "source": [
    "交叉验证"
   ]
  },
  {
   "cell_type": "code",
   "execution_count": 567,
   "metadata": {},
   "outputs": [
    {
     "name": "stdout",
     "output_type": "stream",
     "text": [
      "Scores: [8.52141094 5.91814536 6.65298596 5.3536073  5.86230899 6.14880295\n",
      " 8.93028555 4.92871405 5.557315   9.15      ]\n",
      "Mean: 6.702357610408733\n",
      "Standard deviation: 1.4889312781606259\n"
     ]
    }
   ],
   "source": [
    "from sklearn.model_selection import cross_val_score\n",
    "\n",
    "scores = cross_val_score(knn_reg, data_analysis_prepared, data_analysis_labels,\n",
    "                         scoring=\"neg_mean_squared_error\", cv=10)\n",
    "knn_rmse_scores = np.sqrt(-scores)\n",
    "\n",
    "\n",
    "display_scores(knn_rmse_scores)"
   ]
  },
  {
   "cell_type": "code",
   "execution_count": 568,
   "metadata": {},
   "outputs": [
    {
     "name": "stdout",
     "output_type": "stream",
     "text": [
      "[17.8 22.7 20.7 15.9 19.3 19.8 21.6 23.  20.6 16.6]\n",
      "[22.5 30.  27.  20.  20.  21.  18.  25.  30.  15.5]\n"
     ]
    }
   ],
   "source": [
    "y_test = knn_reg.predict(data_analysis_test)\n",
    "print(y_test[:10])\n",
    "print(test_labels[:10])"
   ]
  },
  {
   "cell_type": "code",
   "execution_count": 569,
   "metadata": {},
   "outputs": [
    {
     "data": {
      "text/plain": [
       "5.837563092347941"
      ]
     },
     "execution_count": 569,
     "metadata": {},
     "output_type": "execute_result"
    }
   ],
   "source": [
    "knn_mse = mean_squared_error(test_labels, y_test)\n",
    "knn_rmse = np.sqrt(knn_mse)\n",
    "knn_rmse"
   ]
  },
  {
   "cell_type": "markdown",
   "metadata": {},
   "source": [
    "## Adaboost回归"
   ]
  },
  {
   "cell_type": "code",
   "execution_count": 570,
   "metadata": {},
   "outputs": [
    {
     "data": {
      "text/plain": [
       "AdaBoostRegressor(base_estimator=None, learning_rate=1.0, loss='linear',\n",
       "                  n_estimators=50, random_state=None)"
      ]
     },
     "execution_count": 570,
     "metadata": {},
     "output_type": "execute_result"
    }
   ],
   "source": [
    "from sklearn.ensemble import AdaBoostRegressor\n",
    "Adaboost_reg = AdaBoostRegressor(n_estimators=50)#这里使用50个决策树\n",
    "Adaboost_reg.fit(data_analysis_prepared, data_analysis_labels)"
   ]
  },
  {
   "cell_type": "markdown",
   "metadata": {},
   "source": [
    "交叉验证"
   ]
  },
  {
   "cell_type": "code",
   "execution_count": 571,
   "metadata": {},
   "outputs": [],
   "source": [
    "from sklearn.model_selection import cross_val_score\n",
    "scores = cross_val_score(Adaboost_reg, data_analysis_prepared, data_analysis_labels,\n",
    "                         scoring=\"neg_mean_squared_error\", cv=10)\n",
    "Adaboost_rmse_scores = np.sqrt(-scores)"
   ]
  },
  {
   "cell_type": "code",
   "execution_count": 572,
   "metadata": {},
   "outputs": [
    {
     "name": "stdout",
     "output_type": "stream",
     "text": [
      "Scores: [9.45688246 5.66377299 6.87379784 3.97696518 4.72218284 6.83970562\n",
      " 7.81652218 4.06900982 7.37613482 7.34198781]\n",
      "Mean: 6.4136961559125085\n",
      "Standard deviation: 1.6813360427414505\n"
     ]
    }
   ],
   "source": [
    "display_scores(Adaboost_rmse_scores)"
   ]
  },
  {
   "cell_type": "code",
   "execution_count": 573,
   "metadata": {},
   "outputs": [
    {
     "name": "stdout",
     "output_type": "stream",
     "text": [
      "[20.55555556 20.86666667 20.86666667 20.01190476 17.88       20.\n",
      " 20.55555556 23.05172414 20.01190476 18.29166667]\n",
      "[22.5 30.  27.  20.  20.  21.  18.  25.  30.  15.5]\n"
     ]
    }
   ],
   "source": [
    "y_test = Adaboost_reg.predict(data_analysis_test)\n",
    "print(y_test[:10])\n",
    "print(test_labels[:10])"
   ]
  },
  {
   "cell_type": "code",
   "execution_count": 574,
   "metadata": {},
   "outputs": [
    {
     "data": {
      "text/plain": [
       "5.292250654707787"
      ]
     },
     "execution_count": 574,
     "metadata": {},
     "output_type": "execute_result"
    }
   ],
   "source": [
    "Adaboost_mse = mean_squared_error(test_labels, y_test)\n",
    "Adaboost_rmse = np.sqrt(Adaboost_mse)\n",
    "Adaboost_rmse"
   ]
  },
  {
   "cell_type": "markdown",
   "metadata": {},
   "source": [
    "## GBRT回归"
   ]
  },
  {
   "cell_type": "code",
   "execution_count": 575,
   "metadata": {},
   "outputs": [
    {
     "data": {
      "text/plain": [
       "GradientBoostingRegressor(alpha=0.9, criterion='friedman_mse', init=None,\n",
       "                          learning_rate=0.1, loss='ls', max_depth=3,\n",
       "                          max_features=None, max_leaf_nodes=None,\n",
       "                          min_impurity_decrease=0.0, min_impurity_split=None,\n",
       "                          min_samples_leaf=1, min_samples_split=2,\n",
       "                          min_weight_fraction_leaf=0.0, n_estimators=100,\n",
       "                          n_iter_no_change=None, presort='auto',\n",
       "                          random_state=None, subsample=1.0, tol=0.0001,\n",
       "                          validation_fraction=0.1, verbose=0, warm_start=False)"
      ]
     },
     "execution_count": 575,
     "metadata": {},
     "output_type": "execute_result"
    }
   ],
   "source": [
    "from sklearn.ensemble import GradientBoostingRegressor\n",
    "grbt_reg = GradientBoostingRegressor(n_estimators=100)#这里使用100个决策树\n",
    "grbt_reg.fit(data_analysis_prepared, data_analysis_labels)"
   ]
  },
  {
   "cell_type": "markdown",
   "metadata": {},
   "source": [
    "交叉验证"
   ]
  },
  {
   "cell_type": "code",
   "execution_count": 576,
   "metadata": {},
   "outputs": [
    {
     "name": "stdout",
     "output_type": "stream",
     "text": [
      "Scores: [11.4562316   6.26395794  6.90059418  4.8348853   4.42512174  9.11204067\n",
      "  7.24942417  4.59356802  6.98405416  7.95849135]\n",
      "Mean: 6.977836911988703\n",
      "Standard deviation: 2.0725648410820816\n"
     ]
    }
   ],
   "source": [
    "from sklearn.model_selection import cross_val_score\n",
    "\n",
    "scores = cross_val_score(grbt_reg, data_analysis_prepared, data_analysis_labels,\n",
    "                         scoring=\"neg_mean_squared_error\", cv=10)\n",
    "grbt_rmse_scores = np.sqrt(-scores)\n",
    "\n",
    "display_scores(grbt_rmse_scores)"
   ]
  },
  {
   "cell_type": "code",
   "execution_count": 577,
   "metadata": {},
   "outputs": [
    {
     "name": "stdout",
     "output_type": "stream",
     "text": [
      "[19.17560923 22.66495697 22.28684588 19.95489697 14.49817819 21.26739085\n",
      " 18.56419236 23.33686476 22.38674543 20.15441223]\n",
      "[22.5 30.  27.  20.  20.  21.  18.  25.  30.  15.5]\n"
     ]
    }
   ],
   "source": [
    "y_test = grbt_reg.predict(data_analysis_test)\n",
    "print(y_test[:10])\n",
    "print(test_labels[:10])"
   ]
  },
  {
   "cell_type": "code",
   "execution_count": 578,
   "metadata": {},
   "outputs": [
    {
     "data": {
      "text/plain": [
       "5.244733541864395"
      ]
     },
     "execution_count": 578,
     "metadata": {},
     "output_type": "execute_result"
    }
   ],
   "source": [
    "grbt_mse = mean_squared_error(test_labels, y_test)\n",
    "grbt_rmse = np.sqrt(grbt_mse)\n",
    "grbt_rmse"
   ]
  },
  {
   "cell_type": "markdown",
   "metadata": {},
   "source": [
    "## Bagging回归"
   ]
  },
  {
   "cell_type": "code",
   "execution_count": 579,
   "metadata": {},
   "outputs": [
    {
     "data": {
      "text/plain": [
       "BaggingRegressor(base_estimator=None, bootstrap=True, bootstrap_features=False,\n",
       "                 max_features=1.0, max_samples=1.0, n_estimators=10,\n",
       "                 n_jobs=None, oob_score=False, random_state=None, verbose=0,\n",
       "                 warm_start=False)"
      ]
     },
     "execution_count": 579,
     "metadata": {},
     "output_type": "execute_result"
    }
   ],
   "source": [
    "from sklearn.ensemble import BaggingRegressor\n",
    "bagging_reg = BaggingRegressor()\n",
    "bagging_reg.fit(data_analysis_prepared, data_analysis_labels)"
   ]
  },
  {
   "cell_type": "markdown",
   "metadata": {},
   "source": [
    "交叉验证"
   ]
  },
  {
   "cell_type": "code",
   "execution_count": 580,
   "metadata": {},
   "outputs": [
    {
     "name": "stdout",
     "output_type": "stream",
     "text": [
      "Scores: [8.804494   6.65690953 7.04517226 5.07682377 5.47199943 7.73073072\n",
      " 8.17864767 4.7875417  8.56444321 7.6398904 ]\n",
      "Mean: 6.995665269836799\n",
      "Standard deviation: 1.381457439981226\n"
     ]
    }
   ],
   "source": [
    "from sklearn.model_selection import cross_val_score\n",
    "\n",
    "scores = cross_val_score(bagging_reg, data_analysis_prepared, data_analysis_labels,\n",
    "                         scoring=\"neg_mean_squared_error\", cv=10)\n",
    "bagging_rmse_scores = np.sqrt(-scores)\n",
    "\n",
    "display_scores(bagging_rmse_scores)"
   ]
  },
  {
   "cell_type": "code",
   "execution_count": 581,
   "metadata": {},
   "outputs": [
    {
     "name": "stdout",
     "output_type": "stream",
     "text": [
      "[22.1  23.7  22.85 19.65 12.65 20.   17.75 22.1  21.2  19.05]\n",
      "[22.5 30.  27.  20.  20.  21.  18.  25.  30.  15.5]\n"
     ]
    }
   ],
   "source": [
    "y_test = bagging_reg.predict(data_analysis_test)\n",
    "print(y_test[:10])\n",
    "print(test_labels[:10])"
   ]
  },
  {
   "cell_type": "code",
   "execution_count": 582,
   "metadata": {},
   "outputs": [
    {
     "data": {
      "text/plain": [
       "5.460958489648258"
      ]
     },
     "execution_count": 582,
     "metadata": {},
     "output_type": "execute_result"
    }
   ],
   "source": [
    "bagging_mse = mean_squared_error(test_labels, y_test)\n",
    "bagging_rmse = np.sqrt(bagging_mse)\n",
    "bagging_rmse"
   ]
  },
  {
   "cell_type": "markdown",
   "metadata": {},
   "source": [
    "# 模型拟合效果评价"
   ]
  },
  {
   "cell_type": "code",
   "execution_count": 583,
   "metadata": {},
   "outputs": [
    {
     "name": "stdout",
     "output_type": "stream",
     "text": [
      "linear 在测试集上的误差表现为： 5.649603152842213\n",
      "tree 在测试集上的误差表现为： 5.844716784046451\n",
      "forest 在测试集上的误差表现为： 5.217140727864126\n",
      "knn 在测试集上的误差表现为： 5.837563092347941\n",
      "Adaboost 在测试集上的误差表现为： 5.292250654707787\n",
      "grbt 在测试集上的误差表现为： 5.244733541864395\n",
      "bagging 在测试集上的误差表现为： 5.460958489648258\n"
     ]
    }
   ],
   "source": [
    "model_list = [lin_rmse,tree_rmse,forest_rmse,knn_rmse,Adaboost_rmse,grbt_rmse,bagging_rmse]\n",
    "model_name = ['linear','tree','forest','knn','Adaboost','grbt','bagging']\n",
    "i = 0\n",
    "for model in model_list:\n",
    "    print(model_name[i],'在测试集上的误差表现为：',model)\n",
    "    i+=1"
   ]
  },
  {
   "cell_type": "markdown",
   "metadata": {},
   "source": [
    "# 网格搜索调参"
   ]
  },
  {
   "cell_type": "markdown",
   "metadata": {},
   "source": [
    "### 对随机森林进行参数探索调整"
   ]
  },
  {
   "cell_type": "code",
   "execution_count": 584,
   "metadata": {},
   "outputs": [
    {
     "data": {
      "text/plain": [
       "GridSearchCV(cv=5, error_score='raise-deprecating',\n",
       "             estimator=RandomForestRegressor(bootstrap=True, criterion='mse',\n",
       "                                             max_depth=None,\n",
       "                                             max_features='auto',\n",
       "                                             max_leaf_nodes=None,\n",
       "                                             min_impurity_decrease=0.0,\n",
       "                                             min_impurity_split=None,\n",
       "                                             min_samples_leaf=1,\n",
       "                                             min_samples_split=2,\n",
       "                                             min_weight_fraction_leaf=0.0,\n",
       "                                             n_estimators='warn', n_jobs=None,\n",
       "                                             oob_score=False, random_state=42,\n",
       "                                             verbose=0, warm_start=False),\n",
       "             iid='warn', n_jobs=None,\n",
       "             param_grid=[{'max_features': [2, 4, 6, 8],\n",
       "                          'n_estimators': [3, 10, 30]},\n",
       "                         {'bootstrap': [False], 'max_features': [2, 3, 4],\n",
       "                          'n_estimators': [3, 10]}],\n",
       "             pre_dispatch='2*n_jobs', refit=True, return_train_score=True,\n",
       "             scoring='neg_mean_squared_error', verbose=0)"
      ]
     },
     "execution_count": 584,
     "metadata": {},
     "output_type": "execute_result"
    }
   ],
   "source": [
    "from sklearn.model_selection import GridSearchCV\n",
    "\n",
    "param_grid = [\n",
    "    # try 12 (3×4) combinations of hyperparameters\n",
    "    {'n_estimators': [3, 10, 30], 'max_features': [2, 4, 6, 8]},\n",
    "    # then try 6 (2×3) combinations with bootstrap set as False\n",
    "    {'bootstrap': [False], 'n_estimators': [3, 10], 'max_features': [2, 3, 4]},\n",
    "  ]\n",
    "\n",
    "forest_reg = RandomForestRegressor(random_state=42)\n",
    "\n",
    "#grbt_reg = GradientBoostingRegressor()\n",
    "\n",
    "grid_search = GridSearchCV(forest_reg, param_grid, cv=5,\n",
    "                           scoring='neg_mean_squared_error', return_train_score=True)\n",
    "grid_search.fit(data_analysis_prepared, data_analysis_labels)"
   ]
  },
  {
   "cell_type": "code",
   "execution_count": 585,
   "metadata": {},
   "outputs": [
    {
     "name": "stdout",
     "output_type": "stream",
     "text": [
      "7.876256958813433 {'max_features': 2, 'n_estimators': 3}\n",
      "6.886169187090332 {'max_features': 2, 'n_estimators': 10}\n",
      "6.504071960110033 {'max_features': 2, 'n_estimators': 30}\n",
      "7.3750957069252685 {'max_features': 4, 'n_estimators': 3}\n",
      "6.733178370741578 {'max_features': 4, 'n_estimators': 10}\n",
      "6.771520212828127 {'max_features': 4, 'n_estimators': 30}\n",
      "7.95550093267462 {'max_features': 6, 'n_estimators': 3}\n",
      "6.9524811264131685 {'max_features': 6, 'n_estimators': 10}\n",
      "6.989545518797587 {'max_features': 6, 'n_estimators': 30}\n",
      "7.999318240450806 {'max_features': 8, 'n_estimators': 3}\n",
      "7.002178029662693 {'max_features': 8, 'n_estimators': 10}\n",
      "6.838736370000148 {'max_features': 8, 'n_estimators': 30}\n",
      "7.7590977880710135 {'bootstrap': False, 'max_features': 2, 'n_estimators': 3}\n",
      "7.121952597905871 {'bootstrap': False, 'max_features': 2, 'n_estimators': 10}\n",
      "7.274991756043786 {'bootstrap': False, 'max_features': 3, 'n_estimators': 3}\n",
      "7.203268769517704 {'bootstrap': False, 'max_features': 3, 'n_estimators': 10}\n",
      "8.408411793489236 {'bootstrap': False, 'max_features': 4, 'n_estimators': 3}\n",
      "7.5631329562315885 {'bootstrap': False, 'max_features': 4, 'n_estimators': 10}\n"
     ]
    }
   ],
   "source": [
    "cvres = grid_search.cv_results_\n",
    "for mean_score, params in zip(cvres[\"mean_test_score\"], cvres[\"params\"]):\n",
    "    print(np.sqrt(-mean_score), params)"
   ]
  },
  {
   "cell_type": "code",
   "execution_count": 586,
   "metadata": {},
   "outputs": [
    {
     "data": {
      "text/plain": [
       "{'max_features': 2, 'n_estimators': 30}"
      ]
     },
     "execution_count": 586,
     "metadata": {},
     "output_type": "execute_result"
    }
   ],
   "source": [
    "grid_search.best_params_"
   ]
  },
  {
   "cell_type": "markdown",
   "metadata": {},
   "source": [
    "变量重要性"
   ]
  },
  {
   "cell_type": "code",
   "execution_count": 587,
   "metadata": {},
   "outputs": [],
   "source": [
    "feature_importances = grid_search.best_estimator_.feature_importances_"
   ]
  },
  {
   "cell_type": "code",
   "execution_count": 588,
   "metadata": {},
   "outputs": [],
   "source": [
    "num_attribs = list(data_analysis_num)\n",
    "cat_attribs = ['学历要求','工作经验']"
   ]
  },
  {
   "cell_type": "code",
   "execution_count": 589,
   "metadata": {},
   "outputs": [
    {
     "data": {
      "text/plain": [
       "[(0.07338468832310081, 'Java'),\n",
       " (0.06120699481310242, '数据库'),\n",
       " (0.05688553442592843, 'Mongodb'),\n",
       " (0.04294979447254941, 'Redis'),\n",
       " (0.04228851712734148, 'Linux'),\n",
       " (0.04114116383060633, 'Python'),\n",
       " (0.03928338354807782, 'Github'),\n",
       " (0.038616622115309376, '数据结构'),\n",
       " (0.037705633745815224, 'Sql'),\n",
       " (0.035085887129528245, '算法'),\n",
       " (0.03330332412999181, 'C'),\n",
       " (0.029126777837731464, '英语'),\n",
       " (0.028653579361848303, 'Git'),\n",
       " (0.022452147765656665, '工作经验'),\n",
       " (0.02163728199803094, '数据分析'),\n",
       " (0.021224934183387247, 'Oracle'),\n",
       " (0.020349616678286685, 'Shell'),\n",
       " (0.01872541244025475, 'Unix'),\n",
       " (0.016312330595923803, '逻辑思维'),\n",
       " (0.015148268129013091, '评估'),\n",
       " (0.010459829817083911, 'Hadoop'),\n",
       " (0.010206816106737016, '机器学习'),\n",
       " (0.009310841812600225, '学历要求'),\n",
       " (0.008145236341092188, '数字'),\n",
       " (0.007328839106266257, '报表'),\n",
       " (0.007009677101295122, 'Or'),\n",
       " (0.006083303854939952, 'Spark'),\n",
       " (0.005984032736314824, 'Hive'),\n",
       " (0.005928035935806373, '建模'),\n",
       " (0.005350382806178234, '数据清洗'),\n",
       " (0.004000520773830186, '数据仓库'),\n",
       " (0.0023431100692023776, '决策'),\n",
       " (0.0017173243046276984, 'Power'),\n",
       " (0.0017055407619319585, '数据模型'),\n",
       " (0.000913505451553941, 'Tensorflow'),\n",
       " (0.0008477625019333184, 'Stack'),\n",
       " (0.00012955142062095006, '人工智能')]"
      ]
     },
     "execution_count": 589,
     "metadata": {},
     "output_type": "execute_result"
    }
   ],
   "source": [
    "attributes = num_attribs + cat_attribs\n",
    "sorted(zip(feature_importances, attributes), reverse=True)"
   ]
  },
  {
   "cell_type": "markdown",
   "metadata": {},
   "source": [
    "工作经验和学历要求对工资都有一定的影响"
   ]
  },
  {
   "cell_type": "markdown",
   "metadata": {},
   "source": [
    "# 最终模型"
   ]
  },
  {
   "cell_type": "code",
   "execution_count": 590,
   "metadata": {},
   "outputs": [
    {
     "data": {
      "text/plain": [
       "RandomForestRegressor(bootstrap=True, criterion='mse', max_depth=None,\n",
       "                      max_features=2, max_leaf_nodes=None,\n",
       "                      min_impurity_decrease=0.0, min_impurity_split=None,\n",
       "                      min_samples_leaf=1, min_samples_split=2,\n",
       "                      min_weight_fraction_leaf=0.0, n_estimators=30,\n",
       "                      n_jobs=None, oob_score=False, random_state=42, verbose=0,\n",
       "                      warm_start=False)"
      ]
     },
     "execution_count": 590,
     "metadata": {},
     "output_type": "execute_result"
    }
   ],
   "source": [
    "final_model = grid_search.best_estimator_\n",
    "final_model"
   ]
  },
  {
   "cell_type": "code",
   "execution_count": 591,
   "metadata": {},
   "outputs": [],
   "source": [
    "scores = cross_val_score(final_model, data_analysis_prepared, data_analysis_labels,\n",
    "                         scoring=\"neg_mean_squared_error\", cv=10)\n",
    "final_model_rmse_scores = np.sqrt(-scores)"
   ]
  },
  {
   "cell_type": "code",
   "execution_count": 592,
   "metadata": {},
   "outputs": [
    {
     "name": "stdout",
     "output_type": "stream",
     "text": [
      "Scores: [8.57270425 6.97548462 6.97266395 5.10168044 4.28676045 7.11723911\n",
      " 7.78498439 5.06129711 7.40214695 8.40817356]\n",
      "Mean: 6.768313483293616\n",
      "Standard deviation: 1.3941461847104482\n"
     ]
    }
   ],
   "source": [
    "display_scores(final_model_rmse_scores)"
   ]
  },
  {
   "cell_type": "markdown",
   "metadata": {},
   "source": [
    "交叉验证误差为4.7"
   ]
  },
  {
   "cell_type": "markdown",
   "metadata": {},
   "source": [
    "# 薪资预测"
   ]
  },
  {
   "cell_type": "code",
   "execution_count": 593,
   "metadata": {},
   "outputs": [],
   "source": [
    "final_predictions = final_model.predict(data_analysis_test)"
   ]
  },
  {
   "cell_type": "code",
   "execution_count": 594,
   "metadata": {},
   "outputs": [],
   "source": [
    "salary_test_series = Series(final_predictions,index=data_test.index)"
   ]
  },
  {
   "cell_type": "code",
   "execution_count": 595,
   "metadata": {},
   "outputs": [],
   "source": [
    "data_test_prediction = data_test.copy()\n",
    "data_test_prediction.insert(7,'prediction',salary_test_series)"
   ]
  },
  {
   "cell_type": "code",
   "execution_count": 596,
   "metadata": {},
   "outputs": [
    {
     "data": {
      "text/html": [
       "<div>\n",
       "<style scoped>\n",
       "    .dataframe tbody tr th:only-of-type {\n",
       "        vertical-align: middle;\n",
       "    }\n",
       "\n",
       "    .dataframe tbody tr th {\n",
       "        vertical-align: top;\n",
       "    }\n",
       "\n",
       "    .dataframe thead th {\n",
       "        text-align: right;\n",
       "    }\n",
       "</style>\n",
       "<table border=\"1\" class=\"dataframe\">\n",
       "  <thead>\n",
       "    <tr style=\"text-align: right;\">\n",
       "      <th></th>\n",
       "      <th>职位名称</th>\n",
       "      <th>公司</th>\n",
       "      <th>地区</th>\n",
       "      <th>工作经验</th>\n",
       "      <th>学历要求</th>\n",
       "      <th>Java</th>\n",
       "      <th>salary</th>\n",
       "      <th>prediction</th>\n",
       "      <th>Linux</th>\n",
       "      <th>Redis</th>\n",
       "      <th>...</th>\n",
       "      <th>建模</th>\n",
       "      <th>英语</th>\n",
       "      <th>数据仓库</th>\n",
       "      <th>决策</th>\n",
       "      <th>人工智能</th>\n",
       "      <th>机器学习</th>\n",
       "      <th>数据模型</th>\n",
       "      <th>数据清洗</th>\n",
       "      <th>数字</th>\n",
       "      <th>报表</th>\n",
       "    </tr>\n",
       "  </thead>\n",
       "  <tbody>\n",
       "    <tr>\n",
       "      <th>128</th>\n",
       "      <td>高级后端开发工程师</td>\n",
       "      <td>英檬科技</td>\n",
       "      <td>上海 长宁区 中山公园</td>\n",
       "      <td>5-10年</td>\n",
       "      <td>大专</td>\n",
       "      <td>0.0</td>\n",
       "      <td>22.5</td>\n",
       "      <td>22.133333</td>\n",
       "      <td>0.0</td>\n",
       "      <td>0.0</td>\n",
       "      <td>...</td>\n",
       "      <td>0.0</td>\n",
       "      <td>0.0</td>\n",
       "      <td>0.0</td>\n",
       "      <td>0.0</td>\n",
       "      <td>0.0</td>\n",
       "      <td>0.0</td>\n",
       "      <td>0.0</td>\n",
       "      <td>0.0</td>\n",
       "      <td>0.0</td>\n",
       "      <td>0.0</td>\n",
       "    </tr>\n",
       "    <tr>\n",
       "      <th>46</th>\n",
       "      <td>python后端开发工程师</td>\n",
       "      <td>上海爱数</td>\n",
       "      <td>上海 闵行区 浦江</td>\n",
       "      <td>3-5年</td>\n",
       "      <td>本科</td>\n",
       "      <td>1.0</td>\n",
       "      <td>27.0</td>\n",
       "      <td>22.516667</td>\n",
       "      <td>1.0</td>\n",
       "      <td>0.0</td>\n",
       "      <td>...</td>\n",
       "      <td>1.0</td>\n",
       "      <td>0.0</td>\n",
       "      <td>0.0</td>\n",
       "      <td>0.0</td>\n",
       "      <td>0.0</td>\n",
       "      <td>0.0</td>\n",
       "      <td>1.0</td>\n",
       "      <td>0.0</td>\n",
       "      <td>0.0</td>\n",
       "      <td>0.0</td>\n",
       "    </tr>\n",
       "    <tr>\n",
       "      <th>86</th>\n",
       "      <td>后端开发工程师</td>\n",
       "      <td>上海臻言咨询有限公司</td>\n",
       "      <td>上海 徐汇区 徐家汇</td>\n",
       "      <td>3-5年</td>\n",
       "      <td>本科</td>\n",
       "      <td>1.0</td>\n",
       "      <td>24.0</td>\n",
       "      <td>22.800000</td>\n",
       "      <td>0.0</td>\n",
       "      <td>0.0</td>\n",
       "      <td>...</td>\n",
       "      <td>0.0</td>\n",
       "      <td>0.0</td>\n",
       "      <td>0.0</td>\n",
       "      <td>1.0</td>\n",
       "      <td>0.0</td>\n",
       "      <td>0.0</td>\n",
       "      <td>0.0</td>\n",
       "      <td>0.0</td>\n",
       "      <td>0.0</td>\n",
       "      <td>0.0</td>\n",
       "    </tr>\n",
       "    <tr>\n",
       "      <th>18</th>\n",
       "      <td>Python后端开发</td>\n",
       "      <td>链盟</td>\n",
       "      <td>上海 静安区 火车站</td>\n",
       "      <td>3-5年</td>\n",
       "      <td>本科</td>\n",
       "      <td>0.0</td>\n",
       "      <td>30.0</td>\n",
       "      <td>19.783333</td>\n",
       "      <td>0.0</td>\n",
       "      <td>0.0</td>\n",
       "      <td>...</td>\n",
       "      <td>0.0</td>\n",
       "      <td>0.0</td>\n",
       "      <td>0.0</td>\n",
       "      <td>0.0</td>\n",
       "      <td>0.0</td>\n",
       "      <td>0.0</td>\n",
       "      <td>0.0</td>\n",
       "      <td>0.0</td>\n",
       "      <td>0.0</td>\n",
       "      <td>0.0</td>\n",
       "    </tr>\n",
       "    <tr>\n",
       "      <th>8</th>\n",
       "      <td>NodeJS后端开发</td>\n",
       "      <td>PACTERA</td>\n",
       "      <td>上海 浦东新区 金桥</td>\n",
       "      <td>3-5年</td>\n",
       "      <td>本科</td>\n",
       "      <td>1.0</td>\n",
       "      <td>27.0</td>\n",
       "      <td>22.297222</td>\n",
       "      <td>1.0</td>\n",
       "      <td>1.0</td>\n",
       "      <td>...</td>\n",
       "      <td>0.0</td>\n",
       "      <td>0.0</td>\n",
       "      <td>0.0</td>\n",
       "      <td>0.0</td>\n",
       "      <td>0.0</td>\n",
       "      <td>0.0</td>\n",
       "      <td>0.0</td>\n",
       "      <td>0.0</td>\n",
       "      <td>0.0</td>\n",
       "      <td>0.0</td>\n",
       "    </tr>\n",
       "    <tr>\n",
       "      <th>78</th>\n",
       "      <td>后端开发工程师</td>\n",
       "      <td>英檬科技</td>\n",
       "      <td>上海 长宁区 中山公园</td>\n",
       "      <td>3-5年</td>\n",
       "      <td>大专</td>\n",
       "      <td>0.0</td>\n",
       "      <td>20.0</td>\n",
       "      <td>19.033333</td>\n",
       "      <td>0.0</td>\n",
       "      <td>0.0</td>\n",
       "      <td>...</td>\n",
       "      <td>0.0</td>\n",
       "      <td>0.0</td>\n",
       "      <td>0.0</td>\n",
       "      <td>0.0</td>\n",
       "      <td>0.0</td>\n",
       "      <td>0.0</td>\n",
       "      <td>0.0</td>\n",
       "      <td>0.0</td>\n",
       "      <td>0.0</td>\n",
       "      <td>0.0</td>\n",
       "    </tr>\n",
       "    <tr>\n",
       "      <th>40</th>\n",
       "      <td>后端开发工程师</td>\n",
       "      <td>上海边界智能科技</td>\n",
       "      <td>上海 浦东新区 张江</td>\n",
       "      <td>3-5年</td>\n",
       "      <td>本科</td>\n",
       "      <td>1.0</td>\n",
       "      <td>21.0</td>\n",
       "      <td>19.930556</td>\n",
       "      <td>1.0</td>\n",
       "      <td>0.0</td>\n",
       "      <td>...</td>\n",
       "      <td>0.0</td>\n",
       "      <td>1.0</td>\n",
       "      <td>0.0</td>\n",
       "      <td>0.0</td>\n",
       "      <td>0.0</td>\n",
       "      <td>0.0</td>\n",
       "      <td>0.0</td>\n",
       "      <td>0.0</td>\n",
       "      <td>0.0</td>\n",
       "      <td>0.0</td>\n",
       "    </tr>\n",
       "    <tr>\n",
       "      <th>70</th>\n",
       "      <td>后端开发工程师</td>\n",
       "      <td>小红书</td>\n",
       "      <td>上海 黄浦区 新天地</td>\n",
       "      <td>3-5年</td>\n",
       "      <td>本科</td>\n",
       "      <td>1.0</td>\n",
       "      <td>30.0</td>\n",
       "      <td>20.575000</td>\n",
       "      <td>1.0</td>\n",
       "      <td>1.0</td>\n",
       "      <td>...</td>\n",
       "      <td>0.0</td>\n",
       "      <td>0.0</td>\n",
       "      <td>0.0</td>\n",
       "      <td>0.0</td>\n",
       "      <td>0.0</td>\n",
       "      <td>0.0</td>\n",
       "      <td>0.0</td>\n",
       "      <td>0.0</td>\n",
       "      <td>0.0</td>\n",
       "      <td>0.0</td>\n",
       "    </tr>\n",
       "    <tr>\n",
       "      <th>116</th>\n",
       "      <td>后端开发工程师（上海）</td>\n",
       "      <td>灵雀云</td>\n",
       "      <td>上海 浦东新区 潍坊</td>\n",
       "      <td>5-10年</td>\n",
       "      <td>本科</td>\n",
       "      <td>1.0</td>\n",
       "      <td>25.0</td>\n",
       "      <td>21.150000</td>\n",
       "      <td>1.0</td>\n",
       "      <td>0.0</td>\n",
       "      <td>...</td>\n",
       "      <td>0.0</td>\n",
       "      <td>0.0</td>\n",
       "      <td>0.0</td>\n",
       "      <td>0.0</td>\n",
       "      <td>0.0</td>\n",
       "      <td>0.0</td>\n",
       "      <td>0.0</td>\n",
       "      <td>0.0</td>\n",
       "      <td>0.0</td>\n",
       "      <td>0.0</td>\n",
       "    </tr>\n",
       "    <tr>\n",
       "      <th>17</th>\n",
       "      <td>后端开发工程师</td>\n",
       "      <td>苏州智加科技有限...</td>\n",
       "      <td>上海 长宁区 江苏路</td>\n",
       "      <td>3-5年</td>\n",
       "      <td>本科</td>\n",
       "      <td>1.0</td>\n",
       "      <td>30.0</td>\n",
       "      <td>22.416667</td>\n",
       "      <td>1.0</td>\n",
       "      <td>0.0</td>\n",
       "      <td>...</td>\n",
       "      <td>0.0</td>\n",
       "      <td>0.0</td>\n",
       "      <td>0.0</td>\n",
       "      <td>0.0</td>\n",
       "      <td>1.0</td>\n",
       "      <td>0.0</td>\n",
       "      <td>0.0</td>\n",
       "      <td>0.0</td>\n",
       "      <td>0.0</td>\n",
       "      <td>0.0</td>\n",
       "    </tr>\n",
       "  </tbody>\n",
       "</table>\n",
       "<p>10 rows × 42 columns</p>\n",
       "</div>"
      ],
      "text/plain": [
       "              职位名称           公司           地区   工作经验 学历要求  Java  salary  \\\n",
       "128      高级后端开发工程师         英檬科技  上海 长宁区 中山公园  5-10年   大专   0.0    22.5   \n",
       "46   python后端开发工程师         上海爱数    上海 闵行区 浦江   3-5年   本科   1.0    27.0   \n",
       "86         后端开发工程师   上海臻言咨询有限公司   上海 徐汇区 徐家汇   3-5年   本科   1.0    24.0   \n",
       "18      Python后端开发           链盟   上海 静安区 火车站   3-5年   本科   0.0    30.0   \n",
       "8       NodeJS后端开发      PACTERA   上海 浦东新区 金桥   3-5年   本科   1.0    27.0   \n",
       "78         后端开发工程师         英檬科技  上海 长宁区 中山公园   3-5年   大专   0.0    20.0   \n",
       "40         后端开发工程师     上海边界智能科技   上海 浦东新区 张江   3-5年   本科   1.0    21.0   \n",
       "70         后端开发工程师          小红书   上海 黄浦区 新天地   3-5年   本科   1.0    30.0   \n",
       "116    后端开发工程师（上海）          灵雀云   上海 浦东新区 潍坊  5-10年   本科   1.0    25.0   \n",
       "17         后端开发工程师  苏州智加科技有限...   上海 长宁区 江苏路   3-5年   本科   1.0    30.0   \n",
       "\n",
       "     prediction  Linux  Redis ...    建模   英语  数据仓库   决策  人工智能  机器学习  数据模型  \\\n",
       "128   22.133333    0.0    0.0 ...   0.0  0.0   0.0  0.0   0.0   0.0   0.0   \n",
       "46    22.516667    1.0    0.0 ...   1.0  0.0   0.0  0.0   0.0   0.0   1.0   \n",
       "86    22.800000    0.0    0.0 ...   0.0  0.0   0.0  1.0   0.0   0.0   0.0   \n",
       "18    19.783333    0.0    0.0 ...   0.0  0.0   0.0  0.0   0.0   0.0   0.0   \n",
       "8     22.297222    1.0    1.0 ...   0.0  0.0   0.0  0.0   0.0   0.0   0.0   \n",
       "78    19.033333    0.0    0.0 ...   0.0  0.0   0.0  0.0   0.0   0.0   0.0   \n",
       "40    19.930556    1.0    0.0 ...   0.0  1.0   0.0  0.0   0.0   0.0   0.0   \n",
       "70    20.575000    1.0    1.0 ...   0.0  0.0   0.0  0.0   0.0   0.0   0.0   \n",
       "116   21.150000    1.0    0.0 ...   0.0  0.0   0.0  0.0   0.0   0.0   0.0   \n",
       "17    22.416667    1.0    0.0 ...   0.0  0.0   0.0  0.0   1.0   0.0   0.0   \n",
       "\n",
       "     数据清洗   数字   报表  \n",
       "128   0.0  0.0  0.0  \n",
       "46    0.0  0.0  0.0  \n",
       "86    0.0  0.0  0.0  \n",
       "18    0.0  0.0  0.0  \n",
       "8     0.0  0.0  0.0  \n",
       "78    0.0  0.0  0.0  \n",
       "40    0.0  0.0  0.0  \n",
       "70    0.0  0.0  0.0  \n",
       "116   0.0  0.0  0.0  \n",
       "17    0.0  0.0  0.0  \n",
       "\n",
       "[10 rows x 42 columns]"
      ]
     },
     "execution_count": 596,
     "metadata": {},
     "output_type": "execute_result"
    }
   ],
   "source": [
    "data_test_prediction.sample(10)"
   ]
  },
  {
   "cell_type": "markdown",
   "metadata": {},
   "source": [
    "- 预测结果与实际薪资相比误差在**可接受范围内**。"
   ]
  },
  {
   "cell_type": "markdown",
   "metadata": {},
   "source": [
    "# 预测函数接口"
   ]
  },
  {
   "cell_type": "code",
   "execution_count": 597,
   "metadata": {},
   "outputs": [
    {
     "data": {
      "text/html": [
       "<div>\n",
       "<style scoped>\n",
       "    .dataframe tbody tr th:only-of-type {\n",
       "        vertical-align: middle;\n",
       "    }\n",
       "\n",
       "    .dataframe tbody tr th {\n",
       "        vertical-align: top;\n",
       "    }\n",
       "\n",
       "    .dataframe thead th {\n",
       "        text-align: right;\n",
       "    }\n",
       "</style>\n",
       "<table border=\"1\" class=\"dataframe\">\n",
       "  <thead>\n",
       "    <tr style=\"text-align: right;\">\n",
       "      <th></th>\n",
       "      <th>职位名称</th>\n",
       "      <th>公司</th>\n",
       "      <th>地区</th>\n",
       "      <th>工作经验</th>\n",
       "      <th>学历要求</th>\n",
       "      <th>Java</th>\n",
       "      <th>salary</th>\n",
       "      <th>Linux</th>\n",
       "      <th>Redis</th>\n",
       "      <th>Python</th>\n",
       "      <th>...</th>\n",
       "      <th>建模</th>\n",
       "      <th>英语</th>\n",
       "      <th>数据仓库</th>\n",
       "      <th>决策</th>\n",
       "      <th>人工智能</th>\n",
       "      <th>机器学习</th>\n",
       "      <th>数据模型</th>\n",
       "      <th>数据清洗</th>\n",
       "      <th>数字</th>\n",
       "      <th>报表</th>\n",
       "    </tr>\n",
       "  </thead>\n",
       "  <tbody>\n",
       "    <tr>\n",
       "      <th>93</th>\n",
       "      <td>资深后端开发工程师</td>\n",
       "      <td>斑马互动</td>\n",
       "      <td>上海 浦东新区 张江</td>\n",
       "      <td>5-10年</td>\n",
       "      <td>本科</td>\n",
       "      <td>0.0</td>\n",
       "      <td>22.5</td>\n",
       "      <td>0.0</td>\n",
       "      <td>1.0</td>\n",
       "      <td>1.0</td>\n",
       "      <td>...</td>\n",
       "      <td>0.0</td>\n",
       "      <td>0.0</td>\n",
       "      <td>0.0</td>\n",
       "      <td>0.0</td>\n",
       "      <td>0.0</td>\n",
       "      <td>0.0</td>\n",
       "      <td>0.0</td>\n",
       "      <td>0.0</td>\n",
       "      <td>0.0</td>\n",
       "      <td>0.0</td>\n",
       "    </tr>\n",
       "  </tbody>\n",
       "</table>\n",
       "<p>1 rows × 41 columns</p>\n",
       "</div>"
      ],
      "text/plain": [
       "         职位名称    公司          地区   工作经验 学历要求  Java  salary  Linux  Redis  \\\n",
       "93  资深后端开发工程师  斑马互动  上海 浦东新区 张江  5-10年   本科   0.0    22.5    0.0    1.0   \n",
       "\n",
       "    Python ...    建模   英语  数据仓库   决策  人工智能  机器学习  数据模型  数据清洗   数字   报表  \n",
       "93     1.0 ...   0.0  0.0   0.0  0.0   0.0   0.0   0.0   0.0  0.0  0.0  \n",
       "\n",
       "[1 rows x 41 columns]"
      ]
     },
     "execution_count": 597,
     "metadata": {},
     "output_type": "execute_result"
    }
   ],
   "source": [
    "data_test.head(1)"
   ]
  },
  {
   "cell_type": "code",
   "execution_count": 598,
   "metadata": {},
   "outputs": [],
   "source": [
    "from pandas import DataFrame"
   ]
  },
  {
   "cell_type": "markdown",
   "metadata": {},
   "source": [
    "### 预测功能函数"
   ]
  },
  {
   "cell_type": "code",
   "execution_count": 599,
   "metadata": {},
   "outputs": [],
   "source": [
    "def prediction_function(degree,experience,v_skills):\n",
    "    predict_X = {\n",
    "        '学历要求':[degree],\n",
    "        '工作经验':[experience],\n",
    "       'Java':[v_skills[0]],\n",
    "       'Linux':[v_skills[1]],\n",
    "       'Redis':[v_skills[2]],\n",
    "       'Python':[v_skills[3]],\n",
    "       'C':[v_skills[4]],\n",
    "       'Sql':[v_skills[5]],\n",
    "       'Git':[v_skills[6]],\n",
    "       'Mongodb':[v_skills[7]],\n",
    "        'Shell':[v_skills[8]],\n",
    "         'Github':[v_skills[9]],\n",
    "      'Oracle':[v_skills[10]],\n",
    "          'Hadoop':[v_skills[11]],\n",
    "         'Unix':[v_skills[12]],\n",
    "         'Spark':[v_skills[13]],\n",
    "          'Hive':[v_skills[14]],\n",
    "          'Or':[v_skills[15]],\n",
    "         'Stack':[v_skills[16]],\n",
    "          'Tensorflow':[v_skills[17]],\n",
    "         'Power':[v_skills[18]],\n",
    "           '数据库':[v_skills[19]],\n",
    "         '算法':[v_skills[20]],\n",
    "          '数据结构':[v_skills[21]],\n",
    "         '逻辑思维':[v_skills[22]],\n",
    "         '数据分析':[v_skills[23]],\n",
    "         '评估':[v_skills[24]],\n",
    "         '建模':[v_skills[25]],\n",
    "         '英语':[v_skills[26]],\n",
    "         '数据仓库':[v_skills[27]],\n",
    "         '决策':[v_skills[28]],\n",
    "        '人工智能':[v_skills[29]],\n",
    "         '机器学习':[v_skills[30]],\n",
    "         '数据模型':[v_skills[31]],\n",
    "         '数据清洗':[v_skills[32]],\n",
    "        '数字':[v_skills[33]],\n",
    "          '报表':[v_skills[34]],\n",
    "    }\n",
    "    predict_tmp = pd.DataFrame(predict_X)\n",
    "    X_predict = full_pipeline.transform(predict_tmp)\n",
    "    return X_predict"
   ]
  },
  {
   "cell_type": "code",
   "execution_count": 600,
   "metadata": {},
   "outputs": [
    {
     "data": {
      "text/plain": [
       "Index(['职位名称', '公司', '地区', '工作经验', '学历要求', 'Java', 'salary', 'Linux', 'Redis',\n",
       "       'Python', 'C', 'Sql', 'Git', 'Mongodb', 'Shell', 'Github', 'Oracle',\n",
       "       'Hadoop', 'Unix', 'Spark', 'Hive', 'Or', 'Stack', 'Tensorflow', 'Power',\n",
       "       '数据库', '算法', '数据结构', '逻辑思维', '数据分析', '评估', '建模', '英语', '数据仓库', '决策',\n",
       "       '人工智能', '机器学习', '数据模型', '数据清洗', '数字', '报表'],\n",
       "      dtype='object')"
      ]
     },
     "execution_count": 600,
     "metadata": {},
     "output_type": "execute_result"
    }
   ],
   "source": [
    "data_test.columns"
   ]
  },
  {
   "cell_type": "markdown",
   "metadata": {},
   "source": [
    "### 技能转换函数"
   ]
  },
  {
   "cell_type": "code",
   "execution_count": 601,
   "metadata": {},
   "outputs": [],
   "source": [
    "def skills_switch(skill_list):\n",
    "    tmp_list = []\n",
    "    skills = ['Java', 'salary', 'Linux', 'Redis',\n",
    "       'Python', 'C', 'Sql', 'Git', 'Mongodb', 'Shell', 'Github', 'Oracle',\n",
    "       'Hadoop', 'Unix', 'Spark', 'Hive', 'Or', 'Stack', 'Tensorflow', 'Power',\n",
    "       '数据库', '算法', '数据结构', '逻辑思维', '数据分析', '评估', '建模', '英语', '数据仓库', '决策',\n",
    "       '人工智能', '机器学习', '数据模型', '数据清洗', '数字', '报表']\n",
    "    for skill in skills:\n",
    "        # 大小写转换\n",
    "        if skill in skill_list:\n",
    "            tmp_list.append(1)\n",
    "        else:\n",
    "            tmp_list.append(0)\n",
    "    return tmp_list"
   ]
  },
  {
   "cell_type": "markdown",
   "metadata": {},
   "source": [
    "### 预测主函数"
   ]
  },
  {
   "cell_type": "code",
   "execution_count": 602,
   "metadata": {},
   "outputs": [],
   "source": [
    "def predict(degree,experience,v_skills):\n",
    "    X_predict = prediction_function(degree,experience,v_skills)\n",
    "    Y_predict = final_model.predict(X_predict)\n",
    "    print('预测薪资为：',Y_predict[0],'k/month')"
   ]
  },
  {
   "cell_type": "markdown",
   "metadata": {},
   "source": [
    "### 预测函数"
   ]
  },
  {
   "cell_type": "code",
   "execution_count": 603,
   "metadata": {},
   "outputs": [
    {
     "name": "stdout",
     "output_type": "stream",
     "text": [
      "预测薪资为： 16.883333333333333 k/month\n"
     ]
    }
   ],
   "source": [
    "#-----------设置变量\n",
    "degree = '本科'\n",
    "experience = '1-3年'\n",
    "# ------------------\n",
    "# --------设置所掌握的技能（顺序无关）\n",
    "mastered_skills = ['Sql','Python','Excel','Spss','Ppt']\n",
    "v_skills = skills_switch(mastered_skills)\n",
    "# -----------------------------------\n",
    "predict(degree,experience,v_skills)"
   ]
  },
  {
   "cell_type": "code",
   "execution_count": 604,
   "metadata": {},
   "outputs": [
    {
     "name": "stdout",
     "output_type": "stream",
     "text": [
      "| 本科 | 1年以内 | Sql,Python,Excel,Spss,Ppt\n",
      "预测薪资为： 16.438888888888886 k/month\n",
      "------------------------------------------------------------\n",
      "| 本科 | 1-3年 | Sql,Python,Excel,Spss,Ppt\n",
      "预测薪资为： 16.883333333333333 k/month\n",
      "------------------------------------------------------------\n",
      "| 本科 | 3-5年 | Sql,Python,Excel,Spss,Ppt\n",
      "预测薪资为： 18.433333333333334 k/month\n",
      "------------------------------------------------------------\n",
      "| 本科 | 5-10年 | Sql,Python,Excel,Spss,Ppt\n",
      "预测薪资为： 21.066666666666666 k/month\n",
      "------------------------------------------------------------\n"
     ]
    }
   ],
   "source": [
    "experiences = ['1年以内', '1-3年','3-5年', '5-10年' ]\n",
    "\n",
    "for exp in experiences:\n",
    "    print('|',degree,'|',exp,'|',\",\".join(mastered_skills))\n",
    "    predict(degree,exp,v_skills)\n",
    "    print('-'*60)"
   ]
  },
  {
   "cell_type": "code",
   "execution_count": 605,
   "metadata": {},
   "outputs": [
    {
     "name": "stdout",
     "output_type": "stream",
     "text": [
      "| 学历不限 | 1-3年 | Sql,Python,Excel,Spss,Ppt\n",
      "预测薪资为： 19.033333333333335 k/month\n",
      "------------------------------------------------------------\n",
      "| 大专 | 1-3年 | Sql,Python,Excel,Spss,Ppt\n",
      "预测薪资为： 20.45 k/month\n",
      "------------------------------------------------------------\n",
      "| 本科 | 1-3年 | Sql,Python,Excel,Spss,Ppt\n",
      "预测薪资为： 21.066666666666666 k/month\n",
      "------------------------------------------------------------\n",
      "| 硕士 | 1-3年 | Sql,Python,Excel,Spss,Ppt\n",
      "预测薪资为： 21.75 k/month\n",
      "------------------------------------------------------------\n"
     ]
    }
   ],
   "source": [
    "experience = '1-3年'\n",
    "degrees = ['学历不限','大专','本科','硕士']\n",
    "\n",
    "for degree in degrees:\n",
    "    print('|',degree,'|',experience,'|',\",\".join(mastered_skills))\n",
    "    predict(degree,exp,v_skills)\n",
    "    print('-'*60)"
   ]
  },
  {
   "cell_type": "code",
   "execution_count": 608,
   "metadata": {},
   "outputs": [
    {
     "name": "stdout",
     "output_type": "stream",
     "text": [
      "预测薪资为： 16.883333333333333 k/month\n"
     ]
    }
   ],
   "source": [
    "predict('本科','1-3年', skills_switch(['Sql','Python','Excel','Spss','Ppt']))"
   ]
  },
  {
   "cell_type": "markdown",
   "metadata": {},
   "source": [
    "## 保存模型"
   ]
  },
  {
   "cell_type": "code",
   "execution_count": 609,
   "metadata": {},
   "outputs": [],
   "source": [
    "from sklearn.externals import joblib"
   ]
  },
  {
   "cell_type": "code",
   "execution_count": 610,
   "metadata": {},
   "outputs": [
    {
     "data": {
      "text/plain": [
       "['预测薪资2.0.pkl']"
      ]
     },
     "execution_count": 610,
     "metadata": {},
     "output_type": "execute_result"
    }
   ],
   "source": [
    "joblib.dump(final_model, \"预测薪资2.0.pkl\")"
   ]
  },
  {
   "cell_type": "code",
   "execution_count": 612,
   "metadata": {},
   "outputs": [],
   "source": [
    "clf = joblib.load(\"预测薪资2.0.pkl\")"
   ]
  },
  {
   "cell_type": "code",
   "execution_count": null,
   "metadata": {},
   "outputs": [],
   "source": []
  }
 ],
 "metadata": {
  "kernelspec": {
   "display_name": "Python 3",
   "language": "python",
   "name": "python3"
  },
  "language_info": {
   "codemirror_mode": {
    "name": "ipython",
    "version": 3
   },
   "file_extension": ".py",
   "mimetype": "text/x-python",
   "name": "python",
   "nbconvert_exporter": "python",
   "pygments_lexer": "ipython3",
   "version": "3.7.1"
  },
  "toc": {
   "base_numbering": 1,
   "nav_menu": {},
   "number_sections": true,
   "sideBar": true,
   "skip_h1_title": false,
   "title_cell": "Table of Contents",
   "title_sidebar": "Contents",
   "toc_cell": false,
   "toc_position": {},
   "toc_section_display": true,
   "toc_window_display": false
  }
 },
 "nbformat": 4,
 "nbformat_minor": 2
}
