{
 "cells": [
  {
   "cell_type": "markdown",
   "metadata": {},
   "source": [
    "## 数据集介绍"
   ]
  },
  {
   "cell_type": "markdown",
   "metadata": {},
   "source": [
    "[NLP实战](https://blog.csdn.net/yyy430/article/details/88072490)"
   ]
  },
  {
   "cell_type": "markdown",
   "metadata": {},
   "source": [
    "本次训练使用了其中的10个分类（体育, 财经, 房产, 家居, 教育, 科技, 时尚, 时政, 游戏, 娱乐），每个分类6500条，总共65000条新闻数据。\n",
    "\n",
    "数据集划分如下：\n",
    "\n",
    "- cnews.train.txt: 训练集(50000条)\n",
    "\n",
    "- cnews.val.txt: 验证集(5000条)\n",
    "\n",
    "- cnews.test.txt: 测试集(10000条)\n"
   ]
  },
  {
   "cell_type": "markdown",
   "metadata": {},
   "source": [
    "## 预处理\n",
    "\n",
    "预处理文件preprocess.py，代码中的函数说明如下：\n",
    "\n",
    "- read_file(): 读取文件数据;\n",
    "- build_vocab(): 构建词汇表，使用字符级的表示，这一函数会将词汇表存储下来，避免每一次重复处理;\n",
    "- read_vocab(): 读取上一步存储的词汇表，转换为{词：id}表示;\n",
    "- read_category(): 将分类目录固定，转换为{类别: id}表示;\n",
    "- to_words(): 将一条由id表示的数据重新转换为文字;\n",
    "- preocess_file(): 将数据集从文字转换为固定长度的id序列表示;\n",
    "- batch_iter(): 为神经网络的训练准备经过shuffle的批次的数据。"
   ]
  },
  {
   "cell_type": "code",
   "execution_count": null,
   "metadata": {},
   "outputs": [],
   "source": []
  },
  {
   "cell_type": "code",
   "execution_count": null,
   "metadata": {},
   "outputs": [],
   "source": []
  }
 ],
 "metadata": {
  "kernelspec": {
   "display_name": "Python 3",
   "language": "python",
   "name": "python3"
  },
  "language_info": {
   "codemirror_mode": {
    "name": "ipython",
    "version": 3
   },
   "file_extension": ".py",
   "mimetype": "text/x-python",
   "name": "python",
   "nbconvert_exporter": "python",
   "pygments_lexer": "ipython3",
   "version": "3.6.4"
  },
  "toc": {
   "base_numbering": 1,
   "nav_menu": {},
   "number_sections": true,
   "sideBar": true,
   "skip_h1_title": false,
   "title_cell": "Table of Contents",
   "title_sidebar": "Contents",
   "toc_cell": false,
   "toc_position": {},
   "toc_section_display": true,
   "toc_window_display": false
  }
 },
 "nbformat": 4,
 "nbformat_minor": 2
}
