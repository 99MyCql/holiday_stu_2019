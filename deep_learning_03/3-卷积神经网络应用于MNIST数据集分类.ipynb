{
 "cells": [
  {
   "cell_type": "code",
   "execution_count": 1,
   "metadata": {},
   "outputs": [],
   "source": [
    "from tensorflow.examples.tutorials.mnist import input_data\n",
    "import tensorflow as tf"
   ]
  },
  {
   "cell_type": "code",
   "execution_count": 6,
   "metadata": {},
   "outputs": [],
   "source": [
    "def conv2d(x, W):\n",
    "    return tf.nn.conv2d(x, W, strides=[1,1,1,1], padding='SAME') # 步长为1，补零\n",
    "\n",
    "\n",
    "def max_pool_2x2(x):\n",
    "    return tf.nn.max_pool2d(x, ksize=[1,2,2,1],strides=[1,2,2,1], padding='SAME') # 2x2池化 步长为2 补零\n",
    "\n",
    "\n",
    "def weight_variable(shape):\n",
    "    init = tf.truncated_normal(shape, stddev=0.1)\n",
    "    return tf.Variable(init)\n",
    "\n",
    "\n",
    "def bias_variable(shape):\n",
    "    init = tf.constant(0.1, shape=shape)\n",
    "    return tf.Variable(init)\n",
    "\n",
    "def cnn(x):\n",
    "    # with tf.name_scope('reshape'):\n",
    "    x_image = tf.reshape(x, [-1,28,28,1])     # 不定数个 28x28x1 图片\n",
    "    # 第一层卷积\n",
    "    w1 = weight_variable([5,5,1,32]) # 32个 5x5x1 卷积核\n",
    "    b1 = bias_variable([32])\n",
    "    conv1 = tf.nn.relu(conv2d(x_image,w1) + b1) # 1个 28x28x32\n",
    "    pool1 = max_pool_2x2(conv1)                 # 1个 14x14x32\n",
    "    \n",
    "    # 第二层卷积\n",
    "    w2 = weight_variable([5,5,32,64]) # 64个 5x5x32 卷积核\n",
    "    b2 = bias_variable([64])\n",
    "    conv2 = tf.nn.relu(conv2d(pool1, w2) + b2) # 1个 14x14x64\n",
    "    pool2 = max_pool_2x2(conv2)                # 1个 7x7x64\n",
    "    \n",
    "    # 全连接网络\n",
    "    wfc1 = weight_variable([7*7*64, 1024])\n",
    "    bfc1 = bias_variable([1024])\n",
    "    \n",
    "    # 把卷积网络中的4维图像转为二维图像\n",
    "    p2 = tf.reshape(pool2, [-1, 7*7*64])\n",
    "    fc1 = tf.nn.relu(tf.matmul(p2,wfc1) + bfc1)\n",
    "    \n",
    "    # 防止过拟合\n",
    "    keep_prob = tf.placeholder(tf.float32)\n",
    "    dfc1 = tf.nn.dropout(fc1, keep_prob)\n",
    "\n",
    "    # 输出层\n",
    "    wfc2 = weight_variable([1024,10])\n",
    "    bfc2 = bias_variable([10])\n",
    "    out = tf.matmul(dfc1, wfc2) + bfc2\n",
    "    return out, keep_prob"
   ]
  },
  {
   "cell_type": "code",
   "execution_count": 3,
   "metadata": {},
   "outputs": [
    {
     "name": "stderr",
     "output_type": "stream",
     "text": [
      "WARNING: Logging before flag parsing goes to stderr.\n",
      "W0723 18:45:32.852883  5536 deprecation.py:323] From <ipython-input-3-e546b10b2310>:2: read_data_sets (from tensorflow.contrib.learn.python.learn.datasets.mnist) is deprecated and will be removed in a future version.\n",
      "Instructions for updating:\n",
      "Please use alternatives such as official/mnist/dataset.py from tensorflow/models.\n",
      "W0723 18:45:32.859861  5536 deprecation.py:323] From D:\\Program Files (x86)\\Anaconda3\\lib\\site-packages\\tensorflow\\contrib\\learn\\python\\learn\\datasets\\mnist.py:260: maybe_download (from tensorflow.contrib.learn.python.learn.datasets.base) is deprecated and will be removed in a future version.\n",
      "Instructions for updating:\n",
      "Please write your own downloading logic.\n",
      "W0723 18:45:32.861856  5536 deprecation.py:323] From D:\\Program Files (x86)\\Anaconda3\\lib\\site-packages\\tensorflow\\contrib\\learn\\python\\learn\\datasets\\mnist.py:262: extract_images (from tensorflow.contrib.learn.python.learn.datasets.mnist) is deprecated and will be removed in a future version.\n",
      "Instructions for updating:\n",
      "Please use tf.data to implement this functionality.\n"
     ]
    },
    {
     "name": "stdout",
     "output_type": "stream",
     "text": [
      "Extracting MNIST_data\\train-images-idx3-ubyte.gz\n"
     ]
    },
    {
     "name": "stderr",
     "output_type": "stream",
     "text": [
      "W0723 18:45:33.197957  5536 deprecation.py:323] From D:\\Program Files (x86)\\Anaconda3\\lib\\site-packages\\tensorflow\\contrib\\learn\\python\\learn\\datasets\\mnist.py:267: extract_labels (from tensorflow.contrib.learn.python.learn.datasets.mnist) is deprecated and will be removed in a future version.\n",
      "Instructions for updating:\n",
      "Please use tf.data to implement this functionality.\n",
      "W0723 18:45:33.207934  5536 deprecation.py:323] From D:\\Program Files (x86)\\Anaconda3\\lib\\site-packages\\tensorflow\\contrib\\learn\\python\\learn\\datasets\\mnist.py:110: dense_to_one_hot (from tensorflow.contrib.learn.python.learn.datasets.mnist) is deprecated and will be removed in a future version.\n",
      "Instructions for updating:\n",
      "Please use tf.one_hot on tensors.\n",
      "W0723 18:45:33.296693  5536 deprecation.py:323] From D:\\Program Files (x86)\\Anaconda3\\lib\\site-packages\\tensorflow\\contrib\\learn\\python\\learn\\datasets\\mnist.py:290: DataSet.__init__ (from tensorflow.contrib.learn.python.learn.datasets.mnist) is deprecated and will be removed in a future version.\n",
      "Instructions for updating:\n",
      "Please use alternatives such as official/mnist/dataset.py from tensorflow/models.\n"
     ]
    },
    {
     "name": "stdout",
     "output_type": "stream",
     "text": [
      "Extracting MNIST_data\\train-labels-idx1-ubyte.gz\n",
      "Extracting MNIST_data\\t10k-images-idx3-ubyte.gz\n",
      "Extracting MNIST_data\\t10k-labels-idx1-ubyte.gz\n"
     ]
    }
   ],
   "source": [
    "# Import data\n",
    "mnist = input_data.read_data_sets(\"MNIST_data\", one_hot=True)\n",
    "\n",
    "# Create the model\n",
    "x = tf.placeholder(tf.float32, [None, 784])\n",
    "\n",
    "# Define loss and optimizer\n",
    "y_ = tf.placeholder(tf.float32, [None, 10])"
   ]
  },
  {
   "cell_type": "code",
   "execution_count": 7,
   "metadata": {},
   "outputs": [
    {
     "name": "stderr",
     "output_type": "stream",
     "text": [
      "W0723 18:47:12.742788  5536 deprecation.py:506] From <ipython-input-6-ff3060a59433>:44: calling dropout (from tensorflow.python.ops.nn_ops) with keep_prob is deprecated and will be removed in a future version.\n",
      "Instructions for updating:\n",
      "Please use `rate` instead of `keep_prob`. Rate should be set to `rate = 1 - keep_prob`.\n"
     ]
    },
    {
     "name": "stdout",
     "output_type": "stream",
     "text": [
      "Tensor(\"MaxPool2d_1:0\", shape=(?, 7, 7, 64), dtype=float32)\n"
     ]
    },
    {
     "name": "stderr",
     "output_type": "stream",
     "text": [
      "W0723 18:47:13.039000  5536 deprecation.py:323] From <ipython-input-7-595f34607bf8>:7: arg_max (from tensorflow.python.ops.gen_math_ops) is deprecated and will be removed in a future version.\n",
      "Instructions for updating:\n",
      "Use `tf.math.argmax` instead\n"
     ]
    }
   ],
   "source": [
    "# 构造网络计算图\n",
    "out, keep_prob = cnn(x)\n",
    "loss = tf.nn.softmax_cross_entropy_with_logits_v2(labels=y_, logits=out)\n",
    "loss = tf.reduce_mean(loss)\n",
    "\n",
    "train_step = tf.train.AdadeltaOptimizer(0.01).minimize(loss)\n",
    "pred = tf.equal(tf.arg_max(y_,1), tf.arg_max(out,1))\n",
    "pred = tf.cast(pred, tf.float32)\n",
    "accuracy = tf.reduce_mean(pred)\n"
   ]
  },
  {
   "cell_type": "code",
   "execution_count": null,
   "metadata": {
    "scrolled": true
   },
   "outputs": [],
   "source": [
    "# 定义每个批次的大小\n",
    "batch_size = 100\n",
    "# 计算一共有多少个批次\n",
    "n_batch = mnist.train.num_examples // batch_size\n",
    "\n",
    "with tf.Session() as sess:\n",
    "    sess.run(tf.global_variables_initializer())\n",
    "    # 训练21个周期\n",
    "    for epoch in range(3):\n",
    "        # n_batch ： 一共有多少个批次\n",
    "        for batch in range(n_batch):\n",
    "            # 保存batch_size张图片的数据与标签\n",
    "            batch_xs,batch_ys = mnist.train.next_batch(batch_size)\n",
    "            sess.run(train_step,feed_dict={x:batch_xs,y_:batch_ys,keep_prob:0.5})\n",
    "\n",
    "        # 用测试集的图片及标签求得准确率\n",
    "        acc = sess.run(accuracy,feed_dict={x:mnist.test.images,y_:mnist.test.labels,keep_prob:1.0})\n",
    "        print(\"Iter \"+ str(epoch) + \", Texting acc \" + str(acc))"
   ]
  },
  {
   "cell_type": "code",
   "execution_count": null,
   "metadata": {},
   "outputs": [],
   "source": []
  }
 ],
 "metadata": {
  "kernelspec": {
   "display_name": "Python 3",
   "language": "python",
   "name": "python3"
  },
  "language_info": {
   "codemirror_mode": {
    "name": "ipython",
    "version": 3
   },
   "file_extension": ".py",
   "mimetype": "text/x-python",
   "name": "python",
   "nbconvert_exporter": "python",
   "pygments_lexer": "ipython3",
   "version": "3.7.1"
  },
  "toc": {
   "base_numbering": 1,
   "nav_menu": {},
   "number_sections": true,
   "sideBar": true,
   "skip_h1_title": false,
   "title_cell": "Table of Contents",
   "title_sidebar": "Contents",
   "toc_cell": false,
   "toc_position": {},
   "toc_section_display": true,
   "toc_window_display": false
  },
  "varInspector": {
   "cols": {
    "lenName": 16,
    "lenType": 16,
    "lenVar": 40
   },
   "kernels_config": {
    "python": {
     "delete_cmd_postfix": "",
     "delete_cmd_prefix": "del ",
     "library": "var_list.py",
     "varRefreshCmd": "print(var_dic_list())"
    },
    "r": {
     "delete_cmd_postfix": ") ",
     "delete_cmd_prefix": "rm(",
     "library": "var_list.r",
     "varRefreshCmd": "cat(var_dic_list()) "
    }
   },
   "types_to_exclude": [
    "module",
    "function",
    "builtin_function_or_method",
    "instance",
    "_Feature"
   ],
   "window_display": false
  }
 },
 "nbformat": 4,
 "nbformat_minor": 2
}
