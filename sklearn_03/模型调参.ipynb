{
 "cells": [
  {
   "cell_type": "markdown",
   "metadata": {},
   "source": [
    "# Sklearn—GridSearch 调参函数\n",
    "\n",
    "GridSearch是Sklearn里的一个调参函数。本文是对此函数的详细解释。"
   ]
  },
  {
   "cell_type": "markdown",
   "metadata": {},
   "source": [
    "## 参数搜索\n",
    "\n",
    "参数并非从estimators中直接学到的，可以通过设置一个参数搜索空间来找到最佳的cross-validation score。\n",
    "\n",
    "通常示例包括的参数有：SVM分类器的中C、kernel和gamma，Lasso中的alpha等。\n",
    "\n",
    "当构建一个estimator时，提供的参数可以以这种方式进行优化。更特别的是，可以使用如下的方法来给给定estimator的所有参数来找到对应的参数名和当前值：\n",
    "\n",
    "  estimator.get_params()\n",
    "这些参数称被提到：“超参数（hyperparameters）”，尤其在Bayesian learning中，它们与机器学习过程中的参数优化是有区别的。\n",
    "\n",
    "一个这样的参数search包含：\n",
    "\n",
    "    一个estimator(regressor/classifier)\n",
    "    一个参数空间\n",
    "    一个用于searching/sampling候选参数的方法\n",
    "    一个cross-validation的scheme\n",
    "    一个score function\n",
    "\n",
    "这样的模型允许你指定有效的搜索参数策略，如下。在sklearn中，有两种通用方法进行sampling搜索候选参数：\n",
    "\n",
    "    GridSearch: 暴力搜索所有参数组合\n",
    "\n",
    "    RandomizedSearchCV: 在指定参数空间内抽样一部分候选参数\n"
   ]
  },
  {
   "cell_type": "markdown",
   "metadata": {},
   "source": [
    "## GRIDSEARCHCV\n",
    "\n",
    "grid search提供了GridSearchCV，相应的参数空间param_grid设置如下：\n",
    "\n",
    "      param_grid = [\n",
    "        {'C': [1, 10, 100, 1000], 'kernel': ['linear']},\n",
    "        {'C': [1, 10, 100, 1000], 'gamma': [0.001, 0.0001], 'kernel': ['rbf']},\n",
    "       ]\n",
    "\n",
    "上例指定了两个要搜索的参数空间：一个是线性kernel，其中C值为[1,10,100,1000]；另一个则使用RBF kernel，对应的C值为[1,10,100,1000]，对应的gamma值为 [0.001, 0.0001].\n",
    "\n",
    "GridSearchCV实例实现了通用的estimator API: 当在数据集的所有可能参数组合上进行”fitting”时，所有参数组都会被评测，并保留最优的参数组合。"
   ]
  },
  {
   "cell_type": "markdown",
   "metadata": {},
   "source": [
    "[sklearn SVM详解](https://www.cnblogs.com/crawer-1/p/8870700.html)"
   ]
  },
  {
   "cell_type": "markdown",
   "metadata": {},
   "source": [
    "## 随机参数优化\n",
    "\n",
    "使用GridSearch进行参数搜索是目前最广泛使用的参数优化方法，还有另一些方法存在。RandomizedSearchCV实现了在参数上的随机搜索，每个设置都会以可能的参数值分布进行抽样。对比穷举法，它具有两个优势：\n",
    "\n",
    "    1.budget的选择与参数个数和可能的值独立\n",
    "\n",
    "    2.增加参数不会影响性能，不会降低效果\n",
    "\n",
    "参数设定部分和GridSearchCV类似，使用一个字典表来进行参数抽样。另外，计算开销（computation budget）, 抽取的样本数，抽样迭代次数，可以由n_iter来指定。对于每个参数，都可以指定在可能值上的分布，或者是一个离散值列表（它可以被均匀采样）。\n",
    "\n",
    "例如：\n",
    "\n",
    "      [{‘C’: scipy.stats.expon(scale=100), \n",
    "      ‘gamma’: scipy.stats.expon(scale=.1), \n",
    "      ‘kernel’: [‘rbf’], \n",
    "      ‘class_weight’:[‘auto’, None]}]\n",
    "      \n",
    "这个例子使用scipy.stats模块，该模块包含了许多分布方法可以用来进行抽样，包括：指数分布（expon），gamma分布(gamma)，均匀分布（uniform），或randint分布。通常每个函数都可以提供一个rvs（随机变量抽样）方法进行抽样。\n",
    "\n",
    "注意：\n",
    "\n",
    "    scipy.stats的分布不允许以随机方式指定。作为替代，我们可以使用一个全局的numpy 随机态，它可以通过np.random.seed或np.random.set_state来设定。\n",
    "\n",
    "    对于连续的参数，比如上面的C，指定一个连续的分布十分重要，它可以完全利用随机化（randomization）。这种情况下，增加n_iter将产生一个更好的搜索。\n"
   ]
  },
  {
   "cell_type": "markdown",
   "metadata": {},
   "source": [
    "## 指定一个目标METRIC\n",
    "\n",
    "缺省的，参数搜索会使用estimator的缺省score函数来评估参数设置。\n",
    "\n",
    "其中，分类使用sklearn.metrics.accuracy_score，\n",
    "\n",
    "回归使用sklearn.metrics.r2_score。\n",
    "\n",
    "对于其它应用，可能需要使用一个可合适的scoring函数（例如：对于unbalanced分类问题，accuracy的score是不合适的）。\n",
    "\n",
    "可选择的scoring函数可以通过GridSearchCV/RandomizedSearchCV以及其它CV工具类的scoring参数来设置。详见。"
   ]
  },
  {
   "cell_type": "markdown",
   "metadata": {},
   "source": [
    "## 参数使用"
   ]
  },
  {
   "cell_type": "markdown",
   "metadata": {},
   "source": [
    "    sklearn.model_selection.GridSearchCV(\n",
    "        estimator, param_grid, scoring=None,  \n",
    "        fit_params=None, n_jobs=1, iid=True, \n",
    "        refit=True, cv=None, verbose=0,\n",
    "        pre_dispatch=‘2*n_jobs’, \n",
    "        error_score=’raise’, return_train_score=’warn’)"
   ]
  },
  {
   "cell_type": "markdown",
   "metadata": {},
   "source": [
    "- estimator：所使用的分类器，比如：estimator=RandomForestClassifier(min_samples_split=100, min_samples_leaf=20, max_depth=8, max_features='sqrt', random_state=10)，并且传入除需要确定最佳的参数之外的其他参数。每个分类器都需要一个scoring参数或者score方法。\n",
    "\n",
    "- param_grid：值为字典或列表，即需要最优化的参数的取值，param_grid =param_test1，param_test1 = {'n_estimators':range(10,71,10)}\n",
    "\n",
    "- scoring：准确评价标准，默认为None（使用estimator的误差估计函数），这时需要使用score函数；或者如scoring='roc_auc'，根据所选模型不同，评价准则不同。\n",
    "\n",
    "- cv：交叉验证参数，默认为None\n",
    "\n",
    "- refit：默认为True，程序将会以交叉验证训练集得到的最佳参数，重新对所有可用的训练集与测试集进行，作为最终用于性能评估的最佳模型参数。即在搜索参数结束后，用最佳参数结果再次fit一遍全部数据集。\n",
    "\n",
    "- iid:默认True,为True时，默认为各个样本fold概率分布一致，误差估计为所有样本之和，而非各个fold的平均。\n",
    "\n",
    "- verbose：日志冗长度，int：冗长度，0：不输出训练过程，1：偶尔输出，>1：对每个子模型都输出。\n",
    "\n",
    "- n_jobs: 并行数，int：个数,-1：跟CPU核数一致, 1:默认值。\n",
    "\n",
    "- pre_dispatch：指定总共分发的并行任务数。当n_jobs大于1时，数据将在每个运行点进行复制，这可能导致OOM，而设置pre_dispatch参数，则可以预先划分总共的job数量，使数据最多被复制pre_dispatch次，进行预测的常用方法和属性"
   ]
  },
  {
   "cell_type": "markdown",
   "metadata": {},
   "source": [
    "属性方法：\n",
    "\n",
    "- `grid.fit(train_x, train_y)`：运行网格搜索\n",
    "\n",
    "- `grid_scores_`：给出不同参数情况下的评价结果\n",
    "\n",
    "- `best_params_`：描述了已取得最佳结果的参数的组合\n",
    "\n",
    "- `best_score_`：成员提供优化过程期间观察到的最好的评分"
   ]
  },
  {
   "cell_type": "markdown",
   "metadata": {},
   "source": [
    "```py\n",
    "from sklearn.grid_search import GridSearchCV\n",
    "\n",
    "随机森林的参数\n",
    "\n",
    "tree_param_grid={'min_sample_split':list((3,6,9)),'n_estimators':list((10,50,100))\n",
    "                 \n",
    "grid=GridSearchCV(RandomForestRegressor(),param_grid=tree_param_grid,cv=5)\n",
    "                 \n",
    "grid.fit(x,y)\n",
    "                 \n",
    "print(grid.grid_scores_,grid.best_params_,grid.best_score_)\n",
    "```"
   ]
  },
  {
   "cell_type": "markdown",
   "metadata": {},
   "source": [
    "# 使用案例"
   ]
  },
  {
   "cell_type": "markdown",
   "metadata": {},
   "source": [
    "## 案例1 - KNN-GridSearchCV"
   ]
  },
  {
   "cell_type": "code",
   "execution_count": 1,
   "metadata": {},
   "outputs": [],
   "source": [
    "from sklearn.datasets import load_iris  # 自带的样本数据集\n",
    "from sklearn.neighbors import KNeighborsClassifier  # 要估计的是knn里面的参数，包括k的取值和样本权重分布方式\n",
    "import matplotlib.pyplot as plt  # 可视化绘图\n",
    "from sklearn.model_selection import GridSearchCV,RandomizedSearchCV  # 网格搜索和随机搜索"
   ]
  },
  {
   "cell_type": "code",
   "execution_count": 2,
   "metadata": {},
   "outputs": [
    {
     "name": "stdout",
     "output_type": "stream",
     "text": [
      "{'n_neighbors': range(1, 31), 'weights': ['uniform', 'distance']}\n"
     ]
    }
   ],
   "source": [
    "iris = load_iris()\n",
    "\n",
    "X = iris.data  # 150个样本，4个属性\n",
    "y = iris.target # 150个类标号\n",
    "\n",
    "k_range = range(1, 31)  # 优化参数k的取值范围\n",
    "weight_options = ['uniform', 'distance']  # 代估参数权重的取值范围。uniform为统一取权值，distance表示距离倒数取权值\n",
    "# 下面是构建parameter grid，其结构是key为参数名称，value是待搜索的数值列表的一个字典结构\n",
    "param_grid = {'n_neighbors':k_range, 'weights':weight_options}  # 定义优化参数字典，字典中的key值必须是分类算法的函数的参数名\n",
    "print(param_grid)"
   ]
  },
  {
   "cell_type": "code",
   "execution_count": 3,
   "metadata": {},
   "outputs": [
    {
     "name": "stderr",
     "output_type": "stream",
     "text": [
      "D:\\Program Files (x86)\\Anaconda3\\lib\\site-packages\\sklearn\\model_selection\\_split.py:1978: FutureWarning: The default value of cv will change from 3 to 5 in version 0.22. Specify it explicitly to silence this warning.\n",
      "  warnings.warn(CV_WARNING, FutureWarning)\n"
     ]
    },
    {
     "name": "stdout",
     "output_type": "stream",
     "text": [
      "网格搜索-度量记录： {'mean_fit_time': array([0.00099635, 0.00066479, 0.00033323, 0.00099834, 0.00066725,\n",
      "       0.00033259, 0.00066495, 0.00033228, 0.0006725 , 0.00033243,\n",
      "       0.        , 0.00066519, 0.        , 0.        , 0.00066471,\n",
      "       0.00066519, 0.00066487, 0.00066511, 0.00066447, 0.00066471,\n",
      "       0.00033267, 0.00066511, 0.00033259, 0.00033387, 0.00031749,\n",
      "       0.00033236, 0.00066535, 0.00066551, 0.00066503, 0.00066471,\n",
      "       0.00033251, 0.        , 0.0006663 , 0.00033243, 0.00033243,\n",
      "       0.00033251, 0.00033236, 0.00033259, 0.        , 0.        ,\n",
      "       0.00066495, 0.00066479, 0.        , 0.00066487, 0.00033236,\n",
      "       0.00033236, 0.00033299, 0.00033275, 0.00066527, 0.00132926,\n",
      "       0.00033236, 0.        , 0.00033267, 0.00066527, 0.00033243,\n",
      "       0.00033236, 0.00066479, 0.0003322 , 0.00033267, 0.00066447]), 'std_fit_time': array([8.48537942e-07, 4.70078344e-04, 4.71257962e-04, 1.32507737e-06,\n",
      "       4.71841164e-04, 4.70358829e-04, 4.70190252e-04, 4.69909263e-04,\n",
      "       4.75681985e-04, 4.70134046e-04, 0.00000000e+00, 4.70359192e-04,\n",
      "       0.00000000e+00, 0.00000000e+00, 4.70022300e-04, 4.70358870e-04,\n",
      "       4.70134207e-04, 4.70302644e-04, 9.39706134e-04, 4.70021695e-04,\n",
      "       4.70471221e-04, 4.70303127e-04, 4.70358829e-04, 4.72157095e-04,\n",
      "       4.49004426e-04, 4.70021655e-04, 4.70471261e-04, 4.70583653e-04,\n",
      "       4.70246599e-04, 4.70021655e-04, 4.70246438e-04, 0.00000000e+00,\n",
      "       4.71148144e-04, 4.70134046e-04, 4.70134046e-04, 4.70246438e-04,\n",
      "       4.70021655e-04, 4.70358829e-04, 0.00000000e+00, 0.00000000e+00,\n",
      "       4.70190252e-04, 4.70077941e-04, 0.00000000e+00, 4.70134086e-04,\n",
      "       4.70021655e-04, 4.70021655e-04, 4.70920787e-04, 4.70583613e-04,\n",
      "       4.70416244e-04, 1.24373038e-03, 4.70021655e-04, 0.00000000e+00,\n",
      "       4.70471221e-04, 4.70415116e-04, 4.70134046e-04, 4.70021655e-04,\n",
      "       4.70077860e-04, 4.69796871e-04, 4.70471221e-04, 4.69853561e-04]), 'mean_score_time': array([0.00266035, 0.00133046, 0.00332276, 0.00232641, 0.00332109,\n",
      "       0.00132934, 0.00199445, 0.00066487, 0.00198555, 0.00066519,\n",
      "       0.00199374, 0.0009977 , 0.00232617, 0.00099754, 0.00166202,\n",
      "       0.00066495, 0.00199421, 0.00033243, 0.00332443, 0.00099738,\n",
      "       0.00199501, 0.00066487, 0.00200558, 0.00099866, 0.00266147,\n",
      "       0.00099754, 0.00265861, 0.0009973 , 0.00266274, 0.0013295 ,\n",
      "       0.00199421, 0.00099715, 0.00232569, 0.00066495, 0.00232657,\n",
      "       0.00099802, 0.00166178, 0.00066503, 0.0026598 , 0.00099707,\n",
      "       0.00199405, 0.00099738, 0.00199461, 0.00066559, 0.00166225,\n",
      "       0.00099723, 0.00166146, 0.00133014, 0.00232601, 0.00099786,\n",
      "       0.00199485, 0.00099659, 0.00199405, 0.00033243, 0.00199469,\n",
      "       0.00066431, 0.00199429, 0.00133022, 0.00199421, 0.00133014]), 'std_score_time': array([4.70921149e-04, 4.68954429e-04, 9.41506030e-04, 4.69745123e-04,\n",
      "       1.24116139e-03, 4.70415277e-04, 5.94720425e-07, 4.70134207e-04,\n",
      "       1.19701007e-05, 4.70358870e-04, 5.61957980e-07, 5.94720425e-07,\n",
      "       4.70079553e-04, 8.92080638e-07, 4.70190252e-04, 4.70190252e-04,\n",
      "       2.97360213e-07, 4.70134046e-04, 1.24441004e-03, 2.97360213e-07,\n",
      "       1.40826266e-06, 4.70134046e-04, 1.60160982e-05, 6.62252638e-06,\n",
      "       9.44089427e-04, 1.94667955e-07, 4.70358991e-04, 6.74349576e-07,\n",
      "       4.66032251e-04, 4.69459737e-04, 2.97360213e-07, 4.89903609e-07,\n",
      "       4.70415116e-04, 4.70190333e-04, 4.69796912e-04, 3.89335909e-07,\n",
      "       4.69684843e-04, 4.70246438e-04, 4.70190333e-04, 3.89335909e-07,\n",
      "       1.56139395e-06, 2.97360213e-07, 3.89335909e-07, 4.70641026e-04,\n",
      "       4.70021695e-04, 8.77806426e-07, 4.70134086e-04, 4.70864602e-04,\n",
      "       4.70527427e-04, 1.32507737e-06, 3.89335909e-07, 6.74349576e-07,\n",
      "       2.97360213e-07, 4.70134046e-04, 4.89903609e-07, 4.69741170e-04,\n",
      "       1.12391596e-07, 4.70302644e-04, 4.89903609e-07, 4.70022017e-04]), 'param_n_neighbors': masked_array(data=[1, 1, 2, 2, 3, 3, 4, 4, 5, 5, 6, 6, 7, 7, 8, 8, 9, 9,\n",
      "                   10, 10, 11, 11, 12, 12, 13, 13, 14, 14, 15, 15, 16, 16,\n",
      "                   17, 17, 18, 18, 19, 19, 20, 20, 21, 21, 22, 22, 23, 23,\n",
      "                   24, 24, 25, 25, 26, 26, 27, 27, 28, 28, 29, 29, 30, 30],\n",
      "             mask=[False, False, False, False, False, False, False, False,\n",
      "                   False, False, False, False, False, False, False, False,\n",
      "                   False, False, False, False, False, False, False, False,\n",
      "                   False, False, False, False, False, False, False, False,\n",
      "                   False, False, False, False, False, False, False, False,\n",
      "                   False, False, False, False, False, False, False, False,\n",
      "                   False, False, False, False, False, False, False, False,\n",
      "                   False, False, False, False],\n",
      "       fill_value='?',\n",
      "            dtype=object), 'param_weights': masked_array(data=['uniform', 'distance', 'uniform', 'distance',\n",
      "                   'uniform', 'distance', 'uniform', 'distance',\n",
      "                   'uniform', 'distance', 'uniform', 'distance',\n",
      "                   'uniform', 'distance', 'uniform', 'distance',\n",
      "                   'uniform', 'distance', 'uniform', 'distance',\n",
      "                   'uniform', 'distance', 'uniform', 'distance',\n",
      "                   'uniform', 'distance', 'uniform', 'distance',\n",
      "                   'uniform', 'distance', 'uniform', 'distance',\n",
      "                   'uniform', 'distance', 'uniform', 'distance',\n",
      "                   'uniform', 'distance', 'uniform', 'distance',\n",
      "                   'uniform', 'distance', 'uniform', 'distance',\n",
      "                   'uniform', 'distance', 'uniform', 'distance',\n",
      "                   'uniform', 'distance', 'uniform', 'distance',\n",
      "                   'uniform', 'distance', 'uniform', 'distance',\n",
      "                   'uniform', 'distance', 'uniform', 'distance'],\n",
      "             mask=[False, False, False, False, False, False, False, False,\n",
      "                   False, False, False, False, False, False, False, False,\n",
      "                   False, False, False, False, False, False, False, False,\n",
      "                   False, False, False, False, False, False, False, False,\n",
      "                   False, False, False, False, False, False, False, False,\n",
      "                   False, False, False, False, False, False, False, False,\n",
      "                   False, False, False, False, False, False, False, False,\n",
      "                   False, False, False, False],\n",
      "       fill_value='?',\n",
      "            dtype=object), 'params': [{'n_neighbors': 1, 'weights': 'uniform'}, {'n_neighbors': 1, 'weights': 'distance'}, {'n_neighbors': 2, 'weights': 'uniform'}, {'n_neighbors': 2, 'weights': 'distance'}, {'n_neighbors': 3, 'weights': 'uniform'}, {'n_neighbors': 3, 'weights': 'distance'}, {'n_neighbors': 4, 'weights': 'uniform'}, {'n_neighbors': 4, 'weights': 'distance'}, {'n_neighbors': 5, 'weights': 'uniform'}, {'n_neighbors': 5, 'weights': 'distance'}, {'n_neighbors': 6, 'weights': 'uniform'}, {'n_neighbors': 6, 'weights': 'distance'}, {'n_neighbors': 7, 'weights': 'uniform'}, {'n_neighbors': 7, 'weights': 'distance'}, {'n_neighbors': 8, 'weights': 'uniform'}, {'n_neighbors': 8, 'weights': 'distance'}, {'n_neighbors': 9, 'weights': 'uniform'}, {'n_neighbors': 9, 'weights': 'distance'}, {'n_neighbors': 10, 'weights': 'uniform'}, {'n_neighbors': 10, 'weights': 'distance'}, {'n_neighbors': 11, 'weights': 'uniform'}, {'n_neighbors': 11, 'weights': 'distance'}, {'n_neighbors': 12, 'weights': 'uniform'}, {'n_neighbors': 12, 'weights': 'distance'}, {'n_neighbors': 13, 'weights': 'uniform'}, {'n_neighbors': 13, 'weights': 'distance'}, {'n_neighbors': 14, 'weights': 'uniform'}, {'n_neighbors': 14, 'weights': 'distance'}, {'n_neighbors': 15, 'weights': 'uniform'}, {'n_neighbors': 15, 'weights': 'distance'}, {'n_neighbors': 16, 'weights': 'uniform'}, {'n_neighbors': 16, 'weights': 'distance'}, {'n_neighbors': 17, 'weights': 'uniform'}, {'n_neighbors': 17, 'weights': 'distance'}, {'n_neighbors': 18, 'weights': 'uniform'}, {'n_neighbors': 18, 'weights': 'distance'}, {'n_neighbors': 19, 'weights': 'uniform'}, {'n_neighbors': 19, 'weights': 'distance'}, {'n_neighbors': 20, 'weights': 'uniform'}, {'n_neighbors': 20, 'weights': 'distance'}, {'n_neighbors': 21, 'weights': 'uniform'}, {'n_neighbors': 21, 'weights': 'distance'}, {'n_neighbors': 22, 'weights': 'uniform'}, {'n_neighbors': 22, 'weights': 'distance'}, {'n_neighbors': 23, 'weights': 'uniform'}, {'n_neighbors': 23, 'weights': 'distance'}, {'n_neighbors': 24, 'weights': 'uniform'}, {'n_neighbors': 24, 'weights': 'distance'}, {'n_neighbors': 25, 'weights': 'uniform'}, {'n_neighbors': 25, 'weights': 'distance'}, {'n_neighbors': 26, 'weights': 'uniform'}, {'n_neighbors': 26, 'weights': 'distance'}, {'n_neighbors': 27, 'weights': 'uniform'}, {'n_neighbors': 27, 'weights': 'distance'}, {'n_neighbors': 28, 'weights': 'uniform'}, {'n_neighbors': 28, 'weights': 'distance'}, {'n_neighbors': 29, 'weights': 'uniform'}, {'n_neighbors': 29, 'weights': 'distance'}, {'n_neighbors': 30, 'weights': 'uniform'}, {'n_neighbors': 30, 'weights': 'distance'}], 'split0_test_score': array([0.98039216, 0.98039216, 0.96078431, 0.98039216, 0.98039216,\n",
      "       0.98039216, 0.98039216, 0.98039216, 0.98039216, 0.98039216,\n",
      "       0.98039216, 0.98039216, 0.98039216, 0.98039216, 0.98039216,\n",
      "       0.98039216, 0.96078431, 0.98039216, 0.96078431, 0.98039216,\n",
      "       0.96078431, 0.98039216, 0.96078431, 0.98039216, 0.96078431,\n",
      "       0.98039216, 0.96078431, 0.98039216, 0.96078431, 0.98039216,\n",
      "       0.96078431, 0.98039216, 0.96078431, 0.98039216, 0.96078431,\n",
      "       0.98039216, 0.96078431, 0.98039216, 0.96078431, 0.98039216,\n",
      "       0.96078431, 0.98039216, 0.96078431, 0.98039216, 0.94117647,\n",
      "       0.98039216, 0.98039216, 0.98039216, 0.96078431, 0.98039216,\n",
      "       0.98039216, 0.98039216, 0.96078431, 0.98039216, 0.96078431,\n",
      "       0.98039216, 0.96078431, 0.98039216, 0.96078431, 0.98039216]), 'split1_test_score': array([0.92156863, 0.92156863, 0.94117647, 0.92156863, 0.96078431,\n",
      "       0.96078431, 0.96078431, 0.96078431, 0.98039216, 0.96078431,\n",
      "       0.96078431, 0.98039216, 0.96078431, 0.96078431, 0.98039216,\n",
      "       0.98039216, 0.98039216, 0.96078431, 0.98039216, 0.98039216,\n",
      "       0.96078431, 0.96078431, 0.96078431, 0.96078431, 0.94117647,\n",
      "       0.94117647, 0.96078431, 0.96078431, 0.94117647, 0.94117647,\n",
      "       0.94117647, 0.94117647, 0.94117647, 0.92156863, 0.90196078,\n",
      "       0.96078431, 0.92156863, 0.96078431, 0.90196078, 0.96078431,\n",
      "       0.92156863, 0.94117647, 0.92156863, 0.96078431, 0.94117647,\n",
      "       0.96078431, 0.92156863, 0.96078431, 0.90196078, 0.94117647,\n",
      "       0.92156863, 0.94117647, 0.90196078, 0.92156863, 0.92156863,\n",
      "       0.94117647, 0.92156863, 0.94117647, 0.94117647, 0.94117647]), 'split2_test_score': array([1.        , 1.        , 0.95833333, 1.        , 1.        ,\n",
      "       1.        , 0.97916667, 1.        , 1.        , 1.        ,\n",
      "       0.97916667, 1.        , 0.97916667, 1.        , 0.97916667,\n",
      "       0.97916667, 0.97916667, 1.        , 0.97916667, 1.        ,\n",
      "       1.        , 1.        , 0.97916667, 1.        , 0.97916667,\n",
      "       1.        , 0.97916667, 1.        , 1.        , 1.        ,\n",
      "       0.97916667, 1.        , 0.97916667, 1.        , 0.97916667,\n",
      "       1.        , 0.97916667, 0.97916667, 0.97916667, 0.97916667,\n",
      "       0.97916667, 0.97916667, 0.97916667, 1.        , 0.97916667,\n",
      "       0.97916667, 0.97916667, 0.97916667, 0.97916667, 0.97916667,\n",
      "       0.97916667, 0.97916667, 0.97916667, 0.97916667, 0.97916667,\n",
      "       0.97916667, 0.97916667, 0.97916667, 0.97916667, 1.        ]), 'mean_test_score': array([0.96666667, 0.96666667, 0.95333333, 0.96666667, 0.98      ,\n",
      "       0.98      , 0.97333333, 0.98      , 0.98666667, 0.98      ,\n",
      "       0.97333333, 0.98666667, 0.97333333, 0.98      , 0.98      ,\n",
      "       0.98      , 0.97333333, 0.98      , 0.97333333, 0.98666667,\n",
      "       0.97333333, 0.98      , 0.96666667, 0.98      , 0.96      ,\n",
      "       0.97333333, 0.96666667, 0.98      , 0.96666667, 0.97333333,\n",
      "       0.96      , 0.97333333, 0.96      , 0.96666667, 0.94666667,\n",
      "       0.98      , 0.95333333, 0.97333333, 0.94666667, 0.97333333,\n",
      "       0.95333333, 0.96666667, 0.95333333, 0.98      , 0.95333333,\n",
      "       0.97333333, 0.96      , 0.97333333, 0.94666667, 0.96666667,\n",
      "       0.96      , 0.96666667, 0.94666667, 0.96      , 0.95333333,\n",
      "       0.96666667, 0.95333333, 0.96666667, 0.96      , 0.97333333]), 'std_test_score': array([0.03333333, 0.03333333, 0.00878204, 0.03333333, 0.01592466,\n",
      "       0.01592466, 0.00902067, 0.01592466, 0.00914659, 0.01592466,\n",
      "       0.00902067, 0.00914659, 0.00902067, 0.01592466, 0.00057166,\n",
      "       0.00057166, 0.00902067, 0.01592466, 0.00902067, 0.00914659,\n",
      "       0.01829318, 0.01592466, 0.00857493, 0.01592466, 0.01543487,\n",
      "       0.02441472, 0.00857493, 0.01592466, 0.02425356, 0.02441472,\n",
      "       0.01543487, 0.02441472, 0.01543487, 0.03333333, 0.0329438 ,\n",
      "       0.01592466, 0.02398938, 0.00902067, 0.0329438 , 0.00902067,\n",
      "       0.02398938, 0.01830211, 0.02398938, 0.01592466, 0.01772152,\n",
      "       0.00902067, 0.02758824, 0.00902067, 0.0329438 , 0.01830211,\n",
      "       0.02758824, 0.01830211, 0.0329438 , 0.02758824, 0.02398938,\n",
      "       0.01830211, 0.02398938, 0.01830211, 0.01543487, 0.02441472]), 'rank_test_score': array([31, 31, 50, 31,  4,  4, 17,  4,  1,  4, 17,  1, 17,  4,  4,  4, 17,\n",
      "        4, 17,  1, 17,  4, 31,  4, 43, 17, 31,  4, 31, 17, 43, 17, 43, 31,\n",
      "       57,  4, 50, 17, 57, 17, 50, 31, 50,  4, 50, 17, 43, 17, 57, 31, 43,\n",
      "       31, 57, 43, 50, 31, 50, 31, 43, 17])}\n"
     ]
    },
    {
     "name": "stderr",
     "output_type": "stream",
     "text": [
      "D:\\Program Files (x86)\\Anaconda3\\lib\\site-packages\\sklearn\\model_selection\\_search.py:813: DeprecationWarning: The default of the `iid` parameter will change from True to False in version 0.22 and will be removed in 0.24. This will change numeric results when test-set sizes are unequal.\n",
      "  DeprecationWarning)\n"
     ]
    }
   ],
   "source": [
    "# 定义分类算法。n_neighbors和weights的参数名称和param_grid字典中的key名对应\n",
    "knn = KNeighborsClassifier()  \n",
    "\n",
    "# ================================网格搜索=======================================\n",
    "# 这里GridSearchCV的参数形式和cross_val_score的形式差不多，\n",
    "# 其中param_grid是parameter grid所对应的参数\n",
    "# GridSearchCV中的n_jobs设置为-1时，可以实现并行计算（如果你的电脑支持的情况下）\n",
    "grid = GridSearchCV(estimator=knn, param_grid=param_grid)\n",
    "grid.fit(X, y)\n",
    "print('网格搜索-度量记录：',grid.cv_results_)  # 包含每次训练的相关信息"
   ]
  },
  {
   "cell_type": "code",
   "execution_count": 6,
   "metadata": {},
   "outputs": [
    {
     "name": "stdout",
     "output_type": "stream",
     "text": [
      "网格搜索-最佳度量值: 0.9866666666666667\n",
      "网格搜索-最佳参数： {'n_neighbors': 5, 'weights': 'uniform'}\n",
      "网格搜索-最佳模型： KNeighborsClassifier(algorithm='auto', leaf_size=30, metric='minkowski',\n",
      "                     metric_params=None, n_jobs=None, n_neighbors=5, p=2,\n",
      "                     weights='uniform')\n"
     ]
    }
   ],
   "source": [
    "print('网格搜索-最佳度量值:',grid.best_score_)  # 获取最佳度量值\n",
    "print('网格搜索-最佳参数：',grid.best_params_)  # 获取最佳度量值时的代定参数的值。是一个字典\n",
    "print('网格搜索-最佳模型：',grid.best_estimator_)  # 获取最佳度量时的分类器模型"
   ]
  },
  {
   "cell_type": "code",
   "execution_count": 7,
   "metadata": {},
   "outputs": [
    {
     "name": "stdout",
     "output_type": "stream",
     "text": [
      "[1]\n"
     ]
    }
   ],
   "source": [
    "# 使用获取的最佳参数生成模型，预测数据\n",
    "knn = KNeighborsClassifier(n_neighbors=grid.best_params_['n_neighbors'], weights=grid.best_params_['weights'])  # 取出最佳参数进行建模\n",
    "knn.fit(X, y)  # 训练模型\n",
    "print(knn.predict([[3, 5, 4, 2]]))  # 预测新对象"
   ]
  },
  {
   "cell_type": "markdown",
   "metadata": {},
   "source": [
    "## 案例2 - KNN- RandomizedSearchCV"
   ]
  },
  {
   "cell_type": "code",
   "execution_count": 10,
   "metadata": {},
   "outputs": [
    {
     "name": "stdout",
     "output_type": "stream",
     "text": [
      "随机搜索-度量记录： {'mean_fit_time': array([0.00039868, 0.0005949 , 0.00019946, 0.0002991 , 0.00039892,\n",
      "       0.00049868, 0.00039895, 0.00049865, 0.00039887, 0.00039904]), 'std_fit_time': array([0.00048829, 0.00048585, 0.00039892, 0.00045688, 0.00048858,\n",
      "       0.00049868, 0.00048861, 0.00049865, 0.00048852, 0.00048872]), 'mean_score_time': array([0.00109742, 0.00149987, 0.00169795, 0.00169206, 0.00099704,\n",
      "       0.00069826, 0.0006979 , 0.00099747, 0.00079784, 0.0010968 ]), 'std_score_time': array([5.37216173e-04, 5.02972611e-04, 4.62196945e-04, 1.00124460e-03,\n",
      "       1.29794558e-05, 4.57116641e-04, 4.56882423e-04, 5.33653004e-07,\n",
      "       3.98922508e-04, 2.99191836e-04]), 'param_weights': masked_array(data=['distance', 'uniform', 'uniform', 'uniform', 'uniform',\n",
      "                   'distance', 'distance', 'uniform', 'distance',\n",
      "                   'uniform'],\n",
      "             mask=[False, False, False, False, False, False, False, False,\n",
      "                   False, False],\n",
      "       fill_value='?',\n",
      "            dtype=object), 'param_n_neighbors': masked_array(data=[16, 22, 18, 27, 29, 10, 22, 14, 12, 15],\n",
      "             mask=[False, False, False, False, False, False, False, False,\n",
      "                   False, False],\n",
      "       fill_value='?',\n",
      "            dtype=object), 'params': [{'weights': 'distance', 'n_neighbors': 16}, {'weights': 'uniform', 'n_neighbors': 22}, {'weights': 'uniform', 'n_neighbors': 18}, {'weights': 'uniform', 'n_neighbors': 27}, {'weights': 'uniform', 'n_neighbors': 29}, {'weights': 'distance', 'n_neighbors': 10}, {'weights': 'distance', 'n_neighbors': 22}, {'weights': 'uniform', 'n_neighbors': 14}, {'weights': 'distance', 'n_neighbors': 12}, {'weights': 'uniform', 'n_neighbors': 15}], 'split0_test_score': array([1.        , 0.93333333, 1.        , 0.93333333, 0.93333333,\n",
      "       1.        , 1.        , 1.        , 1.        , 0.93333333]), 'split1_test_score': array([0.93333333, 0.93333333, 0.93333333, 0.93333333, 0.93333333,\n",
      "       0.93333333, 0.93333333, 0.93333333, 0.93333333, 0.93333333]), 'split2_test_score': array([1., 1., 1., 1., 1., 1., 1., 1., 1., 1.]), 'split3_test_score': array([1.        , 1.        , 1.        , 1.        , 0.93333333,\n",
      "       1.        , 1.        , 1.        , 1.        , 1.        ]), 'split4_test_score': array([0.93333333, 1.        , 1.        , 1.        , 1.        ,\n",
      "       0.93333333, 0.86666667, 1.        , 0.86666667, 1.        ]), 'split5_test_score': array([0.93333333, 0.93333333, 0.93333333, 0.86666667, 0.86666667,\n",
      "       0.93333333, 0.93333333, 0.86666667, 1.        , 0.93333333]), 'split6_test_score': array([0.93333333, 0.93333333, 0.93333333, 0.93333333, 0.93333333,\n",
      "       0.93333333, 0.93333333, 0.93333333, 0.93333333, 0.93333333]), 'split7_test_score': array([1.        , 0.93333333, 1.        , 1.        , 0.93333333,\n",
      "       1.        , 1.        , 1.        , 1.        , 1.        ]), 'split8_test_score': array([1., 1., 1., 1., 1., 1., 1., 1., 1., 1.]), 'split9_test_score': array([1., 1., 1., 1., 1., 1., 1., 1., 1., 1.]), 'mean_test_score': array([0.97333333, 0.96666667, 0.98      , 0.96666667, 0.95333333,\n",
      "       0.97333333, 0.96666667, 0.97333333, 0.97333333, 0.97333333]), 'std_test_score': array([0.03265986, 0.03333333, 0.0305505 , 0.04472136, 0.04268749,\n",
      "       0.03265986, 0.04472136, 0.04422166, 0.04422166, 0.03265986]), 'rank_test_score': array([ 2,  7,  1,  7, 10,  2,  7,  2,  2,  2])}\n"
     ]
    }
   ],
   "source": [
    "# ==================================随机搜索===========================================\n",
    "grid = RandomizedSearchCV(knn, param_grid, cv=10, scoring='accuracy', random_state=5)\n",
    "grid.fit(X, y)\n",
    "print('随机搜索-度量记录：',grid.cv_results_)  # 包含每次训练的相关信息\n"
   ]
  },
  {
   "cell_type": "code",
   "execution_count": 11,
   "metadata": {},
   "outputs": [
    {
     "name": "stdout",
     "output_type": "stream",
     "text": [
      "随机搜索-最佳度量值: 0.98\n",
      "随机搜索-最佳参数： {'weights': 'uniform', 'n_neighbors': 18}\n",
      "随机搜索-最佳模型： KNeighborsClassifier(algorithm='auto', leaf_size=30, metric='minkowski',\n",
      "                     metric_params=None, n_jobs=None, n_neighbors=18, p=2,\n",
      "                     weights='uniform')\n"
     ]
    }
   ],
   "source": [
    "print('随机搜索-最佳度量值:',grid.best_score_)  # 获取最佳度量值\n",
    "print('随机搜索-最佳参数：',grid.best_params_)  # 获取最佳度量值时的代定参数的值。是一个字典\n",
    "print('随机搜索-最佳模型：',grid.best_estimator_)  # 获取最佳度量时的分类器模型"
   ]
  },
  {
   "cell_type": "code",
   "execution_count": 10,
   "metadata": {},
   "outputs": [
    {
     "name": "stdout",
     "output_type": "stream",
     "text": [
      "[1]\n"
     ]
    }
   ],
   "source": [
    "# 使用获取的最佳参数生成模型，预测数据\n",
    "knn = KNeighborsClassifier(n_neighbors=grid.best_params_['n_neighbors'], weights=grid.best_params_['weights'])  # 取出最佳参数进行建模\n",
    "knn.fit(X, y)  # 训练模型\n",
    "print(knn.predict([[3, 5, 4, 2]]))  # 预测新对象"
   ]
  },
  {
   "cell_type": "code",
   "execution_count": 12,
   "metadata": {},
   "outputs": [
    {
     "name": "stdout",
     "output_type": "stream",
     "text": [
      "随机搜索-最佳度量值: 0.98\n"
     ]
    }
   ],
   "source": [
    "# =====================================自定义度量===========================================\n",
    "from sklearn import metrics\n",
    "# 自定义度量函数\n",
    "def scorerfun(estimator, X, y):\n",
    "    y_pred = estimator.predict(X)\n",
    "    return metrics.accuracy_score(y, y_pred)\n",
    "\n",
    "rand = RandomizedSearchCV(knn, param_grid, cv=10, \n",
    "                          scoring=scorerfun, n_iter=10, random_state=5)  #\n",
    "rand.fit(X, y)\n",
    "\n",
    "print('随机搜索-最佳度量值:',grid.best_score_)  # 获取最佳度量值"
   ]
  },
  {
   "cell_type": "markdown",
   "metadata": {},
   "source": [
    "## 案例3 -- SVM GridSearchCV"
   ]
  },
  {
   "cell_type": "code",
   "execution_count": 16,
   "metadata": {},
   "outputs": [],
   "source": [
    "from sklearn import datasets\n",
    "from sklearn.model_selection import train_test_split\n",
    "from sklearn.model_selection import GridSearchCV\n",
    "from sklearn.metrics import classification_report\n",
    "from sklearn.svm import SVC"
   ]
  },
  {
   "cell_type": "code",
   "execution_count": 17,
   "metadata": {},
   "outputs": [],
   "source": [
    "# Loading the Digits dataset\n",
    "digits = datasets.load_digits()\n",
    "\n",
    "# To apply an classifier on this data, we need to flatten the image, to\n",
    "# turn the data in a (samples, feature) matrix:\n",
    "n_samples = len(digits.images)\n",
    "# 分别 取出 数据 与 标签 reshape的作用是把原始矩阵格式的像素数据转化为一行一个样本的形式\n",
    "X = digits.images.reshape((n_samples, -1))\n",
    "y = digits.target\n",
    "\n",
    "# Split the dataset in two equal parts\n",
    "# 分割测试数据与训练数据(注意这里已经分割了数据集)\n",
    "X_train, X_test, y_train, y_test = train_test_split(\n",
    "    X, y, test_size=0.5, random_state=0)"
   ]
  },
  {
   "cell_type": "code",
   "execution_count": 18,
   "metadata": {},
   "outputs": [],
   "source": [
    "# Set the parameters by cross-validation\n",
    "# 输入模型的超参由验证集来选择\n",
    "# SVM主要的超参有类似于正则的系数和内核函数\n",
    "tuned_parameters = [{\n",
    "    'kernel': ['rbf'],\n",
    "    'gamma': [1e-3, 1e-4],\n",
    "    'C': [1, 10, 100, 1000]\n",
    "    }, {\n",
    "    'kernel': ['linear'],\n",
    "    'C': [1, 10, 100, 1000]\n",
    "    }]\n",
    "\n",
    "#观察角度分别有准度与回归\n",
    "scores = ['precision', 'recall']"
   ]
  },
  {
   "cell_type": "code",
   "execution_count": 19,
   "metadata": {},
   "outputs": [
    {
     "name": "stdout",
     "output_type": "stream",
     "text": [
      "# Tuning hyper-parameters for precision\n",
      "\n",
      "Best parameters set found on development set:\n",
      "\n",
      "{'C': 10, 'gamma': 0.001, 'kernel': 'rbf'}\n",
      "\n",
      "Grid scores on development set:\n",
      "\n",
      "0.986 (+/-0.016) for {'C': 1, 'gamma': 0.001, 'kernel': 'rbf'}\n",
      "0.959 (+/-0.029) for {'C': 1, 'gamma': 0.0001, 'kernel': 'rbf'}\n",
      "0.988 (+/-0.017) for {'C': 10, 'gamma': 0.001, 'kernel': 'rbf'}\n",
      "0.982 (+/-0.026) for {'C': 10, 'gamma': 0.0001, 'kernel': 'rbf'}\n",
      "0.988 (+/-0.017) for {'C': 100, 'gamma': 0.001, 'kernel': 'rbf'}\n",
      "0.982 (+/-0.025) for {'C': 100, 'gamma': 0.0001, 'kernel': 'rbf'}\n",
      "0.988 (+/-0.017) for {'C': 1000, 'gamma': 0.001, 'kernel': 'rbf'}\n",
      "0.982 (+/-0.025) for {'C': 1000, 'gamma': 0.0001, 'kernel': 'rbf'}\n",
      "0.975 (+/-0.014) for {'C': 1, 'kernel': 'linear'}\n",
      "0.975 (+/-0.014) for {'C': 10, 'kernel': 'linear'}\n",
      "0.975 (+/-0.014) for {'C': 100, 'kernel': 'linear'}\n",
      "0.975 (+/-0.014) for {'C': 1000, 'kernel': 'linear'}\n",
      "\n",
      "Detailed classification report:\n",
      "\n",
      "The model is trained on the full development set.\n",
      "The scores are computed on the full evaluation set.\n",
      "\n",
      "              precision    recall  f1-score   support\n",
      "\n",
      "           0       1.00      1.00      1.00        89\n",
      "           1       0.97      1.00      0.98        90\n",
      "           2       0.99      0.98      0.98        92\n",
      "           3       1.00      0.99      0.99        93\n",
      "           4       1.00      1.00      1.00        76\n",
      "           5       0.99      0.98      0.99       108\n",
      "           6       0.99      1.00      0.99        89\n",
      "           7       0.99      1.00      0.99        78\n",
      "           8       1.00      0.98      0.99        92\n",
      "           9       0.99      0.99      0.99        92\n",
      "\n",
      "    accuracy                           0.99       899\n",
      "   macro avg       0.99      0.99      0.99       899\n",
      "weighted avg       0.99      0.99      0.99       899\n",
      "\n",
      "\n",
      "# Tuning hyper-parameters for recall\n",
      "\n",
      "Best parameters set found on development set:\n",
      "\n",
      "{'C': 10, 'gamma': 0.001, 'kernel': 'rbf'}\n",
      "\n",
      "Grid scores on development set:\n",
      "\n",
      "0.986 (+/-0.019) for {'C': 1, 'gamma': 0.001, 'kernel': 'rbf'}\n",
      "0.957 (+/-0.029) for {'C': 1, 'gamma': 0.0001, 'kernel': 'rbf'}\n",
      "0.987 (+/-0.019) for {'C': 10, 'gamma': 0.001, 'kernel': 'rbf'}\n",
      "0.981 (+/-0.028) for {'C': 10, 'gamma': 0.0001, 'kernel': 'rbf'}\n",
      "0.987 (+/-0.019) for {'C': 100, 'gamma': 0.001, 'kernel': 'rbf'}\n",
      "0.981 (+/-0.026) for {'C': 100, 'gamma': 0.0001, 'kernel': 'rbf'}\n",
      "0.987 (+/-0.019) for {'C': 1000, 'gamma': 0.001, 'kernel': 'rbf'}\n",
      "0.981 (+/-0.026) for {'C': 1000, 'gamma': 0.0001, 'kernel': 'rbf'}\n",
      "0.972 (+/-0.012) for {'C': 1, 'kernel': 'linear'}\n",
      "0.972 (+/-0.012) for {'C': 10, 'kernel': 'linear'}\n",
      "0.972 (+/-0.012) for {'C': 100, 'kernel': 'linear'}\n",
      "0.972 (+/-0.012) for {'C': 1000, 'kernel': 'linear'}\n",
      "\n",
      "Detailed classification report:\n",
      "\n",
      "The model is trained on the full development set.\n",
      "The scores are computed on the full evaluation set.\n",
      "\n",
      "              precision    recall  f1-score   support\n",
      "\n",
      "           0       1.00      1.00      1.00        89\n",
      "           1       0.97      1.00      0.98        90\n",
      "           2       0.99      0.98      0.98        92\n",
      "           3       1.00      0.99      0.99        93\n",
      "           4       1.00      1.00      1.00        76\n",
      "           5       0.99      0.98      0.99       108\n",
      "           6       0.99      1.00      0.99        89\n",
      "           7       0.99      1.00      0.99        78\n",
      "           8       1.00      0.98      0.99        92\n",
      "           9       0.99      0.99      0.99        92\n",
      "\n",
      "    accuracy                           0.99       899\n",
      "   macro avg       0.99      0.99      0.99       899\n",
      "weighted avg       0.99      0.99      0.99       899\n",
      "\n",
      "\n"
     ]
    }
   ],
   "source": [
    "\n",
    "for score in scores:\n",
    "    print(\"# Tuning hyper-parameters for %s\" % score)\n",
    "    print()\n",
    "    # 通过 GridSearchCV 搜索最佳的超参数\n",
    "    clf = GridSearchCV(SVC(), tuned_parameters, cv=5,\n",
    "                       scoring='%s_macro' % score)\n",
    "  # 这里进行交叉验证的数据是之前分割的训练数据\n",
    "  # 而交叉验证本身又会分割数据，所以交叉验证这里分割的测试集我么可以看做为验证集，用来拟合模型的超参\n",
    "    clf.fit(X_train, y_train)\n",
    "\n",
    "    print(\"Best parameters set found on development set:\")\n",
    "    print()\n",
    "    print(clf.best_params_)\n",
    "    print()\n",
    "    print(\"Grid scores on development set:\")\n",
    "    print()\n",
    "    means = clf.cv_results_['mean_test_score']\n",
    "    stds = clf.cv_results_['std_test_score']\n",
    "    \n",
    "    for mean, std, params in zip(means, stds, clf.cv_results_['params']):\n",
    "        print(\"%0.3f (+/-%0.03f) for %r\"\n",
    "              % (mean, std * 2, params))\n",
    "    print()\n",
    "\n",
    "    print(\"Detailed classification report:\")\n",
    "    print()\n",
    "    print(\"The model is trained on the full development set.\")\n",
    "    print(\"The scores are computed on the full evaluation set.\")\n",
    "    print()\n",
    "    # 注意最后利用测试集展示的才是泛化误差\n",
    "    y_true, y_pred = y_test, clf.predict(X_test)\n",
    "    \n",
    "    print(classification_report(y_true, y_pred))\n",
    "    print()"
   ]
  },
  {
   "cell_type": "markdown",
   "metadata": {},
   "source": [
    "[Sklearn参数详解—SVM](https://cloud.tencent.com/developer/article/1146077)"
   ]
  },
  {
   "cell_type": "markdown",
   "metadata": {},
   "source": [
    "[sklearn参数](https://www.cnblogs.com/solong1989/p/9620170.html)"
   ]
  },
  {
   "cell_type": "code",
   "execution_count": null,
   "metadata": {},
   "outputs": [],
   "source": []
  }
 ],
 "metadata": {
  "kernelspec": {
   "display_name": "Python 3",
   "language": "python",
   "name": "python3"
  },
  "language_info": {
   "codemirror_mode": {
    "name": "ipython",
    "version": 3
   },
   "file_extension": ".py",
   "mimetype": "text/x-python",
   "name": "python",
   "nbconvert_exporter": "python",
   "pygments_lexer": "ipython3",
   "version": "3.7.1"
  },
  "toc": {
   "base_numbering": 1,
   "nav_menu": {},
   "number_sections": true,
   "sideBar": true,
   "skip_h1_title": false,
   "title_cell": "Table of Contents",
   "title_sidebar": "Contents",
   "toc_cell": false,
   "toc_position": {},
   "toc_section_display": true,
   "toc_window_display": false
  }
 },
 "nbformat": 4,
 "nbformat_minor": 2
}
