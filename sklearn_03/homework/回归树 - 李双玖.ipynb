{
 "cells": [
  {
   "cell_type": "code",
   "execution_count": 56,
   "metadata": {},
   "outputs": [],
   "source": [
    "import numpy as np\n",
    "from sklearn.model_selection import GridSearchCV # 网格调参\n",
    "from sklearn.datasets import load_boston\n",
    "from sklearn.model_selection import train_test_split\n",
    "from sklearn.tree import DecisionTreeClassifier # 决策树模型\n",
    "from sklearn.preprocessing import StandardScaler"
   ]
  },
  {
   "cell_type": "code",
   "execution_count": 57,
   "metadata": {},
   "outputs": [],
   "source": [
    "# Loading the Digits dataset\n",
    "data = load_boston()\n",
    "X_train, X_test, y_train, y_test = train_test_split(data.data, data.target)\n",
    "\n",
    "# 然后用StandardScaler做归一化处理\n",
    "X_scaler = StandardScaler()\n",
    "y_scaler = StandardScaler()\n",
    "X_train = X_scaler.fit_transform(X_train)\n",
    "y_train = y_scaler.fit_transform(y_train.reshape(-1,1))\n",
    "X_test = X_scaler.transform(X_test)\n",
    "y_test = y_scaler.transform(y_test.reshape(-1,1))"
   ]
  },
  {
   "cell_type": "code",
   "execution_count": 58,
   "metadata": {},
   "outputs": [],
   "source": [
    "param_grid = {\n",
    "    'criterion': ('gini','entropy'),\n",
    "    'splitter': ('best','random'),\n",
    "    'max_depth': range(1,10),\n",
    "    'min_samples_leaf': range(1,50,5),\n",
    "    'min_impurity_decrease': np.linspace(0,0.5,20) # 信息增益的最小值\n",
    "}"
   ]
  },
  {
   "cell_type": "code",
   "execution_count": 59,
   "metadata": {},
   "outputs": [
    {
     "name": "stdout",
     "output_type": "stream",
     "text": [
      "网格搜索-最佳度量值: 0.8232189973614775\n",
      "网格搜索-最佳参数: {'criterion': 'entropy', 'max_depth': 4, 'min_impurity_decrease': 0.02631578947368421, 'min_samples_leaf': 6, 'splitter': 'random'}\n",
      "网格搜索-最佳模型: DecisionTreeClassifier(class_weight=None, criterion='entropy', max_depth=4,\n",
      "                       max_features=None, max_leaf_nodes=None,\n",
      "                       min_impurity_decrease=0.02631578947368421,\n",
      "                       min_impurity_split=None, min_samples_leaf=6,\n",
      "                       min_samples_split=2, min_weight_fraction_leaf=0.0,\n",
      "                       presort=False, random_state=25, splitter='random')\n"
     ]
    }
   ],
   "source": [
    "clf = DecisionTreeClassifier(random_state=25)\n",
    "grid = GridSearchCV(clf, param_grid, cv=5)\n",
    "grid.fit(X_train, y_train.astype(int))\n",
    "print('网格搜索-最佳度量值:', grid.best_score_) # 获取最佳度量值\n",
    "print('网格搜索-最佳参数:', grid.best_params_) # 获取最佳度量值时的代定参数的值。是一个字典\n",
    "print('网格搜索-最佳模型:', grid.best_estimator_) # 获取最佳度量时的分类器模型"
   ]
  },
  {
   "cell_type": "code",
   "execution_count": null,
   "metadata": {},
   "outputs": [],
   "source": []
  }
 ],
 "metadata": {
  "kernelspec": {
   "display_name": "Python 3",
   "language": "python",
   "name": "python3"
  },
  "language_info": {
   "codemirror_mode": {
    "name": "ipython",
    "version": 3
   },
   "file_extension": ".py",
   "mimetype": "text/x-python",
   "name": "python",
   "nbconvert_exporter": "python",
   "pygments_lexer": "ipython3",
   "version": "3.7.1"
  }
 },
 "nbformat": 4,
 "nbformat_minor": 2
}
