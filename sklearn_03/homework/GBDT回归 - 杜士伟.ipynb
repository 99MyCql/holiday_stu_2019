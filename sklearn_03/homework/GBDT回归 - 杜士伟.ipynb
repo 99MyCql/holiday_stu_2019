{
 "cells": [
  {
   "cell_type": "markdown",
   "metadata": {},
   "source": [
    "导入库"
   ]
  },
  {
   "cell_type": "code",
   "execution_count": 33,
   "metadata": {},
   "outputs": [],
   "source": [
    "import pandas as pd\n",
    "import numpy as np\n",
    "from sklearn.ensemble import GradientBoostingClassifier\n",
    "from sklearn import cross_validation, metrics\n",
    "from sklearn.grid_search import GridSearchCV\n",
    "\n",
    "import matplotlib.pylab as plt\n",
    "%matplotlib inline "
   ]
  },
  {
   "cell_type": "code",
   "execution_count": 20,
   "metadata": {},
   "outputs": [],
   "source": [
    "from sklearn.ensemble import GradientBoostingRegressor"
   ]
  },
  {
   "cell_type": "markdown",
   "metadata": {},
   "source": [
    "导入数据"
   ]
  },
  {
   "cell_type": "code",
   "execution_count": 21,
   "metadata": {},
   "outputs": [
    {
     "data": {
      "text/plain": [
       "0    19680\n",
       "1      320\n",
       "Name: Disbursed, dtype: int64"
      ]
     },
     "execution_count": 21,
     "metadata": {},
     "output_type": "execute_result"
    }
   ],
   "source": [
    "train = pd.read_csv('train_modified.csv')\n",
    "target='Disbursed' # Disbursed的值就是二元分类的输出\n",
    "IDcol = 'ID'\n",
    "train['Disbursed'].value_counts()"
   ]
  },
  {
   "cell_type": "code",
   "execution_count": 26,
   "metadata": {},
   "outputs": [],
   "source": [
    "x_columns = [x for x in train.columns if x not in [target,IDcol]]  \n",
    "X = train[x_columns]  \n",
    "y = train['Disbursed']  \n",
    "   "
   ]
  },
  {
   "cell_type": "code",
   "execution_count": 35,
   "metadata": {},
   "outputs": [
    {
     "name": "stdout",
     "output_type": "stream",
     "text": [
      "Accuracy : 0.9852\n",
      "AUC Score (Train): 0.900531\n"
     ]
    }
   ],
   "source": [
    "gbm0 = GradientBoostingClassifier(random_state=10)\n",
    "gbm0.fit(X,y)\n",
    "y_pred = gbm0.predict(X)\n",
    "y_predprob = gbm0.predict_proba(X)[:,1]#给出带有概率值的结果。每个点在所有label（类别）的概率和为1. \n",
    "print (\"Accuracy : %.4g\" % metrics.accuracy_score(y.values, y_pred))\n",
    "print (\"AUC Score (Train): %f\" % metrics.roc_auc_score(y, y_predprob))\n",
    "#AUC是指从一堆样本中随机抽一个，抽到正样本的概率比抽到负样本的概率大的可能性 "
   ]
  },
  {
   "cell_type": "markdown",
   "metadata": {},
   "source": [
    "找树的数量最佳值"
   ]
  },
  {
   "cell_type": "code",
   "execution_count": 28,
   "metadata": {},
   "outputs": [
    {
     "data": {
      "text/plain": [
       "([mean: -0.01534, std: 0.00095, params: {'n_estimators': 100},\n",
       "  mean: -0.01544, std: 0.00097, params: {'n_estimators': 150},\n",
       "  mean: -0.01554, std: 0.00099, params: {'n_estimators': 200},\n",
       "  mean: -0.01566, std: 0.00100, params: {'n_estimators': 250},\n",
       "  mean: -0.01578, std: 0.00098, params: {'n_estimators': 300},\n",
       "  mean: -0.01588, std: 0.00102, params: {'n_estimators': 350},\n",
       "  mean: -0.01597, std: 0.00101, params: {'n_estimators': 400},\n",
       "  mean: -0.01609, std: 0.00100, params: {'n_estimators': 450},\n",
       "  mean: -0.01616, std: 0.00102, params: {'n_estimators': 500},\n",
       "  mean: -0.01628, std: 0.00101, params: {'n_estimators': 550}],\n",
       " {'n_estimators': 100},\n",
       " -0.015341378286619639)"
      ]
     },
     "execution_count": 28,
     "metadata": {},
     "output_type": "execute_result"
    }
   ],
   "source": [
    "param_gbdt = {'n_estimators':list(range(100,600,50))}\n",
    "gbdt_search = GridSearchCV(estimator=GradientBoostingRegressor(learning_rate=0.1,\n",
    "                            min_samples_split=300,min_samples_leaf=20,max_depth=8,max_features='sqrt',subsample=0.8,random_state=75),\n",
    "                          param_grid=param_gbdt,scoring='neg_mean_squared_error',iid=False,cv=3)\n",
    "gbdt_search.fit(X,y)\n",
    "gbdt_search.grid_scores_,gbdt_search.best_params_,gbdt_search.best_score_"
   ]
  },
  {
   "cell_type": "markdown",
   "metadata": {},
   "source": [
    "找树的深度最佳值"
   ]
  },
  {
   "cell_type": "code",
   "execution_count": 29,
   "metadata": {},
   "outputs": [
    {
     "name": "stdout",
     "output_type": "stream",
     "text": [
      "[mean: -0.01549, std: 0.00118, params: {'max_depth': 6}, mean: -0.01550, std: 0.00117, params: {'max_depth': 7}, mean: -0.01556, std: 0.00116, params: {'max_depth': 8}, mean: -0.01566, std: 0.00122, params: {'max_depth': 9}, mean: -0.01571, std: 0.00116, params: {'max_depth': 10}]\n",
      "{'max_depth': 6}\n",
      "-0.015487898597004484\n"
     ]
    }
   ],
   "source": [
    "param_gbdt1 = {'max_depth':[6,7,8,9,10]}\n",
    "gbdt_search1 = GridSearchCV(estimator=GradientBoostingRegressor(learning_rate=0.1,n_estimators = 200,min_samples_split=300,\n",
    "                            min_samples_leaf=20,max_features='sqrt',subsample=0.8,random_state=75),\n",
    "                            param_grid=param_gbdt1,scoring='neg_mean_squared_error',iid=False,cv=5)\n",
    "gbdt_search1.fit(X,y)\n",
    "print(gbdt_search1.grid_scores_)\n",
    "print(gbdt_search1.best_params_)\n",
    "print(gbdt_search1.best_score_)"
   ]
  },
  {
   "cell_type": "markdown",
   "metadata": {},
   "source": [
    "找min_samples_split，min_samples_leaf最佳值"
   ]
  },
  {
   "cell_type": "code",
   "execution_count": 30,
   "metadata": {},
   "outputs": [
    {
     "name": "stdout",
     "output_type": "stream",
     "text": [
      "[mean: -0.01533, std: 0.00112, params: {'min_samples_leaf': 30, 'min_samples_split': 500}, mean: -0.01534, std: 0.00110, params: {'min_samples_leaf': 30, 'min_samples_split': 700}, mean: -0.01533, std: 0.00110, params: {'min_samples_leaf': 30, 'min_samples_split': 900}, mean: -0.01534, std: 0.00112, params: {'min_samples_leaf': 30, 'min_samples_split': 1100}, mean: -0.01531, std: 0.00112, params: {'min_samples_leaf': 50, 'min_samples_split': 500}, mean: -0.01533, std: 0.00109, params: {'min_samples_leaf': 50, 'min_samples_split': 700}, mean: -0.01534, std: 0.00112, params: {'min_samples_leaf': 50, 'min_samples_split': 900}, mean: -0.01533, std: 0.00110, params: {'min_samples_leaf': 50, 'min_samples_split': 1100}, mean: -0.01530, std: 0.00109, params: {'min_samples_leaf': 70, 'min_samples_split': 500}, mean: -0.01534, std: 0.00109, params: {'min_samples_leaf': 70, 'min_samples_split': 700}, mean: -0.01534, std: 0.00112, params: {'min_samples_leaf': 70, 'min_samples_split': 900}, mean: -0.01533, std: 0.00113, params: {'min_samples_leaf': 70, 'min_samples_split': 1100}, mean: -0.01530, std: 0.00111, params: {'min_samples_leaf': 90, 'min_samples_split': 500}, mean: -0.01531, std: 0.00111, params: {'min_samples_leaf': 90, 'min_samples_split': 700}, mean: -0.01533, std: 0.00112, params: {'min_samples_leaf': 90, 'min_samples_split': 900}, mean: -0.01534, std: 0.00113, params: {'min_samples_leaf': 90, 'min_samples_split': 1100}]\n",
      "{'min_samples_leaf': 90, 'min_samples_split': 500}\n",
      "-0.015299011484534141\n"
     ]
    }
   ],
   "source": [
    "param_gbdt2 = {'min_samples_split':[500,700,900,1100],\n",
    "               'min_samples_leaf':[30,50,70,90]}\n",
    "gbdt_search2 = GridSearchCV(estimator=GradientBoostingRegressor(learning_rate=0.1,n_estimators = 100,max_depth=6,\n",
    "                                max_features='sqrt',subsample=0.8,random_state=75),n_jobs=3,\n",
    "                            param_grid=param_gbdt2,scoring='neg_mean_squared_error',iid=False,cv=5)\n",
    "gbdt_search2.fit(X,y)\n",
    "print(gbdt_search2.grid_scores_)\n",
    "print(gbdt_search2.best_params_)\n",
    "print(gbdt_search2.best_score_)"
   ]
  },
  {
   "cell_type": "markdown",
   "metadata": {},
   "source": [
    "对n_estimators和学习率进行调整"
   ]
  },
  {
   "cell_type": "code",
   "execution_count": 32,
   "metadata": {},
   "outputs": [
    {
     "name": "stdout",
     "output_type": "stream",
     "text": [
      "[mean: -0.01529, std: 0.00112, params: {'learning_rate': 0.06, 'n_estimators': 100}, mean: -0.01529, std: 0.00111, params: {'learning_rate': 0.06, 'n_estimators': 150}, mean: -0.01530, std: 0.00111, params: {'learning_rate': 0.06, 'n_estimators': 200}, mean: -0.01531, std: 0.00112, params: {'learning_rate': 0.06, 'n_estimators': 250}, mean: -0.01529, std: 0.00111, params: {'learning_rate': 0.08, 'n_estimators': 100}, mean: -0.01532, std: 0.00112, params: {'learning_rate': 0.08, 'n_estimators': 150}, mean: -0.01534, std: 0.00112, params: {'learning_rate': 0.08, 'n_estimators': 200}, mean: -0.01538, std: 0.00111, params: {'learning_rate': 0.08, 'n_estimators': 250}, mean: -0.01531, std: 0.00114, params: {'learning_rate': 0.1, 'n_estimators': 100}, mean: -0.01533, std: 0.00114, params: {'learning_rate': 0.1, 'n_estimators': 150}, mean: -0.01536, std: 0.00114, params: {'learning_rate': 0.1, 'n_estimators': 200}, mean: -0.01541, std: 0.00113, params: {'learning_rate': 0.1, 'n_estimators': 250}]\n",
      "{'learning_rate': 0.06, 'n_estimators': 150}\n",
      "-0.01528854045176902\n"
     ]
    }
   ],
   "source": [
    "param_gbdt3 = {'learning_rate':[0.06,0.08,0.1],\n",
    "               'n_estimators':[100,150,200,250]}\n",
    "gbdt_search3 = GridSearchCV(estimator=GradientBoostingRegressor(min_samples_split=700,min_samples_leaf=70,\n",
    "                                max_depth=9,max_features='sqrt',subsample=0.8,random_state=75),n_jobs=3,\n",
    "                            param_grid=param_gbdt3,scoring='neg_mean_squared_error',iid=False,cv=5)\n",
    "gbdt_search3.fit(X,y)\n",
    "print(gbdt_search3.grid_scores_)\n",
    "print(gbdt_search3.best_params_)\n",
    "print(gbdt_search3.best_score_)"
   ]
  },
  {
   "cell_type": "markdown",
   "metadata": {},
   "source": [
    "用调好的参数对数据进行拟合"
   ]
  },
  {
   "cell_type": "code",
   "execution_count": 37,
   "metadata": {},
   "outputs": [
    {
     "name": "stdout",
     "output_type": "stream",
     "text": [
      "Accuracy : 0.984\n",
      "AUC Score (Train): 0.906571\n"
     ]
    }
   ],
   "source": [
    "gbm3 = GradientBoostingClassifier(learning_rate=0.06, n_estimators=100,max_depth=6, min_samples_leaf =90, \n",
    "               min_samples_split =500, max_features=9, subsample=0.7, random_state=10)\n",
    "gbm3.fit(X,y)\n",
    "y_pred = gbm3.predict(X)\n",
    "y_predprob = gbm3.predict_proba(X)[:,1]\n",
    "print(\"Accuracy : %.4g\" % metrics.accuracy_score(y.values, y_pred))\n",
    "print (\"AUC Score (Train): %f\" % metrics.roc_auc_score(y, y_predprob))"
   ]
  },
  {
   "cell_type": "markdown",
   "metadata": {},
   "source": [
    "参考"
   ]
  },
  {
   "cell_type": "code",
   "execution_count": null,
   "metadata": {},
   "outputs": [],
   "source": [
    "https://www.cnblogs.com/nxf-rabbit75/p/10593524.html"
   ]
  }
 ],
 "metadata": {
  "kernelspec": {
   "display_name": "Python 3",
   "language": "python",
   "name": "python3"
  },
  "language_info": {
   "codemirror_mode": {
    "name": "ipython",
    "version": 3
   },
   "file_extension": ".py",
   "mimetype": "text/x-python",
   "name": "python",
   "nbconvert_exporter": "python",
   "pygments_lexer": "ipython3",
   "version": "3.7.1"
  }
 },
 "nbformat": 4,
 "nbformat_minor": 2
}
