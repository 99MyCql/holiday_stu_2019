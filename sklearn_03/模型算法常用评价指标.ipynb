{
 "cells": [
  {
   "cell_type": "markdown",
   "metadata": {},
   "source": [
    "# 分类算法常用评价指标"
   ]
  },
  {
   "cell_type": "markdown",
   "metadata": {},
   "source": [
    "##  二维混淆矩阵"
   ]
  },
  {
   "cell_type": "markdown",
   "metadata": {},
   "source": [
    "\n",
    "\n",
    "                                         预测结果\n",
    "\n",
    "          真实类别            类别1（正例）               类别2（反例）                               \n",
    "\n",
    "         类别1（正例）        真正例(True Positive) TP    假反例(False Negatibe) FN\n",
    "\n",
    "         类别2（反例）        假正例(False Positive)FP    真反例(True Negatibe) TN"
   ]
  },
  {
   "cell_type": "code",
   "execution_count": 1,
   "metadata": {},
   "outputs": [],
   "source": [
    "from sklearn.metrics import confusion_matrix"
   ]
  },
  {
   "cell_type": "markdown",
   "metadata": {},
   "source": [
    "sklearn.metrics.confusion_matrix(y_true, y_pred, labels=None, sample_weight=None)\n",
    "\n",
    "- y_true: 是样本真实分类结果，y_pred: 是样本预测分类结果 \n",
    "- labels：是所给出的类别，通过这个可对类别进行选择 \n",
    "- sample_weight : 样本权重"
   ]
  },
  {
   "cell_type": "markdown",
   "metadata": {},
   "source": [
    "关于类别顺序可由 labels参数控制调整，例如 labels=[2,1,0],则类别将以这个顺序自上向下排列。\n",
    "\n",
    "默认数字类别是从小到大排列，英文类别是按首字母顺序排列"
   ]
  },
  {
   "cell_type": "code",
   "execution_count": 2,
   "metadata": {},
   "outputs": [],
   "source": [
    "y_true =[0,0,1,0]\n",
    "y_pred = [1,0,1,0]  "
   ]
  },
  {
   "cell_type": "code",
   "execution_count": 3,
   "metadata": {
    "scrolled": true
   },
   "outputs": [
    {
     "name": "stdout",
     "output_type": "stream",
     "text": [
      "[[2 1]\n",
      " [0 1]]\n"
     ]
    }
   ],
   "source": [
    "print(confusion_matrix(y_true, y_pred))"
   ]
  },
  {
   "cell_type": "code",
   "execution_count": 4,
   "metadata": {},
   "outputs": [
    {
     "name": "stdout",
     "output_type": "stream",
     "text": [
      "[[1 1 0]\n",
      " [1 1 0]\n",
      " [0 0 2]]\n"
     ]
    }
   ],
   "source": [
    "\n",
    "y_true=[2,1,0,1,2,0]\n",
    "y_pred=[2,0,0,1,2,1]\n",
    "print(confusion_matrix(y_true, y_pred))"
   ]
  },
  {
   "cell_type": "code",
   "execution_count": 5,
   "metadata": {},
   "outputs": [],
   "source": [
    "y_true = [\"cat\", \"ant\", \"cat\", \"cat\", \"ant\", \"bird\"]\n",
    "y_pred = [\"ant\", \"ant\", \"cat\", \"cat\", \"ant\", \"cat\"]"
   ]
  },
  {
   "cell_type": "code",
   "execution_count": 6,
   "metadata": {
    "scrolled": true
   },
   "outputs": [
    {
     "name": "stdout",
     "output_type": "stream",
     "text": [
      "[[2 0 0]\n",
      " [0 0 1]\n",
      " [1 0 2]]\n"
     ]
    }
   ],
   "source": [
    "print(confusion_matrix(y_true, y_pred))"
   ]
  },
  {
   "cell_type": "markdown",
   "metadata": {},
   "source": [
    "## 错误率与准确率(accuracy)\n",
    "\n",
    "类正确的样本数占样本总数的比例——(TP+TN)/(TP+FP+TN+FN)\n",
    "\n",
    "错误率 = 1-准确率"
   ]
  },
  {
   "cell_type": "code",
   "execution_count": 8,
   "metadata": {},
   "outputs": [
    {
     "name": "stdout",
     "output_type": "stream",
     "text": [
      "0.75\n"
     ]
    }
   ],
   "source": [
    "from sklearn.metrics import accuracy_score\n",
    "y_true =[0,0,1,0]\n",
    "y_pred = [1,0,1,0]\n",
    "print(accuracy_score(y_true, y_pred))"
   ]
  },
  {
   "cell_type": "markdown",
   "metadata": {},
   "source": [
    "## 精确率(Precision)\n",
    "\n"
   ]
  },
  {
   "cell_type": "markdown",
   "metadata": {},
   "source": [
    "也叫查准率，表示正确分类的正例个数占分类为正例的实例个数的比例\n",
    "\n",
    "    TP /(TP+FP)"
   ]
  },
  {
   "cell_type": "code",
   "execution_count": 9,
   "metadata": {},
   "outputs": [],
   "source": [
    "from sklearn.metrics import precision_score"
   ]
  },
  {
   "cell_type": "code",
   "execution_count": 12,
   "metadata": {},
   "outputs": [
    {
     "data": {
      "text/plain": [
       "array([[2, 1],\n",
       "       [0, 1]], dtype=int64)"
      ]
     },
     "execution_count": 12,
     "metadata": {},
     "output_type": "execute_result"
    }
   ],
   "source": [
    "confusion_matrix(y_true, y_pred)"
   ]
  },
  {
   "cell_type": "code",
   "execution_count": 11,
   "metadata": {},
   "outputs": [
    {
     "data": {
      "text/plain": [
       "0.5"
      ]
     },
     "execution_count": 11,
     "metadata": {},
     "output_type": "execute_result"
    }
   ],
   "source": [
    "precision_score(y_true, y_pred)"
   ]
  },
  {
   "cell_type": "markdown",
   "metadata": {},
   "source": [
    "## 召回率\n",
    "\n",
    "又称查全率（Recall），召回率是指分类器分类正确的正样本个数占所有的正样本个数的比例。\n",
    "\n",
    "    TP / (TP+TN)\n",
    "\n",
    "直观的理解，召回率是指分类器查找所有正样本的能力。\n",
    "\n",
    "举例来说，召回率是指检索出的相关文档数和文档库中所有的相关文档数的比率，衡量的是检索系统的查全率。"
   ]
  },
  {
   "cell_type": "code",
   "execution_count": 14,
   "metadata": {},
   "outputs": [],
   "source": [
    "from sklearn.metrics import recall_score\n",
    "#y_true = [0, 1, 2, 0, 1, 2]\n",
    "#y_pred = [0, 2, 1, 0, 0, 1]\n",
    "\n",
    "y_true =[0,0,1,0]\n",
    "y_pred = [1,0,1,0]"
   ]
  },
  {
   "cell_type": "code",
   "execution_count": 15,
   "metadata": {},
   "outputs": [
    {
     "data": {
      "text/plain": [
       "array([[2, 1],\n",
       "       [0, 1]], dtype=int64)"
      ]
     },
     "execution_count": 15,
     "metadata": {},
     "output_type": "execute_result"
    }
   ],
   "source": [
    "confusion_matrix(y_true, y_pred)"
   ]
  },
  {
   "cell_type": "code",
   "execution_count": 16,
   "metadata": {},
   "outputs": [
    {
     "data": {
      "text/plain": [
       "0.8333333333333333"
      ]
     },
     "execution_count": 16,
     "metadata": {},
     "output_type": "execute_result"
    }
   ],
   "source": [
    "recall_score(y_true, y_pred, average='macro')"
   ]
  },
  {
   "cell_type": "markdown",
   "metadata": {},
   "source": [
    "## F1-score\n",
    "\n",
    "    基于召回率（Recall）与精确率（Precision）的调和平均，即将召回率和精确率综合起来评价，计算公式为:\n",
    "        \n",
    "        F1-score = 2 * R * P / (R+P)\n",
    "        \n",
    "   其中，P为准确率，R为召回率。精确率和准确率都高的情况下，F1值也会高。P和R指标有时候会出现的矛盾的情况，这样就需要综合考虑他们。F1-score值达到其最佳值 1 ，其最差分数为 0 。\n",
    "        \n",
    "除了F1之外，还有一个更普遍的计算公式(Fβ加权调和平均)：\n",
    "\n",
    "    F- = (α^2+1) PR/(α^2)P + R)"
   ]
  },
  {
   "cell_type": "code",
   "execution_count": 17,
   "metadata": {},
   "outputs": [],
   "source": [
    "from sklearn.metrics import f1_score\n",
    "\n",
    "y_true =[0,0,1,0]\n",
    "y_pred = [1,0,1,0]"
   ]
  },
  {
   "cell_type": "code",
   "execution_count": 18,
   "metadata": {},
   "outputs": [
    {
     "data": {
      "text/plain": [
       "0.6666666666666666"
      ]
     },
     "execution_count": 18,
     "metadata": {},
     "output_type": "execute_result"
    }
   ],
   "source": [
    "f1_score(y_true, y_pred)"
   ]
  },
  {
   "cell_type": "markdown",
   "metadata": {},
   "source": [
    "（1）宏平均（macro-ave）\n",
    "\n",
    "    先在各混淆矩阵上分别计算出查准率，查全率和F1，然后再计算平均值，这样就得到“宏查准率”（macro-P）、“宏查全率”（macro-R）、“宏F1”（macro-F1）\n",
    "    \n",
    " （2）微平均（micro-ave）\n",
    "\n",
    "     先将各混淆矩阵的对应元素进行平均，得到TP、FP、TN、FN的平均值，再基于这些平均值计算出“微查准率”（micro-P）、“微查全率”（micro-R）、“微F1”（micro-F1）"
   ]
  },
  {
   "cell_type": "markdown",
   "metadata": {},
   "source": [
    "## 分类报告classification_report\n",
    "\n",
    "sklearn中的classification_report函数用于显示主要分类指标的文本报告．在报告中显示每个类的精确度，召回率，F1值等信息。 \n",
    "\n",
    "主要参数: \n",
    "\n",
    "- y_true：1维数组，或标签指示器数组/稀疏矩阵，目标值。 \n",
    "- y_pred：1维数组，或标签指示器数组/稀疏矩阵，分类器返回的估计值。 \n",
    "- labels：array，shape = [n_labels]，报表中包含的标签索引的可选列表。 \n",
    "- target_names：字符串列表，与标签匹配的可选显示名称（相同顺序）。 \n",
    "- sample_weight：类似于shape = [n_samples]的数组，可选项，样本权重。 \n",
    "- digits：int，输出浮点值的位数．\n"
   ]
  },
  {
   "cell_type": "code",
   "execution_count": 22,
   "metadata": {},
   "outputs": [
    {
     "name": "stdout",
     "output_type": "stream",
     "text": [
      "              precision    recall  f1-score   support\n",
      "\n",
      "     class 0       1.00      0.67      0.80         3\n",
      "     class 1       0.50      1.00      0.67         1\n",
      "\n",
      "    accuracy                           0.75         4\n",
      "   macro avg       0.75      0.83      0.73         4\n",
      "weighted avg       0.88      0.75      0.77         4\n",
      "\n"
     ]
    }
   ],
   "source": [
    "from sklearn.metrics import classification_report\n",
    "y_true =[0,0,1,0]\n",
    "y_pred = [1,0,1,0]\n",
    "target_names = ['class 0', 'class 1']\n",
    "\n",
    "report = classification_report(y_true, y_pred, target_names=target_names)\n",
    "print(report)"
   ]
  },
  {
   "cell_type": "markdown",
   "metadata": {},
   "source": [
    "其中列表左边的一列为分类的标签名，\n",
    "\n",
    "右边support列为每个标签的出现次数．\n",
    "\n",
    "avg / total行为各列的均值（support列为总和）． \n",
    "\n",
    "precision recall f1-score三列分别为各个类别的精确度/召回率及 F1 F1值"
   ]
  },
  {
   "cell_type": "markdown",
   "metadata": {},
   "source": [
    "# sklearn实现分类评价指标"
   ]
  },
  {
   "cell_type": "markdown",
   "metadata": {},
   "source": [
    "KC4数据准备：KC4.csv"
   ]
  },
  {
   "cell_type": "markdown",
   "metadata": {},
   "source": [
    "使用随机森林实现分类并输出评价指标"
   ]
  },
  {
   "cell_type": "code",
   "execution_count": 8,
   "metadata": {},
   "outputs": [],
   "source": [
    "import pandas as pd\n",
    "from sklearn.ensemble import RandomForestClassifier\n",
    "from sklearn import metrics\n",
    "import matplotlib.pyplot as plt"
   ]
  },
  {
   "cell_type": "code",
   "execution_count": 11,
   "metadata": {},
   "outputs": [],
   "source": [
    "df = pd.read_csv('demo_01/data.csv')"
   ]
  },
  {
   "cell_type": "code",
   "execution_count": 12,
   "metadata": {},
   "outputs": [
    {
     "name": "stdout",
     "output_type": "stream",
     "text": [
      "<class 'pandas.core.frame.DataFrame'>\n",
      "RangeIndex: 125 entries, 0 to 124\n",
      "Data columns (total 15 columns):\n",
      "BRANCH_COUNT                       125 non-null float64\n",
      "CALL_PAIRS                         125 non-null float64\n",
      "CYCLOMATIC_COMPLEXITY              125 non-null float64\n",
      "CYCLOMATIC_DENSITY                 125 non-null int64\n",
      "DESIGN_COMPLEXITY                  125 non-null float64\n",
      "DESIGN_DENSITY                     125 non-null float64\n",
      "EDGE_COUNT                         125 non-null float64\n",
      "ESSENTIAL_COMPLEXITY               125 non-null int64\n",
      "ESSENTIAL_DENSITY                  125 non-null int64\n",
      "MAINTENANCE_SEVERITY               125 non-null float64\n",
      "NODE_COUNT                         125 non-null float64\n",
      "NORMALIZED_CYLOMATIC_COMPLEXITY    125 non-null float64\n",
      "NUMBER_OF_LINES                    125 non-null float64\n",
      "LOC_TOTAL                          125 non-null float64\n",
      "Defective                          125 non-null object\n",
      "dtypes: float64(11), int64(3), object(1)\n",
      "memory usage: 14.7+ KB\n"
     ]
    }
   ],
   "source": [
    "df.info()"
   ]
  },
  {
   "cell_type": "code",
   "execution_count": 13,
   "metadata": {},
   "outputs": [],
   "source": [
    "X = df.values[:, 0:-1]"
   ]
  },
  {
   "cell_type": "code",
   "execution_count": 14,
   "metadata": {},
   "outputs": [],
   "source": [
    "Y = df.values[:, -1]"
   ]
  },
  {
   "cell_type": "code",
   "execution_count": 15,
   "metadata": {
    "scrolled": false
   },
   "outputs": [
    {
     "data": {
      "text/plain": [
       "(125,)"
      ]
     },
     "execution_count": 15,
     "metadata": {},
     "output_type": "execute_result"
    }
   ],
   "source": [
    "Y.shape"
   ]
  },
  {
   "cell_type": "markdown",
   "metadata": {},
   "source": [
    "标签二值化"
   ]
  },
  {
   "cell_type": "code",
   "execution_count": 16,
   "metadata": {},
   "outputs": [],
   "source": [
    "from sklearn.preprocessing import LabelBinarizer\n",
    "lb = LabelBinarizer()"
   ]
  },
  {
   "cell_type": "code",
   "execution_count": 17,
   "metadata": {},
   "outputs": [
    {
     "data": {
      "text/plain": [
       "array([[0],\n",
       "       [1],\n",
       "       [1],\n",
       "       [1],\n",
       "       [0],\n",
       "       [1],\n",
       "       [1],\n",
       "       [0],\n",
       "       [1],\n",
       "       [1],\n",
       "       [0],\n",
       "       [0],\n",
       "       [0],\n",
       "       [0],\n",
       "       [1],\n",
       "       [1],\n",
       "       [1],\n",
       "       [0],\n",
       "       [1],\n",
       "       [1],\n",
       "       [1],\n",
       "       [0],\n",
       "       [0],\n",
       "       [1],\n",
       "       [1],\n",
       "       [0],\n",
       "       [1],\n",
       "       [1],\n",
       "       [1],\n",
       "       [0],\n",
       "       [1],\n",
       "       [0],\n",
       "       [1],\n",
       "       [0],\n",
       "       [1],\n",
       "       [0],\n",
       "       [0],\n",
       "       [1],\n",
       "       [0],\n",
       "       [0],\n",
       "       [0],\n",
       "       [1],\n",
       "       [1],\n",
       "       [0],\n",
       "       [1],\n",
       "       [0],\n",
       "       [0],\n",
       "       [1],\n",
       "       [0],\n",
       "       [0],\n",
       "       [1],\n",
       "       [0],\n",
       "       [1],\n",
       "       [0],\n",
       "       [1],\n",
       "       [1],\n",
       "       [1],\n",
       "       [0],\n",
       "       [1],\n",
       "       [1],\n",
       "       [0],\n",
       "       [1],\n",
       "       [1],\n",
       "       [0],\n",
       "       [1],\n",
       "       [1],\n",
       "       [0],\n",
       "       [0],\n",
       "       [0],\n",
       "       [1],\n",
       "       [0],\n",
       "       [0],\n",
       "       [1],\n",
       "       [1],\n",
       "       [0],\n",
       "       [1],\n",
       "       [0],\n",
       "       [0],\n",
       "       [0],\n",
       "       [0],\n",
       "       [0],\n",
       "       [1],\n",
       "       [0],\n",
       "       [0],\n",
       "       [0],\n",
       "       [0],\n",
       "       [1],\n",
       "       [1],\n",
       "       [0],\n",
       "       [0],\n",
       "       [0],\n",
       "       [1],\n",
       "       [1],\n",
       "       [0],\n",
       "       [0],\n",
       "       [1],\n",
       "       [1],\n",
       "       [0],\n",
       "       [0],\n",
       "       [1],\n",
       "       [0],\n",
       "       [0],\n",
       "       [1],\n",
       "       [1],\n",
       "       [0],\n",
       "       [0],\n",
       "       [1],\n",
       "       [1],\n",
       "       [1],\n",
       "       [1],\n",
       "       [1],\n",
       "       [0],\n",
       "       [0],\n",
       "       [0],\n",
       "       [0],\n",
       "       [0],\n",
       "       [1],\n",
       "       [0],\n",
       "       [1],\n",
       "       [1],\n",
       "       [0],\n",
       "       [1],\n",
       "       [0],\n",
       "       [0],\n",
       "       [1]])"
      ]
     },
     "execution_count": 17,
     "metadata": {},
     "output_type": "execute_result"
    }
   ],
   "source": [
    "Y2 = lb.fit_transform(Y)\n",
    "Y2"
   ]
  },
  {
   "cell_type": "markdown",
   "metadata": {},
   "source": [
    "从高维直接变成一维"
   ]
  },
  {
   "cell_type": "code",
   "execution_count": 18,
   "metadata": {},
   "outputs": [],
   "source": [
    "Y2.shape = 125"
   ]
  },
  {
   "cell_type": "code",
   "execution_count": 19,
   "metadata": {},
   "outputs": [
    {
     "data": {
      "text/plain": [
       "array([0, 1, 1, 1, 0, 1, 1, 0, 1, 1, 0, 0, 0, 0, 1, 1, 1, 0, 1, 1, 1, 0,\n",
       "       0, 1, 1, 0, 1, 1, 1, 0, 1, 0, 1, 0, 1, 0, 0, 1, 0, 0, 0, 1, 1, 0,\n",
       "       1, 0, 0, 1, 0, 0, 1, 0, 1, 0, 1, 1, 1, 0, 1, 1, 0, 1, 1, 0, 1, 1,\n",
       "       0, 0, 0, 1, 0, 0, 1, 1, 0, 1, 0, 0, 0, 0, 0, 1, 0, 0, 0, 0, 1, 1,\n",
       "       0, 0, 0, 1, 1, 0, 0, 1, 1, 0, 0, 1, 0, 0, 1, 1, 0, 0, 1, 1, 1, 1,\n",
       "       1, 0, 0, 0, 0, 0, 1, 0, 1, 1, 0, 1, 0, 0, 1])"
      ]
     },
     "execution_count": 19,
     "metadata": {},
     "output_type": "execute_result"
    }
   ],
   "source": [
    "Y2"
   ]
  },
  {
   "cell_type": "code",
   "execution_count": 20,
   "metadata": {
    "scrolled": true
   },
   "outputs": [],
   "source": [
    "\n",
    " \n",
    "\"\"\"\n",
    "函数说明：绘制ROC曲线\n",
    "Parameters:\n",
    "     labels:测试标签列表\n",
    "     predict_prob:预测标签列表\n",
    "\"\"\"\n",
    "def plot_roc(labels, predict_prob):\n",
    "    false_positive_rate, true_positive_rate, thresholds = \\\n",
    "        metrics.roc_curve(labels, predict_prob)\n",
    "    roc_auc = metrics.auc(false_positive_rate, true_positive_rate)  #计算AUC值\n",
    "    print('AUC=' + str(roc_auc))\n",
    "    plt.title('PC5-ROC')\n",
    "    plt.plot(false_positive_rate, true_positive_rate, 'b', label='AUC = %0.4f' % roc_auc)\n",
    "    plt.legend(loc='lower right')\n",
    "    plt.plot([0, 1], [0, 1], 'r--')\n",
    "    plt.ylabel('TPR')\n",
    "    plt.xlabel('FPR')\n",
    "    # plt.savefig('figures/PC5.png') #将ROC图片进行保存\n",
    "    plt.show()\n",
    " \n"
   ]
  },
  {
   "cell_type": "code",
   "execution_count": 21,
   "metadata": {},
   "outputs": [
    {
     "name": "stdout",
     "output_type": "stream",
     "text": [
      "准确率: 0.9142857142857143\n",
      "宏平均精确率: 0.9161184210526316\n",
      "微平均精确率: 0.9142857142857143\n",
      "宏平均召回率: 0.9133986928104575\n",
      "平均F1-score: 0.9141453141453141\n",
      "混淆矩阵输出: [[17  1]\n",
      " [ 2 15]]\n",
      "分类报告:               precision    recall  f1-score   support\n",
      "\n",
      "           0       0.89      0.94      0.92        18\n",
      "           1       0.94      0.88      0.91        17\n",
      "\n",
      "    accuracy                           0.91        35\n",
      "   macro avg       0.92      0.91      0.91        35\n",
      "weighted avg       0.92      0.91      0.91        35\n",
      "\n",
      "AUC=0.9133986928104575\n"
     ]
    },
    {
     "data": {
      "image/png": "[encoded data removed]",
      "text/plain": [
       "<Figure size 432x288 with 1 Axes>"
      ]
     },
     "metadata": {
      "needs_background": "light"
     },
     "output_type": "display_data"
    }
   ],
   "source": [
    "\n",
    "datasets, labels   = X, Y2# 对数据集进行处理\n",
    "# 训练集和测试集划分\n",
    "X_train = datasets[:115]\n",
    "y_train = labels[:115]\n",
    "X_test = datasets[90:]\n",
    "y_test = labels[90:]\n",
    "# 随机森林分类器\n",
    "clf = RandomForestClassifier()\n",
    "clf = RandomForestClassifier(n_estimators=200, random_state=0)\n",
    "clf.fit(X_train, y_train)  # 使用训练集对分类器训练\n",
    "y_predict = clf.predict(X_test)  # 使用分类器对测试集进行预测\n",
    "\n",
    "print('准确率:', metrics.accuracy_score(y_test, y_predict)) #预测准确率输出\n",
    "print('宏平均精确率:',metrics.precision_score(y_test,y_predict,average='macro')) #预测宏平均精确率输出\n",
    "print('微平均精确率:', metrics.precision_score(y_test, y_predict, average='micro')) #预测微平均精确率输出\n",
    "print('宏平均召回率:',metrics.recall_score(y_test,y_predict,average='macro'))#预测宏平均召回率输出\n",
    "print('平均F1-score:',metrics.f1_score(y_test,y_predict,average='weighted'))#预测平均f1-score输出\n",
    "print('混淆矩阵输出:',metrics.confusion_matrix(y_test,y_predict))#混淆矩阵输出\n",
    "\n",
    "print('分类报告:', metrics.classification_report(y_test, y_predict))#分类报告输出\n",
    "plot_roc(y_test, y_predict)  #绘制ROC曲线并求出AUC值\n"
   ]
  },
  {
   "cell_type": "markdown",
   "metadata": {},
   "source": [
    "# ROC曲线"
   ]
  },
  {
   "cell_type": "markdown",
   "metadata": {},
   "source": [
    "反映敏感性和特异性的综合指标。它通过将连续变量设定出多个不同的临界值，从而计算出一系列敏感性和特异性，再以敏感性为纵坐标、（1-特异性）为横坐标绘制成曲线，曲线下面积越大，判别的准确性越高。在ROC曲线上，最靠近坐标图左上方的点为敏感性和特异性均较高的临界值"
   ]
  },
  {
   "cell_type": "markdown",
   "metadata": {},
   "source": [
    "根据机器学习中分类器的预测得分对样例进行排序，按照顺序逐个把样本作为正例进行预测，计算出FPR和TPR。分别以FPR、TPR为横纵坐标作图即可得到ROC曲线。所以作ROC曲线时，需要先求出FPR和TPR。\n",
    "\n",
    "这两个变量的定义：\n",
    "\n",
    "    FPR = TP/(TP+FN)\n",
    "    TPR = TP/(TP+FP)\n",
    "\n"
   ]
  },
  {
   "cell_type": "markdown",
   "metadata": {},
   "source": [
    "将样本输入分类器，每个样本将得到一个预测得分。我们通过设置不同的截断点，即可截取不同的信息。对应此示例图中，每个阈值的识别结果对应一个点(FPR，TPR)。当阈值取最大时，所有样本都被识别成负样本，对应于坐下角的点(0,0); 当阈值取最小时，所有样本都被识别成正样本，对应于右上角的点(1,1)，随着阈值从最大变化到最小，TP和FP都逐渐大；       \n",
    "\n",
    "那么得到曲线后我们将用什么指标来衡量ROC曲线的好坏呢？这里给出AUC这个指标。AUC表示ROC曲线下方的面积值AUC（Area Under ROC Curve）：如果分类器能完美的将样本进行区分，那么它的AUG = 1 ; 如果模型是个简单的随机猜测模型，那么它的AUG = 0.5，对应图中的直线（y=x）。此外，如果一个分类器优于另一个，则它的曲线下方面积相对较大。\n",
    "\n"
   ]
  },
  {
   "cell_type": "markdown",
   "metadata": {},
   "source": [
    "# 回归模型的评价指标"
   ]
  },
  {
   "cell_type": "markdown",
   "metadata": {},
   "source": [
    "## Python实现回归模型的评价指标"
   ]
  },
  {
   "cell_type": "code",
   "execution_count": 1,
   "metadata": {},
   "outputs": [],
   "source": [
    "import numpy  as np"
   ]
  },
  {
   "cell_type": "code",
   "execution_count": 3,
   "metadata": {},
   "outputs": [],
   "source": [
    "# MES\n",
    "def mse(y_test, y_true):\n",
    "    return np.mean((y_test - y_true) ** 2)"
   ]
  },
  {
   "cell_type": "code",
   "execution_count": 4,
   "metadata": {},
   "outputs": [],
   "source": [
    "# RMSE\n",
    "def rmse(y_test, y_true):\n",
    "    return np.sqrt(np.mean((y_test - y_true) ** 2))"
   ]
  },
  {
   "cell_type": "code",
   "execution_count": 5,
   "metadata": {},
   "outputs": [],
   "source": [
    "# MAE\n",
    "def mae(y_test, y_true):\n",
    "    return np.sum(np.absolute(y_test - y_true)) / len(y_test)"
   ]
  },
  {
   "cell_type": "code",
   "execution_count": 7,
   "metadata": {},
   "outputs": [],
   "source": [
    "# R^2\n",
    "def r2(y_test, y_true):\n",
    "    return 1 - ((y_test - y_true) ** 2).sum() / ((y_true - np.mean(y_true)) ** 2).sum()"
   ]
  },
  {
   "cell_type": "markdown",
   "metadata": {},
   "source": [
    "## sklearn实现回归模型的评价指标"
   ]
  },
  {
   "cell_type": "code",
   "execution_count": 1,
   "metadata": {},
   "outputs": [],
   "source": [
    "from sklearn.metrics import mean_squared_error   # 均方差\n",
    "from sklearn.metrics import mean_absolute_error  # 平均绝对值误差\n",
    "from sklearn.metrics import explained_variance_score # 可释方差得分\n",
    "from sklearn.metrics import r2_score # .R2 决定系数（拟合优度）\n",
    "\n",
    "y_true = [1,2,4]\n",
    "y_pred = [1.3,2.5,3.7]\n"
   ]
  },
  {
   "cell_type": "markdown",
   "metadata": {},
   "source": [
    "    模型越好：r2→1\n",
    "\n",
    "    模型越差：r2→0"
   ]
  },
  {
   "cell_type": "code",
   "execution_count": 2,
   "metadata": {},
   "outputs": [
    {
     "data": {
      "text/plain": [
       "0.9078571428571429"
      ]
     },
     "execution_count": 2,
     "metadata": {},
     "output_type": "execute_result"
    }
   ],
   "source": [
    "r2_score(y_true, y_pred)"
   ]
  },
  {
   "cell_type": "code",
   "execution_count": 72,
   "metadata": {},
   "outputs": [
    {
     "data": {
      "text/plain": [
       "0.1433333333333333"
      ]
     },
     "execution_count": 72,
     "metadata": {},
     "output_type": "execute_result"
    }
   ],
   "source": []
  },
  {
   "cell_type": "code",
   "execution_count": 73,
   "metadata": {},
   "outputs": [
    {
     "data": {
      "text/plain": [
       "0.36666666666666664"
      ]
     },
     "execution_count": 73,
     "metadata": {},
     "output_type": "execute_result"
    }
   ],
   "source": []
  },
  {
   "cell_type": "markdown",
   "metadata": {},
   "source": [
    "R2 决定系数（coefficient ofdetermination），有的教材上翻译为判定系数，也称为拟合优度。\n",
    "\n",
    "决定系数反应了y的波动有多少百分比能被x的波动所描述，即表征依变数Y的变异中有多少百分比,可由控制的自变数X来解释.\n",
    "\n",
    "    表达式：R2=SSR/SST=1-SSE/SST\n",
    "\n",
    "    其中：SST=SSR+SSE，SST(total sum of squares)为总平方和，\n",
    "    SSR(regression sum of squares)为回归平方和，\n",
    "    SSE(error sum of squares) 为残差平方和。\n",
    "\n",
    "注：（不同书命名不同）\n",
    "\n",
    "    回归平方和：SSR(Sum of Squares forregression) = ESS (explained sum of squares)\n",
    "\n",
    "    残差平方和：SSE（Sum of Squares for Error） = RSS(residual sum of squares)\n",
    "\n",
    "    总离差平方和：SST(Sum of Squares fortotal) = TSS(total sum of squares)\n"
   ]
  },
  {
   "cell_type": "markdown",
   "metadata": {},
   "source": [
    "意义：\n",
    "\n",
    "    拟合优度越大，自变量对因变量的解释程度越高，自变量引起的变动占总变动的百分比高。观察点在回归直线附近越密集。"
   ]
  },
  {
   "cell_type": "code",
   "execution_count": 24,
   "metadata": {},
   "outputs": [],
   "source": [
    "import matplotlib.pyplot as plt\n",
    "import numpy as np\n",
    "from sklearn import datasets, linear_model\n",
    "from sklearn.metrics import mean_squared_error, r2_score"
   ]
  },
  {
   "cell_type": "code",
   "execution_count": 26,
   "metadata": {},
   "outputs": [],
   "source": [
    "\n",
    "\"\"\"\n",
    "# 利用 diabetes数据集来学习线性回归  \n",
    "# diabetes 是一个关于糖尿病的数据集， 该数据集包括442个病人的生理数据及一年以后的病情发展情况。   \n",
    "# 数据集中的特征值总共10项, 如下:  \n",
    "    # 性别  \n",
    "    #体质指数  \n",
    "    #血压  \n",
    "    #s1,s2,s3,s4,s4,s6  (六种血清的化验数据)  \n",
    "    #但请注意，以上的数据是经过特殊处理， 10个数据中的每个都做了均值中心化处理，然后又用标准差乘以个体数量调整了数值范围。\n",
    "    #验证就会发现任何一列的所有数值平方和为1.   \n",
    "\"\"\"\n",
    "# Load the diabetes dataset\n",
    "diabetes = datasets.load_diabetes()  \n",
    "\n",
    "# Use only one feature  \n",
    "# 增加一个维度，得到一个体质指数数组[[1],[2],...[442]]\n",
    "diabetesX = diabetes.data[:, np.newaxis, 2]\n",
    "#print(diabetes_X)\n",
    " \n",
    "# Split the data into training/testing sets\n",
    "diabetes_X_train = diabetesX[0:-20]\n",
    "diabetes_X_test = diabetesX[-20:]\n",
    " \n",
    "# Split the targets into training/testing sets\n",
    "diabetes_y_train = diabetes.target[:-20]\n",
    "diabetes_y_test = diabetes.target[-20:]\n"
   ]
  },
  {
   "cell_type": "code",
   "execution_count": 28,
   "metadata": {},
   "outputs": [
    {
     "name": "stdout",
     "output_type": "stream",
     "text": [
      "[938.23786125]\n",
      "2548.0723987259694\n",
      "0.47257544798227147\n"
     ]
    }
   ],
   "source": [
    "# Create linear regression object\n",
    "lr = linear_model.LinearRegression()\n",
    " \n",
    "# Train the model using the training sets\n",
    "lr.fit(diabetes_X_train, diabetes_y_train)\n",
    " \n",
    "# Make predictions using the testing set\n",
    "y_pred = lr.predict(diabetes_X_test)\n",
    " \n",
    "# The coefficients  \n",
    "# 查看相关系数 \n",
    "print(lr.coef_)\n",
    " \n",
    " # The mean squared error  \n",
    "# 均方差\n",
    "# 查看残差平方的均值(mean square error,MSE) \n",
    "print(mean_squared_error(diabetes_y_test, y_pred))\n",
    "\n",
    "# Explained variance score: 1 is perfect prediction \n",
    "#  R2 决定系数（拟合优度）\n",
    "# 模型越好：r2→1\n",
    "# 模型越差：r2→0\n",
    "print(r2_score(diabetes_y_test, y_pred))"
   ]
  },
  {
   "cell_type": "code",
   "execution_count": 6,
   "metadata": {},
   "outputs": [
    {
     "ename": "NameError",
     "evalue": "name 'diabetes_X_test' is not defined",
     "output_type": "error",
     "traceback": [
      "\u001b[1;31m---------------------------------------------------------------------------\u001b[0m",
      "\u001b[1;31mNameError\u001b[0m                                 Traceback (most recent call last)",
      "\u001b[1;32m<ipython-input-6-afa9eac81921>\u001b[0m in \u001b[0;36m<module>\u001b[1;34m\u001b[0m\n\u001b[0;32m      1\u001b[0m \u001b[1;31m# Plot outputs\u001b[0m\u001b[1;33m\u001b[0m\u001b[1;33m\u001b[0m\u001b[1;33m\u001b[0m\u001b[0m\n\u001b[1;32m----> 2\u001b[1;33m \u001b[0mplt\u001b[0m\u001b[1;33m.\u001b[0m\u001b[0mscatter\u001b[0m\u001b[1;33m(\u001b[0m\u001b[0mdiabetes_X_test\u001b[0m\u001b[1;33m,\u001b[0m \u001b[0mdiabetes_y_test\u001b[0m\u001b[1;33m,\u001b[0m  \u001b[0mcolor\u001b[0m\u001b[1;33m=\u001b[0m\u001b[1;34m'black'\u001b[0m\u001b[1;33m)\u001b[0m\u001b[1;33m\u001b[0m\u001b[1;33m\u001b[0m\u001b[0m\n\u001b[0m\u001b[0;32m      3\u001b[0m \u001b[0mplt\u001b[0m\u001b[1;33m.\u001b[0m\u001b[0mplot\u001b[0m\u001b[1;33m(\u001b[0m\u001b[0mdiabetes_X_test\u001b[0m\u001b[1;33m,\u001b[0m \u001b[0mdiabetes_y_pred\u001b[0m\u001b[1;33m,\u001b[0m \u001b[0mcolor\u001b[0m\u001b[1;33m=\u001b[0m\u001b[1;34m'blue'\u001b[0m\u001b[1;33m,\u001b[0m \u001b[0mlinewidth\u001b[0m\u001b[1;33m=\u001b[0m\u001b[1;36m3\u001b[0m\u001b[1;33m)\u001b[0m\u001b[1;33m\u001b[0m\u001b[1;33m\u001b[0m\u001b[0m\n\u001b[0;32m      4\u001b[0m \u001b[1;33m\u001b[0m\u001b[0m\n\u001b[0;32m      5\u001b[0m \u001b[0mplt\u001b[0m\u001b[1;33m.\u001b[0m\u001b[0mxticks\u001b[0m\u001b[1;33m(\u001b[0m\u001b[1;33m(\u001b[0m\u001b[1;33m)\u001b[0m\u001b[1;33m)\u001b[0m\u001b[1;33m\u001b[0m\u001b[1;33m\u001b[0m\u001b[0m\n",
      "\u001b[1;31mNameError\u001b[0m: name 'diabetes_X_test' is not defined"
     ]
    }
   ],
   "source": [
    "# Plot outputs\n",
    "plt.scatter(diabetes_X_test, diabetes_y_test,  color='black')\n",
    "plt.plot(diabetes_X_test, diabetes_y_pred, color='blue', linewidth=3)\n",
    " \n",
    "plt.xticks(())\n",
    "plt.yticks(())\n",
    " \n",
    "plt.show()"
   ]
  },
  {
   "cell_type": "markdown",
   "metadata": {},
   "source": [
    "# 总结 \n",
    "\n",
    "[模型评估](https://blog.csdn.net/shine19930820/article/details/78335550)"
   ]
  },
  {
   "cell_type": "markdown",
   "metadata": {},
   "source": [
    "\n",
    "有三种不同的方法来评估一个模型的预测质量：\n",
    "\n",
    "- estimator的score方法：sklearn中的estimator都具有一个score方法，它提供了一个缺省的评估法则来解决问题。\n",
    "- Scoring参数：使用cross-validation的模型评估工具，依赖于内部的scoring策略。见下。\n",
    "- 通过测试集上评估预测误差：sklearn Metric函数用来评估预测误差。"
   ]
  },
  {
   "cell_type": "code",
   "execution_count": null,
   "metadata": {},
   "outputs": [],
   "source": []
  }
 ],
 "metadata": {
  "kernelspec": {
   "display_name": "Python 3",
   "language": "python",
   "name": "python3"
  },
  "language_info": {
   "codemirror_mode": {
    "name": "ipython",
    "version": 3
   },
   "file_extension": ".py",
   "mimetype": "text/x-python",
   "name": "python",
   "nbconvert_exporter": "python",
   "pygments_lexer": "ipython3",
   "version": "3.7.1"
  },
  "toc": {
   "base_numbering": 1,
   "nav_menu": {},
   "number_sections": true,
   "sideBar": true,
   "skip_h1_title": false,
   "title_cell": "Table of Contents",
   "title_sidebar": "Contents",
   "toc_cell": false,
   "toc_position": {},
   "toc_section_display": true,
   "toc_window_display": false
  }
 },
 "nbformat": 4,
 "nbformat_minor": 2
}
