{
 "cells": [
  {
   "cell_type": "markdown",
   "metadata": {},
   "source": [
    "pb文件的能够保存tensorflow计算图中的操作节点以及对应的各张量，方便我们日后直接调用之前已经训练好的计算图。"
   ]
  },
  {
   "cell_type": "markdown",
   "metadata": {},
   "source": [
    "## . pb文件的保存方法。"
   ]
  },
  {
   "cell_type": "code",
   "execution_count": 3,
   "metadata": {},
   "outputs": [],
   "source": [
    "# 保存pb文件的功能主要是通过最后三行代码实现的\n",
    "\n",
    "# constant_graph = tf.graph_util.convert_variables_to_constants(sess, sess.graph_def,[\"add\"])\n",
    "# with tf.gfile.FastGFile(\"wsj.pb\", mode='wb') as f:\n",
    "    #f.write(constant_graph.SerializeToString())"
   ]
  },
  {
   "cell_type": "markdown",
   "metadata": {},
   "source": [
    "- 第一行代码的作用是将计算图中的变量转化为常量，并指定输出节点为“add”\n",
    "- 第二行代码用来生成一个名为wsj.pb的文件（未指定路径的话，默认在该python代码的同路径下生成）\n",
    "- 第三行代码的作用是将计算图写入该pb文件中"
   ]
  },
  {
   "cell_type": "code",
   "execution_count": 1,
   "metadata": {},
   "outputs": [
    {
     "name": "stdout",
     "output_type": "stream",
     "text": [
      "[5.]\n",
      "Tensor(\"add:0\", dtype=float32)\n",
      "[11.]\n",
      "INFO:tensorflow:Froze 4 variables.\n",
      "Converted 4 variables to const ops.\n"
     ]
    }
   ],
   "source": [
    "import tensorflow as tf\n",
    "\n",
    "x = tf.placeholder(tf.float32,name=\"input\")\n",
    "\n",
    "a = tf.Variable(tf.constant(5.,shape=[1]),name=\"a\")\n",
    "b = tf.Variable(tf.constant(6.,shape=[1]),name=\"b\")\n",
    "c = tf.Variable(tf.constant(10.,shape=[1]),name=\"c\")\n",
    "d = tf.Variable(tf.constant(2.,shape=[1]),name=\"d\")\n",
    "\n",
    "tensor1 = tf.multiply(a,b,\"mul\")\n",
    "tensor2 = tf.subtract(tensor1,c,\"sub\")\n",
    "tensor3 = tf.div(tensor2,d,\"div\")\n",
    "result = tf.add(tensor3,x,\"add\")\n",
    "\n",
    "inial = tf.global_variables_initializer()\n",
    "with tf.Session() as sess:\n",
    "    sess.run(inial)\n",
    "    print(sess.run(a))\n",
    "    print(result)\n",
    "    result = sess.run(result,feed_dict={x:1.0})\n",
    "    print(result)\n",
    "    constant_graph = tf.graph_util.convert_variables_to_constants(sess, sess.graph_def, [\"add\"])\n",
    "    with tf.gfile.FastGFile(\"wsj.pb\", mode='wb') as f:\n",
    "        f.write(constant_graph.SerializeToString())"
   ]
  },
  {
   "cell_type": "markdown",
   "metadata": {},
   "source": [
    "## . 加载pb文件。"
   ]
  },
  {
   "cell_type": "code",
   "execution_count": 2,
   "metadata": {},
   "outputs": [
    {
     "name": "stdout",
     "output_type": "stream",
     "text": [
      "[5.]\n",
      "[15.]\n"
     ]
    }
   ],
   "source": [
    "import tensorflow as tf\n",
    "\n",
    "with tf.gfile.FastGFile(\"wsj.pb\", \"rb\") as f:\n",
    "    graph_def = tf.GraphDef()\n",
    "    graph_def.ParseFromString(f.read())\n",
    "    result, x = tf.import_graph_def(graph_def,return_elements=[\"add:0\", \"input:0\"])\n",
    "\n",
    "with tf.Session() as sess:\n",
    "    init = tf.global_variables_initializer()\n",
    "    sess.run(init)\n",
    "    # print(sess.run(a))\n",
    "    result = sess.run(result, feed_dict={x: 5.0})\n",
    "    print(result)"
   ]
  },
  {
   "cell_type": "markdown",
   "metadata": {},
   "source": [
    "上面代码主要分为两部分：读取pb文件并设置为默认的计算图；填充一个新的x值来计算结果。\n",
    "\n",
    "读取pb文件时候需要注意的是，若要获取对应的张量必须用“tensor_name:0”的形式，这是tensorflow默认的。"
   ]
  },
  {
   "cell_type": "markdown",
   "metadata": {},
   "source": [
    "## 其他例子"
   ]
  },
  {
   "cell_type": "code",
   "execution_count": 1,
   "metadata": {
    "scrolled": true
   },
   "outputs": [
    {
     "name": "stdout",
     "output_type": "stream",
     "text": [
      "INFO:tensorflow:Froze 2 variables.\n",
      "Converted 2 variables to const ops.\n"
     ]
    }
   ],
   "source": [
    "import tensorflow as tf\n",
    "from tensorflow.python.framework import graph_util\n",
    "\n",
    "v1 = tf.Variable(tf.constant(1.0, shape=[1]), name = \"v1\")\n",
    "v2 = tf.Variable(tf.constant(2.0, shape=[1]), name = \"v2\")\n",
    "result = v1 + v2\n",
    "\n",
    "init_op = tf.global_variables_initializer()\n",
    "\n",
    "with tf.Session() as sess:\n",
    "    sess.run(init_op)\n",
    "    graph_def = tf.get_default_graph().as_graph_def()\n",
    "    output_graph_def = graph_util.convert_variables_to_constants(sess, graph_def, ['add'])\n",
    "    with tf.gfile.GFile(\"model/combined_model.pb\", \"wb\") as f:\n",
    "           f.write(output_graph_def.SerializeToString())"
   ]
  },
  {
   "cell_type": "code",
   "execution_count": 4,
   "metadata": {},
   "outputs": [
    {
     "name": "stdout",
     "output_type": "stream",
     "text": [
      "[array([3.], dtype=float32)]\n"
     ]
    }
   ],
   "source": [
    "from tensorflow.python.platform import gfile\n",
    "with tf.Session() as sess:\n",
    "    model_filename = \"model/combined_model.pb\"\n",
    "   \n",
    "    with gfile.FastGFile(model_filename, 'rb') as f:\n",
    "        graph_def = tf.GraphDef()\n",
    "        graph_def.ParseFromString(f.read())\n",
    "\n",
    "    result = tf.import_graph_def(graph_def, return_elements=[\"add:0\"])\n",
    "    print(sess.run(result))"
   ]
  }
 ],
 "metadata": {
  "kernelspec": {
   "display_name": "Python 3",
   "language": "python",
   "name": "python3"
  },
  "language_info": {
   "codemirror_mode": {
    "name": "ipython",
    "version": 3
   },
   "file_extension": ".py",
   "mimetype": "text/x-python",
   "name": "python",
   "nbconvert_exporter": "python",
   "pygments_lexer": "ipython3",
   "version": "3.7.1"
  },
  "toc": {
   "base_numbering": 1,
   "nav_menu": {},
   "number_sections": true,
   "sideBar": true,
   "skip_h1_title": false,
   "title_cell": "Table of Contents",
   "title_sidebar": "Contents",
   "toc_cell": false,
   "toc_position": {},
   "toc_section_display": true,
   "toc_window_display": false
  },
  "varInspector": {
   "cols": {
    "lenName": 16,
    "lenType": 16,
    "lenVar": 40
   },
   "kernels_config": {
    "python": {
     "delete_cmd_postfix": "",
     "delete_cmd_prefix": "del ",
     "library": "var_list.py",
     "varRefreshCmd": "print(var_dic_list())"
    },
    "r": {
     "delete_cmd_postfix": ") ",
     "delete_cmd_prefix": "rm(",
     "library": "var_list.r",
     "varRefreshCmd": "cat(var_dic_list()) "
    }
   },
   "types_to_exclude": [
    "module",
    "function",
    "builtin_function_or_method",
    "instance",
    "_Feature"
   ],
   "window_display": false
  }
 },
 "nbformat": 4,
 "nbformat_minor": 1
}
