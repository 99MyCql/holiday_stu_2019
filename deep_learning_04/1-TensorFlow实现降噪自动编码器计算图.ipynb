{
 "cells": [
  {
   "cell_type": "code",
   "execution_count": 1,
   "metadata": {},
   "outputs": [],
   "source": [
    "!mkdir logs"
   ]
  },
  {
   "cell_type": "markdown",
   "metadata": {},
   "source": [
    "注： \n",
    "\n",
    "    在tensorflow的log日志等级如下： \n",
    "- 0：显示所有日志（默认等级） \n",
    "- 1：显示info、warning和error日志 \n",
    "- 2：显示warning和error信息 \n",
    "- 3：显示error日志信息"
   ]
  },
  {
   "cell_type": "markdown",
   "metadata": {},
   "source": [
    "如果网络的权重初始化的太小，那信号将会在层间传递时逐渐缩小而难以产生作用；如果权重初始化的太大，那信号将在每层间传递时逐渐放大最终导致发散。\n",
    "\n",
    "自编码器中会用到一种参数初始化方法：Xavier Initialization。该初始化方法会根据某一层网络的输入输出节点数量自动调整最合适的随机分布。让初始化权重不大不小，正好合适。从数学角度讲，就是让权重满足0均值，方差为2/(Nin+Nout)。随机分布的形式可以是均匀分布或者高斯分布。\n"
   ]
  },
  {
   "cell_type": "code",
   "execution_count": 1,
   "metadata": {},
   "outputs": [
    {
     "name": "stdout",
     "output_type": "stream",
     "text": [
      "begin ti run session...\n",
      "把计算图写入事件文件，在TensorBoard里面查看\n"
     ]
    }
   ],
   "source": [
    "import numpy as np\n",
    "import sklearn.preprocessing as prep\n",
    "import tensorflow as tf\n",
    "from tensorflow.examples.tutorials.mnist import input_data\n",
    "import os\n",
    "#os.environ['TF_CPP_MIN_LOG_LEVEL'] = '2'\n",
    "\n",
    "# Xvaier均匀初始化\n",
    "# fan_in是输入节点的数量，fan_out是输出节点的数量。\n",
    "def xavier_init(fan_in, fan_out, constant=1):\n",
    "    low = -constant * np.sqrt(6.0 / (fan_in + fan_out))\n",
    "    high = constant * np.sqrt(6.0 / (fan_in + fan_out))\n",
    "    # 通过tf.random_uniform创建了一个均匀分布\n",
    "    return tf.random_uniform((fan_in, fan_out), minval=low, maxval=high, dtype=tf.float32)\n",
    "\n"
   ]
  },
  {
   "cell_type": "markdown",
   "metadata": {},
   "source": [
    "- n_input：输入变量数； \n",
    "- n_hidden：隐含层节点数； \n",
    "- transfer_function：隐含层激活函数； \n",
    "- optimizer：优化器； \n",
    "- scale：高斯噪声系数；\n",
    "\n",
    "Class内的scale声明成一个占位符placeholder，参数初始化则使用了接下来定义的_initialize_weights函数。我们只用了一个隐含层。\n",
    "\n",
    "\n",
    "- x:一维的数量为n_input的placeholder；\n",
    "\n",
    "- 建立一个能提取特征的隐含层： \n",
    "- 先对输入x添加高斯噪声，即self.x + scale * tf.random_normal((n_input,))； \n",
    "- 再用tf.matmul()让被噪声污染的信号与隐藏层的权重相乘，再用tf.add()添加偏置； \n",
    "- 最后使用transfer()对加权汇总结果进行激活函数处理。\n",
    "\n",
    "经过隐藏层后，在输出层进行数据复原和重建操作，即建立reconstruction层，这时候就不需要激活函数了， 直接将隐含层的输出self.hidden乘以输出层的权重w2再加上输出层的偏置b2。\n"
   ]
  },
  {
   "cell_type": "markdown",
   "metadata": {},
   "source": [
    "- 自编码器的损失函数：平方误差损失（重建信号和原始信号的误差平方和）。 \n",
    "- 使用优化器（由构造函数参数指定，默认是Adam）对损失节点进行优化。 \n",
    "- 添加初始化节点，初始化所有变量，启动会话，运行初始化节点。"
   ]
  },
  {
   "cell_type": "markdown",
   "metadata": {},
   "source": [
    "产生一个AdditiveGaussianNoiseAutoencoder类的对象实例，调用tf.summary.FileWriter把计算图写入文件，使用TensorBoard查看"
   ]
  },
  {
   "cell_type": "code",
   "execution_count": null,
   "metadata": {},
   "outputs": [],
   "source": [
    "# 加性高斯噪声的自动编码\n",
    "class AdditiveGaussianNoiseAutoencoder(object):\n",
    "    # 在初始的数据中加入高斯噪声。在实现降噪自编码器的时候，\n",
    "    # 只是在输入加进去的时候，在输入上加上高斯噪声就行\n",
    "    # 其他的部分和基本自编码器一样\n",
    "    # n_input：输入变量数；n_hidden：隐含层节点数；transfer_function：隐含层激活函数；optimizer：优化器；scale：高斯噪声系数；\n",
    "    # Class内的scale声明成一个占位符placeholder，参数初始化则使用了接下来定义的_initialize_weights函数。我们只用了一个隐含层。\n",
    "    def __init__(self, n_input, n_hidden, transfer_function=tf.nn.softplus, optimizer=tf.train.AdamOptimizer(),\n",
    "                 scale=0.1):\n",
    "        self.n_input = n_input\n",
    "        self.n_hidden = n_hidden\n",
    "        # n_input,n_hidden都是输入和隐藏层的维度\n",
    "        self.transfer = transfer_function\n",
    "        self.scale = tf.placeholder(tf.float32)\n",
    "        self.training_scale = scale\n",
    "        # scale 就是一个标量\n",
    "        network_weights = self._initialize_weights()\n",
    "        self.weights = network_weights\n",
    "\n",
    "        # model\n",
    "        self.x = tf.placeholder(tf.float32, [None, self.n_input])\n",
    "        # none不给定具体的值，它由输入的数目来决定\n",
    "        self.hidden = self.transfer(\n",
    "            tf.add(tf.matmul(self.x + scale * tf.random_normal((n_input,)), self.weights['w1']), self.weights['b1']))\n",
    "        # 在输入的时候，在输入的数据上加上一些高斯噪声，\n",
    "        # tf.random_normal((n_input,)) 默认给的是一个均值为0，标准差是1的正态分布的随机数。\n",
    "\n",
    "        self.reconstruction = tf.add(tf.matmul(self.hidden, self.weights['w2']), self.weights['b2'])\n",
    "\n",
    "        # x:一维的数量为n_input的placeholder；\n",
    "        # 建立一个能提取特征的隐含层：\n",
    "        # 先对输入x添加高斯噪声，即self.x + scale * tf.random_normal((n_input,))；\n",
    "        #  再用tf.matmul()让被噪声污染的信号与隐藏层的权重相乘，再用tf.add()添加偏置；\n",
    "        # 最后使用transfer()对加权汇总结果进行激活函数处理。\n",
    "\n",
    "        # 经过隐藏层后，在输出层进行数据复原和重建操作，即建立reconstruction层，这时候就不需要激活函数了，\n",
    "        # 直接将隐含层的输出self.hidden乘以输出层的权重w2再加上输出层的偏置b2。\n",
    "\n",
    "        # cost\n",
    "        self.cost = 0.5 * tf.reduce_sum(tf.pow(tf.subtract(self.reconstruction, self.x), 2.0))\n",
    "        self.optimizer = optimizer.minimize(self.cost)\n",
    "\n",
    "        init = tf.global_variables_initializer()\n",
    "        self.sess = tf.Session()\n",
    "        self.sess.run(init)\n",
    "        print(\"begin ti run session...\")\n",
    "\n",
    "\n",
    "    def _initialize_weights(self):\n",
    "        all_weights = dict()\n",
    "        all_weights['w1'] = tf.Variable(xavier_init(self.n_input, self.n_hidden))\n",
    "        # 在初始化的时候，就只是第一个权重矩阵是赋予一些随机值，其他的都是赋予全0矩阵\n",
    "        all_weights['b1'] = tf.Variable(tf.zeros([self.n_hidden], dtype=tf.float32))\n",
    "        all_weights['w2'] = tf.Variable(tf.zeros([self.n_hidden, self.n_input], dtype=tf.float32))\n",
    "        all_weights['b2'] = tf.Variable(tf.zeros([self.n_input], dtype=tf.float32))\n",
    "        return all_weights\n",
    "    #变量初始化函数：创建一个dicts，包含所有Variable类型的变量w1，b1，w2，b2\n",
    "    #隐藏层：w1用前面写的xavier_init函数初始化，传入输入节点数和隐含节点数，即可得到一个比较适合softplus等激活函数的初始状态，b1初始化为0\n",
    "\n",
    "#产生一个AdditiveGaussianNoiseAutoencoder类的对象实例，调用tf.summary.FileWriter把计算图写入文件，使用TensorBoard查看\n",
    "AGN_AC = AdditiveGaussianNoiseAutoencoder(n_input=784,n_hidden=200,transfer_function=tf.nn.softplus,optimizer=tf.train.AdamOptimizer(learning_rate=0.01),scale=0.01)\n",
    "\n",
    "print('把计算图写入事件文件，在TensorBoard里面查看')\n",
    "writer = tf.summary.FileWriter(logdir='logs',graph=AGN_AC.sess.graph)\n",
    "writer.close()"
   ]
  }
 ],
 "metadata": {
  "kernelspec": {
   "display_name": "Python 3",
   "language": "python",
   "name": "python3"
  },
  "language_info": {
   "codemirror_mode": {
    "name": "ipython",
    "version": 3
   },
   "file_extension": ".py",
   "mimetype": "text/x-python",
   "name": "python",
   "nbconvert_exporter": "python",
   "pygments_lexer": "ipython3",
   "version": "3.7.1"
  },
  "toc": {
   "base_numbering": 1,
   "nav_menu": {},
   "number_sections": true,
   "sideBar": true,
   "skip_h1_title": false,
   "title_cell": "Table of Contents",
   "title_sidebar": "Contents",
   "toc_cell": false,
   "toc_position": {},
   "toc_section_display": true,
   "toc_window_display": false
  }
 },
 "nbformat": 4,
 "nbformat_minor": 2
}
