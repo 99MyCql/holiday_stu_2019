{
 "cells": [
  {
   "cell_type": "markdown",
   "metadata": {},
   "source": [
    "# 4. 模型训练"
   ]
  },
  {
   "cell_type": "markdown",
   "metadata": {},
   "source": [
    "## 4.1 处理样本不平衡"
   ]
  },
  {
   "cell_type": "markdown",
   "metadata": {},
   "source": [
    "前面提到，目标列Class呈现较大的样本不平衡，会对模型学习造成困扰。样本不平衡常用的解决方法有过采样和欠采样，本项目处理样本不平衡采用的是过采样的方法，具体操作使用SMOTE（Synthetic Minority Oversampling Technique）。"
   ]
  },
  {
   "cell_type": "markdown",
   "metadata": {},
   "source": [
    "【处理样本不平衡】\n",
    "\n",
    "1.欠采样\n",
    "\n",
    "    基本思想：减少多数类样本来提高少数类的分类性能。\n",
    "    缺点：会丢失多数类的一些重要信息，不能够充分利用已有的信息。\n",
    "\n",
    "2.过采样\n",
    "\n",
    "    基本思想：增加少数类样本来提高少数类的分类性能。"
   ]
  },
  {
   "cell_type": "markdown",
   "metadata": {},
   "source": [
    "【处理样本不平衡之过采样方法】\n",
    "\n",
    "1.随机过采样\n",
    "    \n",
    "基本思想：通过简单复制样本来增加少数类样本；\n",
    "\n",
    "缺点：容易产生模型过拟合，即使得模型学习到的信息过于特别(Specific)而不够泛化(General)"
   ]
  },
  {
   "cell_type": "markdown",
   "metadata": {},
   "source": [
    "2.SMOTE（Synthetic Minority Oversampling Technique合成少数类过采样技术）\n",
    "    \n",
    "基本思想：对少数类样本进行分析并根据少数类样本人工合成新样本添加到数据集中，使得原始数据中的类别不再严重失衡\n",
    "    \n",
    "算法流程：[网址：https://blog.csdn.net/Yaphat/article/details/52463304?locationNum=7]\n",
    "\n",
    "    ·采样最邻近算法，计算出每个少数类样本的K个近邻；\n",
    "    ·从K个近邻中随机挑选N个样本进行随机线性插值；\n",
    "    ·构造新的少数类样本；\n",
    "    ·将新样本与原数据合成，产生新的训练集；"
   ]
  },
  {
   "cell_type": "code",
   "execution_count": 47,
   "metadata": {},
   "outputs": [
    {
     "name": "stdout",
     "output_type": "stream",
     "text": [
      "样本个数：284807; 正样本占99.83%; 负样本占0.17%\n",
      "特征维数： 18\n"
     ]
    }
   ],
   "source": [
    "# 构建自变量和因变量\n",
    "X = data[x_feature] #提取的18个特征\n",
    "y = data[\"Class\"]   #真实值（label）\n",
    "\n",
    "n_sample = y.shape[0] #y.shape=[样本数量,1] ; n_sample=y.shape[0]=样本总个数\n",
    "n_pos_sample = y[y == 0].shape[0] #n_pos_sample=信用卡未被欺诈样本个数\n",
    "n_neg_sample = y[y == 1].shape[0] #n_neg_sample=信用卡被欺诈样本个数\n",
    "print('样本个数：{}; 正样本占{:.2%}; 负样本占{:.2%}'.format(n_sample,\n",
    "                                                   n_pos_sample / n_sample,\n",
    "                                                   n_neg_sample / n_sample)) #输出：样本总个数，未被欺诈和被欺诈样本占比\n",
    "print('特征维数：', X.shape[1]) #X.shape=[样本数量，特征数量]"
   ]
  },
  {
   "cell_type": "code",
   "execution_count": 49,
   "metadata": {},
   "outputs": [],
   "source": [
    "# 导入SMOTE算法模块\n",
    "from imblearn.over_sampling import SMOTE "
   ]
  },
  {
   "cell_type": "markdown",
   "metadata": {},
   "source": [
    "【SMOTE函数参数说明】\n",
    "\n",
    "SMOTE(ratio=’auto’, random_state=None, k_neighbors=5, m_neighbors=10,\n",
    "     out_step=0.5, kind=’regular’, svm_estimator=None, n_jobs=1)\n",
    "\n",
    "    ·ratio：重抽样的比例；\n",
    "    ·random_state：随机数生成器的种子；\n",
    "    ·k_neighbors：指定近邻个数，默认为5个；\n",
    "    ·m_neighbors：指定从近邻样本中随机挑选的样本个数，默认为10个；\n",
    "    ·kind：指定SMOTE算法在生成新样本时所使用的选项，\n",
    "         默认为’regular’，表示对少数类别的样本进行随机采样，\n",
    "         也可以是’borderline1’、’borderline2’和’svm’；\n",
    "    ·svm_estimator：指定SVM分类器，默认为sklearn.svm.SVC，\n",
    "               该参数的目的是利用支持向量机分类器生成支持向量，然后再生成新的少数类别的样本；\n",
    "    ·n_jobs：指定SMOTE算法在过采样时所需的CPU数量，默认为1表示仅使用1个CPU运行算法，即不使用并行运算功能；"
   ]
  },
  {
   "cell_type": "code",
   "execution_count": 52,
   "metadata": {},
   "outputs": [
    {
     "name": "stdout",
     "output_type": "stream",
     "text": [
      "通过SMOTE方法平衡正负样本后\n",
      "样本个数：568630; 正样本占50.00%; 负样本占50.00%\n"
     ]
    }
   ],
   "source": [
    "# 处理不平衡数据\n",
    "sm = SMOTE(random_state=42)    # 处理过采样的方法（增加少量样本）\n",
    "X, y = sm.fit_sample(X, y)     # 过采样+拟合样本\n",
    "print('通过SMOTE方法平衡正负样本后')\n",
    "n_sample = y.shape[0]             # y.shape=[样本总个数,1] ; n_sample=样本总个数\n",
    "n_pos_sample = y[y == 0].shape[0] # 信用卡未被欺诈样本个数\n",
    "n_neg_sample = y[y == 1].shape[0] # 信用卡被欺诈样本个数\n",
    "print('样本个数：{}; 正样本占{:.2%}; 负样本占{:.2%}'.format(n_sample,n_pos_sample/n_sample,n_neg_sample/n_sample))\n",
    " # 输出：样本总个数，未被欺诈和被欺诈样本占比"
   ]
  },
  {
   "cell_type": "markdown",
   "metadata": {},
   "source": [
    "## 4.2 构建分类器进行训练"
   ]
  },
  {
   "cell_type": "code",
   "execution_count": 55,
   "metadata": {},
   "outputs": [],
   "source": [
    "# import sklearn\n",
    "\n",
    "from sklearn.linear_model import LogisticRegression\n",
    "from sklearn.ensemble import RandomForestClassifier\n",
    "from sklearn.model_selection import GridSearchCV\n",
    "from sklearn.model_selection import train_test_split\n",
    "from sklearn.metrics import confusion_matrix\n",
    "from sklearn.metrics import precision_recall_curve\n",
    "from sklearn.metrics import auc\n",
    "from sklearn.metrics import roc_auc_score\n",
    "from sklearn.metrics import roc_curve\n",
    "from sklearn.metrics import recall_score\n",
    "from sklearn.metrics import classification_report\n",
    "from sklearn.metrics import accuracy_score\n",
    "from sklearn.preprocessing import StandardScaler"
   ]
  },
  {
   "cell_type": "code",
   "execution_count": 53,
   "metadata": {},
   "outputs": [
    {
     "data": {
      "text/plain": [
       "LogisticRegression(C=1.0, class_weight=None, dual=False, fit_intercept=True,\n",
       "          intercept_scaling=1, max_iter=100, multi_class='ovr', n_jobs=1,\n",
       "          penalty='l2', random_state=None, solver='liblinear', tol=0.0001,\n",
       "          verbose=0, warm_start=False)"
      ]
     },
     "execution_count": 53,
     "metadata": {},
     "output_type": "execute_result"
    }
   ],
   "source": [
    "\n",
    "clf1 = LogisticRegression() # 构建逻辑回归分类器\n",
    "clf1.fit(X, y)              # 拟合数"
   ]
  },
  {
   "cell_type": "markdown",
   "metadata": {},
   "source": [
    "## 4.3 预测结果"
   ]
  },
  {
   "cell_type": "code",
   "execution_count": 56,
   "metadata": {},
   "outputs": [
    {
     "name": "stdout",
     "output_type": "stream",
     "text": [
      "Test set accuracy score: 0.90153\n"
     ]
    }
   ],
   "source": [
    "predicted1 = clf.predict(X) # 通过分类器产生预测结果\n",
    "print(\"Test set accuracy score: {:.5f}\".format(accuracy_score(predicted1, y,)))\n",
    "#输出 分类准确率 = 正确分类样本数/样本总个数"
   ]
  },
  {
   "cell_type": "code",
   "execution_count": 59,
   "metadata": {},
   "outputs": [],
   "source": [
    "import itertools #利用itertools可以创建属于自己的迭代器，这些迭代器可用于有效的遍历\n",
    "from itertools import cycle"
   ]
  },
  {
   "cell_type": "markdown",
   "metadata": {},
   "source": [
    "itertools中的cycle迭代器允许开发者在一个序列上创建一个无限循环的迭代器。\n",
    "\n",
    "[网址：https://blog.csdn.net/n9nzjx57bf/article/details/72518231]"
   ]
  },
  {
   "cell_type": "code",
   "execution_count": 60,
   "metadata": {},
   "outputs": [],
   "source": [
    "def plot_confusion_matrix(cm, classes,\n",
    "                          title='Confusion matrix',\n",
    "                          cmap=plt.cm.Blues):\n",
    "    \"\"\"\n",
    "    This function prints and plots the confusion matrix.\n",
    "    \"\"\"\n",
    "    plt.imshow(cm, interpolation='nearest', cmap=cmap)\n",
    "    # plt.imshow(): 函数用于将图片放入显示窗口中，但并不会弹出窗口。\n",
    "    # 有三个参数：图像的nparray，显示类型cmap（如颜色等），插值算法。\n",
    "    # interpolation：选择插值算法，填补图像由于拉伸放大造成的不平滑的像素块，保持一定的图片质量。\n",
    "    plt.title(title) # 图像的主题\n",
    "    plt.colorbar()   # 画柱形图\n",
    "    tick_marks = np.arange(len(classes)) # 生成序列\n",
    "    plt.xticks(tick_marks, classes, rotation=0)\n",
    "    # 设置x轴记号\n",
    "    # 第一个参数为记号的坐标\n",
    "    # 第二个参数为记号的内容\n",
    "    # rotation:更改绘制x轴标签方向（与水平方向的逆时针夹角度数）\n",
    "    plt.yticks(tick_marks, classes)\n",
    "\n",
    "    thresh = cm.max() / 2.\n",
    "    \n",
    "    # itertools.product(*iterables[, repeat])\n",
    "    # *iterables为迭代器(对象) \n",
    "    # repeat为迭代次数，默认为1\n",
    "    # 返回迭代对应值\n",
    "    # 例子》list1 = ['a', 'b']\n",
    "    #     》list2 = ['c', 'd']\n",
    "    #     》for i in itertools.product(list1, list2):\n",
    "    #     》   print i\n",
    "    # 输出\n",
    "    # ('a', 'c')\n",
    "    # ('a', 'd')\n",
    "    # ('b', 'c')\n",
    "    # ('b', 'd')\n",
    "    for i, j in itertools.product(range(cm.shape[0]), range(cm.shape[1])): # 返回（0，0），（1，0）\n",
    "        plt.text(j, i, cm[i, j],\n",
    "                 horizontalalignment=\"center\",\n",
    "                 color=\"white\" if cm[i, j] > thresh else \"black\")\n",
    "    #plt.text()\n",
    "    # 第一个参数是x轴坐标\n",
    "    # 第二个参数是y轴坐标\n",
    "    # 第三个参数是要显式的内容（混淆矩阵中的值）\n",
    "\n",
    "    plt.tight_layout() # 调整每个子图之间的距离\n",
    "    plt.ylabel('True label') # 添加y轴标签\n",
    "    plt.xlabel('Predicted label') # 添加x轴标签"
   ]
  },
  {
   "cell_type": "markdown",
   "metadata": {},
   "source": [
    "【生成混淆矩阵】\n",
    "\n",
    "sklearn.metrics.confusion_matrix(y_true, y_pred, labels=None, sample_weight=None)\n",
    "\n",
    "    ·y_true: 是样本真实分类结果\n",
    "    ·y_pred: 是样本预测分类结果 \n",
    "    ·labels：是所给出的类别，通过这个可对类别进行选择 \n",
    "    ·sample_weight : 样本权重\n"
   ]
  },
  {
   "cell_type": "code",
   "execution_count": 61,
   "metadata": {
    "scrolled": true
   },
   "outputs": [
    {
     "name": "stdout",
     "output_type": "stream",
     "text": [
      "Recall metric in the testing dataset:  0.8031690202768057\n"
     ]
    },
    {
     "data": {
      "image/png": "[encoded data removed]",
      "text/plain": [
       "<matplotlib.figure.Figure at 0x20daa40fcf8>"
      ]
     },
     "metadata": {},
     "output_type": "display_data"
    }
   ],
   "source": [
    "\n",
    "# Compute confusion matrix\n",
    "cnf_matrix = confusion_matrix(y, predicted1)  # 生成混淆矩阵（真实值，预测值）\n",
    "np.set_printoptions(precision=2)              #设置打印时显示方式\n",
    "\n",
    "print(\"Recall metric in the testing dataset: \", cnf_matrix[1,1]/(cnf_matrix[1,0]+cnf_matrix[1,1]))\n",
    "#输出 召回率（recall）R = 被诈已检测/(被诈已检测+被诈未检测)\n",
    "\n",
    "# Plot non-normalized confusion matrix\n",
    "class_names = [0,1]\n",
    "plt.figure()\n",
    "plot_confusion_matrix(cnf_matrix\n",
    "                      , classes=class_names\n",
    "                      , title='Confusion matrix') # 打印混淆矩阵\n",
    "plt.show()"
   ]
  },
  {
   "cell_type": "code",
   "execution_count": 64,
   "metadata": {},
   "outputs": [
    {
     "data": {
      "image/png": "[encoded data removed]",
      "text/plain": [
       "<matplotlib.figure.Figure at 0x20daada7e10>"
      ]
     },
     "metadata": {},
     "output_type": "display_data"
    }
   ],
   "source": [
    "y_pred1_prob = clf1.predict_proba(X)[:, 1]\n",
    "# clf1.predict_proba(X)返回的是一个n行k列的数组\n",
    "# 第i行第j列上的数值是模型预测第i个预测样本的标签为j的概率。\n",
    "# 每一行的和应该等于1\n",
    "# 此处y_pred1_prob=所有样本被诈概率\n",
    "\n",
    "fpr, tpr, thresholds = roc_curve(y,y_pred1_prob) \n",
    "#  网址：https://blog.csdn.net/ybdesire/article/details/51999995\n",
    "#  函数roc_curve得到\n",
    "#  fpr=FP/(TN+FP)：未被诈未检测/（未被诈未检测+未被诈已检测）\n",
    "#  tpr= TP/(TP+FN)：被诈已检测/（被诈已检测+被诈未检测）=召回率\n",
    "# y:真实值\n",
    "# 截断点：y_pred1_prob中低于某一阈值（默认0.5）就认为是反例（被诈）\n",
    "roc_auc = auc(fpr,tpr)\n",
    "# ROC曲线的面积就是AUC（Area Under the Curve）\n",
    "# AUC用于衡量“二分类问题”机器学习算法性能（泛化能力）\n",
    "# 网址：https://blog.csdn.net/zwqjoy/article/details/78793162\n",
    "\n",
    "# 绘制 ROC曲线\n",
    "plt.title('Receiver Operating Characteristic') #标题\n",
    "plt.plot(fpr, tpr, 'b',label='AUC = %0.5f'% roc_auc) \n",
    "# 叠加图：plot(X,S, color=\"red\", linewidth=2.5, linestyle=\"-\", label=\"sine\")\n",
    "# X：横坐标\n",
    "# S：纵坐标\n",
    "plt.legend(loc='lower right')\n",
    "#添加图例\n",
    "plt.plot([0,1],[0,1],'r--') # 画反对角线（用于参考）\n",
    "plt.xlim([-0.1,1.0])\n",
    "plt.ylim([-0.1,1.01])\n",
    "#细化横轴和纵轴的设置，设置横轴、纵轴的界限以及标注\n",
    "plt.ylabel('True Positive Rate')\n",
    "plt.xlabel('False Positive Rate')\n",
    "plt.show()"
   ]
  }
 ],
 "metadata": {
  "kernelspec": {
   "display_name": "Python 3",
   "language": "python",
   "name": "python3"
  },
  "language_info": {
   "codemirror_mode": {
    "name": "ipython",
    "version": 3
   },
   "file_extension": ".py",
   "mimetype": "text/x-python",
   "name": "python",
   "nbconvert_exporter": "python",
   "pygments_lexer": "ipython3",
   "version": "3.6.4"
  },
  "toc": {
   "base_numbering": 1,
   "nav_menu": {},
   "number_sections": true,
   "sideBar": true,
   "skip_h1_title": false,
   "title_cell": "Table of Contents",
   "title_sidebar": "Contents",
   "toc_cell": false,
   "toc_position": {},
   "toc_section_display": true,
   "toc_window_display": false
  }
 },
 "nbformat": 4,
 "nbformat_minor": 2
}
