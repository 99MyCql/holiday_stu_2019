{
 "cells": [
  {
   "cell_type": "code",
   "execution_count": 34,
   "metadata": {},
   "outputs": [],
   "source": [
    "import pandas as pd\n",
    "import numpy as np\n",
    "\n",
    "df_train = pd.read_csv(\"train.csv\") \n",
    "df_train.head()\n",
    "\n",
    "dix = pd.DatetimeIndex(df_train.datetime)\n",
    "df_train['hour']=pd.DatetimeIndex(df_train.datetime).hour\n",
    "df_train['day']=pd.DatetimeIndex(df_train.datetime).dayofweek\n",
    "df_train['month']=pd.DatetimeIndex(df_train.datetime).month\n",
    "\n",
    "df_train_origin = df_train   #保存原数据\n",
    "df_train = df_train.drop(['datetime','casual','registered','windspeed'], axis = 1)  #丢弃不要的字段\n",
    "\n",
    "#['season','holiday','workingday','weather','temp','atemp', 'humidity','windspeed','count','month','day','hour']\n",
    "\n",
    "df_train_target = df_train['count'].values\n",
    "df_train_data = df_train.drop(['count'],axis = 1).values"
   ]
  },
  {
   "cell_type": "code",
   "execution_count": 35,
   "metadata": {},
   "outputs": [],
   "source": [
    "# linear_model\n",
    "from sklearn.model_selection import cross_val_score\n",
    "from sklearn import model_selection\n",
    "\n",
    "from sklearn import linear_model\n",
    "from sklearn import svm\n",
    "from sklearn.tree import DecisionTreeRegressor\n",
    "\n",
    "from sklearn.model_selection import learning_curve\n",
    "from sklearn.model_selection import GridSearchCV\n",
    "from sklearn.metrics import explained_variance_score\n",
    "from sklearn import svm\n",
    "\n",
    "import warnings\n",
    "warnings.filterwarnings('ignore')\n",
    "\n",
    "from sklearn.model_selection import KFold\n",
    "kf = KFold(n_splits=5, shuffle=True)  # 切分数据"
   ]
  },
  {
   "cell_type": "code",
   "execution_count": 36,
   "metadata": {},
   "outputs": [
    {
     "name": "stdout",
     "output_type": "stream",
     "text": [
      "岭回归\n",
      "train score: 0.340, test score: 0.325\n",
      "\n",
      "train score: 0.335, test score: 0.347\n",
      "\n",
      "train score: 0.337, test score: 0.338\n",
      "\n",
      "train score: 0.341, test score: 0.324\n",
      "\n",
      "train score: 0.335, test score: 0.345\n",
      "\n"
     ]
    }
   ],
   "source": [
    "print(\"岭回归\")    \n",
    "for train, test in kf.split(df_train_data):    \n",
    "    ridgeModel = linear_model.Ridge().fit(df_train_data[train], df_train_target[train])\n",
    "    print(\"train score: {0:.3f}, test score: {1:.3f}\\n\".format(\n",
    "        ridgeModel.score(df_train_data[train], df_train_target[train]), \n",
    "        ridgeModel.score(df_train_data[test], df_train_target[test])))"
   ]
  },
  {
   "cell_type": "code",
   "execution_count": 38,
   "metadata": {},
   "outputs": [
    {
     "name": "stdout",
     "output_type": "stream",
     "text": [
      "支持向量回归/SVR(kernel='rbf',C=10,gamma=.001)\n",
      "train score: 0.425, test score: 0.385\n",
      "\n",
      "train score: 0.421, test score: 0.403\n",
      "\n",
      "train score: 0.417, test score: 0.420\n",
      "\n",
      "train score: 0.408, test score: 0.448\n",
      "\n",
      "train score: 0.415, test score: 0.421\n",
      "\n"
     ]
    }
   ],
   "source": [
    "print(\"支持向量回归/SVR(kernel='rbf',C=10,gamma=.001)\")\n",
    "for train, test in kf.split(df_train_data):\n",
    "    \n",
    "    svmModel = svm.SVR(kernel ='rbf', C = 10, gamma = .001).fit(df_train_data[train], df_train_target[train])\n",
    "    print(\"train score: {0:.3f}, test score: {1:.3f}\\n\".format(\n",
    "        svmModel.score(df_train_data[train], df_train_target[train]), \n",
    "        svmModel.score(df_train_data[test], df_train_target[test])))"
   ]
  },
  {
   "cell_type": "code",
   "execution_count": 33,
   "metadata": {},
   "outputs": [
    {
     "name": "stdout",
     "output_type": "stream",
     "text": [
      "回归树/DecisionTreeRegressor(criterion = 'mse')\n"
     ]
    },
    {
     "ename": "NameError",
     "evalue": "name 'RandomForestRegressor' is not defined",
     "output_type": "error",
     "traceback": [
      "\u001b[1;31m---------------------------------------------------------------------------\u001b[0m",
      "\u001b[1;31mNameError\u001b[0m                                 Traceback (most recent call last)",
      "\u001b[1;32m<ipython-input-33-29493c260ff4>\u001b[0m in \u001b[0;36m<module>\u001b[1;34m()\u001b[0m\n\u001b[0;32m      1\u001b[0m \u001b[0mprint\u001b[0m\u001b[1;33m(\u001b[0m\u001b[1;34m\"回归树/DecisionTreeRegressor(criterion = 'mse')\"\u001b[0m\u001b[1;33m)\u001b[0m\u001b[1;33m\u001b[0m\u001b[0m\n\u001b[0;32m      2\u001b[0m \u001b[1;32mfor\u001b[0m \u001b[0mtrain\u001b[0m\u001b[1;33m,\u001b[0m \u001b[0mtest\u001b[0m \u001b[1;32min\u001b[0m \u001b[0mkf\u001b[0m\u001b[1;33m.\u001b[0m\u001b[0msplit\u001b[0m\u001b[1;33m(\u001b[0m\u001b[0mdf_train_data\u001b[0m\u001b[1;33m)\u001b[0m\u001b[1;33m:\u001b[0m  \u001b[1;31m#  , splitter='best'\u001b[0m\u001b[1;33m\u001b[0m\u001b[0m\n\u001b[1;32m----> 3\u001b[1;33m     \u001b[0mdtrModel\u001b[0m \u001b[1;33m=\u001b[0m \u001b[0mRandomForestRegressor\u001b[0m\u001b[1;33m(\u001b[0m\u001b[0mcriterion\u001b[0m \u001b[1;33m=\u001b[0m \u001b[1;34m'mse'\u001b[0m\u001b[1;33m)\u001b[0m\u001b[1;33m.\u001b[0m\u001b[0mfit\u001b[0m\u001b[1;33m(\u001b[0m\u001b[0mdf_train_data\u001b[0m\u001b[1;33m[\u001b[0m\u001b[0mtrain\u001b[0m\u001b[1;33m]\u001b[0m\u001b[1;33m,\u001b[0m \u001b[0mdf_train_target\u001b[0m\u001b[1;33m[\u001b[0m\u001b[0mtrain\u001b[0m\u001b[1;33m]\u001b[0m\u001b[1;33m)\u001b[0m\u001b[1;33m\u001b[0m\u001b[0m\n\u001b[0m\u001b[0;32m      4\u001b[0m     print(\"train score: {0:.3f}, test score: {1:.3f}\\n\".format(\n\u001b[0;32m      5\u001b[0m         \u001b[0mdtrModel\u001b[0m\u001b[1;33m.\u001b[0m\u001b[0mscore\u001b[0m\u001b[1;33m(\u001b[0m\u001b[0mdf_train_data\u001b[0m\u001b[1;33m[\u001b[0m\u001b[0mtrain\u001b[0m\u001b[1;33m]\u001b[0m\u001b[1;33m,\u001b[0m \u001b[0mdf_train_target\u001b[0m\u001b[1;33m[\u001b[0m\u001b[0mtrain\u001b[0m\u001b[1;33m]\u001b[0m\u001b[1;33m)\u001b[0m\u001b[1;33m,\u001b[0m\u001b[1;33m\u001b[0m\u001b[0m\n",
      "\u001b[1;31mNameError\u001b[0m: name 'RandomForestRegressor' is not defined"
     ]
    }
   ],
   "source": [
    "print(\"回归树/DecisionTreeRegressor(criterion = 'mse')\")    \n",
    "for train, test in kf.split(df_train_data):\n",
    "    dtrModel = RandomForestRegressor(criterion = 'mse').fit(df_train_data[train], df_train_target[train])\n",
    "    print(\"train score: {0:.3f}, test score: {1:.3f}\\n\".format(\n",
    "        dtrModel.score(df_train_data[train], df_train_target[train]), \n",
    "        dtrModel.score(df_train_data[test], df_train_target[test])))"
   ]
  },
  {
   "cell_type": "code",
   "execution_count": 8,
   "metadata": {},
   "outputs": [
    {
     "name": "stdout",
     "output_type": "stream",
     "text": [
      "r2\n",
      "网格搜索-最佳度量值: 0.27083492137848814\n",
      "网格搜索-最佳参数： {'kernel': 'linear'}\n",
      "网格搜索-最佳模型： SVR(C=1.0, cache_size=200, coef0=0.0, degree=3, epsilon=0.1, gamma='auto',\n",
      "  kernel='linear', max_iter=-1, shrinking=True, tol=0.001, verbose=False)\n",
      "\n"
     ]
    }
   ],
   "source": [
    "X = df_train_data\n",
    "y = df_train_target\n",
    "\n",
    "X_train, X_test, y_train, y_test = model_selection.train_test_split(\n",
    "    X, y, test_size=0.2, random_state=0)\n",
    "\n",
    "#,'linear','poly'\n",
    "tuned_parameters = [{'kernel':['rbf','linear']}]   \n",
    "    \n",
    "scores = ['r2']\n",
    "\n",
    "for score in scores:\n",
    "    \n",
    "    print(score)\n",
    "    \n",
    "    grid = GridSearchCV(svm.SVR(), tuned_parameters, cv=5, scoring=score)\n",
    "    grid.fit(X_train, y_train)\n",
    "\n",
    "    print('网格搜索-最佳度量值:',grid.best_score_)  # 获取最佳度量值\n",
    "    print('网格搜索-最佳参数：',grid.best_params_)  # 获取最佳度量值时的代定参数的值。是一个字典\n",
    "    print('网格搜索-最佳模型：',grid.best_estimator_)  # 获取最佳度量时的分类器模型\n",
    "    print(\"\")"
   ]
  },
  {
   "cell_type": "code",
   "execution_count": null,
   "metadata": {},
   "outputs": [],
   "source": []
  }
 ],
 "metadata": {
  "kernelspec": {
   "display_name": "Python 3",
   "language": "python",
   "name": "python3"
  },
  "language_info": {
   "codemirror_mode": {
    "name": "ipython",
    "version": 3
   },
   "file_extension": ".py",
   "mimetype": "text/x-python",
   "name": "python",
   "nbconvert_exporter": "python",
   "pygments_lexer": "ipython3",
   "version": "3.6.4"
  }
 },
 "nbformat": 4,
 "nbformat_minor": 2
}
