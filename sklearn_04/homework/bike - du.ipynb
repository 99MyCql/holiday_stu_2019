{
 "cells": [
  {
   "cell_type": "markdown",
   "metadata": {},
   "source": [
    "# 1. 项目背景"
   ]
  },
  {
   "cell_type": "markdown",
   "metadata": {},
   "source": [
    "Kaggle自行车租赁预测比赛,这是一个连续值预测的问题,也就是我们说的机器学习中的回归问题,咱们一起来看看这个问题。\n",
    "\n",
    "这是一个城市自行车租赁系统,提供的数据为2年内华盛顿按小时记录的自行车租赁数据,其中训练集由每个月\n",
    "的前19天组成,测试集由20号之后的时间组成（需要我们自己去预测）。\n",
    "\n",
    "Kaggle自行车租赁预测比赛:https://www.kaggle.com/c/bike-sharing-demand\n",
    "        "
   ]
  },
  {
   "cell_type": "markdown",
   "metadata": {},
   "source": [
    "# 2.实现步骤\n",
    "\n",
    "- 1.加载数据\n",
    "- 2.数据分析\n",
    "- 3.特征数据提取\n",
    "- 4.准备训练集数据,测试集数据\n",
    "- 5.模型选择,先用自己合适算法跑一个baseline的model出来,再进行后续的分析步骤,一步步提高。\n",
    "- 6.参数调优,用Grid Search找最好的参数\n",
    "- 7.用模型预测打分"
   ]
  },
  {
   "cell_type": "markdown",
   "metadata": {},
   "source": [
    "## 2.1 加载数据"
   ]
  },
  {
   "cell_type": "code",
   "execution_count": 1,
   "metadata": {},
   "outputs": [],
   "source": [
    "import pandas as pd\n",
    "import numpy as np"
   ]
  },
  {
   "cell_type": "code",
   "execution_count": 2,
   "metadata": {
    "scrolled": true
   },
   "outputs": [
    {
     "data": {
      "text/html": [
       "<div>\n",
       "<style scoped>\n",
       "    .dataframe tbody tr th:only-of-type {\n",
       "        vertical-align: middle;\n",
       "    }\n",
       "\n",
       "    .dataframe tbody tr th {\n",
       "        vertical-align: top;\n",
       "    }\n",
       "\n",
       "    .dataframe thead th {\n",
       "        text-align: right;\n",
       "    }\n",
       "</style>\n",
       "<table border=\"1\" class=\"dataframe\">\n",
       "  <thead>\n",
       "    <tr style=\"text-align: right;\">\n",
       "      <th></th>\n",
       "      <th>datetime</th>\n",
       "      <th>season</th>\n",
       "      <th>holiday</th>\n",
       "      <th>workingday</th>\n",
       "      <th>weather</th>\n",
       "      <th>temp</th>\n",
       "      <th>atemp</th>\n",
       "      <th>humidity</th>\n",
       "      <th>windspeed</th>\n",
       "      <th>casual</th>\n",
       "      <th>registered</th>\n",
       "      <th>count</th>\n",
       "    </tr>\n",
       "  </thead>\n",
       "  <tbody>\n",
       "    <tr>\n",
       "      <th>0</th>\n",
       "      <td>2011-01-01 00:00:00</td>\n",
       "      <td>1</td>\n",
       "      <td>0</td>\n",
       "      <td>0</td>\n",
       "      <td>1</td>\n",
       "      <td>9.84</td>\n",
       "      <td>14.395</td>\n",
       "      <td>81</td>\n",
       "      <td>0.0</td>\n",
       "      <td>3</td>\n",
       "      <td>13</td>\n",
       "      <td>16</td>\n",
       "    </tr>\n",
       "    <tr>\n",
       "      <th>1</th>\n",
       "      <td>2011-01-01 01:00:00</td>\n",
       "      <td>1</td>\n",
       "      <td>0</td>\n",
       "      <td>0</td>\n",
       "      <td>1</td>\n",
       "      <td>9.02</td>\n",
       "      <td>13.635</td>\n",
       "      <td>80</td>\n",
       "      <td>0.0</td>\n",
       "      <td>8</td>\n",
       "      <td>32</td>\n",
       "      <td>40</td>\n",
       "    </tr>\n",
       "    <tr>\n",
       "      <th>2</th>\n",
       "      <td>2011-01-01 02:00:00</td>\n",
       "      <td>1</td>\n",
       "      <td>0</td>\n",
       "      <td>0</td>\n",
       "      <td>1</td>\n",
       "      <td>9.02</td>\n",
       "      <td>13.635</td>\n",
       "      <td>80</td>\n",
       "      <td>0.0</td>\n",
       "      <td>5</td>\n",
       "      <td>27</td>\n",
       "      <td>32</td>\n",
       "    </tr>\n",
       "    <tr>\n",
       "      <th>3</th>\n",
       "      <td>2011-01-01 03:00:00</td>\n",
       "      <td>1</td>\n",
       "      <td>0</td>\n",
       "      <td>0</td>\n",
       "      <td>1</td>\n",
       "      <td>9.84</td>\n",
       "      <td>14.395</td>\n",
       "      <td>75</td>\n",
       "      <td>0.0</td>\n",
       "      <td>3</td>\n",
       "      <td>10</td>\n",
       "      <td>13</td>\n",
       "    </tr>\n",
       "    <tr>\n",
       "      <th>4</th>\n",
       "      <td>2011-01-01 04:00:00</td>\n",
       "      <td>1</td>\n",
       "      <td>0</td>\n",
       "      <td>0</td>\n",
       "      <td>1</td>\n",
       "      <td>9.84</td>\n",
       "      <td>14.395</td>\n",
       "      <td>75</td>\n",
       "      <td>0.0</td>\n",
       "      <td>0</td>\n",
       "      <td>1</td>\n",
       "      <td>1</td>\n",
       "    </tr>\n",
       "  </tbody>\n",
       "</table>\n",
       "</div>"
      ],
      "text/plain": [
       "              datetime  season  holiday  workingday  weather  temp   atemp  \\\n",
       "0  2011-01-01 00:00:00       1        0           0        1  9.84  14.395   \n",
       "1  2011-01-01 01:00:00       1        0           0        1  9.02  13.635   \n",
       "2  2011-01-01 02:00:00       1        0           0        1  9.02  13.635   \n",
       "3  2011-01-01 03:00:00       1        0           0        1  9.84  14.395   \n",
       "4  2011-01-01 04:00:00       1        0           0        1  9.84  14.395   \n",
       "\n",
       "   humidity  windspeed  casual  registered  count  \n",
       "0        81        0.0       3          13     16  \n",
       "1        80        0.0       8          32     40  \n",
       "2        80        0.0       5          27     32  \n",
       "3        75        0.0       3          10     13  \n",
       "4        75        0.0       0           1      1  "
      ]
     },
     "execution_count": 2,
     "metadata": {},
     "output_type": "execute_result"
    }
   ],
   "source": [
    "#load data, review the fild and data type\n",
    "import pandas as pd\n",
    "\n",
    "df_train = pd.read_csv(\"train.csv\") \n",
    "df_train.head()"
   ]
  },
  {
   "cell_type": "code",
   "execution_count": 3,
   "metadata": {
    "scrolled": true
   },
   "outputs": [
    {
     "name": "stdout",
     "output_type": "stream",
     "text": [
      "<class 'pandas.core.frame.DataFrame'>\n",
      "RangeIndex: 10886 entries, 0 to 10885\n",
      "Data columns (total 12 columns):\n",
      "datetime      10886 non-null object\n",
      "season        10886 non-null int64\n",
      "holiday       10886 non-null int64\n",
      "workingday    10886 non-null int64\n",
      "weather       10886 non-null int64\n",
      "temp          10886 non-null float64\n",
      "atemp         10886 non-null float64\n",
      "humidity      10886 non-null int64\n",
      "windspeed     10886 non-null float64\n",
      "casual        10886 non-null int64\n",
      "registered    10886 non-null int64\n",
      "count         10886 non-null int64\n",
      "dtypes: float64(3), int64(8), object(1)\n",
      "memory usage: 1020.6+ KB\n"
     ]
    }
   ],
   "source": [
    "df_train.info()"
   ]
  },
  {
   "cell_type": "code",
   "execution_count": 4,
   "metadata": {},
   "outputs": [
    {
     "data": {
      "text/plain": [
       "(10886, 12)"
      ]
     },
     "execution_count": 4,
     "metadata": {},
     "output_type": "execute_result"
    }
   ],
   "source": [
    "df_train.shape"
   ]
  },
  {
   "cell_type": "markdown",
   "metadata": {},
   "source": [
    "看看有没有缺省的字段，好吧，其实哪个字段的数据都不缺！"
   ]
  },
  {
   "cell_type": "code",
   "execution_count": 5,
   "metadata": {},
   "outputs": [
    {
     "data": {
      "text/plain": [
       "datetime      10886\n",
       "season        10886\n",
       "holiday       10886\n",
       "workingday    10886\n",
       "weather       10886\n",
       "temp          10886\n",
       "atemp         10886\n",
       "humidity      10886\n",
       "windspeed     10886\n",
       "casual        10886\n",
       "registered    10886\n",
       "count         10886\n",
       "dtype: int64"
      ]
     },
     "execution_count": 5,
     "metadata": {},
     "output_type": "execute_result"
    }
   ],
   "source": [
    "df_train.count()"
   ]
  },
  {
   "cell_type": "markdown",
   "metadata": {},
   "source": [
    "训练集有10886个样本，12个变量，没有缺省值。"
   ]
  },
  {
   "cell_type": "markdown",
   "metadata": {},
   "source": [
    "**认识数据**"
   ]
  },
  {
   "cell_type": "markdown",
   "metadata": {},
   "source": [
    "项目数据描述如下： \n",
    "\n",
    "    (1) datetime：日期，以年-月-日 小时的形式给出。 \n",
    "    (2) season：季节。1 为春季, 2为夏季,3 为秋季,4 为冬季。\n",
    "    (3) hodliday：是否为假期。1代表是，0代表不是。 \n",
    "    (4) workingday：是否为工作日，1代表是，0代表不是。 \n",
    "    (5) weather:天气： \n",
    "        1: 天气晴朗或者少云/部分有云。 \n",
    "        2: 有雾和云/风等。 \n",
    "        3: 小雪/小雨，闪电及多云。 \n",
    "        4: 大雨/冰雹/闪电和大雾/大雪。   \n",
    "    (6) temp - 摄氏温度。 \n",
    "    (7) atemp - 体感温度。 \n",
    "    (8) humidity - 湿度。 \n",
    "    (9) windspeed - 风速。 \n",
    "    (10) casual - 非注册用户租界数量\n",
    "    (11) registered - 注册用户租界数量。 \n",
    "    (12) count - 总租车数，即casual+registered数目。 \n",
    "    其中10~12不属于特征，12为我们需要预测的值。"
   ]
  },
  {
   "cell_type": "markdown",
   "metadata": {},
   "source": [
    "数据类型：\n",
    "\n",
    "    分类型数据：season，holiday，workingday，weather\n",
    "    数值型数据：temp，atemp，humidity，windspeed，casual，registered，count\n",
    "    时间序列数据：datetime"
   ]
  },
  {
   "cell_type": "markdown",
   "metadata": {},
   "source": [
    "观察训练数据的描述统计信息"
   ]
  },
  {
   "cell_type": "code",
   "execution_count": 6,
   "metadata": {},
   "outputs": [
    {
     "data": {
      "text/html": [
       "<div>\n",
       "<style scoped>\n",
       "    .dataframe tbody tr th:only-of-type {\n",
       "        vertical-align: middle;\n",
       "    }\n",
       "\n",
       "    .dataframe tbody tr th {\n",
       "        vertical-align: top;\n",
       "    }\n",
       "\n",
       "    .dataframe thead th {\n",
       "        text-align: right;\n",
       "    }\n",
       "</style>\n",
       "<table border=\"1\" class=\"dataframe\">\n",
       "  <thead>\n",
       "    <tr style=\"text-align: right;\">\n",
       "      <th></th>\n",
       "      <th>season</th>\n",
       "      <th>holiday</th>\n",
       "      <th>workingday</th>\n",
       "      <th>weather</th>\n",
       "      <th>temp</th>\n",
       "      <th>atemp</th>\n",
       "      <th>humidity</th>\n",
       "      <th>windspeed</th>\n",
       "      <th>casual</th>\n",
       "      <th>registered</th>\n",
       "      <th>count</th>\n",
       "    </tr>\n",
       "  </thead>\n",
       "  <tbody>\n",
       "    <tr>\n",
       "      <th>count</th>\n",
       "      <td>10886.000000</td>\n",
       "      <td>10886.000000</td>\n",
       "      <td>10886.000000</td>\n",
       "      <td>10886.000000</td>\n",
       "      <td>10886.00000</td>\n",
       "      <td>10886.000000</td>\n",
       "      <td>10886.000000</td>\n",
       "      <td>10886.000000</td>\n",
       "      <td>10886.000000</td>\n",
       "      <td>10886.000000</td>\n",
       "      <td>10886.000000</td>\n",
       "    </tr>\n",
       "    <tr>\n",
       "      <th>mean</th>\n",
       "      <td>2.506614</td>\n",
       "      <td>0.028569</td>\n",
       "      <td>0.680875</td>\n",
       "      <td>1.418427</td>\n",
       "      <td>20.23086</td>\n",
       "      <td>23.655084</td>\n",
       "      <td>61.886460</td>\n",
       "      <td>12.799395</td>\n",
       "      <td>36.021955</td>\n",
       "      <td>155.552177</td>\n",
       "      <td>191.574132</td>\n",
       "    </tr>\n",
       "    <tr>\n",
       "      <th>std</th>\n",
       "      <td>1.116174</td>\n",
       "      <td>0.166599</td>\n",
       "      <td>0.466159</td>\n",
       "      <td>0.633839</td>\n",
       "      <td>7.79159</td>\n",
       "      <td>8.474601</td>\n",
       "      <td>19.245033</td>\n",
       "      <td>8.164537</td>\n",
       "      <td>49.960477</td>\n",
       "      <td>151.039033</td>\n",
       "      <td>181.144454</td>\n",
       "    </tr>\n",
       "    <tr>\n",
       "      <th>min</th>\n",
       "      <td>1.000000</td>\n",
       "      <td>0.000000</td>\n",
       "      <td>0.000000</td>\n",
       "      <td>1.000000</td>\n",
       "      <td>0.82000</td>\n",
       "      <td>0.760000</td>\n",
       "      <td>0.000000</td>\n",
       "      <td>0.000000</td>\n",
       "      <td>0.000000</td>\n",
       "      <td>0.000000</td>\n",
       "      <td>1.000000</td>\n",
       "    </tr>\n",
       "    <tr>\n",
       "      <th>25%</th>\n",
       "      <td>2.000000</td>\n",
       "      <td>0.000000</td>\n",
       "      <td>0.000000</td>\n",
       "      <td>1.000000</td>\n",
       "      <td>13.94000</td>\n",
       "      <td>16.665000</td>\n",
       "      <td>47.000000</td>\n",
       "      <td>7.001500</td>\n",
       "      <td>4.000000</td>\n",
       "      <td>36.000000</td>\n",
       "      <td>42.000000</td>\n",
       "    </tr>\n",
       "    <tr>\n",
       "      <th>50%</th>\n",
       "      <td>3.000000</td>\n",
       "      <td>0.000000</td>\n",
       "      <td>1.000000</td>\n",
       "      <td>1.000000</td>\n",
       "      <td>20.50000</td>\n",
       "      <td>24.240000</td>\n",
       "      <td>62.000000</td>\n",
       "      <td>12.998000</td>\n",
       "      <td>17.000000</td>\n",
       "      <td>118.000000</td>\n",
       "      <td>145.000000</td>\n",
       "    </tr>\n",
       "    <tr>\n",
       "      <th>75%</th>\n",
       "      <td>4.000000</td>\n",
       "      <td>0.000000</td>\n",
       "      <td>1.000000</td>\n",
       "      <td>2.000000</td>\n",
       "      <td>26.24000</td>\n",
       "      <td>31.060000</td>\n",
       "      <td>77.000000</td>\n",
       "      <td>16.997900</td>\n",
       "      <td>49.000000</td>\n",
       "      <td>222.000000</td>\n",
       "      <td>284.000000</td>\n",
       "    </tr>\n",
       "    <tr>\n",
       "      <th>max</th>\n",
       "      <td>4.000000</td>\n",
       "      <td>1.000000</td>\n",
       "      <td>1.000000</td>\n",
       "      <td>4.000000</td>\n",
       "      <td>41.00000</td>\n",
       "      <td>45.455000</td>\n",
       "      <td>100.000000</td>\n",
       "      <td>56.996900</td>\n",
       "      <td>367.000000</td>\n",
       "      <td>886.000000</td>\n",
       "      <td>977.000000</td>\n",
       "    </tr>\n",
       "  </tbody>\n",
       "</table>\n",
       "</div>"
      ],
      "text/plain": [
       "             season       holiday    workingday       weather         temp  \\\n",
       "count  10886.000000  10886.000000  10886.000000  10886.000000  10886.00000   \n",
       "mean       2.506614      0.028569      0.680875      1.418427     20.23086   \n",
       "std        1.116174      0.166599      0.466159      0.633839      7.79159   \n",
       "min        1.000000      0.000000      0.000000      1.000000      0.82000   \n",
       "25%        2.000000      0.000000      0.000000      1.000000     13.94000   \n",
       "50%        3.000000      0.000000      1.000000      1.000000     20.50000   \n",
       "75%        4.000000      0.000000      1.000000      2.000000     26.24000   \n",
       "max        4.000000      1.000000      1.000000      4.000000     41.00000   \n",
       "\n",
       "              atemp      humidity     windspeed        casual    registered  \\\n",
       "count  10886.000000  10886.000000  10886.000000  10886.000000  10886.000000   \n",
       "mean      23.655084     61.886460     12.799395     36.021955    155.552177   \n",
       "std        8.474601     19.245033      8.164537     49.960477    151.039033   \n",
       "min        0.760000      0.000000      0.000000      0.000000      0.000000   \n",
       "25%       16.665000     47.000000      7.001500      4.000000     36.000000   \n",
       "50%       24.240000     62.000000     12.998000     17.000000    118.000000   \n",
       "75%       31.060000     77.000000     16.997900     49.000000    222.000000   \n",
       "max       45.455000    100.000000     56.996900    367.000000    886.000000   \n",
       "\n",
       "              count  \n",
       "count  10886.000000  \n",
       "mean     191.574132  \n",
       "std      181.144454  \n",
       "min        1.000000  \n",
       "25%       42.000000  \n",
       "50%      145.000000  \n",
       "75%      284.000000  \n",
       "max      977.000000  "
      ]
     },
     "execution_count": 6,
     "metadata": {},
     "output_type": "execute_result"
    }
   ],
   "source": [
    "df_train.describe()"
   ]
  },
  {
   "cell_type": "code",
   "execution_count": null,
   "metadata": {},
   "outputs": [],
   "source": []
  },
  {
   "cell_type": "markdown",
   "metadata": {},
   "source": [
    "## 2.2 数据分析"
   ]
  },
  {
   "cell_type": "markdown",
   "metadata": {},
   "source": [
    "经过上述分析，发现datetime数值包含的信息很多，我们将月、日、和 小时单独拎出来，放到3列中，然后删除与模型学习无关的变量。"
   ]
  },
  {
   "cell_type": "code",
   "execution_count": 7,
   "metadata": {
    "scrolled": true
   },
   "outputs": [
    {
     "data": {
      "text/html": [
       "<div>\n",
       "<style scoped>\n",
       "    .dataframe tbody tr th:only-of-type {\n",
       "        vertical-align: middle;\n",
       "    }\n",
       "\n",
       "    .dataframe tbody tr th {\n",
       "        vertical-align: top;\n",
       "    }\n",
       "\n",
       "    .dataframe thead th {\n",
       "        text-align: right;\n",
       "    }\n",
       "</style>\n",
       "<table border=\"1\" class=\"dataframe\">\n",
       "  <thead>\n",
       "    <tr style=\"text-align: right;\">\n",
       "      <th></th>\n",
       "      <th>datetime</th>\n",
       "      <th>season</th>\n",
       "      <th>holiday</th>\n",
       "      <th>workingday</th>\n",
       "      <th>weather</th>\n",
       "      <th>temp</th>\n",
       "      <th>atemp</th>\n",
       "      <th>humidity</th>\n",
       "      <th>windspeed</th>\n",
       "      <th>casual</th>\n",
       "      <th>registered</th>\n",
       "      <th>count</th>\n",
       "    </tr>\n",
       "  </thead>\n",
       "  <tbody>\n",
       "    <tr>\n",
       "      <th>0</th>\n",
       "      <td>2011-01-01 00:00:00</td>\n",
       "      <td>1</td>\n",
       "      <td>0</td>\n",
       "      <td>0</td>\n",
       "      <td>1</td>\n",
       "      <td>9.84</td>\n",
       "      <td>14.395</td>\n",
       "      <td>81</td>\n",
       "      <td>0.0</td>\n",
       "      <td>3</td>\n",
       "      <td>13</td>\n",
       "      <td>16</td>\n",
       "    </tr>\n",
       "  </tbody>\n",
       "</table>\n",
       "</div>"
      ],
      "text/plain": [
       "              datetime  season  holiday  workingday  weather  temp   atemp  \\\n",
       "0  2011-01-01 00:00:00       1        0           0        1  9.84  14.395   \n",
       "\n",
       "   humidity  windspeed  casual  registered  count  \n",
       "0        81        0.0       3          13     16  "
      ]
     },
     "execution_count": 7,
     "metadata": {},
     "output_type": "execute_result"
    }
   ],
   "source": [
    "#来处理时间,因为它包含的信息总是非常多的,毕竟变化都是随着时间发生的嘛\n",
    "df_train.head(1)"
   ]
  },
  {
   "cell_type": "code",
   "execution_count": 8,
   "metadata": {},
   "outputs": [],
   "source": [
    "dix = pd.DatetimeIndex(df_train.datetime)"
   ]
  },
  {
   "cell_type": "code",
   "execution_count": 9,
   "metadata": {},
   "outputs": [
    {
     "data": {
      "text/plain": [
       "DatetimeIndex(['2011-01-01 00:00:00', '2011-01-01 01:00:00',\n",
       "               '2011-01-01 02:00:00', '2011-01-01 03:00:00',\n",
       "               '2011-01-01 04:00:00', '2011-01-01 05:00:00',\n",
       "               '2011-01-01 06:00:00', '2011-01-01 07:00:00',\n",
       "               '2011-01-01 08:00:00', '2011-01-01 09:00:00',\n",
       "               ...\n",
       "               '2012-12-19 14:00:00', '2012-12-19 15:00:00',\n",
       "               '2012-12-19 16:00:00', '2012-12-19 17:00:00',\n",
       "               '2012-12-19 18:00:00', '2012-12-19 19:00:00',\n",
       "               '2012-12-19 20:00:00', '2012-12-19 21:00:00',\n",
       "               '2012-12-19 22:00:00', '2012-12-19 23:00:00'],\n",
       "              dtype='datetime64[ns]', name='datetime', length=10886, freq=None)"
      ]
     },
     "execution_count": 9,
     "metadata": {},
     "output_type": "execute_result"
    }
   ],
   "source": [
    "dix"
   ]
  },
  {
   "cell_type": "code",
   "execution_count": 10,
   "metadata": {},
   "outputs": [
    {
     "data": {
      "text/plain": [
       "9"
      ]
     },
     "execution_count": 10,
     "metadata": {},
     "output_type": "execute_result"
    }
   ],
   "source": [
    "dix.hour[9]"
   ]
  },
  {
   "cell_type": "code",
   "execution_count": 11,
   "metadata": {
    "scrolled": true
   },
   "outputs": [
    {
     "data": {
      "text/html": [
       "<div>\n",
       "<style scoped>\n",
       "    .dataframe tbody tr th:only-of-type {\n",
       "        vertical-align: middle;\n",
       "    }\n",
       "\n",
       "    .dataframe tbody tr th {\n",
       "        vertical-align: top;\n",
       "    }\n",
       "\n",
       "    .dataframe thead th {\n",
       "        text-align: right;\n",
       "    }\n",
       "</style>\n",
       "<table border=\"1\" class=\"dataframe\">\n",
       "  <thead>\n",
       "    <tr style=\"text-align: right;\">\n",
       "      <th></th>\n",
       "      <th>datetime</th>\n",
       "      <th>season</th>\n",
       "      <th>holiday</th>\n",
       "      <th>workingday</th>\n",
       "      <th>weather</th>\n",
       "      <th>temp</th>\n",
       "      <th>atemp</th>\n",
       "      <th>humidity</th>\n",
       "      <th>windspeed</th>\n",
       "      <th>casual</th>\n",
       "      <th>registered</th>\n",
       "      <th>count</th>\n",
       "      <th>hour</th>\n",
       "      <th>day</th>\n",
       "      <th>month</th>\n",
       "    </tr>\n",
       "  </thead>\n",
       "  <tbody>\n",
       "    <tr>\n",
       "      <th>0</th>\n",
       "      <td>2011-01-01 00:00:00</td>\n",
       "      <td>1</td>\n",
       "      <td>0</td>\n",
       "      <td>0</td>\n",
       "      <td>1</td>\n",
       "      <td>9.84</td>\n",
       "      <td>14.395</td>\n",
       "      <td>81</td>\n",
       "      <td>0.0</td>\n",
       "      <td>3</td>\n",
       "      <td>13</td>\n",
       "      <td>16</td>\n",
       "      <td>0</td>\n",
       "      <td>5</td>\n",
       "      <td>1</td>\n",
       "    </tr>\n",
       "    <tr>\n",
       "      <th>1</th>\n",
       "      <td>2011-01-01 01:00:00</td>\n",
       "      <td>1</td>\n",
       "      <td>0</td>\n",
       "      <td>0</td>\n",
       "      <td>1</td>\n",
       "      <td>9.02</td>\n",
       "      <td>13.635</td>\n",
       "      <td>80</td>\n",
       "      <td>0.0</td>\n",
       "      <td>8</td>\n",
       "      <td>32</td>\n",
       "      <td>40</td>\n",
       "      <td>1</td>\n",
       "      <td>5</td>\n",
       "      <td>1</td>\n",
       "    </tr>\n",
       "    <tr>\n",
       "      <th>2</th>\n",
       "      <td>2011-01-01 02:00:00</td>\n",
       "      <td>1</td>\n",
       "      <td>0</td>\n",
       "      <td>0</td>\n",
       "      <td>1</td>\n",
       "      <td>9.02</td>\n",
       "      <td>13.635</td>\n",
       "      <td>80</td>\n",
       "      <td>0.0</td>\n",
       "      <td>5</td>\n",
       "      <td>27</td>\n",
       "      <td>32</td>\n",
       "      <td>2</td>\n",
       "      <td>5</td>\n",
       "      <td>1</td>\n",
       "    </tr>\n",
       "    <tr>\n",
       "      <th>3</th>\n",
       "      <td>2011-01-01 03:00:00</td>\n",
       "      <td>1</td>\n",
       "      <td>0</td>\n",
       "      <td>0</td>\n",
       "      <td>1</td>\n",
       "      <td>9.84</td>\n",
       "      <td>14.395</td>\n",
       "      <td>75</td>\n",
       "      <td>0.0</td>\n",
       "      <td>3</td>\n",
       "      <td>10</td>\n",
       "      <td>13</td>\n",
       "      <td>3</td>\n",
       "      <td>5</td>\n",
       "      <td>1</td>\n",
       "    </tr>\n",
       "    <tr>\n",
       "      <th>4</th>\n",
       "      <td>2011-01-01 04:00:00</td>\n",
       "      <td>1</td>\n",
       "      <td>0</td>\n",
       "      <td>0</td>\n",
       "      <td>1</td>\n",
       "      <td>9.84</td>\n",
       "      <td>14.395</td>\n",
       "      <td>75</td>\n",
       "      <td>0.0</td>\n",
       "      <td>0</td>\n",
       "      <td>1</td>\n",
       "      <td>1</td>\n",
       "      <td>4</td>\n",
       "      <td>5</td>\n",
       "      <td>1</td>\n",
       "    </tr>\n",
       "  </tbody>\n",
       "</table>\n",
       "</div>"
      ],
      "text/plain": [
       "              datetime  season  holiday  workingday  weather  temp   atemp  \\\n",
       "0  2011-01-01 00:00:00       1        0           0        1  9.84  14.395   \n",
       "1  2011-01-01 01:00:00       1        0           0        1  9.02  13.635   \n",
       "2  2011-01-01 02:00:00       1        0           0        1  9.02  13.635   \n",
       "3  2011-01-01 03:00:00       1        0           0        1  9.84  14.395   \n",
       "4  2011-01-01 04:00:00       1        0           0        1  9.84  14.395   \n",
       "\n",
       "   humidity  windspeed  casual  registered  count  hour  day  month  \n",
       "0        81        0.0       3          13     16     0    5      1  \n",
       "1        80        0.0       8          32     40     1    5      1  \n",
       "2        80        0.0       5          27     32     2    5      1  \n",
       "3        75        0.0       3          10     13     3    5      1  \n",
       "4        75        0.0       0           1      1     4    5      1  "
      ]
     },
     "execution_count": 11,
     "metadata": {},
     "output_type": "execute_result"
    }
   ],
   "source": [
    "\n",
    "df_train['hour']=pd.DatetimeIndex(df_train.datetime).hour\n",
    "df_train['day']=pd.DatetimeIndex(df_train.datetime).dayofweek\n",
    "df_train['month']=pd.DatetimeIndex(df_train.datetime).month\n",
    "\n",
    "#other method  \n",
    "# df_train['dt']=pd.to_datetime(df_train['datetime'])\n",
    "# df_train['day_of_week']=df_train['dt'].apply(lambda x:x.dayofweek)\n",
    "# df_train['day_of_month']=df_train['dt'].apply(lambda x:x.day)\n",
    "\n",
    "df_train.head()"
   ]
  },
  {
   "cell_type": "markdown",
   "metadata": {},
   "source": [
    "保存原数据集并抛掉不要的字段"
   ]
  },
  {
   "cell_type": "code",
   "execution_count": 12,
   "metadata": {},
   "outputs": [],
   "source": [
    "df_train_origin = df_train \n",
    "df_train = df_train.drop(['datetime','casual','registered'], axis = 1)"
   ]
  },
  {
   "cell_type": "code",
   "execution_count": 13,
   "metadata": {
    "scrolled": true
   },
   "outputs": [
    {
     "data": {
      "text/plain": [
       "array([16, 40, 32, 13,  1,  1,  2,  3,  8, 14], dtype=int64)"
      ]
     },
     "execution_count": 13,
     "metadata": {},
     "output_type": "execute_result"
    }
   ],
   "source": [
    "#数据集一定要注意，不要直接看所有，容易内存爆掉\n",
    "df_train['count'].values[:10]"
   ]
  },
  {
   "cell_type": "code",
   "execution_count": 14,
   "metadata": {},
   "outputs": [],
   "source": [
    "names = list(df_train.columns)"
   ]
  },
  {
   "cell_type": "code",
   "execution_count": 15,
   "metadata": {},
   "outputs": [
    {
     "data": {
      "text/plain": [
       "Index(['season', 'holiday', 'workingday', 'weather', 'temp', 'atemp',\n",
       "       'humidity', 'windspeed', 'count', 'hour', 'day', 'month'],\n",
       "      dtype='object')"
      ]
     },
     "execution_count": 15,
     "metadata": {},
     "output_type": "execute_result"
    }
   ],
   "source": [
    "df_train.columns"
   ]
  },
  {
   "cell_type": "code",
   "execution_count": 16,
   "metadata": {},
   "outputs": [],
   "source": [
    "#data = df_train[['season', 'holiday', 'workingday', 'weather', 'temp', 'atemp',\n",
    "#       'humidity', 'windspeed', 'hour', 'day', 'month', 'count']]"
   ]
  },
  {
   "cell_type": "code",
   "execution_count": 17,
   "metadata": {},
   "outputs": [],
   "source": [
    "#data.head(1)"
   ]
  },
  {
   "cell_type": "code",
   "execution_count": 18,
   "metadata": {
    "scrolled": true
   },
   "outputs": [
    {
     "data": {
      "image/png": "[encoded data removed]",
      "text/plain": [
       "<matplotlib.figure.Figure at 0x20c98f60080>"
      ]
     },
     "metadata": {},
     "output_type": "display_data"
    }
   ],
   "source": [
    "import matplotlib.pyplot as plt\n",
    "%matplotlib inline\n",
    "\n",
    "correlations = df_train.corr()  #计算变量之间的相关系数矩阵\n",
    "# plot correlation matrix\n",
    "fig = plt.figure() #调用figure创建一个绘图对象  50,30),dpi=50\n",
    "ax = fig.add_subplot(111)\n",
    "cax = ax.matshow(correlations, vmin=-1, vmax=1)  #绘制热力图，从-1到1\n",
    "fig.colorbar(cax)  #将matshow生成热力图设置为颜色渐变条\n",
    "ticks = np.arange(0,12,1) #生成0-12，步长为1\n",
    "ax.set_xticks(ticks)  #生成刻度\n",
    "ax.set_yticks(ticks)\n",
    "ax.set_xticklabels(names) #生成x轴标签\n",
    "ax.set_yticklabels(names)\n",
    "plt.show()"
   ]
  },
  {
   "cell_type": "code",
   "execution_count": 19,
   "metadata": {
    "scrolled": true
   },
   "outputs": [
    {
     "data": {
      "text/html": [
       "<div>\n",
       "<style scoped>\n",
       "    .dataframe tbody tr th:only-of-type {\n",
       "        vertical-align: middle;\n",
       "    }\n",
       "\n",
       "    .dataframe tbody tr th {\n",
       "        vertical-align: top;\n",
       "    }\n",
       "\n",
       "    .dataframe thead th {\n",
       "        text-align: right;\n",
       "    }\n",
       "</style>\n",
       "<table border=\"1\" class=\"dataframe\">\n",
       "  <thead>\n",
       "    <tr style=\"text-align: right;\">\n",
       "      <th></th>\n",
       "      <th>season</th>\n",
       "      <th>holiday</th>\n",
       "      <th>workingday</th>\n",
       "      <th>weather</th>\n",
       "      <th>temp</th>\n",
       "      <th>atemp</th>\n",
       "      <th>humidity</th>\n",
       "      <th>windspeed</th>\n",
       "      <th>count</th>\n",
       "      <th>hour</th>\n",
       "      <th>day</th>\n",
       "      <th>month</th>\n",
       "    </tr>\n",
       "  </thead>\n",
       "  <tbody>\n",
       "    <tr>\n",
       "      <th>season</th>\n",
       "      <td>1.000000</td>\n",
       "      <td>0.029368</td>\n",
       "      <td>-0.008126</td>\n",
       "      <td>0.008879</td>\n",
       "      <td>0.258689</td>\n",
       "      <td>0.264744</td>\n",
       "      <td>0.190610</td>\n",
       "      <td>-0.147121</td>\n",
       "      <td>0.163439</td>\n",
       "      <td>-0.006546</td>\n",
       "      <td>-0.010553</td>\n",
       "      <td>0.971524</td>\n",
       "    </tr>\n",
       "    <tr>\n",
       "      <th>holiday</th>\n",
       "      <td>0.029368</td>\n",
       "      <td>1.000000</td>\n",
       "      <td>-0.250491</td>\n",
       "      <td>-0.007074</td>\n",
       "      <td>0.000295</td>\n",
       "      <td>-0.005215</td>\n",
       "      <td>0.001929</td>\n",
       "      <td>0.008409</td>\n",
       "      <td>-0.005393</td>\n",
       "      <td>-0.000354</td>\n",
       "      <td>-0.191832</td>\n",
       "      <td>0.001731</td>\n",
       "    </tr>\n",
       "    <tr>\n",
       "      <th>workingday</th>\n",
       "      <td>-0.008126</td>\n",
       "      <td>-0.250491</td>\n",
       "      <td>1.000000</td>\n",
       "      <td>0.033772</td>\n",
       "      <td>0.029966</td>\n",
       "      <td>0.024660</td>\n",
       "      <td>-0.010880</td>\n",
       "      <td>0.013373</td>\n",
       "      <td>0.011594</td>\n",
       "      <td>0.002780</td>\n",
       "      <td>-0.704267</td>\n",
       "      <td>-0.003394</td>\n",
       "    </tr>\n",
       "    <tr>\n",
       "      <th>weather</th>\n",
       "      <td>0.008879</td>\n",
       "      <td>-0.007074</td>\n",
       "      <td>0.033772</td>\n",
       "      <td>1.000000</td>\n",
       "      <td>-0.055035</td>\n",
       "      <td>-0.055376</td>\n",
       "      <td>0.406244</td>\n",
       "      <td>0.007261</td>\n",
       "      <td>-0.128655</td>\n",
       "      <td>-0.022740</td>\n",
       "      <td>-0.047692</td>\n",
       "      <td>0.012144</td>\n",
       "    </tr>\n",
       "    <tr>\n",
       "      <th>temp</th>\n",
       "      <td>0.258689</td>\n",
       "      <td>0.000295</td>\n",
       "      <td>0.029966</td>\n",
       "      <td>-0.055035</td>\n",
       "      <td>1.000000</td>\n",
       "      <td>0.984948</td>\n",
       "      <td>-0.064949</td>\n",
       "      <td>-0.017852</td>\n",
       "      <td>0.394454</td>\n",
       "      <td>0.145430</td>\n",
       "      <td>-0.038466</td>\n",
       "      <td>0.257589</td>\n",
       "    </tr>\n",
       "    <tr>\n",
       "      <th>atemp</th>\n",
       "      <td>0.264744</td>\n",
       "      <td>-0.005215</td>\n",
       "      <td>0.024660</td>\n",
       "      <td>-0.055376</td>\n",
       "      <td>0.984948</td>\n",
       "      <td>1.000000</td>\n",
       "      <td>-0.043536</td>\n",
       "      <td>-0.057473</td>\n",
       "      <td>0.389784</td>\n",
       "      <td>0.140343</td>\n",
       "      <td>-0.040235</td>\n",
       "      <td>0.264173</td>\n",
       "    </tr>\n",
       "    <tr>\n",
       "      <th>humidity</th>\n",
       "      <td>0.190610</td>\n",
       "      <td>0.001929</td>\n",
       "      <td>-0.010880</td>\n",
       "      <td>0.406244</td>\n",
       "      <td>-0.064949</td>\n",
       "      <td>-0.043536</td>\n",
       "      <td>1.000000</td>\n",
       "      <td>-0.318607</td>\n",
       "      <td>-0.317371</td>\n",
       "      <td>-0.278011</td>\n",
       "      <td>-0.026507</td>\n",
       "      <td>0.204537</td>\n",
       "    </tr>\n",
       "    <tr>\n",
       "      <th>windspeed</th>\n",
       "      <td>-0.147121</td>\n",
       "      <td>0.008409</td>\n",
       "      <td>0.013373</td>\n",
       "      <td>0.007261</td>\n",
       "      <td>-0.017852</td>\n",
       "      <td>-0.057473</td>\n",
       "      <td>-0.318607</td>\n",
       "      <td>1.000000</td>\n",
       "      <td>0.101369</td>\n",
       "      <td>0.146631</td>\n",
       "      <td>-0.024804</td>\n",
       "      <td>-0.150192</td>\n",
       "    </tr>\n",
       "    <tr>\n",
       "      <th>count</th>\n",
       "      <td>0.163439</td>\n",
       "      <td>-0.005393</td>\n",
       "      <td>0.011594</td>\n",
       "      <td>-0.128655</td>\n",
       "      <td>0.394454</td>\n",
       "      <td>0.389784</td>\n",
       "      <td>-0.317371</td>\n",
       "      <td>0.101369</td>\n",
       "      <td>1.000000</td>\n",
       "      <td>0.400601</td>\n",
       "      <td>-0.002283</td>\n",
       "      <td>0.166862</td>\n",
       "    </tr>\n",
       "    <tr>\n",
       "      <th>hour</th>\n",
       "      <td>-0.006546</td>\n",
       "      <td>-0.000354</td>\n",
       "      <td>0.002780</td>\n",
       "      <td>-0.022740</td>\n",
       "      <td>0.145430</td>\n",
       "      <td>0.140343</td>\n",
       "      <td>-0.278011</td>\n",
       "      <td>0.146631</td>\n",
       "      <td>0.400601</td>\n",
       "      <td>1.000000</td>\n",
       "      <td>-0.002925</td>\n",
       "      <td>-0.006818</td>\n",
       "    </tr>\n",
       "    <tr>\n",
       "      <th>day</th>\n",
       "      <td>-0.010553</td>\n",
       "      <td>-0.191832</td>\n",
       "      <td>-0.704267</td>\n",
       "      <td>-0.047692</td>\n",
       "      <td>-0.038466</td>\n",
       "      <td>-0.040235</td>\n",
       "      <td>-0.026507</td>\n",
       "      <td>-0.024804</td>\n",
       "      <td>-0.002283</td>\n",
       "      <td>-0.002925</td>\n",
       "      <td>1.000000</td>\n",
       "      <td>-0.002266</td>\n",
       "    </tr>\n",
       "    <tr>\n",
       "      <th>month</th>\n",
       "      <td>0.971524</td>\n",
       "      <td>0.001731</td>\n",
       "      <td>-0.003394</td>\n",
       "      <td>0.012144</td>\n",
       "      <td>0.257589</td>\n",
       "      <td>0.264173</td>\n",
       "      <td>0.204537</td>\n",
       "      <td>-0.150192</td>\n",
       "      <td>0.166862</td>\n",
       "      <td>-0.006818</td>\n",
       "      <td>-0.002266</td>\n",
       "      <td>1.000000</td>\n",
       "    </tr>\n",
       "  </tbody>\n",
       "</table>\n",
       "</div>"
      ],
      "text/plain": [
       "              season   holiday  workingday   weather      temp     atemp  \\\n",
       "season      1.000000  0.029368   -0.008126  0.008879  0.258689  0.264744   \n",
       "holiday     0.029368  1.000000   -0.250491 -0.007074  0.000295 -0.005215   \n",
       "workingday -0.008126 -0.250491    1.000000  0.033772  0.029966  0.024660   \n",
       "weather     0.008879 -0.007074    0.033772  1.000000 -0.055035 -0.055376   \n",
       "temp        0.258689  0.000295    0.029966 -0.055035  1.000000  0.984948   \n",
       "atemp       0.264744 -0.005215    0.024660 -0.055376  0.984948  1.000000   \n",
       "humidity    0.190610  0.001929   -0.010880  0.406244 -0.064949 -0.043536   \n",
       "windspeed  -0.147121  0.008409    0.013373  0.007261 -0.017852 -0.057473   \n",
       "count       0.163439 -0.005393    0.011594 -0.128655  0.394454  0.389784   \n",
       "hour       -0.006546 -0.000354    0.002780 -0.022740  0.145430  0.140343   \n",
       "day        -0.010553 -0.191832   -0.704267 -0.047692 -0.038466 -0.040235   \n",
       "month       0.971524  0.001731   -0.003394  0.012144  0.257589  0.264173   \n",
       "\n",
       "            humidity  windspeed     count      hour       day     month  \n",
       "season      0.190610  -0.147121  0.163439 -0.006546 -0.010553  0.971524  \n",
       "holiday     0.001929   0.008409 -0.005393 -0.000354 -0.191832  0.001731  \n",
       "workingday -0.010880   0.013373  0.011594  0.002780 -0.704267 -0.003394  \n",
       "weather     0.406244   0.007261 -0.128655 -0.022740 -0.047692  0.012144  \n",
       "temp       -0.064949  -0.017852  0.394454  0.145430 -0.038466  0.257589  \n",
       "atemp      -0.043536  -0.057473  0.389784  0.140343 -0.040235  0.264173  \n",
       "humidity    1.000000  -0.318607 -0.317371 -0.278011 -0.026507  0.204537  \n",
       "windspeed  -0.318607   1.000000  0.101369  0.146631 -0.024804 -0.150192  \n",
       "count      -0.317371   0.101369  1.000000  0.400601 -0.002283  0.166862  \n",
       "hour       -0.278011   0.146631  0.400601  1.000000 -0.002925 -0.006818  \n",
       "day        -0.026507  -0.024804 -0.002283 -0.002925  1.000000 -0.002266  \n",
       "month       0.204537  -0.150192  0.166862 -0.006818 -0.002266  1.000000  "
      ]
     },
     "execution_count": 19,
     "metadata": {},
     "output_type": "execute_result"
    }
   ],
   "source": [
    "df_train.corr()"
   ]
  },
  {
   "cell_type": "code",
   "execution_count": 20,
   "metadata": {},
   "outputs": [
    {
     "data": {
      "text/plain": [
       "array([[<matplotlib.axes._subplots.AxesSubplot object at 0x0000020C965B8DA0>,\n",
       "        <matplotlib.axes._subplots.AxesSubplot object at 0x0000020C99FC51D0>,\n",
       "        <matplotlib.axes._subplots.AxesSubplot object at 0x0000020C99FFE160>,\n",
       "        <matplotlib.axes._subplots.AxesSubplot object at 0x0000020C9A038198>,\n",
       "        <matplotlib.axes._subplots.AxesSubplot object at 0x0000020C9A073198>,\n",
       "        <matplotlib.axes._subplots.AxesSubplot object at 0x0000020C9A0731D0>,\n",
       "        <matplotlib.axes._subplots.AxesSubplot object at 0x0000020C9A0D4CF8>,\n",
       "        <matplotlib.axes._subplots.AxesSubplot object at 0x0000020C9A15A208>,\n",
       "        <matplotlib.axes._subplots.AxesSubplot object at 0x0000020C9A192748>,\n",
       "        <matplotlib.axes._subplots.AxesSubplot object at 0x0000020C9A19C3C8>,\n",
       "        <matplotlib.axes._subplots.AxesSubplot object at 0x0000020C9A1F6CF8>,\n",
       "        <matplotlib.axes._subplots.AxesSubplot object at 0x0000020C9A22BD68>],\n",
       "       [<matplotlib.axes._subplots.AxesSubplot object at 0x0000020C9B478D68>,\n",
       "        <matplotlib.axes._subplots.AxesSubplot object at 0x0000020C9B4B2D68>,\n",
       "        <matplotlib.axes._subplots.AxesSubplot object at 0x0000020C9B4E5828>,\n",
       "        <matplotlib.axes._subplots.AxesSubplot object at 0x0000020C9B51E898>,\n",
       "        <matplotlib.axes._subplots.AxesSubplot object at 0x0000020C9B55A898>,\n",
       "        <matplotlib.axes._subplots.AxesSubplot object at 0x0000020C9B592898>,\n",
       "        <matplotlib.axes._subplots.AxesSubplot object at 0x0000020C9B5C8518>,\n",
       "        <matplotlib.axes._subplots.AxesSubplot object at 0x0000020C9B600588>,\n",
       "        <matplotlib.axes._subplots.AxesSubplot object at 0x0000020C9B63A588>,\n",
       "        <matplotlib.axes._subplots.AxesSubplot object at 0x0000020C9B674588>,\n",
       "        <matplotlib.axes._subplots.AxesSubplot object at 0x0000020C9B641400>,\n",
       "        <matplotlib.axes._subplots.AxesSubplot object at 0x0000020C9B6E4128>],\n",
       "       [<matplotlib.axes._subplots.AxesSubplot object at 0x0000020C9B71F128>,\n",
       "        <matplotlib.axes._subplots.AxesSubplot object at 0x0000020C9B756128>,\n",
       "        <matplotlib.axes._subplots.AxesSubplot object at 0x0000020C9B78F668>,\n",
       "        <matplotlib.axes._subplots.AxesSubplot object at 0x0000020C9B7B9BA8>,\n",
       "        <matplotlib.axes._subplots.AxesSubplot object at 0x0000020C9B7F4BA8>,\n",
       "        <matplotlib.axes._subplots.AxesSubplot object at 0x0000020C9B82CBA8>,\n",
       "        <matplotlib.axes._subplots.AxesSubplot object at 0x0000020C9B86F128>,\n",
       "        <matplotlib.axes._subplots.AxesSubplot object at 0x0000020C9B89B518>,\n",
       "        <matplotlib.axes._subplots.AxesSubplot object at 0x0000020C9B8D54A8>,\n",
       "        <matplotlib.axes._subplots.AxesSubplot object at 0x0000020C9B90F4A8>,\n",
       "        <matplotlib.axes._subplots.AxesSubplot object at 0x0000020C9B946978>,\n",
       "        <matplotlib.axes._subplots.AxesSubplot object at 0x0000020C9B950A58>],\n",
       "       [<matplotlib.axes._subplots.AxesSubplot object at 0x0000020C9B9ADF98>,\n",
       "        <matplotlib.axes._subplots.AxesSubplot object at 0x0000020C9B9E2F98>,\n",
       "        <matplotlib.axes._subplots.AxesSubplot object at 0x0000020C9BA28518>,\n",
       "        <matplotlib.axes._subplots.AxesSubplot object at 0x0000020C9BA62518>,\n",
       "        <matplotlib.axes._subplots.AxesSubplot object at 0x0000020C9B59E470>,\n",
       "        <matplotlib.axes._subplots.AxesSubplot object at 0x0000020C9BAB7BE0>,\n",
       "        <matplotlib.axes._subplots.AxesSubplot object at 0x0000020C9BAEDDA0>,\n",
       "        <matplotlib.axes._subplots.AxesSubplot object at 0x0000020C9BB2ADA0>,\n",
       "        <matplotlib.axes._subplots.AxesSubplot object at 0x0000020C9BB66D30>,\n",
       "        <matplotlib.axes._subplots.AxesSubplot object at 0x0000020C9BB98860>,\n",
       "        <matplotlib.axes._subplots.AxesSubplot object at 0x0000020C9BBD28D0>,\n",
       "        <matplotlib.axes._subplots.AxesSubplot object at 0x0000020C9BC0E7F0>],\n",
       "       [<matplotlib.axes._subplots.AxesSubplot object at 0x0000020C9BC457F0>,\n",
       "        <matplotlib.axes._subplots.AxesSubplot object at 0x0000020C9BC7A4E0>,\n",
       "        <matplotlib.axes._subplots.AxesSubplot object at 0x0000020C9BCB3550>,\n",
       "        <matplotlib.axes._subplots.AxesSubplot object at 0x0000020C9BCEF470>,\n",
       "        <matplotlib.axes._subplots.AxesSubplot object at 0x0000020C9BD28390>,\n",
       "        <matplotlib.axes._subplots.AxesSubplot object at 0x0000020C9BD356A0>,\n",
       "        <matplotlib.axes._subplots.AxesSubplot object at 0x0000020C9BD85F60>,\n",
       "        <matplotlib.axes._subplots.AxesSubplot object at 0x0000020C9BDCC240>,\n",
       "        <matplotlib.axes._subplots.AxesSubplot object at 0x0000020C9BDE42B0>,\n",
       "        <matplotlib.axes._subplots.AxesSubplot object at 0x0000020C9BE43080>,\n",
       "        <matplotlib.axes._subplots.AxesSubplot object at 0x0000020C9BE6DA20>,\n",
       "        <matplotlib.axes._subplots.AxesSubplot object at 0x0000020C9BEA2A20>],\n",
       "       [<matplotlib.axes._subplots.AxesSubplot object at 0x0000020C9BEDDE80>,\n",
       "        <matplotlib.axes._subplots.AxesSubplot object at 0x0000020C9BF18E80>,\n",
       "        <matplotlib.axes._subplots.AxesSubplot object at 0x0000020C9BECB828>,\n",
       "        <matplotlib.axes._subplots.AxesSubplot object at 0x0000020C9BF86A20>,\n",
       "        <matplotlib.axes._subplots.AxesSubplot object at 0x0000020C9BFA4C50>,\n",
       "        <matplotlib.axes._subplots.AxesSubplot object at 0x0000020C9BFF8940>,\n",
       "        <matplotlib.axes._subplots.AxesSubplot object at 0x0000020C9C032860>,\n",
       "        <matplotlib.axes._subplots.AxesSubplot object at 0x0000020C9C065160>,\n",
       "        <matplotlib.axes._subplots.AxesSubplot object at 0x0000020C9C0A2160>,\n",
       "        <matplotlib.axes._subplots.AxesSubplot object at 0x0000020C9C0DC080>,\n",
       "        <matplotlib.axes._subplots.AxesSubplot object at 0x0000020C9C1145C0>,\n",
       "        <matplotlib.axes._subplots.AxesSubplot object at 0x0000020C9C13AA20>],\n",
       "       [<matplotlib.axes._subplots.AxesSubplot object at 0x0000020C9C1799B0>,\n",
       "        <matplotlib.axes._subplots.AxesSubplot object at 0x0000020C9C1B29B0>,\n",
       "        <matplotlib.axes._subplots.AxesSubplot object at 0x0000020C9C1E8EF0>,\n",
       "        <matplotlib.axes._subplots.AxesSubplot object at 0x0000020C9C1F5D68>,\n",
       "        <matplotlib.axes._subplots.AxesSubplot object at 0x0000020C9C2594E0>,\n",
       "        <matplotlib.axes._subplots.AxesSubplot object at 0x0000020C9C2944E0>,\n",
       "        <matplotlib.axes._subplots.AxesSubplot object at 0x0000020C9C2C99B0>,\n",
       "        <matplotlib.axes._subplots.AxesSubplot object at 0x0000020C9C303940>,\n",
       "        <matplotlib.axes._subplots.AxesSubplot object at 0x0000020C9C32CE80>,\n",
       "        <matplotlib.axes._subplots.AxesSubplot object at 0x0000020C9C368E80>,\n",
       "        <matplotlib.axes._subplots.AxesSubplot object at 0x0000020C9C3A4E80>,\n",
       "        <matplotlib.axes._subplots.AxesSubplot object at 0x0000020C9C3DFE10>],\n",
       "       [<matplotlib.axes._subplots.AxesSubplot object at 0x0000020C9C37D780>,\n",
       "        <matplotlib.axes._subplots.AxesSubplot object at 0x0000020C9C448940>,\n",
       "        <matplotlib.axes._subplots.AxesSubplot object at 0x0000020C9C485DA0>,\n",
       "        <matplotlib.axes._subplots.AxesSubplot object at 0x0000020C9C4BFDA0>,\n",
       "        <matplotlib.axes._subplots.AxesSubplot object at 0x0000020C9C4F4D30>,\n",
       "        <matplotlib.axes._subplots.AxesSubplot object at 0x0000020C9C518A20>,\n",
       "        <matplotlib.axes._subplots.AxesSubplot object at 0x0000020C9C555A20>,\n",
       "        <matplotlib.axes._subplots.AxesSubplot object at 0x0000020C9C591940>,\n",
       "        <matplotlib.axes._subplots.AxesSubplot object at 0x0000020C9C5CB860>,\n",
       "        <matplotlib.axes._subplots.AxesSubplot object at 0x0000020C9C5DBA20>,\n",
       "        <matplotlib.axes._subplots.AxesSubplot object at 0x0000020C9C6384E0>,\n",
       "        <matplotlib.axes._subplots.AxesSubplot object at 0x0000020C9C670780>],\n",
       "       [<matplotlib.axes._subplots.AxesSubplot object at 0x0000020C9C6925F8>,\n",
       "        <matplotlib.axes._subplots.AxesSubplot object at 0x0000020C9C6E76A0>,\n",
       "        <matplotlib.axes._subplots.AxesSubplot object at 0x0000020C9C70DF60>,\n",
       "        <matplotlib.axes._subplots.AxesSubplot object at 0x0000020C9C746F60>,\n",
       "        <matplotlib.axes._subplots.AxesSubplot object at 0x0000020C9C78C400>,\n",
       "        <matplotlib.axes._subplots.AxesSubplot object at 0x0000020C9C7C7400>,\n",
       "        <matplotlib.axes._subplots.AxesSubplot object at 0x0000020C9C770DD8>,\n",
       "        <matplotlib.axes._subplots.AxesSubplot object at 0x0000020C9C828A20>,\n",
       "        <matplotlib.axes._subplots.AxesSubplot object at 0x0000020C9C8639B0>,\n",
       "        <matplotlib.axes._subplots.AxesSubplot object at 0x0000020C9C89C9B0>,\n",
       "        <matplotlib.axes._subplots.AxesSubplot object at 0x0000020C9C8D3E10>,\n",
       "        <matplotlib.axes._subplots.AxesSubplot object at 0x0000020C9C909630>],\n",
       "       [<matplotlib.axes._subplots.AxesSubplot object at 0x0000020C9C944550>,\n",
       "        <matplotlib.axes._subplots.AxesSubplot object at 0x0000020C9C97D4E0>,\n",
       "        <matplotlib.axes._subplots.AxesSubplot object at 0x0000020C9C9B6550>,\n",
       "        <matplotlib.axes._subplots.AxesSubplot object at 0x0000020C9C91AA90>,\n",
       "        <matplotlib.axes._subplots.AxesSubplot object at 0x0000020C9CA19D30>,\n",
       "        <matplotlib.axes._subplots.AxesSubplot object at 0x0000020C9CA54DA0>,\n",
       "        <matplotlib.axes._subplots.AxesSubplot object at 0x0000020C9CA8FCC0>,\n",
       "        <matplotlib.axes._subplots.AxesSubplot object at 0x0000020C9CACBCC0>,\n",
       "        <matplotlib.axes._subplots.AxesSubplot object at 0x0000020C9CAFC780>,\n",
       "        <matplotlib.axes._subplots.AxesSubplot object at 0x0000020C9CB36BE0>,\n",
       "        <matplotlib.axes._subplots.AxesSubplot object at 0x0000020C9CB71BE0>,\n",
       "        <matplotlib.axes._subplots.AxesSubplot object at 0x0000020C9CBA9B00>],\n",
       "       [<matplotlib.axes._subplots.AxesSubplot object at 0x0000020C9CBDF780>,\n",
       "        <matplotlib.axes._subplots.AxesSubplot object at 0x0000020C9CC177F0>,\n",
       "        <matplotlib.axes._subplots.AxesSubplot object at 0x0000020C9CC52710>,\n",
       "        <matplotlib.axes._subplots.AxesSubplot object at 0x0000020C9CC8B710>,\n",
       "        <matplotlib.axes._subplots.AxesSubplot object at 0x0000020C9CC5D438>,\n",
       "        <matplotlib.axes._subplots.AxesSubplot object at 0x0000020C9CCF7390>,\n",
       "        <matplotlib.axes._subplots.AxesSubplot object at 0x0000020C9CD33390>,\n",
       "        <matplotlib.axes._subplots.AxesSubplot object at 0x0000020C9CD6E2B0>,\n",
       "        <matplotlib.axes._subplots.AxesSubplot object at 0x0000020C9CDA47F0>,\n",
       "        <matplotlib.axes._subplots.AxesSubplot object at 0x0000020C9CDCFE10>,\n",
       "        <matplotlib.axes._subplots.AxesSubplot object at 0x0000020C9CE08E10>,\n",
       "        <matplotlib.axes._subplots.AxesSubplot object at 0x0000020C9CE3DE10>],\n",
       "       [<matplotlib.axes._subplots.AxesSubplot object at 0x0000020C9CE86390>,\n",
       "        <matplotlib.axes._subplots.AxesSubplot object at 0x0000020C9CEAC780>,\n",
       "        <matplotlib.axes._subplots.AxesSubplot object at 0x0000020C9CEEB6A0>,\n",
       "        <matplotlib.axes._subplots.AxesSubplot object at 0x0000020C9CF236A0>,\n",
       "        <matplotlib.axes._subplots.AxesSubplot object at 0x0000020C9CF5CB70>,\n",
       "        <matplotlib.axes._subplots.AxesSubplot object at 0x0000020C9CF669E8>,\n",
       "        <matplotlib.axes._subplots.AxesSubplot object at 0x0000020C9CFB9C50>,\n",
       "        <matplotlib.axes._subplots.AxesSubplot object at 0x0000020C9CFF3FD0>,\n",
       "        <matplotlib.axes._subplots.AxesSubplot object at 0x0000020C9D030FD0>,\n",
       "        <matplotlib.axes._subplots.AxesSubplot object at 0x0000020C9D065FD0>,\n",
       "        <matplotlib.axes._subplots.AxesSubplot object at 0x0000020C9D09D940>,\n",
       "        <matplotlib.axes._subplots.AxesSubplot object at 0x0000020C9D0D39B0>]],\n",
       "      dtype=object)"
      ]
     },
     "execution_count": 20,
     "metadata": {},
     "output_type": "execute_result"
    },
    {
     "data": {
      "image/png": "[encoded data removed]",
      "text/plain": [
       "<matplotlib.figure.Figure at 0x20c965b8438>"
      ]
     },
     "metadata": {},
     "output_type": "display_data"
    }
   ],
   "source": [
    "pd.plotting.scatter_matrix(df_train, alpha=0.2, figsize=(9,9), diagonal='kde')"
   ]
  },
  {
   "cell_type": "markdown",
   "metadata": {},
   "source": [
    "## 2.3 特征数据提取"
   ]
  },
  {
   "cell_type": "markdown",
   "metadata": {},
   "source": [
    "将数据集分为两部分：\n",
    "\n",
    "- 1. df_train_target：目标，也就是count字段。 \n",
    "- 2. df_train_data：用于产出特征的数据"
   ]
  },
  {
   "cell_type": "code",
   "execution_count": 117,
   "metadata": {},
   "outputs": [],
   "source": [
    "df_train_target = df_train['count'].values\n",
    "#df_train_data = df_train.drop(['count'],axis = 1).values\n",
    "#df_train_data = df_train(['season'],['holiday'],['workingday'],['weather'],['hour']).values\n",
    "df_train_data = df_train.drop(['count','atemp','humidity','month'],axis = 1).values"
   ]
  },
  {
   "cell_type": "code",
   "execution_count": 118,
   "metadata": {
    "scrolled": true
   },
   "outputs": [
    {
     "name": "stdout",
     "output_type": "stream",
     "text": [
      "df_train_data shape is  (10886, 8)\n",
      "df_train_target shape is  (10886,)\n"
     ]
    }
   ],
   "source": [
    "print('df_train_data shape is ', df_train_data.shape)\n",
    "print('df_train_target shape is ', df_train_target.shape)"
   ]
  },
  {
   "cell_type": "markdown",
   "metadata": {},
   "source": [
    "也可以用另外的方式提取字段"
   ]
  },
  {
   "cell_type": "code",
   "execution_count": 119,
   "metadata": {
    "scrolled": false
   },
   "outputs": [
    {
     "data": {
      "text/html": [
       "<div>\n",
       "<style scoped>\n",
       "    .dataframe tbody tr th:only-of-type {\n",
       "        vertical-align: middle;\n",
       "    }\n",
       "\n",
       "    .dataframe tbody tr th {\n",
       "        vertical-align: top;\n",
       "    }\n",
       "\n",
       "    .dataframe thead th {\n",
       "        text-align: right;\n",
       "    }\n",
       "</style>\n",
       "<table border=\"1\" class=\"dataframe\">\n",
       "  <thead>\n",
       "    <tr style=\"text-align: right;\">\n",
       "      <th></th>\n",
       "      <th>season</th>\n",
       "      <th>holiday</th>\n",
       "      <th>workingday</th>\n",
       "      <th>weather</th>\n",
       "      <th>temp</th>\n",
       "      <th>atemp</th>\n",
       "      <th>humidity</th>\n",
       "      <th>windspeed</th>\n",
       "      <th>count</th>\n",
       "      <th>month</th>\n",
       "      <th>day</th>\n",
       "      <th>hour</th>\n",
       "    </tr>\n",
       "  </thead>\n",
       "  <tbody>\n",
       "    <tr>\n",
       "      <th>0</th>\n",
       "      <td>1</td>\n",
       "      <td>0</td>\n",
       "      <td>0</td>\n",
       "      <td>1</td>\n",
       "      <td>9.84</td>\n",
       "      <td>14.395</td>\n",
       "      <td>81</td>\n",
       "      <td>0.0</td>\n",
       "      <td>16</td>\n",
       "      <td>1</td>\n",
       "      <td>5</td>\n",
       "      <td>0</td>\n",
       "    </tr>\n",
       "    <tr>\n",
       "      <th>1</th>\n",
       "      <td>1</td>\n",
       "      <td>0</td>\n",
       "      <td>0</td>\n",
       "      <td>1</td>\n",
       "      <td>9.02</td>\n",
       "      <td>13.635</td>\n",
       "      <td>80</td>\n",
       "      <td>0.0</td>\n",
       "      <td>40</td>\n",
       "      <td>1</td>\n",
       "      <td>5</td>\n",
       "      <td>1</td>\n",
       "    </tr>\n",
       "    <tr>\n",
       "      <th>2</th>\n",
       "      <td>1</td>\n",
       "      <td>0</td>\n",
       "      <td>0</td>\n",
       "      <td>1</td>\n",
       "      <td>9.02</td>\n",
       "      <td>13.635</td>\n",
       "      <td>80</td>\n",
       "      <td>0.0</td>\n",
       "      <td>32</td>\n",
       "      <td>1</td>\n",
       "      <td>5</td>\n",
       "      <td>2</td>\n",
       "    </tr>\n",
       "    <tr>\n",
       "      <th>3</th>\n",
       "      <td>1</td>\n",
       "      <td>0</td>\n",
       "      <td>0</td>\n",
       "      <td>1</td>\n",
       "      <td>9.84</td>\n",
       "      <td>14.395</td>\n",
       "      <td>75</td>\n",
       "      <td>0.0</td>\n",
       "      <td>13</td>\n",
       "      <td>1</td>\n",
       "      <td>5</td>\n",
       "      <td>3</td>\n",
       "    </tr>\n",
       "    <tr>\n",
       "      <th>4</th>\n",
       "      <td>1</td>\n",
       "      <td>0</td>\n",
       "      <td>0</td>\n",
       "      <td>1</td>\n",
       "      <td>9.84</td>\n",
       "      <td>14.395</td>\n",
       "      <td>75</td>\n",
       "      <td>0.0</td>\n",
       "      <td>1</td>\n",
       "      <td>1</td>\n",
       "      <td>5</td>\n",
       "      <td>4</td>\n",
       "    </tr>\n",
       "  </tbody>\n",
       "</table>\n",
       "</div>"
      ],
      "text/plain": [
       "   season  holiday  workingday  weather  temp   atemp  humidity  windspeed  \\\n",
       "0       1        0           0        1  9.84  14.395        81        0.0   \n",
       "1       1        0           0        1  9.02  13.635        80        0.0   \n",
       "2       1        0           0        1  9.02  13.635        80        0.0   \n",
       "3       1        0           0        1  9.84  14.395        75        0.0   \n",
       "4       1        0           0        1  9.84  14.395        75        0.0   \n",
       "\n",
       "   count  month  day  hour  \n",
       "0     16      1    5     0  \n",
       "1     40      1    5     1  \n",
       "2     32      1    5     2  \n",
       "3     13      1    5     3  \n",
       "4      1      1    5     4  "
      ]
     },
     "execution_count": 119,
     "metadata": {},
     "output_type": "execute_result"
    }
   ],
   "source": [
    "\n",
    "# df = df_train.drop(['datetime','casual','registered'],axis=1,inplace=True)\n",
    "df_train_other = df_train[['season','holiday','workingday','weather','temp','atemp',\n",
    "               'humidity','windspeed','count','month','day','hour']]\n",
    "#df=df_train['datetime']\n",
    "df_train_other.head(5)"
   ]
  },
  {
   "cell_type": "code",
   "execution_count": 120,
   "metadata": {},
   "outputs": [
    {
     "data": {
      "text/plain": [
       "<matplotlib.axes._subplots.AxesSubplot at 0x20c8bf14908>"
      ]
     },
     "execution_count": 120,
     "metadata": {},
     "output_type": "execute_result"
    },
    {
     "data": {
      "image/png": "[encoded data removed]",
      "text/plain": [
       "<matplotlib.figure.Figure at 0x20d00fd4d30>"
      ]
     },
     "metadata": {},
     "output_type": "display_data"
    }
   ],
   "source": [
    "import matplotlib.pyplot as plt\n",
    "%matplotlib inline\n",
    "df_train.season.value_counts().sort_index().plot()"
   ]
  },
  {
   "cell_type": "code",
   "execution_count": 121,
   "metadata": {},
   "outputs": [
    {
     "data": {
      "text/plain": [
       "<matplotlib.axes._subplots.AxesSubplot at 0x20d010a84a8>"
      ]
     },
     "execution_count": 121,
     "metadata": {},
     "output_type": "execute_result"
    },
    {
     "data": {
      "image/png": "[encoded data removed]",
      "text/plain": [
       "<matplotlib.figure.Figure at 0x20d010fc3c8>"
      ]
     },
     "metadata": {},
     "output_type": "display_data"
    }
   ],
   "source": [
    "df_train.month.value_counts().sort_index().plot()"
   ]
  },
  {
   "cell_type": "code",
   "execution_count": 122,
   "metadata": {},
   "outputs": [
    {
     "data": {
      "text/plain": [
       "<matplotlib.axes._subplots.AxesSubplot at 0x20c85ef09e8>"
      ]
     },
     "execution_count": 122,
     "metadata": {},
     "output_type": "execute_result"
    },
    {
     "data": {
      "image/png": "[encoded data removed]",
      "text/plain": [
       "<matplotlib.figure.Figure at 0x20d0114f7b8>"
      ]
     },
     "metadata": {},
     "output_type": "display_data"
    }
   ],
   "source": [
    "df_train.month.value_counts().sort_index().plot()"
   ]
  },
  {
   "cell_type": "code",
   "execution_count": 123,
   "metadata": {},
   "outputs": [
    {
     "data": {
      "text/plain": [
       "<matplotlib.axes._subplots.AxesSubplot at 0x20d01195c50>"
      ]
     },
     "execution_count": 123,
     "metadata": {},
     "output_type": "execute_result"
    },
    {
     "data": {
      "image/png": "[encoded data removed]",
      "text/plain": [
       "<matplotlib.figure.Figure at 0x20d011b3518>"
      ]
     },
     "metadata": {},
     "output_type": "display_data"
    }
   ],
   "source": [
    "df_train.groupby(\"month\")['count'].mean().plot()"
   ]
  },
  {
   "cell_type": "code",
   "execution_count": 124,
   "metadata": {},
   "outputs": [
    {
     "data": {
      "text/plain": [
       "<matplotlib.axes._subplots.AxesSubplot at 0x20d012362e8>"
      ]
     },
     "execution_count": 124,
     "metadata": {},
     "output_type": "execute_result"
    },
    {
     "data": {
      "image/png": "[encoded data removed]",
      "text/plain": [
       "<matplotlib.figure.Figure at 0x20d011ee940>"
      ]
     },
     "metadata": {},
     "output_type": "display_data"
    }
   ],
   "source": [
    "df_train.groupby(\"hour\").sum()['count'].sort_index().plot()"
   ]
  },
  {
   "cell_type": "code",
   "execution_count": 125,
   "metadata": {},
   "outputs": [
    {
     "data": {
      "text/plain": [
       "array([5, 6, 0, 1, 2, 3, 4], dtype=int64)"
      ]
     },
     "execution_count": 125,
     "metadata": {},
     "output_type": "execute_result"
    }
   ],
   "source": [
    "df_train.day.unique()"
   ]
  },
  {
   "cell_type": "code",
   "execution_count": 126,
   "metadata": {},
   "outputs": [
    {
     "data": {
      "text/plain": [
       "array([ 0,  1,  2,  3,  4,  5,  6,  7,  8,  9, 10, 11, 12, 13, 14, 15, 16,\n",
       "       17, 18, 19, 20, 21, 22, 23], dtype=int64)"
      ]
     },
     "execution_count": 126,
     "metadata": {},
     "output_type": "execute_result"
    }
   ],
   "source": [
    "df_train.hour.unique()"
   ]
  },
  {
   "cell_type": "code",
   "execution_count": 127,
   "metadata": {},
   "outputs": [],
   "source": [
    "hourday = df_train.groupby(['hour','day'])['count'].mean()"
   ]
  },
  {
   "cell_type": "code",
   "execution_count": 128,
   "metadata": {},
   "outputs": [
    {
     "data": {
      "text/plain": [
       "<matplotlib.axes._subplots.AxesSubplot at 0x20d01286400>"
      ]
     },
     "execution_count": 128,
     "metadata": {},
     "output_type": "execute_result"
    },
    {
     "data": {
      "image/png": "[encoded data removed]",
      "text/plain": [
       "<matplotlib.figure.Figure at 0x20d012571d0>"
      ]
     },
     "metadata": {},
     "output_type": "display_data"
    }
   ],
   "source": [
    "hourday.unstack().plot()#行变列"
   ]
  },
  {
   "cell_type": "code",
   "execution_count": null,
   "metadata": {},
   "outputs": [],
   "source": []
  },
  {
   "cell_type": "code",
   "execution_count": null,
   "metadata": {},
   "outputs": [],
   "source": []
  },
  {
   "cell_type": "markdown",
   "metadata": {},
   "source": [
    "## 2.4 准备训练集数据,测试集数据:\n",
    "\n",
    "上文中的特征数据即为训练集数据\n",
    "\n",
    "- 1. df_train_target：目标,也就是count字段。\n",
    "- 2. df_train_data：用于产出特征的数据"
   ]
  },
  {
   "cell_type": "markdown",
   "metadata": {},
   "source": [
    "## 2.5 模型选择"
   ]
  },
  {
   "cell_type": "markdown",
   "metadata": {},
   "source": [
    "应用机器学习算法的过程，多半是在调参，各种不同的参数会带来不同的结果（比如正则化系数，比如决策树类的算法的树深和棵树，比如距离判定准则等等等等）"
   ]
  },
  {
   "cell_type": "markdown",
   "metadata": {},
   "source": [
    "咱们依旧会使用交叉验证的方式（交叉验证集约占全部数据的20%）来看看模型的效果,\n",
    "我们尝试 支持向量回归/Suport Vector Regression, 岭回归/Ridge Regression 和\n",
    "随机森林回归/Random Forest Regressor。每个模型会跑3趟看平均的结果。"
   ]
  },
  {
   "cell_type": "code",
   "execution_count": 129,
   "metadata": {},
   "outputs": [],
   "source": [
    "from sklearn import linear_model\n",
    "from sklearn.model_selection import cross_val_score\n",
    "from sklearn import model_selection  \n",
    "from sklearn import svm\n",
    "from sklearn.ensemble import RandomForestRegressor\n",
    "from sklearn.model_selection import learning_curve\n",
    "from sklearn.model_selection import GridSearchCV\n",
    "from sklearn.metrics import explained_variance_score\n",
    "\n",
    "import warnings\n",
    "warnings.filterwarnings('ignore')"
   ]
  },
  {
   "cell_type": "code",
   "execution_count": 130,
   "metadata": {},
   "outputs": [],
   "source": [
    "from sklearn import preprocessing\n",
    "import numpy as np\n",
    "df_train_data = preprocessing.scale(df_train_data)\n",
    "df_train_target = preprocessing.scale(df_train_target)"
   ]
  },
  {
   "cell_type": "code",
   "execution_count": 131,
   "metadata": {},
   "outputs": [
    {
     "data": {
      "text/plain": [
       "10886"
      ]
     },
     "execution_count": 131,
     "metadata": {},
     "output_type": "execute_result"
    }
   ],
   "source": [
    "len(df_train_data)"
   ]
  },
  {
   "cell_type": "markdown",
   "metadata": {},
   "source": [
    "切分一下数据"
   ]
  },
  {
   "cell_type": "code",
   "execution_count": 132,
   "metadata": {},
   "outputs": [],
   "source": [
    "from sklearn.model_selection import KFold\n",
    "kf = KFold(n_splits=5)"
   ]
  },
  {
   "cell_type": "markdown",
   "metadata": {},
   "source": [
    "各种模型来一圈"
   ]
  },
  {
   "cell_type": "code",
   "execution_count": 133,
   "metadata": {},
   "outputs": [
    {
     "name": "stdout",
     "output_type": "stream",
     "text": [
      "岭回归\n",
      "train score: 0.272, test score: -0.386\n",
      "\n",
      "train score: 0.333, test score: -0.070\n",
      "\n",
      "train score: 0.306, test score: 0.053\n",
      "\n",
      "train score: 0.295, test score: 0.153\n",
      "\n",
      "train score: 0.320, test score: 0.074\n",
      "\n"
     ]
    }
   ],
   "source": [
    "\n",
    "print(\"岭回归\")    \n",
    "for train, test in kf.split(df_train_data):    \n",
    "    ridgeModel = linear_model.Ridge().fit(df_train_data[train], df_train_target[train])\n",
    "    print(\"train score: {0:.3f}, test score: {1:.3f}\\n\".format(\n",
    "        ridgeModel.score(df_train_data[train], df_train_target[train]), \n",
    "        ridgeModel.score(df_train_data[test], df_train_target[test])))\n",
    "    #{0:.3f} 0表示第一个参数，保留三位小数，是训练集上的得分\n",
    "    #{1:.3f} 1表示测试集上的得分"
   ]
  },
  {
   "cell_type": "code",
   "execution_count": 134,
   "metadata": {},
   "outputs": [
    {
     "name": "stdout",
     "output_type": "stream",
     "text": [
      "支持向量回归/SVR(kernel='rbf',C=10,gamma=.001)\n",
      "train score: 0.287, test score: 0.098\n",
      "\n",
      "train score: 0.346, test score: 0.313\n",
      "\n",
      "train score: 0.320, test score: 0.166\n",
      "\n",
      "train score: 0.316, test score: 0.069\n",
      "\n",
      "train score: 0.341, test score: 0.017\n",
      "\n"
     ]
    }
   ],
   "source": [
    "print(\"支持向量回归/SVR(kernel='rbf',C=10,gamma=.001)\")\n",
    "for train, test in kf.split(df_train_data):\n",
    "    \n",
    "    svmModel = svm.SVR(kernel ='rbf', C = 10, gamma = .001).fit(df_train_data[train], df_train_target[train])\n",
    "    print(\"train score: {0:.3f}, test score: {1:.3f}\\n\".format(\n",
    "        svmModel.score(df_train_data[train], df_train_target[train]), \n",
    "        svmModel.score(df_train_data[test], df_train_target[test])))\n",
    "    \n"
   ]
  },
  {
   "cell_type": "code",
   "execution_count": 135,
   "metadata": {},
   "outputs": [
    {
     "name": "stdout",
     "output_type": "stream",
     "text": [
      "随机森林回归/Random Forest(n_estimators = 100)\n",
      "train score: 0.977, test score: -0.343\n",
      "\n",
      "train score: 0.981, test score: 0.382\n",
      "\n",
      "train score: 0.977, test score: 0.397\n",
      "\n",
      "train score: 0.975, test score: 0.680\n",
      "\n",
      "train score: 0.978, test score: 0.666\n",
      "\n"
     ]
    }
   ],
   "source": [
    "print(\"随机森林回归/Random Forest(n_estimators = 100)\")    \n",
    "for train, test in kf.split(df_train_data):    \n",
    "    rfrModel = RandomForestRegressor(n_estimators = 100).fit(df_train_data[train], df_train_target[train])\n",
    "    print(\"train score: {0:.3f}, test score: {1:.3f}\\n\".format(\n",
    "        rfrModel.score(df_train_data[train], df_train_target[train]), \n",
    "        rfrModel.score(df_train_data[test], df_train_target[test])))"
   ]
  },
  {
   "cell_type": "markdown",
   "metadata": {},
   "source": [
    "## 2.6 参数调优"
   ]
  },
  {
   "cell_type": "markdown",
   "metadata": {},
   "source": [
    "随机森林回归获得了最佳结果,不过,参数设置得是不是最好的,这个我们可以用GridSearch来帮助测试,找最好的参数（(用网格搜索选择最优超参数)"
   ]
  },
  {
   "cell_type": "raw",
   "metadata": {},
   "source": [
    "# 简单的处理如下：\n",
    "X = df_train_data\n",
    "y = df_train_target\n",
    "X_train, X_test, y_train, y_test = model_selection.train_test_split(\n",
    "    X, y, test_size=0.2, random_state=0)    #找超参数，不用交叉验证了，直接切分数据就行\n",
    "parameters = {'n_estimators':[10,100,500]}\n",
    "svc=RandomForestRegressor()\n",
    "clf=GridSearchCV(svc, parameters, cv=5, scoring='r2')   #cv几折交叉验证\n",
    "clf.fit(X_train,y_train)"
   ]
  },
  {
   "cell_type": "code",
   "execution_count": 136,
   "metadata": {},
   "outputs": [
    {
     "name": "stdout",
     "output_type": "stream",
     "text": [
      "r2\n",
      "最佳参数找到了：\n",
      "网格搜索-最佳度量值: 0.8287067938075532\n",
      "网格搜索-最佳参数： {'n_estimators': 500}\n",
      "网格搜索-最佳模型： RandomForestRegressor(bootstrap=True, criterion='mse', max_depth=None,\n",
      "           max_features='auto', max_leaf_nodes=None,\n",
      "           min_impurity_decrease=0.0, min_impurity_split=None,\n",
      "           min_samples_leaf=1, min_samples_split=2,\n",
      "           min_weight_fraction_leaf=0.0, n_estimators=500, n_jobs=1,\n",
      "           oob_score=False, random_state=None, verbose=0, warm_start=False)\n",
      "\n"
     ]
    }
   ],
   "source": [
    "# 完整的处理\n",
    "\n",
    "X = df_train_data\n",
    "y = df_train_target\n",
    "\n",
    "# 新版本\n",
    "X_train, X_test, y_train, y_test = model_selection.train_test_split(\n",
    "    X, y, test_size=0.2, random_state=0)    #找超参数，不用交叉验证了，直接切分数据就行\n",
    "\n",
    "\n",
    "tuned_parameters = [{'n_estimators':[10,100,500,550]}]   \n",
    "    \n",
    "scores = ['r2']\n",
    "\n",
    "for score in scores:\n",
    "    \n",
    "    print(score)\n",
    "    \n",
    "    grid = GridSearchCV(RandomForestRegressor(), tuned_parameters, cv=5, scoring=score)\n",
    "    grid.fit(X_train, y_train)\n",
    "\n",
    "    print(\"最佳参数找到了：\")\n",
    "    print('网格搜索-最佳度量值:',grid.best_score_)  # 获取最佳度量值\n",
    "    print('网格搜索-最佳参数：',grid.best_params_)  # 获取最佳度量值时的代定参数的值。是一个字典\n",
    "    print('网格搜索-最佳模型：',grid.best_estimator_)  # 获取最佳度量时的分类器模型\n",
    "    print(\"\")"
   ]
  },
  {
   "cell_type": "markdown",
   "metadata": {},
   "source": [
    "Grid Search帮挑参数还是蛮方便的, 而且要看看模型状态是不是,过拟合or欠拟合。我们发现n_estimators=500,550时,拟合得最好。"
   ]
  },
  {
   "cell_type": "markdown",
   "metadata": {},
   "source": [
    "## 2.7 学习曲线"
   ]
  },
  {
   "cell_type": "code",
   "execution_count": 137,
   "metadata": {},
   "outputs": [],
   "source": [
    "import matplotlib.pyplot as plt\n",
    "\n",
    "%matplotlib inline"
   ]
  },
  {
   "cell_type": "code",
   "execution_count": 138,
   "metadata": {},
   "outputs": [],
   "source": [
    "def plot_learning_curve(estimator, title, X, y, ylim=None, cv=None,\n",
    "                        n_jobs=1, train_sizes=np.linspace(.1, 1.0, 5)):\n",
    "\n",
    "    plt.figure()\n",
    "    plt.title(title)\n",
    "    if ylim is not None:\n",
    "        plt.ylim(*ylim)\n",
    "    plt.xlabel(\"Training examples\")\n",
    "    plt.ylabel(\"Score\")\n",
    "    train_sizes, train_scores, test_scores = learning_curve(\n",
    "        estimator, X, y, cv=cv, n_jobs=n_jobs, train_sizes=train_sizes)\n",
    "    train_scores_mean = np.mean(train_scores, axis=1)\n",
    "    train_scores_std = np.std(train_scores, axis=1)\n",
    "    test_scores_mean = np.mean(test_scores, axis=1)\n",
    "    test_scores_std = np.std(test_scores, axis=1)\n",
    "    plt.grid()\n",
    "\n",
    "    plt.fill_between(train_sizes, train_scores_mean - train_scores_std,\n",
    "                     train_scores_mean + train_scores_std, alpha=0.1,\n",
    "                     color=\"r\")\n",
    "    plt.fill_between(train_sizes, test_scores_mean - test_scores_std,\n",
    "                     test_scores_mean + test_scores_std, alpha=0.1, color=\"g\")\n",
    "    plt.plot(train_sizes, train_scores_mean, 'o-', color=\"r\",\n",
    "             label=\"Training score\")\n",
    "    plt.plot(train_sizes, test_scores_mean, 'o-', color=\"g\",\n",
    "             label=\"Cross-validation score\")\n",
    "\n",
    "    plt.legend(loc=\"best\")\n",
    "    return plt"
   ]
  },
  {
   "cell_type": "code",
   "execution_count": 139,
   "metadata": {},
   "outputs": [
    {
     "data": {
      "image/png": "[encoded data removed]",
      "text/plain": [
       "<matplotlib.figure.Figure at 0x20cd867f3c8>"
      ]
     },
     "metadata": {},
     "output_type": "display_data"
    }
   ],
   "source": [
    "title = \"Learning Curves (Random Forest, n_estimators = 100)\"\n",
    "# SVC is more expensive so we do a lower number of CV iterations:\n",
    "# 这两条语句不能执行\n",
    "# cv = ShuffleSplit(n_splits=10, test_size=0.2, random_state=0)\n",
    "cv=model_selection.ShuffleSplit(n_splits=10, test_size=0.2,random_state=0)#n_splits : K折验证的K值\n",
    "#cv = model_selection.ShuffleSplit(len(df_train_data), n_iter=3, test_size=0.2, random_state=0)\n",
    "estimator = RandomForestRegressor(n_estimators = 550)\n",
    "plot_learning_curve(estimator, title, X, y, (0.0, 1.01), cv=cv, n_jobs=4)\n",
    "\n",
    "plt.show()"
   ]
  },
  {
   "cell_type": "markdown",
   "metadata": {},
   "source": [
    "## 2.8 模型打分"
   ]
  },
  {
   "cell_type": "markdown",
   "metadata": {},
   "source": [
    "随着训练样本的增加，验证分数可以增加\n",
    "\n",
    "训练集和验证测试集直接间隔那么大，这一定是过拟合了"
   ]
  },
  {
   "cell_type": "code",
   "execution_count": 140,
   "metadata": {
    "scrolled": false
   },
   "outputs": [
    {
     "name": "stdout",
     "output_type": "stream",
     "text": [
      "随机森林回归/Random Forest(n_estimators=200, max_features=0.6, max_depth=15)\n",
      "train score: 0.953, test score: -0.198\n",
      "\n",
      "train score: 0.966, test score: 0.442\n",
      "\n",
      "train score: 0.953, test score: 0.440\n",
      "\n",
      "train score: 0.951, test score: 0.664\n",
      "\n",
      "train score: 0.958, test score: 0.652\n",
      "\n"
     ]
    }
   ],
   "source": [
    "print(\"随机森林回归/Random Forest(n_estimators=200, max_features=0.6, max_depth=15)\")\n",
    "for train, test in kf.split(df_train_data): \n",
    "    svc = RandomForestRegressor(n_estimators = 200, max_features=0.6, max_depth=15).fit(df_train_data[train], df_train_target[train])\n",
    "    print(\"train score: {0:.3f}, test score: {1:.3f}\\n\".format(\n",
    "        svc.score(df_train_data[train], df_train_target[train]), svc.score(df_train_data[test], df_train_target[test])))"
   ]
  },
  {
   "cell_type": "markdown",
   "metadata": {},
   "source": [
    "## 2.9 模型保存"
   ]
  },
  {
   "cell_type": "markdown",
   "metadata": {},
   "source": [
    "scikit-learn已经有了模型持久化的操作，导入joblib即可"
   ]
  },
  {
   "cell_type": "code",
   "execution_count": 141,
   "metadata": {},
   "outputs": [],
   "source": [
    "from sklearn.externals import joblib"
   ]
  },
  {
   "cell_type": "code",
   "execution_count": 142,
   "metadata": {},
   "outputs": [
    {
     "data": {
      "text/plain": [
       "['random_forest_train_model.pkl']"
      ]
     },
     "execution_count": 142,
     "metadata": {},
     "output_type": "execute_result"
    }
   ],
   "source": [
    "joblib.dump(svc, \"random_forest_train_model.pkl\")"
   ]
  },
  {
   "cell_type": "markdown",
   "metadata": {},
   "source": [
    "# 3. 测试"
   ]
  },
  {
   "cell_type": "code",
   "execution_count": 143,
   "metadata": {},
   "outputs": [
    {
     "data": {
      "text/html": [
       "<div>\n",
       "<style scoped>\n",
       "    .dataframe tbody tr th:only-of-type {\n",
       "        vertical-align: middle;\n",
       "    }\n",
       "\n",
       "    .dataframe tbody tr th {\n",
       "        vertical-align: top;\n",
       "    }\n",
       "\n",
       "    .dataframe thead th {\n",
       "        text-align: right;\n",
       "    }\n",
       "</style>\n",
       "<table border=\"1\" class=\"dataframe\">\n",
       "  <thead>\n",
       "    <tr style=\"text-align: right;\">\n",
       "      <th></th>\n",
       "      <th>datetime</th>\n",
       "      <th>season</th>\n",
       "      <th>holiday</th>\n",
       "      <th>workingday</th>\n",
       "      <th>weather</th>\n",
       "      <th>temp</th>\n",
       "      <th>atemp</th>\n",
       "      <th>humidity</th>\n",
       "      <th>windspeed</th>\n",
       "    </tr>\n",
       "  </thead>\n",
       "  <tbody>\n",
       "    <tr>\n",
       "      <th>0</th>\n",
       "      <td>2011-01-20 00:00:00</td>\n",
       "      <td>1</td>\n",
       "      <td>0</td>\n",
       "      <td>1</td>\n",
       "      <td>1</td>\n",
       "      <td>10.66</td>\n",
       "      <td>11.365</td>\n",
       "      <td>56</td>\n",
       "      <td>26.0027</td>\n",
       "    </tr>\n",
       "    <tr>\n",
       "      <th>1</th>\n",
       "      <td>2011-01-20 01:00:00</td>\n",
       "      <td>1</td>\n",
       "      <td>0</td>\n",
       "      <td>1</td>\n",
       "      <td>1</td>\n",
       "      <td>10.66</td>\n",
       "      <td>13.635</td>\n",
       "      <td>56</td>\n",
       "      <td>0.0000</td>\n",
       "    </tr>\n",
       "    <tr>\n",
       "      <th>2</th>\n",
       "      <td>2011-01-20 02:00:00</td>\n",
       "      <td>1</td>\n",
       "      <td>0</td>\n",
       "      <td>1</td>\n",
       "      <td>1</td>\n",
       "      <td>10.66</td>\n",
       "      <td>13.635</td>\n",
       "      <td>56</td>\n",
       "      <td>0.0000</td>\n",
       "    </tr>\n",
       "    <tr>\n",
       "      <th>3</th>\n",
       "      <td>2011-01-20 03:00:00</td>\n",
       "      <td>1</td>\n",
       "      <td>0</td>\n",
       "      <td>1</td>\n",
       "      <td>1</td>\n",
       "      <td>10.66</td>\n",
       "      <td>12.880</td>\n",
       "      <td>56</td>\n",
       "      <td>11.0014</td>\n",
       "    </tr>\n",
       "    <tr>\n",
       "      <th>4</th>\n",
       "      <td>2011-01-20 04:00:00</td>\n",
       "      <td>1</td>\n",
       "      <td>0</td>\n",
       "      <td>1</td>\n",
       "      <td>1</td>\n",
       "      <td>10.66</td>\n",
       "      <td>12.880</td>\n",
       "      <td>56</td>\n",
       "      <td>11.0014</td>\n",
       "    </tr>\n",
       "  </tbody>\n",
       "</table>\n",
       "</div>"
      ],
      "text/plain": [
       "              datetime  season  holiday  workingday  weather   temp   atemp  \\\n",
       "0  2011-01-20 00:00:00       1        0           1        1  10.66  11.365   \n",
       "1  2011-01-20 01:00:00       1        0           1        1  10.66  13.635   \n",
       "2  2011-01-20 02:00:00       1        0           1        1  10.66  13.635   \n",
       "3  2011-01-20 03:00:00       1        0           1        1  10.66  12.880   \n",
       "4  2011-01-20 04:00:00       1        0           1        1  10.66  12.880   \n",
       "\n",
       "   humidity  windspeed  \n",
       "0        56    26.0027  \n",
       "1        56     0.0000  \n",
       "2        56     0.0000  \n",
       "3        56    11.0014  \n",
       "4        56    11.0014  "
      ]
     },
     "execution_count": 143,
     "metadata": {},
     "output_type": "execute_result"
    }
   ],
   "source": [
    "df_test = pd.read_csv(\"test.csv\",sep=\",\")\n",
    "\n",
    "df_test.head()"
   ]
  },
  {
   "cell_type": "code",
   "execution_count": 144,
   "metadata": {},
   "outputs": [
    {
     "data": {
      "text/plain": [
       "(6493, 9)"
      ]
     },
     "execution_count": 144,
     "metadata": {},
     "output_type": "execute_result"
    }
   ],
   "source": [
    "df_test.shape"
   ]
  },
  {
   "cell_type": "markdown",
   "metadata": {},
   "source": [
    "同理 处理test数据"
   ]
  },
  {
   "cell_type": "code",
   "execution_count": 145,
   "metadata": {},
   "outputs": [
    {
     "name": "stdout",
     "output_type": "stream",
     "text": [
      "<class 'pandas.core.frame.DataFrame'>\n",
      "RangeIndex: 6493 entries, 0 to 6492\n",
      "Data columns (total 12 columns):\n",
      "datetime      6493 non-null object\n",
      "season        6493 non-null int64\n",
      "holiday       6493 non-null int64\n",
      "workingday    6493 non-null int64\n",
      "weather       6493 non-null int64\n",
      "temp          6493 non-null float64\n",
      "atemp         6493 non-null float64\n",
      "humidity      6493 non-null int64\n",
      "windspeed     6493 non-null float64\n",
      "hour          6493 non-null int64\n",
      "day           6493 non-null int64\n",
      "month         6493 non-null int64\n",
      "dtypes: float64(3), int64(8), object(1)\n",
      "memory usage: 608.8+ KB\n"
     ]
    }
   ],
   "source": [
    "\n",
    "df_test.head()\n",
    "df_test['hour']=pd.DatetimeIndex(df_test.datetime).hour\n",
    "df_test['day']=pd.DatetimeIndex(df_test.datetime).dayofweek\n",
    "df_test['month']=pd.DatetimeIndex(df_test.datetime).month\n",
    "\n",
    "\n",
    "df_test.info()\n"
   ]
  },
  {
   "cell_type": "code",
   "execution_count": 146,
   "metadata": {
    "scrolled": true
   },
   "outputs": [
    {
     "name": "stdout",
     "output_type": "stream",
     "text": [
      "<class 'pandas.core.frame.DataFrame'>\n",
      "RangeIndex: 6493 entries, 0 to 6492\n",
      "Data columns (total 11 columns):\n",
      "season        6493 non-null int64\n",
      "holiday       6493 non-null int64\n",
      "workingday    6493 non-null int64\n",
      "weather       6493 non-null int64\n",
      "temp          6493 non-null float64\n",
      "atemp         6493 non-null float64\n",
      "humidity      6493 non-null int64\n",
      "windspeed     6493 non-null float64\n",
      "hour          6493 non-null int64\n",
      "day           6493 non-null int64\n",
      "month         6493 non-null int64\n",
      "dtypes: float64(3), int64(8)\n",
      "memory usage: 558.1 KB\n"
     ]
    }
   ],
   "source": [
    "df_test_X = df_test.drop(['datetime'], axis = 1)\n",
    "df_test_X.info()"
   ]
  },
  {
   "cell_type": "code",
   "execution_count": 147,
   "metadata": {},
   "outputs": [],
   "source": [
    "\n",
    "# ### 许多特征之间有太多相关性\n",
    "# \n",
    "# #### season和month，二选一\n",
    "# #### temp和atemp，二选一\n",
    "# #### humidity和weather，windspeed，看rf的特征重要度\n"
   ]
  },
  {
   "cell_type": "code",
   "execution_count": 148,
   "metadata": {
    "scrolled": false
   },
   "outputs": [
    {
     "data": {
      "text/html": [
       "<div>\n",
       "<style scoped>\n",
       "    .dataframe tbody tr th:only-of-type {\n",
       "        vertical-align: middle;\n",
       "    }\n",
       "\n",
       "    .dataframe tbody tr th {\n",
       "        vertical-align: top;\n",
       "    }\n",
       "\n",
       "    .dataframe thead th {\n",
       "        text-align: right;\n",
       "    }\n",
       "</style>\n",
       "<table border=\"1\" class=\"dataframe\">\n",
       "  <thead>\n",
       "    <tr style=\"text-align: right;\">\n",
       "      <th></th>\n",
       "      <th>season</th>\n",
       "      <th>holiday</th>\n",
       "      <th>workingday</th>\n",
       "      <th>weather</th>\n",
       "      <th>temp</th>\n",
       "      <th>atemp</th>\n",
       "      <th>humidity</th>\n",
       "      <th>windspeed</th>\n",
       "      <th>hour</th>\n",
       "      <th>day</th>\n",
       "      <th>month</th>\n",
       "    </tr>\n",
       "  </thead>\n",
       "  <tbody>\n",
       "    <tr>\n",
       "      <th>season</th>\n",
       "      <td>1.000000</td>\n",
       "      <td>-0.075759</td>\n",
       "      <td>0.051488</td>\n",
       "      <td>-0.053554</td>\n",
       "      <td>0.401384</td>\n",
       "      <td>0.410626</td>\n",
       "      <td>0.083792</td>\n",
       "      <td>-0.154507</td>\n",
       "      <td>-0.005367</td>\n",
       "      <td>-0.002133</td>\n",
       "      <td>0.587553</td>\n",
       "    </tr>\n",
       "    <tr>\n",
       "      <th>holiday</th>\n",
       "      <td>-0.075759</td>\n",
       "      <td>1.000000</td>\n",
       "      <td>-0.255820</td>\n",
       "      <td>-0.033279</td>\n",
       "      <td>-0.071852</td>\n",
       "      <td>-0.072373</td>\n",
       "      <td>-0.031611</td>\n",
       "      <td>-0.003240</td>\n",
       "      <td>0.001860</td>\n",
       "      <td>-0.184079</td>\n",
       "      <td>0.046272</td>\n",
       "    </tr>\n",
       "    <tr>\n",
       "      <th>workingday</th>\n",
       "      <td>0.051488</td>\n",
       "      <td>-0.255820</td>\n",
       "      <td>1.000000</td>\n",
       "      <td>0.062447</td>\n",
       "      <td>0.096519</td>\n",
       "      <td>0.103202</td>\n",
       "      <td>0.059599</td>\n",
       "      <td>-0.053690</td>\n",
       "      <td>0.001438</td>\n",
       "      <td>-0.699302</td>\n",
       "      <td>-0.003701</td>\n",
       "    </tr>\n",
       "    <tr>\n",
       "      <th>weather</th>\n",
       "      <td>-0.053554</td>\n",
       "      <td>-0.033279</td>\n",
       "      <td>0.062447</td>\n",
       "      <td>1.000000</td>\n",
       "      <td>-0.179034</td>\n",
       "      <td>-0.185746</td>\n",
       "      <td>0.437406</td>\n",
       "      <td>0.057360</td>\n",
       "      <td>-0.016085</td>\n",
       "      <td>-0.044301</td>\n",
       "      <td>-0.005925</td>\n",
       "    </tr>\n",
       "    <tr>\n",
       "      <th>temp</th>\n",
       "      <td>0.401384</td>\n",
       "      <td>-0.071852</td>\n",
       "      <td>0.096519</td>\n",
       "      <td>-0.179034</td>\n",
       "      <td>1.000000</td>\n",
       "      <td>0.991936</td>\n",
       "      <td>-0.081734</td>\n",
       "      <td>-0.030990</td>\n",
       "      <td>0.125005</td>\n",
       "      <td>-0.032509</td>\n",
       "      <td>0.110559</td>\n",
       "    </tr>\n",
       "    <tr>\n",
       "      <th>atemp</th>\n",
       "      <td>0.410626</td>\n",
       "      <td>-0.072373</td>\n",
       "      <td>0.103202</td>\n",
       "      <td>-0.185746</td>\n",
       "      <td>0.991936</td>\n",
       "      <td>1.000000</td>\n",
       "      <td>-0.068666</td>\n",
       "      <td>-0.069655</td>\n",
       "      <td>0.123154</td>\n",
       "      <td>-0.036735</td>\n",
       "      <td>0.116878</td>\n",
       "    </tr>\n",
       "    <tr>\n",
       "      <th>humidity</th>\n",
       "      <td>0.083792</td>\n",
       "      <td>-0.031611</td>\n",
       "      <td>0.059599</td>\n",
       "      <td>0.437406</td>\n",
       "      <td>-0.081734</td>\n",
       "      <td>-0.068666</td>\n",
       "      <td>1.000000</td>\n",
       "      <td>-0.242708</td>\n",
       "      <td>-0.275278</td>\n",
       "      <td>-0.049784</td>\n",
       "      <td>0.096794</td>\n",
       "    </tr>\n",
       "    <tr>\n",
       "      <th>windspeed</th>\n",
       "      <td>-0.154507</td>\n",
       "      <td>-0.003240</td>\n",
       "      <td>-0.053690</td>\n",
       "      <td>0.057360</td>\n",
       "      <td>-0.030990</td>\n",
       "      <td>-0.069655</td>\n",
       "      <td>-0.242708</td>\n",
       "      <td>1.000000</td>\n",
       "      <td>0.121729</td>\n",
       "      <td>0.049981</td>\n",
       "      <td>-0.110585</td>\n",
       "    </tr>\n",
       "    <tr>\n",
       "      <th>hour</th>\n",
       "      <td>-0.005367</td>\n",
       "      <td>0.001860</td>\n",
       "      <td>0.001438</td>\n",
       "      <td>-0.016085</td>\n",
       "      <td>0.125005</td>\n",
       "      <td>0.123154</td>\n",
       "      <td>-0.275278</td>\n",
       "      <td>0.121729</td>\n",
       "      <td>1.000000</td>\n",
       "      <td>-0.002834</td>\n",
       "      <td>-0.004026</td>\n",
       "    </tr>\n",
       "    <tr>\n",
       "      <th>day</th>\n",
       "      <td>-0.002133</td>\n",
       "      <td>-0.184079</td>\n",
       "      <td>-0.699302</td>\n",
       "      <td>-0.044301</td>\n",
       "      <td>-0.032509</td>\n",
       "      <td>-0.036735</td>\n",
       "      <td>-0.049784</td>\n",
       "      <td>0.049981</td>\n",
       "      <td>-0.002834</td>\n",
       "      <td>1.000000</td>\n",
       "      <td>0.011971</td>\n",
       "    </tr>\n",
       "    <tr>\n",
       "      <th>month</th>\n",
       "      <td>0.587553</td>\n",
       "      <td>0.046272</td>\n",
       "      <td>-0.003701</td>\n",
       "      <td>-0.005925</td>\n",
       "      <td>0.110559</td>\n",
       "      <td>0.116878</td>\n",
       "      <td>0.096794</td>\n",
       "      <td>-0.110585</td>\n",
       "      <td>-0.004026</td>\n",
       "      <td>0.011971</td>\n",
       "      <td>1.000000</td>\n",
       "    </tr>\n",
       "  </tbody>\n",
       "</table>\n",
       "</div>"
      ],
      "text/plain": [
       "              season   holiday  workingday   weather      temp     atemp  \\\n",
       "season      1.000000 -0.075759    0.051488 -0.053554  0.401384  0.410626   \n",
       "holiday    -0.075759  1.000000   -0.255820 -0.033279 -0.071852 -0.072373   \n",
       "workingday  0.051488 -0.255820    1.000000  0.062447  0.096519  0.103202   \n",
       "weather    -0.053554 -0.033279    0.062447  1.000000 -0.179034 -0.185746   \n",
       "temp        0.401384 -0.071852    0.096519 -0.179034  1.000000  0.991936   \n",
       "atemp       0.410626 -0.072373    0.103202 -0.185746  0.991936  1.000000   \n",
       "humidity    0.083792 -0.031611    0.059599  0.437406 -0.081734 -0.068666   \n",
       "windspeed  -0.154507 -0.003240   -0.053690  0.057360 -0.030990 -0.069655   \n",
       "hour       -0.005367  0.001860    0.001438 -0.016085  0.125005  0.123154   \n",
       "day        -0.002133 -0.184079   -0.699302 -0.044301 -0.032509 -0.036735   \n",
       "month       0.587553  0.046272   -0.003701 -0.005925  0.110559  0.116878   \n",
       "\n",
       "            humidity  windspeed      hour       day     month  \n",
       "season      0.083792  -0.154507 -0.005367 -0.002133  0.587553  \n",
       "holiday    -0.031611  -0.003240  0.001860 -0.184079  0.046272  \n",
       "workingday  0.059599  -0.053690  0.001438 -0.699302 -0.003701  \n",
       "weather     0.437406   0.057360 -0.016085 -0.044301 -0.005925  \n",
       "temp       -0.081734  -0.030990  0.125005 -0.032509  0.110559  \n",
       "atemp      -0.068666  -0.069655  0.123154 -0.036735  0.116878  \n",
       "humidity    1.000000  -0.242708 -0.275278 -0.049784  0.096794  \n",
       "windspeed  -0.242708   1.000000  0.121729  0.049981 -0.110585  \n",
       "hour       -0.275278   0.121729  1.000000 -0.002834 -0.004026  \n",
       "day        -0.049784   0.049981 -0.002834  1.000000  0.011971  \n",
       "month       0.096794  -0.110585 -0.004026  0.011971  1.000000  "
      ]
     },
     "execution_count": 148,
     "metadata": {},
     "output_type": "execute_result"
    }
   ],
   "source": [
    "df_test_X.corr()"
   ]
  },
  {
   "cell_type": "markdown",
   "metadata": {},
   "source": [
    "加载模型"
   ]
  },
  {
   "cell_type": "code",
   "execution_count": 149,
   "metadata": {},
   "outputs": [],
   "source": [
    "from sklearn.externals import joblib\n",
    " \n",
    "clf = joblib.load(\"random_forest_train_model.pkl\")\n"
   ]
  },
  {
   "cell_type": "code",
   "execution_count": 150,
   "metadata": {
    "scrolled": true
   },
   "outputs": [
    {
     "data": {
      "text/plain": [
       "<matplotlib.axes._subplots.AxesSubplot at 0x20d03350ac8>"
      ]
     },
     "execution_count": 150,
     "metadata": {},
     "output_type": "execute_result"
    },
    {
     "data": {
      "image/png": "[encoded data removed]",
      "text/plain": [
       "<matplotlib.figure.Figure at 0x20c8be55668>"
      ]
     },
     "metadata": {},
     "output_type": "display_data"
    }
   ],
   "source": [
    "pd.DataFrame(clf.feature_importances_).plot(kind='bar')"
   ]
  },
  {
   "cell_type": "code",
   "execution_count": 151,
   "metadata": {},
   "outputs": [
    {
     "ename": "ValueError",
     "evalue": "Number of features of the model must match the input. Model n_features is 8 and input n_features is 11 ",
     "output_type": "error",
     "traceback": [
      "\u001b[1;31m---------------------------------------------------------------------------\u001b[0m",
      "\u001b[1;31mValueError\u001b[0m                                Traceback (most recent call last)",
      "\u001b[1;32m<ipython-input-151-d927bffc5c5d>\u001b[0m in \u001b[0;36m<module>\u001b[1;34m()\u001b[0m\n\u001b[0;32m      1\u001b[0m \u001b[1;33m\u001b[0m\u001b[0m\n\u001b[1;32m----> 2\u001b[1;33m \u001b[0my_pred\u001b[0m \u001b[1;33m=\u001b[0m \u001b[0mclf\u001b[0m\u001b[1;33m.\u001b[0m\u001b[0mpredict\u001b[0m\u001b[1;33m(\u001b[0m\u001b[0mdf_test_X\u001b[0m\u001b[1;33m)\u001b[0m\u001b[1;33m\u001b[0m\u001b[0m\n\u001b[0m",
      "\u001b[1;32mC:\\ProgramData\\Anaconda3\\lib\\site-packages\\sklearn\\ensemble\\forest.py\u001b[0m in \u001b[0;36mpredict\u001b[1;34m(self, X)\u001b[0m\n\u001b[0;32m    679\u001b[0m         \u001b[0mcheck_is_fitted\u001b[0m\u001b[1;33m(\u001b[0m\u001b[0mself\u001b[0m\u001b[1;33m,\u001b[0m \u001b[1;34m'estimators_'\u001b[0m\u001b[1;33m)\u001b[0m\u001b[1;33m\u001b[0m\u001b[0m\n\u001b[0;32m    680\u001b[0m         \u001b[1;31m# Check data\u001b[0m\u001b[1;33m\u001b[0m\u001b[1;33m\u001b[0m\u001b[0m\n\u001b[1;32m--> 681\u001b[1;33m         \u001b[0mX\u001b[0m \u001b[1;33m=\u001b[0m \u001b[0mself\u001b[0m\u001b[1;33m.\u001b[0m\u001b[0m_validate_X_predict\u001b[0m\u001b[1;33m(\u001b[0m\u001b[0mX\u001b[0m\u001b[1;33m)\u001b[0m\u001b[1;33m\u001b[0m\u001b[0m\n\u001b[0m\u001b[0;32m    682\u001b[0m \u001b[1;33m\u001b[0m\u001b[0m\n\u001b[0;32m    683\u001b[0m         \u001b[1;31m# Assign chunk of trees to jobs\u001b[0m\u001b[1;33m\u001b[0m\u001b[1;33m\u001b[0m\u001b[0m\n",
      "\u001b[1;32mC:\\ProgramData\\Anaconda3\\lib\\site-packages\\sklearn\\ensemble\\forest.py\u001b[0m in \u001b[0;36m_validate_X_predict\u001b[1;34m(self, X)\u001b[0m\n\u001b[0;32m    355\u001b[0m                                  \"call `fit` before exploiting the model.\")\n\u001b[0;32m    356\u001b[0m \u001b[1;33m\u001b[0m\u001b[0m\n\u001b[1;32m--> 357\u001b[1;33m         \u001b[1;32mreturn\u001b[0m \u001b[0mself\u001b[0m\u001b[1;33m.\u001b[0m\u001b[0mestimators_\u001b[0m\u001b[1;33m[\u001b[0m\u001b[1;36m0\u001b[0m\u001b[1;33m]\u001b[0m\u001b[1;33m.\u001b[0m\u001b[0m_validate_X_predict\u001b[0m\u001b[1;33m(\u001b[0m\u001b[0mX\u001b[0m\u001b[1;33m,\u001b[0m \u001b[0mcheck_input\u001b[0m\u001b[1;33m=\u001b[0m\u001b[1;32mTrue\u001b[0m\u001b[1;33m)\u001b[0m\u001b[1;33m\u001b[0m\u001b[0m\n\u001b[0m\u001b[0;32m    358\u001b[0m \u001b[1;33m\u001b[0m\u001b[0m\n\u001b[0;32m    359\u001b[0m     \u001b[1;33m@\u001b[0m\u001b[0mproperty\u001b[0m\u001b[1;33m\u001b[0m\u001b[0m\n",
      "\u001b[1;32mC:\\ProgramData\\Anaconda3\\lib\\site-packages\\sklearn\\tree\\tree.py\u001b[0m in \u001b[0;36m_validate_X_predict\u001b[1;34m(self, X, check_input)\u001b[0m\n\u001b[0;32m    382\u001b[0m                              \u001b[1;34m\"match the input. Model n_features is %s and \"\u001b[0m\u001b[1;33m\u001b[0m\u001b[0m\n\u001b[0;32m    383\u001b[0m                              \u001b[1;34m\"input n_features is %s \"\u001b[0m\u001b[1;33m\u001b[0m\u001b[0m\n\u001b[1;32m--> 384\u001b[1;33m                              % (self.n_features_, n_features))\n\u001b[0m\u001b[0;32m    385\u001b[0m \u001b[1;33m\u001b[0m\u001b[0m\n\u001b[0;32m    386\u001b[0m         \u001b[1;32mreturn\u001b[0m \u001b[0mX\u001b[0m\u001b[1;33m\u001b[0m\u001b[0m\n",
      "\u001b[1;31mValueError\u001b[0m: Number of features of the model must match the input. Model n_features is 8 and input n_features is 11 "
     ]
    }
   ],
   "source": [
    "\n",
    "y_pred = clf.predict(df_test_X)"
   ]
  },
  {
   "cell_type": "code",
   "execution_count": null,
   "metadata": {},
   "outputs": [],
   "source": [
    "print(y_pred.shape)"
   ]
  },
  {
   "cell_type": "code",
   "execution_count": null,
   "metadata": {},
   "outputs": [],
   "source": [
    "#对结果四舍五入\n",
    "y_pred7 = [round(x) for x in y_pred]\n",
    "df_test['count'] = y_pred7\n",
    "df_test['count'] = df_test['count'].astype(int)\n",
    "df_test.head()\n"
   ]
  },
  {
   "cell_type": "code",
   "execution_count": null,
   "metadata": {},
   "outputs": [],
   "source": [
    "df_test.to_csv('result.csv', sep=',', columns=['datetime', 'count'], header=['datetime', 'count'], index = False)"
   ]
  },
  {
   "cell_type": "code",
   "execution_count": null,
   "metadata": {},
   "outputs": [],
   "source": []
  },
  {
   "cell_type": "code",
   "execution_count": null,
   "metadata": {},
   "outputs": [],
   "source": []
  },
  {
   "cell_type": "code",
   "execution_count": null,
   "metadata": {},
   "outputs": [],
   "source": []
  },
  {
   "cell_type": "code",
   "execution_count": null,
   "metadata": {},
   "outputs": [],
   "source": []
  },
  {
   "cell_type": "code",
   "execution_count": null,
   "metadata": {},
   "outputs": [],
   "source": []
  }
 ],
 "metadata": {
  "kernelspec": {
   "display_name": "Python 3",
   "language": "python",
   "name": "python3"
  },
  "language_info": {
   "codemirror_mode": {
    "name": "ipython",
    "version": 3
   },
   "file_extension": ".py",
   "mimetype": "text/x-python",
   "name": "python",
   "nbconvert_exporter": "python",
   "pygments_lexer": "ipython3",
   "version": "3.7.1"
  },
  "toc": {
   "base_numbering": 1,
   "nav_menu": {},
   "number_sections": false,
   "sideBar": true,
   "skip_h1_title": false,
   "title_cell": "Table of Contents",
   "title_sidebar": "Contents",
   "toc_cell": false,
   "toc_position": {
    "height": "calc(100% - 180px)",
    "left": "10px",
    "top": "150px",
    "width": "165px"
   },
   "toc_section_display": true,
   "toc_window_display": true
  }
 },
 "nbformat": 4,
 "nbformat_minor": 2
}
