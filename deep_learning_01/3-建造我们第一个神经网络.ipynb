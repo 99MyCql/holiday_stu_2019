{
 "cells": [
  {
   "cell_type": "markdown",
   "metadata": {},
   "source": [
    "# 建造一个神经网络"
   ]
  },
  {
   "cell_type": "code",
   "execution_count": 1,
   "metadata": {},
   "outputs": [],
   "source": [
    "import tensorflow as tf\n",
    "import numpy as np\n",
    "import warnings\n",
    "warnings.filterwarnings('ignore')"
   ]
  },
  {
   "cell_type": "markdown",
   "metadata": {},
   "source": [
    "## 定义 add_layer()"
   ]
  },
  {
   "cell_type": "markdown",
   "metadata": {},
   "source": [
    "在 Tensorflow 里定义一个添加层的函数可以很容易的添加神经层,为之后的添加省下不少时间.\n",
    "\n",
    "神经层里常见的参数通常有weights、biases和激励函数。"
   ]
  },
  {
   "cell_type": "markdown",
   "metadata": {},
   "source": [
    "定义添加神经层的函数def add_layer(),它有四个参数：输入值、输入的大小、输出的大小和激励函数，我们设定默认的激励函数是None。"
   ]
  },
  {
   "cell_type": "markdown",
   "metadata": {},
   "source": [
    "    def add_layer(inputs, in_size, out_size, activation_function=None): "
   ]
  },
  {
   "cell_type": "markdown",
   "metadata": {},
   "source": [
    "接下来，我们开始定义weights和biases。\n",
    "\n",
    "因为在生成初始参数时，随机变量(normal distribution)会比全部为0要好很多，所以我们这里的weights为一个in_size行, out_size列的随机变量矩阵。"
   ]
  },
  {
   "cell_type": "markdown",
   "metadata": {},
   "source": [
    "    Weights = tf.Variable(tf.random_normal([in_size, out_size]))"
   ]
  },
  {
   "cell_type": "markdown",
   "metadata": {},
   "source": [
    "在机器学习中，biases的推荐值不为0，所以我们这里是在0向量的基础上又加了0.1。"
   ]
  },
  {
   "cell_type": "markdown",
   "metadata": {},
   "source": [
    "下面，我们定义Wx_plus_b, 即神经网络未激活的值。其中，tf.matmul()是矩阵的乘法。"
   ]
  },
  {
   "cell_type": "markdown",
   "metadata": {},
   "source": [
    "    Wx_plus_b = tf.matmul(inputs, Weights) + biases"
   ]
  },
  {
   "cell_type": "markdown",
   "metadata": {},
   "source": [
    "当activation_function——激励函数为None时，输出就是当前的预测值——Wx_plus_b，不为None时，就把Wx_plus_b传到activation_function()函数中得到输出。"
   ]
  },
  {
   "cell_type": "markdown",
   "metadata": {},
   "source": [
    "    if activation_function is None:\n",
    "            outputs = Wx_plus_b\n",
    "        else:\n",
    "            outputs = activation_function(Wx_plus_b)"
   ]
  },
  {
   "cell_type": "markdown",
   "metadata": {},
   "source": [
    "最后，返回输出，添加一个神经层的函数——def add_layer()就定义好了。"
   ]
  },
  {
   "cell_type": "markdown",
   "metadata": {},
   "source": [
    "    return outputs"
   ]
  },
  {
   "cell_type": "code",
   "execution_count": 2,
   "metadata": {},
   "outputs": [],
   "source": [
    "#           (输入数据, 前一个神经元个数, 下一层神经元个数, 激活函数)\n",
    "def add_layer(inputs, in_size, out_size, activation_function=None):\n",
    "    Weights = tf.Variable(tf.random_normal([in_size, out_size]))\n",
    "    biases = tf.Variable(tf.zeros([1, out_size]) + 0.1)\n",
    "    Wx_plus_b = tf.matmul(inputs, Weights) + biases\n",
    "    if activation_function is None:\n",
    "        outputs = Wx_plus_b\n",
    "    else:\n",
    "        outputs = activation_function(Wx_plus_b)\n",
    "    return outputs"
   ]
  },
  {
   "cell_type": "markdown",
   "metadata": {},
   "source": [
    "## 导入数据"
   ]
  },
  {
   "cell_type": "markdown",
   "metadata": {},
   "source": [
    "构建所需的数据。 这里的x_data和y_data并不是严格的一元二次函数的关系，因为我们多加了一个noise,这样看起来会更像真实情况。"
   ]
  },
  {
   "cell_type": "code",
   "execution_count": 3,
   "metadata": {},
   "outputs": [],
   "source": [
    "x_data = np.linspace(-1,1,300, dtype=np.float32)[:, np.newaxis]\n",
    "noise = np.random.normal(0, 0.05, x_data.shape).astype(np.float32)\n",
    "y_data = np.square(x_data) - 0.5 + noise"
   ]
  },
  {
   "cell_type": "markdown",
   "metadata": {},
   "source": [
    "利用占位符定义我们所需的神经网络的输入。 tf.placeholder()就是代表占位符，这里的None代表无论输入有多少都可以，因为输入只有一个特征，所以这里是1。"
   ]
  },
  {
   "cell_type": "code",
   "execution_count": 4,
   "metadata": {},
   "outputs": [],
   "source": [
    "# 请在这里输入  x,y 样本标签\n",
    "xs = tf.placeholder(tf.float32, [None, 1])\n",
    "ys = tf.placeholder(tf.float32, [None, 1])"
   ]
  },
  {
   "cell_type": "markdown",
   "metadata": {},
   "source": [
    "## 搭建网络"
   ]
  },
  {
   "cell_type": "markdown",
   "metadata": {},
   "source": [
    "接下来，我们就可以开始定义神经层了。 通常神经层都包括输入层、隐藏层和输出层。这里的输入层只有一个属性， 所以我们就只有一个输入；隐藏层我们可以自己假设，这里我们假设隐藏层有10个神经元； 输出层和输入层的结构是一样的，所以我们的输出层也是只有一层。 所以，我们构建的是——输入层1个、隐藏层10个、输出层1个的神经网络。"
   ]
  },
  {
   "cell_type": "markdown",
   "metadata": {},
   "source": [
    "下面，我们开始定义隐藏层,利用之前的add_layer()函数，这里使用 Tensorflow 自带的激励函数tf.nn.relu。"
   ]
  },
  {
   "cell_type": "code",
   "execution_count": 5,
   "metadata": {},
   "outputs": [],
   "source": [
    "# 请在这里添加第一层网络\n",
    "Z1 = add_layer(xs, 1, 10, tf.nn.tanh)"
   ]
  },
  {
   "cell_type": "markdown",
   "metadata": {},
   "source": [
    "接着，定义输出层。此时的输入就是隐藏层的输出——l1，输入有10层（隐藏层的输出层），输出有1层。"
   ]
  },
  {
   "cell_type": "code",
   "execution_count": 6,
   "metadata": {},
   "outputs": [],
   "source": [
    "# 请在这里添加第二层网络\n",
    "Z2 = add_layer(Z1, 10, 1, tf.nn.tanh)\n",
    "prediction = Z2"
   ]
  },
  {
   "cell_type": "markdown",
   "metadata": {},
   "source": [
    "计算预测值prediction和真实值的误差，对二者差的平方求和再取平均。"
   ]
  },
  {
   "cell_type": "code",
   "execution_count": 7,
   "metadata": {},
   "outputs": [],
   "source": [
    "# 请在这里实现 损失函数\n",
    "loss = tf.reduce_mean(tf.square(ys - prediction))"
   ]
  },
  {
   "cell_type": "markdown",
   "metadata": {},
   "source": [
    "接下来，是很关键的一步，如何让机器学习提升它的准确率。tf.train.GradientDescentOptimizer()中的值通常都小于1，这里取的是0.1，代表以0.1的效率来最小化误差loss。"
   ]
  },
  {
   "cell_type": "code",
   "execution_count": 8,
   "metadata": {},
   "outputs": [],
   "source": [
    "# 请在这里 使用梯度下降法最小化误差以此来更新 权重\n",
    "train = tf.train.GradientDescentOptimizer(0.1).minimize(loss)"
   ]
  },
  {
   "cell_type": "markdown",
   "metadata": {},
   "source": [
    "## 启动会话"
   ]
  },
  {
   "cell_type": "markdown",
   "metadata": {},
   "source": [
    "使用变量时，都要对它进行初始化，这是必不可少的。"
   ]
  },
  {
   "cell_type": "code",
   "execution_count": 9,
   "metadata": {},
   "outputs": [],
   "source": [
    "# 请在这里 初始化变量  \n",
    "init = tf.global_variables_initializer()"
   ]
  },
  {
   "cell_type": "markdown",
   "metadata": {},
   "source": [
    "定义Session，并用 Session 来执行 init 初始化步骤。 （注意：在tensorflow中，只有session.run()才会执行我们定义的运算。）"
   ]
  },
  {
   "cell_type": "code",
   "execution_count": 10,
   "metadata": {},
   "outputs": [],
   "source": [
    "# 启动会话\n",
    "sess = tf.Session()\n",
    "sess.run(init)"
   ]
  },
  {
   "cell_type": "markdown",
   "metadata": {},
   "source": [
    "##  训练"
   ]
  },
  {
   "cell_type": "markdown",
   "metadata": {},
   "source": [
    "下面，让机器开始学习。\n",
    "\n",
    "比如这里，我们让机器学习1000次。机器学习的内容是train_step, 用 Session 来 run 每一次 training 的数据，逐步提升神经网络的预测准确性。 (注意：当运算要用到placeholder时，就需要feed_dict这个字典来指定输入。)"
   ]
  },
  {
   "cell_type": "code",
   "execution_count": 11,
   "metadata": {
    "scrolled": true
   },
   "outputs": [],
   "source": [
    "for step in range(1000):\n",
    "    sess.run(train,feed_dict={xs:x_data,ys:y_data})"
   ]
  },
  {
   "cell_type": "markdown",
   "metadata": {},
   "source": [
    "通过上图可以看出，误差在逐渐减小，这说明机器学习是有积极的效果的。"
   ]
  },
  {
   "cell_type": "code",
   "execution_count": 12,
   "metadata": {},
   "outputs": [
    {
     "data": {
      "text/plain": [
       "array([[ 0.37175405],\n",
       "       [ 0.36607954],\n",
       "       [ 0.36031455],\n",
       "       [ 0.35445896],\n",
       "       [ 0.34851223],\n",
       "       [ 0.34247443],\n",
       "       [ 0.33634472],\n",
       "       [ 0.33012304],\n",
       "       [ 0.32380956],\n",
       "       [ 0.3174039 ],\n",
       "       [ 0.3109063 ],\n",
       "       [ 0.30431658],\n",
       "       [ 0.29763508],\n",
       "       [ 0.2908624 ],\n",
       "       [ 0.2839982 ],\n",
       "       [ 0.27704358],\n",
       "       [ 0.26999822],\n",
       "       [ 0.26286337],\n",
       "       [ 0.2556396 ],\n",
       "       [ 0.24832734],\n",
       "       [ 0.24092796],\n",
       "       [ 0.23344244],\n",
       "       [ 0.22587149],\n",
       "       [ 0.21821652],\n",
       "       [ 0.21047893],\n",
       "       [ 0.20265995],\n",
       "       [ 0.19476138],\n",
       "       [ 0.18678446],\n",
       "       [ 0.17873102],\n",
       "       [ 0.17060317],\n",
       "       [ 0.16240299],\n",
       "       [ 0.154132  ],\n",
       "       [ 0.14579293],\n",
       "       [ 0.13738766],\n",
       "       [ 0.12891906],\n",
       "       [ 0.12038954],\n",
       "       [ 0.11180127],\n",
       "       [ 0.10315739],\n",
       "       [ 0.09446104],\n",
       "       [ 0.08571441],\n",
       "       [ 0.07692099],\n",
       "       [ 0.06808421],\n",
       "       [ 0.05920656],\n",
       "       [ 0.05029201],\n",
       "       [ 0.04134356],\n",
       "       [ 0.03236453],\n",
       "       [ 0.02335907],\n",
       "       [ 0.01433051],\n",
       "       [ 0.00528232],\n",
       "       [-0.00378163],\n",
       "       [-0.01285729],\n",
       "       [-0.02194109],\n",
       "       [-0.03102924],\n",
       "       [-0.04011786],\n",
       "       [-0.04920258],\n",
       "       [-0.05827964],\n",
       "       [-0.06734542],\n",
       "       [-0.07639552],\n",
       "       [-0.0854263 ],\n",
       "       [-0.09443369],\n",
       "       [-0.10341366],\n",
       "       [-0.11236205],\n",
       "       [-0.12127526],\n",
       "       [-0.13014945],\n",
       "       [-0.13898075],\n",
       "       [-0.14776514],\n",
       "       [-0.15649909],\n",
       "       [-0.1651789 ],\n",
       "       [-0.17380093],\n",
       "       [-0.18236181],\n",
       "       [-0.19085775],\n",
       "       [-0.19928563],\n",
       "       [-0.207642  ],\n",
       "       [-0.21592356],\n",
       "       [-0.22412741],\n",
       "       [-0.2322505 ],\n",
       "       [-0.24028979],\n",
       "       [-0.24824257],\n",
       "       [-0.25610593],\n",
       "       [-0.26387733],\n",
       "       [-0.27155435],\n",
       "       [-0.27913454],\n",
       "       [-0.2866155 ],\n",
       "       [-0.29399517],\n",
       "       [-0.30127162],\n",
       "       [-0.30844247],\n",
       "       [-0.31550655],\n",
       "       [-0.32246146],\n",
       "       [-0.329306  ],\n",
       "       [-0.33603856],\n",
       "       [-0.3426577 ],\n",
       "       [-0.34916213],\n",
       "       [-0.35555047],\n",
       "       [-0.36182216],\n",
       "       [-0.3679757 ],\n",
       "       [-0.37401038],\n",
       "       [-0.37992567],\n",
       "       [-0.38572055],\n",
       "       [-0.39139447],\n",
       "       [-0.396947  ],\n",
       "       [-0.40237772],\n",
       "       [-0.40768602],\n",
       "       [-0.41287202],\n",
       "       [-0.41793516],\n",
       "       [-0.4228755 ],\n",
       "       [-0.42769307],\n",
       "       [-0.43238762],\n",
       "       [-0.4369592 ],\n",
       "       [-0.44140837],\n",
       "       [-0.44573456],\n",
       "       [-0.44993863],\n",
       "       [-0.45402047],\n",
       "       [-0.45798066],\n",
       "       [-0.46181914],\n",
       "       [-0.46553668],\n",
       "       [-0.46913356],\n",
       "       [-0.47261024],\n",
       "       [-0.47596708],\n",
       "       [-0.4792046 ],\n",
       "       [-0.48232344],\n",
       "       [-0.4853239 ],\n",
       "       [-0.4882067 ],\n",
       "       [-0.49097246],\n",
       "       [-0.49362162],\n",
       "       [-0.4961548 ],\n",
       "       [-0.49857244],\n",
       "       [-0.50087523],\n",
       "       [-0.50306374],\n",
       "       [-0.5051388 ],\n",
       "       [-0.5071006 ],\n",
       "       [-0.50895005],\n",
       "       [-0.5106875 ],\n",
       "       [-0.5123134 ],\n",
       "       [-0.51382875],\n",
       "       [-0.5152337 ],\n",
       "       [-0.516529  ],\n",
       "       [-0.517715  ],\n",
       "       [-0.5187923 ],\n",
       "       [-0.5197614 ],\n",
       "       [-0.5206228 ],\n",
       "       [-0.5213769 ],\n",
       "       [-0.5220244 ],\n",
       "       [-0.5225654 ],\n",
       "       [-0.5230003 ],\n",
       "       [-0.5233298 ],\n",
       "       [-0.52355397],\n",
       "       [-0.52367324],\n",
       "       [-0.5236883 ],\n",
       "       [-0.5235989 ],\n",
       "       [-0.5234057 ],\n",
       "       [-0.5231088 ],\n",
       "       [-0.5227086 ],\n",
       "       [-0.52220523],\n",
       "       [-0.5215991 ],\n",
       "       [-0.52089024],\n",
       "       [-0.5200788 ],\n",
       "       [-0.51916504],\n",
       "       [-0.518149  ],\n",
       "       [-0.51703113],\n",
       "       [-0.51581115],\n",
       "       [-0.5144894 ],\n",
       "       [-0.5130657 ],\n",
       "       [-0.51154035],\n",
       "       [-0.5099135 ],\n",
       "       [-0.50818497],\n",
       "       [-0.506355  ],\n",
       "       [-0.5044233 ],\n",
       "       [-0.50239015],\n",
       "       [-0.5002555 ],\n",
       "       [-0.49801907],\n",
       "       [-0.49568138],\n",
       "       [-0.49324206],\n",
       "       [-0.49070114],\n",
       "       [-0.48805863],\n",
       "       [-0.48531452],\n",
       "       [-0.4824686 ],\n",
       "       [-0.479521  ],\n",
       "       [-0.47647193],\n",
       "       [-0.47332096],\n",
       "       [-0.47006813],\n",
       "       [-0.4667137 ],\n",
       "       [-0.46325734],\n",
       "       [-0.45969936],\n",
       "       [-0.45603988],\n",
       "       [-0.4522785 ],\n",
       "       [-0.44841552],\n",
       "       [-0.4444509 ],\n",
       "       [-0.44038492],\n",
       "       [-0.43621767],\n",
       "       [-0.4319492 ],\n",
       "       [-0.42757946],\n",
       "       [-0.42310894],\n",
       "       [-0.418538  ],\n",
       "       [-0.4138661 ],\n",
       "       [-0.4090944 ],\n",
       "       [-0.4042228 ],\n",
       "       [-0.3992514 ],\n",
       "       [-0.39418104],\n",
       "       [-0.38901177],\n",
       "       [-0.38374418],\n",
       "       [-0.3783786 ],\n",
       "       [-0.3729157 ],\n",
       "       [-0.3673563 ],\n",
       "       [-0.3617005 ],\n",
       "       [-0.35594907],\n",
       "       [-0.35010326],\n",
       "       [-0.34416315],\n",
       "       [-0.33812982],\n",
       "       [-0.33200395],\n",
       "       [-0.32578662],\n",
       "       [-0.3194789 ],\n",
       "       [-0.31308174],\n",
       "       [-0.30659595],\n",
       "       [-0.30002272],\n",
       "       [-0.29336366],\n",
       "       [-0.28661948],\n",
       "       [-0.27979162],\n",
       "       [-0.27288184],\n",
       "       [-0.2658908 ],\n",
       "       [-0.25882044],\n",
       "       [-0.25167245],\n",
       "       [-0.2444479 ],\n",
       "       [-0.23714896],\n",
       "       [-0.22977675],\n",
       "       [-0.22233333],\n",
       "       [-0.21482064],\n",
       "       [-0.20724049],\n",
       "       [-0.19959447],\n",
       "       [-0.19188479],\n",
       "       [-0.18411346],\n",
       "       [-0.17628221],\n",
       "       [-0.16839366],\n",
       "       [-0.16044992],\n",
       "       [-0.15245306],\n",
       "       [-0.14440496],\n",
       "       [-0.13630837],\n",
       "       [-0.12816533],\n",
       "       [-0.11997857],\n",
       "       [-0.1117502 ],\n",
       "       [-0.10348248],\n",
       "       [-0.09517813],\n",
       "       [-0.08683982],\n",
       "       [-0.07846984],\n",
       "       [-0.07007049],\n",
       "       [-0.06164449],\n",
       "       [-0.05319453],\n",
       "       [-0.04472306],\n",
       "       [-0.03623284],\n",
       "       [-0.02772625],\n",
       "       [-0.01920583],\n",
       "       [-0.01067443],\n",
       "       [-0.00213456],\n",
       "       [ 0.00641117],\n",
       "       [ 0.01496021],\n",
       "       [ 0.02350982],\n",
       "       [ 0.03205791],\n",
       "       [ 0.04060133],\n",
       "       [ 0.04913786],\n",
       "       [ 0.05766525],\n",
       "       [ 0.06618048],\n",
       "       [ 0.0746811 ],\n",
       "       [ 0.08316506],\n",
       "       [ 0.09163003],\n",
       "       [ 0.10007322],\n",
       "       [ 0.10849272],\n",
       "       [ 0.11688565],\n",
       "       [ 0.12525056],\n",
       "       [ 0.1335844 ],\n",
       "       [ 0.14188561],\n",
       "       [ 0.15015212],\n",
       "       [ 0.15838163],\n",
       "       [ 0.16657218],\n",
       "       [ 0.1747214 ],\n",
       "       [ 0.18282822],\n",
       "       [ 0.19089009],\n",
       "       [ 0.19890566],\n",
       "       [ 0.20687276],\n",
       "       [ 0.21479034],\n",
       "       [ 0.22265598],\n",
       "       [ 0.23046859],\n",
       "       [ 0.23822667],\n",
       "       [ 0.24592869],\n",
       "       [ 0.25357348],\n",
       "       [ 0.2611592 ],\n",
       "       [ 0.26868513],\n",
       "       [ 0.27614984],\n",
       "       [ 0.28355196],\n",
       "       [ 0.29089078],\n",
       "       [ 0.29816514],\n",
       "       [ 0.30537426],\n",
       "       [ 0.3125169 ],\n",
       "       [ 0.31959236],\n",
       "       [ 0.32659996],\n",
       "       [ 0.33353895],\n",
       "       [ 0.34040868],\n",
       "       [ 0.3472081 ],\n",
       "       [ 0.3539373 ],\n",
       "       [ 0.36059552],\n",
       "       [ 0.36718217],\n",
       "       [ 0.37369692]], dtype=float32)"
      ]
     },
     "execution_count": 12,
     "metadata": {},
     "output_type": "execute_result"
    }
   ],
   "source": [
    "# 获取预测值\n",
    "prediction_value = sess.run(prediction, feed_dict={xs:x_data})\n",
    "prediction_value"
   ]
  },
  {
   "cell_type": "markdown",
   "metadata": {},
   "source": [
    "## 结果可视化"
   ]
  },
  {
   "cell_type": "markdown",
   "metadata": {},
   "source": [
    "matplotlib 可视化\n",
    "\n",
    "构建图形，用散点图描述真实数据之间的关系。 （注意：plt.ion()用于连续显示。）"
   ]
  },
  {
   "cell_type": "code",
   "execution_count": 35,
   "metadata": {},
   "outputs": [],
   "source": [
    "from matplotlib import pyplot as plt\n",
    "%matplotlib inline"
   ]
  },
  {
   "cell_type": "code",
   "execution_count": 36,
   "metadata": {},
   "outputs": [
    {
     "data": {
      "image/png": "[encoded data removed]",
      "text/plain": [
       "<Figure size 432x288 with 1 Axes>"
      ]
     },
     "metadata": {
      "needs_background": "light"
     },
     "output_type": "display_data"
    }
   ],
   "source": [
    "# 画图\n",
    "plt.figure()\n",
    "# plt.ion()  #interactive mode on\n",
    "# 绘制样本点\n",
    "plt.scatter(x_data, y_data)\n",
    "# 预测结果用红色实线绘制\n",
    "plt.plot(x_data, prediction_value,'r-',lw=3)\n",
    "plt.pause(0.001)\n",
    "plt.show()"
   ]
  },
  {
   "cell_type": "code",
   "execution_count": null,
   "metadata": {},
   "outputs": [],
   "source": []
  }
 ],
 "metadata": {
  "kernelspec": {
   "display_name": "Python 3",
   "language": "python",
   "name": "python3"
  },
  "language_info": {
   "codemirror_mode": {
    "name": "ipython",
    "version": 3
   },
   "file_extension": ".py",
   "mimetype": "text/x-python",
   "name": "python",
   "nbconvert_exporter": "python",
   "pygments_lexer": "ipython3",
   "version": "3.7.1"
  },
  "toc": {
   "base_numbering": 1,
   "nav_menu": {},
   "number_sections": true,
   "sideBar": true,
   "skip_h1_title": false,
   "title_cell": "Table of Contents",
   "title_sidebar": "Contents",
   "toc_cell": false,
   "toc_position": {},
   "toc_section_display": true,
   "toc_window_display": false
  }
 },
 "nbformat": 4,
 "nbformat_minor": 2
}
