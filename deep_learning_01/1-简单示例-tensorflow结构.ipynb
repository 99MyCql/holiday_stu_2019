{
 "cells": [
  {
   "cell_type": "markdown",
   "metadata": {},
   "source": [
    "# tersorflow结构"
   ]
  },
  {
   "cell_type": "markdown",
   "metadata": {},
   "source": [
    "Tensorflow 是非常重视结构的, 我们得建立好了神经网络的结构, 才能将数字放进去, 运行这个结构.\n",
    "\n",
    "这个例子简单的阐述了 tensorflow 当中如何用代码来运行我们搭建的结构."
   ]
  },
  {
   "cell_type": "markdown",
   "metadata": {},
   "source": [
    "## 创建数据"
   ]
  },
  {
   "cell_type": "markdown",
   "metadata": {},
   "source": [
    "首先, 我们这次需要加载 tensorflow 和 numpy 两个模块, 并且使用 numpy 来创建我们的数据."
   ]
  },
  {
   "cell_type": "code",
   "execution_count": 10,
   "metadata": {},
   "outputs": [],
   "source": [
    "import tensorflow as tf\n",
    "import numpy as np\n",
    "import warnings\n",
    "warnings.filterwarnings('ignore')\n",
    "\n",
    "# create data\n",
    "x_data = np.random.rand(100).astype(np.float32)\n",
    "y_data = x_data*0.1 + 0.3"
   ]
  },
  {
   "cell_type": "markdown",
   "metadata": {},
   "source": [
    "接着, 我们用 tf.Variable 来创建描述 y 的参数. 我们可以把 **y_data = x_data*0.1 + 0.3** 想象成 **y=Weights * x + biases, **\n",
    "\n",
    "然后神经网络也就是学着把 Weights 变成 0.1, biases 变成 0.3."
   ]
  },
  {
   "cell_type": "markdown",
   "metadata": {},
   "source": [
    "## 搭建模型"
   ]
  },
  {
   "cell_type": "code",
   "execution_count": 11,
   "metadata": {},
   "outputs": [],
   "source": [
    "??tf.random_uniform"
   ]
  },
  {
   "cell_type": "code",
   "execution_count": 12,
   "metadata": {},
   "outputs": [],
   "source": [
    "Weights = tf.Variable(tf.random_uniform([1], -1.0, 1.0))\n",
    "biases = tf.Variable(tf.random_uniform([1], -1.0, 1.0))\n",
    "y = Weights * x_data + biases"
   ]
  },
  {
   "cell_type": "markdown",
   "metadata": {},
   "source": [
    "## 计算误差"
   ]
  },
  {
   "cell_type": "code",
   "execution_count": 13,
   "metadata": {},
   "outputs": [
    {
     "data": {
      "text/plain": [
       "array([0.33113766, 0.30486053, 0.31324458, 0.37704062, 0.30001977,\n",
       "       0.31008914, 0.32055512, 0.32152355, 0.30454203, 0.37156993,\n",
       "       0.3984661 , 0.36468384, 0.39450884, 0.3280569 , 0.33556134,\n",
       "       0.36793903, 0.340191  , 0.30980852, 0.32462925, 0.38972276,\n",
       "       0.37773162, 0.31703496, 0.33564785, 0.3813387 , 0.36888245,\n",
       "       0.3343884 , 0.34765628, 0.3609008 , 0.34411725, 0.3787077 ,\n",
       "       0.39722317, 0.3172689 , 0.38885206, 0.3629414 , 0.3676858 ,\n",
       "       0.3060502 , 0.37545627, 0.3555161 , 0.33479428, 0.35045046,\n",
       "       0.38132325, 0.32677805, 0.3351789 , 0.3122658 , 0.38874912,\n",
       "       0.36115038, 0.30645758, 0.31541854, 0.39647985, 0.39389166,\n",
       "       0.32169107, 0.38242808, 0.32520112, 0.3269452 , 0.39687964,\n",
       "       0.37430012, 0.30684823, 0.30344424, 0.3513393 , 0.3130876 ,\n",
       "       0.32431176, 0.35337487, 0.38921976, 0.31291622, 0.39288738,\n",
       "       0.3688939 , 0.35552996, 0.3706975 , 0.356663  , 0.39890283,\n",
       "       0.33575857, 0.3716885 , 0.38487616, 0.3485267 , 0.30036378,\n",
       "       0.3014099 , 0.3860768 , 0.3981103 , 0.31328893, 0.36601382,\n",
       "       0.35592455, 0.39936543, 0.32332608, 0.39312917, 0.35978258,\n",
       "       0.39383805, 0.38812226, 0.34495834, 0.34194666, 0.32336846,\n",
       "       0.3730825 , 0.3997424 , 0.31179917, 0.33649534, 0.3591739 ,\n",
       "       0.36768898, 0.33197248, 0.3927619 , 0.31681523, 0.33423156],\n",
       "      dtype=float32)"
      ]
     },
     "execution_count": 13,
     "metadata": {},
     "output_type": "execute_result"
    }
   ],
   "source": [
    "y_data"
   ]
  },
  {
   "cell_type": "code",
   "execution_count": 26,
   "metadata": {},
   "outputs": [],
   "source": [
    "# 计算 y 和 y_data 的误差:\n",
    "loss = tf.reduce_mean(tf.square(y - y_data))"
   ]
  },
  {
   "cell_type": "markdown",
   "metadata": {},
   "source": [
    "## 传播误差"
   ]
  },
  {
   "cell_type": "markdown",
   "metadata": {},
   "source": [
    "反向传递误差的工作就教给optimizer了, 我们使用的误差传递方法是梯度下降法: Gradient Descent 让后我们使用 optimizer 来进行参数的更新."
   ]
  },
  {
   "cell_type": "code",
   "execution_count": 16,
   "metadata": {},
   "outputs": [],
   "source": [
    "optimizer = tf.train.GradientDescentOptimizer(0.5)\n",
    "train = optimizer.minimize(loss)"
   ]
  },
  {
   "cell_type": "markdown",
   "metadata": {},
   "source": [
    "## 初始化变量"
   ]
  },
  {
   "cell_type": "markdown",
   "metadata": {},
   "source": [
    "到目前为止, 我们只是建立了神经网络的结构, 还没有使用这个结构. 在使用这个结构之前, 我们必须先初始化所有之前定义的Variable, 所以这一步是很重要的!"
   ]
  },
  {
   "cell_type": "code",
   "execution_count": 17,
   "metadata": {},
   "outputs": [],
   "source": [
    "# init = tf.initialize_all_variables() # tf 马上就要废弃这种写法\n",
    "init = tf.global_variables_initializer()"
   ]
  },
  {
   "cell_type": "markdown",
   "metadata": {},
   "source": [
    "## 创建会话并启动图"
   ]
  },
  {
   "cell_type": "markdown",
   "metadata": {},
   "source": [
    "接着,我们再创建会话 Session. 我们用 Session 来执行 init 初始化步骤. 并且用 Session 来 run 每一次 training 的数据. 逐步提升神经网络的预测准确性."
   ]
  },
  {
   "cell_type": "code",
   "execution_count": 27,
   "metadata": {
    "scrolled": true
   },
   "outputs": [
    {
     "name": "stdout",
     "output_type": "stream",
     "text": [
      "[0.14377874] [0.4118453]\n"
     ]
    }
   ],
   "source": [
    "sess = tf.Session()\n",
    "sess.run(init)\n",
    "sess.run(train) # 用所有样本进行一次迭代运算\n",
    "print(sess.run(Weights), sess.run(biases))"
   ]
  },
  {
   "cell_type": "code",
   "execution_count": 21,
   "metadata": {},
   "outputs": [
    {
     "name": "stdout",
     "output_type": "stream",
     "text": [
      "[array([0.06324571], dtype=float32), array([0.2395671], dtype=float32)]\n"
     ]
    }
   ],
   "source": [
    "sess.run(train)\n",
    "print(sess.run([Weights, biases]))"
   ]
  },
  {
   "cell_type": "markdown",
   "metadata": {},
   "source": [
    "## 完整的例子"
   ]
  },
  {
   "cell_type": "code",
   "execution_count": 24,
   "metadata": {
    "scrolled": true
   },
   "outputs": [
    {
     "name": "stdout",
     "output_type": "stream",
     "text": [
      "初始值: [array([-0.95375156], dtype=float32), array([0.7564857], dtype=float32)]\n",
      "[array([-0.81027746], dtype=float32), array([0.8382234], dtype=float32)]\n",
      "[array([0.08153032], dtype=float32), array([0.31020188], dtype=float32)]\n",
      "[array([0.09963133], dtype=float32), array([0.30020365], dtype=float32)]\n",
      "[array([0.09999264], dtype=float32), array([0.30000407], dtype=float32)]\n"
     ]
    }
   ],
   "source": [
    "sess = tf.Session()\n",
    "sess.run(init)\n",
    "print('初始值:', sess.run([Weights, biases]))\n",
    "for i in range(200):\n",
    "    sess.run(train)\n",
    "    if i%50 == 0:\n",
    "        print(sess.run([Weights, biases]))"
   ]
  },
  {
   "cell_type": "markdown",
   "metadata": {},
   "source": [
    "## Tensorboard可视化"
   ]
  },
  {
   "cell_type": "code",
   "execution_count": 28,
   "metadata": {},
   "outputs": [],
   "source": [
    "# !rmdir log\n",
    "!mkdir mylogs"
   ]
  },
  {
   "cell_type": "code",
   "execution_count": 29,
   "metadata": {},
   "outputs": [
    {
     "data": {
      "text/plain": [
       "<tensorflow.python.summary.writer.writer.FileWriter at 0x18f09c203c8>"
      ]
     },
     "execution_count": 29,
     "metadata": {},
     "output_type": "execute_result"
    }
   ],
   "source": [
    "tf.summary.FileWriter('mylogs', sess.graph)"
   ]
  },
  {
   "cell_type": "markdown",
   "metadata": {},
   "source": [
    "tensorboard  --logdir mylogs"
   ]
  }
 ],
 "metadata": {
  "anaconda-cloud": {},
  "kernelspec": {
   "display_name": "Python 3",
   "language": "python",
   "name": "python3"
  },
  "language_info": {
   "codemirror_mode": {
    "name": "ipython",
    "version": 3
   },
   "file_extension": ".py",
   "mimetype": "text/x-python",
   "name": "python",
   "nbconvert_exporter": "python",
   "pygments_lexer": "ipython3",
   "version": "3.7.1"
  },
  "toc": {
   "base_numbering": 1,
   "nav_menu": {},
   "number_sections": true,
   "sideBar": true,
   "skip_h1_title": false,
   "title_cell": "Table of Contents",
   "title_sidebar": "Contents",
   "toc_cell": false,
   "toc_position": {},
   "toc_section_display": true,
   "toc_window_display": false
  }
 },
 "nbformat": 4,
 "nbformat_minor": 1
}
