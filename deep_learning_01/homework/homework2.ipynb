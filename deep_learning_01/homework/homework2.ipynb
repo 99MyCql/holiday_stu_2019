{
 "cells": [
  {
   "cell_type": "markdown",
   "metadata": {},
   "source": [
    "# 事件预测 - 分类问题"
   ]
  },
  {
   "cell_type": "code",
   "execution_count": 1,
   "metadata": {
    "scrolled": true
   },
   "outputs": [],
   "source": [
    "import tensorflow as tf\n",
    "import numpy as np\n",
    "import pandas as pd\n",
    "import warnings\n",
    "warnings.filterwarnings('ignore')"
   ]
  },
  {
   "cell_type": "markdown",
   "metadata": {},
   "source": [
    "## 导入并处理数据"
   ]
  },
  {
   "cell_type": "markdown",
   "metadata": {},
   "source": [
    "### 导入"
   ]
  },
  {
   "cell_type": "code",
   "execution_count": 2,
   "metadata": {},
   "outputs": [
    {
     "name": "stdout",
     "output_type": "stream",
     "text": [
      "<class 'pandas.core.frame.DataFrame'>\n",
      "RangeIndex: 5039 entries, 0 to 5038\n",
      "Data columns (total 6 columns):\n",
      "Sunday      5039 non-null object\n",
      "07/24/05    5039 non-null object\n",
      "00:00:00    5039 non-null object\n",
      "0           5039 non-null int64\n",
      "0.1         5039 non-null int64\n",
      "noevent     5039 non-null object\n",
      "dtypes: int64(2), object(4)\n",
      "memory usage: 236.3+ KB\n"
     ]
    }
   ],
   "source": [
    "df = pd.read_csv(\"building_event_binary.csv\")\n",
    "df.info()"
   ]
  },
  {
   "cell_type": "code",
   "execution_count": 3,
   "metadata": {},
   "outputs": [
    {
     "data": {
      "text/html": [
       "<div>\n",
       "<style scoped>\n",
       "    .dataframe tbody tr th:only-of-type {\n",
       "        vertical-align: middle;\n",
       "    }\n",
       "\n",
       "    .dataframe tbody tr th {\n",
       "        vertical-align: top;\n",
       "    }\n",
       "\n",
       "    .dataframe thead th {\n",
       "        text-align: right;\n",
       "    }\n",
       "</style>\n",
       "<table border=\"1\" class=\"dataframe\">\n",
       "  <thead>\n",
       "    <tr style=\"text-align: right;\">\n",
       "      <th></th>\n",
       "      <th>week</th>\n",
       "      <th>date</th>\n",
       "      <th>time</th>\n",
       "      <th>enterCnt</th>\n",
       "      <th>leaveCnt</th>\n",
       "      <th>type</th>\n",
       "    </tr>\n",
       "  </thead>\n",
       "  <tbody>\n",
       "    <tr>\n",
       "      <th>0</th>\n",
       "      <td>Sunday</td>\n",
       "      <td>07/24/05</td>\n",
       "      <td>00:30:00</td>\n",
       "      <td>1</td>\n",
       "      <td>0</td>\n",
       "      <td>noevent</td>\n",
       "    </tr>\n",
       "    <tr>\n",
       "      <th>1</th>\n",
       "      <td>Sunday</td>\n",
       "      <td>07/24/05</td>\n",
       "      <td>01:00:00</td>\n",
       "      <td>0</td>\n",
       "      <td>0</td>\n",
       "      <td>noevent</td>\n",
       "    </tr>\n",
       "    <tr>\n",
       "      <th>2</th>\n",
       "      <td>Sunday</td>\n",
       "      <td>07/24/05</td>\n",
       "      <td>01:30:00</td>\n",
       "      <td>0</td>\n",
       "      <td>0</td>\n",
       "      <td>noevent</td>\n",
       "    </tr>\n",
       "    <tr>\n",
       "      <th>3</th>\n",
       "      <td>Sunday</td>\n",
       "      <td>07/24/05</td>\n",
       "      <td>02:00:00</td>\n",
       "      <td>0</td>\n",
       "      <td>0</td>\n",
       "      <td>noevent</td>\n",
       "    </tr>\n",
       "    <tr>\n",
       "      <th>4</th>\n",
       "      <td>Sunday</td>\n",
       "      <td>07/24/05</td>\n",
       "      <td>02:30:00</td>\n",
       "      <td>2</td>\n",
       "      <td>0</td>\n",
       "      <td>noevent</td>\n",
       "    </tr>\n",
       "  </tbody>\n",
       "</table>\n",
       "</div>"
      ],
      "text/plain": [
       "     week      date      time  enterCnt  leaveCnt     type\n",
       "0  Sunday  07/24/05  00:30:00         1         0  noevent\n",
       "1  Sunday  07/24/05  01:00:00         0         0  noevent\n",
       "2  Sunday  07/24/05  01:30:00         0         0  noevent\n",
       "3  Sunday  07/24/05  02:00:00         0         0  noevent\n",
       "4  Sunday  07/24/05  02:30:00         2         0  noevent"
      ]
     },
     "execution_count": 3,
     "metadata": {},
     "output_type": "execute_result"
    }
   ],
   "source": [
    "df.columns = ['week', 'date', 'time', 'enterCnt', 'leaveCnt', 'type']\n",
    "df.head()"
   ]
  },
  {
   "cell_type": "markdown",
   "metadata": {},
   "source": [
    "### 处理星期数据"
   ]
  },
  {
   "cell_type": "code",
   "execution_count": 4,
   "metadata": {},
   "outputs": [
    {
     "data": {
      "text/plain": [
       "LabelEncoder()"
      ]
     },
     "execution_count": 4,
     "metadata": {},
     "output_type": "execute_result"
    }
   ],
   "source": [
    "from sklearn.preprocessing import LabelEncoder\n",
    "weeklbe = LabelEncoder()\n",
    "weeklbe.fit(df.week.unique())"
   ]
  },
  {
   "cell_type": "code",
   "execution_count": 5,
   "metadata": {
    "scrolled": true
   },
   "outputs": [],
   "source": [
    "def encode(x):\n",
    "    global weeklbe\n",
    "    newx = weeklbe.transform([x])\n",
    "    return newx[0]"
   ]
  },
  {
   "cell_type": "code",
   "execution_count": 6,
   "metadata": {},
   "outputs": [
    {
     "data": {
      "text/html": [
       "<div>\n",
       "<style scoped>\n",
       "    .dataframe tbody tr th:only-of-type {\n",
       "        vertical-align: middle;\n",
       "    }\n",
       "\n",
       "    .dataframe tbody tr th {\n",
       "        vertical-align: top;\n",
       "    }\n",
       "\n",
       "    .dataframe thead th {\n",
       "        text-align: right;\n",
       "    }\n",
       "</style>\n",
       "<table border=\"1\" class=\"dataframe\">\n",
       "  <thead>\n",
       "    <tr style=\"text-align: right;\">\n",
       "      <th></th>\n",
       "      <th>week</th>\n",
       "      <th>date</th>\n",
       "      <th>time</th>\n",
       "      <th>enterCnt</th>\n",
       "      <th>leaveCnt</th>\n",
       "      <th>type</th>\n",
       "      <th>weekEncode</th>\n",
       "    </tr>\n",
       "  </thead>\n",
       "  <tbody>\n",
       "    <tr>\n",
       "      <th>0</th>\n",
       "      <td>Sunday</td>\n",
       "      <td>07/24/05</td>\n",
       "      <td>00:30:00</td>\n",
       "      <td>1</td>\n",
       "      <td>0</td>\n",
       "      <td>noevent</td>\n",
       "      <td>3</td>\n",
       "    </tr>\n",
       "    <tr>\n",
       "      <th>1</th>\n",
       "      <td>Sunday</td>\n",
       "      <td>07/24/05</td>\n",
       "      <td>01:00:00</td>\n",
       "      <td>0</td>\n",
       "      <td>0</td>\n",
       "      <td>noevent</td>\n",
       "      <td>3</td>\n",
       "    </tr>\n",
       "    <tr>\n",
       "      <th>2</th>\n",
       "      <td>Sunday</td>\n",
       "      <td>07/24/05</td>\n",
       "      <td>01:30:00</td>\n",
       "      <td>0</td>\n",
       "      <td>0</td>\n",
       "      <td>noevent</td>\n",
       "      <td>3</td>\n",
       "    </tr>\n",
       "    <tr>\n",
       "      <th>3</th>\n",
       "      <td>Sunday</td>\n",
       "      <td>07/24/05</td>\n",
       "      <td>02:00:00</td>\n",
       "      <td>0</td>\n",
       "      <td>0</td>\n",
       "      <td>noevent</td>\n",
       "      <td>3</td>\n",
       "    </tr>\n",
       "    <tr>\n",
       "      <th>4</th>\n",
       "      <td>Sunday</td>\n",
       "      <td>07/24/05</td>\n",
       "      <td>02:30:00</td>\n",
       "      <td>2</td>\n",
       "      <td>0</td>\n",
       "      <td>noevent</td>\n",
       "      <td>3</td>\n",
       "    </tr>\n",
       "  </tbody>\n",
       "</table>\n",
       "</div>"
      ],
      "text/plain": [
       "     week      date      time  enterCnt  leaveCnt     type  weekEncode\n",
       "0  Sunday  07/24/05  00:30:00         1         0  noevent           3\n",
       "1  Sunday  07/24/05  01:00:00         0         0  noevent           3\n",
       "2  Sunday  07/24/05  01:30:00         0         0  noevent           3\n",
       "3  Sunday  07/24/05  02:00:00         0         0  noevent           3\n",
       "4  Sunday  07/24/05  02:30:00         2         0  noevent           3"
      ]
     },
     "execution_count": 6,
     "metadata": {},
     "output_type": "execute_result"
    }
   ],
   "source": [
    "df['weekEncode'] = df.week.apply(encode)\n",
    "df.head()"
   ]
  },
  {
   "cell_type": "markdown",
   "metadata": {},
   "source": [
    "### 处理时间数据"
   ]
  },
  {
   "cell_type": "code",
   "execution_count": 7,
   "metadata": {},
   "outputs": [
    {
     "data": {
      "text/plain": [
       "LabelEncoder()"
      ]
     },
     "execution_count": 7,
     "metadata": {},
     "output_type": "execute_result"
    }
   ],
   "source": [
    "timelbe = LabelEncoder()\n",
    "timelbe.fit(df.time.unique())"
   ]
  },
  {
   "cell_type": "code",
   "execution_count": 8,
   "metadata": {
    "scrolled": true
   },
   "outputs": [],
   "source": [
    "def encode2(x):\n",
    "    global timelbe\n",
    "    newx = timelbe.transform([x])\n",
    "    return newx[0]"
   ]
  },
  {
   "cell_type": "code",
   "execution_count": 9,
   "metadata": {
    "scrolled": true
   },
   "outputs": [
    {
     "data": {
      "text/html": [
       "<div>\n",
       "<style scoped>\n",
       "    .dataframe tbody tr th:only-of-type {\n",
       "        vertical-align: middle;\n",
       "    }\n",
       "\n",
       "    .dataframe tbody tr th {\n",
       "        vertical-align: top;\n",
       "    }\n",
       "\n",
       "    .dataframe thead th {\n",
       "        text-align: right;\n",
       "    }\n",
       "</style>\n",
       "<table border=\"1\" class=\"dataframe\">\n",
       "  <thead>\n",
       "    <tr style=\"text-align: right;\">\n",
       "      <th></th>\n",
       "      <th>week</th>\n",
       "      <th>date</th>\n",
       "      <th>time</th>\n",
       "      <th>enterCnt</th>\n",
       "      <th>leaveCnt</th>\n",
       "      <th>type</th>\n",
       "      <th>weekEncode</th>\n",
       "      <th>timeEncode</th>\n",
       "    </tr>\n",
       "  </thead>\n",
       "  <tbody>\n",
       "    <tr>\n",
       "      <th>0</th>\n",
       "      <td>Sunday</td>\n",
       "      <td>07/24/05</td>\n",
       "      <td>00:30:00</td>\n",
       "      <td>1</td>\n",
       "      <td>0</td>\n",
       "      <td>noevent</td>\n",
       "      <td>3</td>\n",
       "      <td>1</td>\n",
       "    </tr>\n",
       "    <tr>\n",
       "      <th>1</th>\n",
       "      <td>Sunday</td>\n",
       "      <td>07/24/05</td>\n",
       "      <td>01:00:00</td>\n",
       "      <td>0</td>\n",
       "      <td>0</td>\n",
       "      <td>noevent</td>\n",
       "      <td>3</td>\n",
       "      <td>2</td>\n",
       "    </tr>\n",
       "    <tr>\n",
       "      <th>2</th>\n",
       "      <td>Sunday</td>\n",
       "      <td>07/24/05</td>\n",
       "      <td>01:30:00</td>\n",
       "      <td>0</td>\n",
       "      <td>0</td>\n",
       "      <td>noevent</td>\n",
       "      <td>3</td>\n",
       "      <td>3</td>\n",
       "    </tr>\n",
       "    <tr>\n",
       "      <th>3</th>\n",
       "      <td>Sunday</td>\n",
       "      <td>07/24/05</td>\n",
       "      <td>02:00:00</td>\n",
       "      <td>0</td>\n",
       "      <td>0</td>\n",
       "      <td>noevent</td>\n",
       "      <td>3</td>\n",
       "      <td>4</td>\n",
       "    </tr>\n",
       "    <tr>\n",
       "      <th>4</th>\n",
       "      <td>Sunday</td>\n",
       "      <td>07/24/05</td>\n",
       "      <td>02:30:00</td>\n",
       "      <td>2</td>\n",
       "      <td>0</td>\n",
       "      <td>noevent</td>\n",
       "      <td>3</td>\n",
       "      <td>5</td>\n",
       "    </tr>\n",
       "  </tbody>\n",
       "</table>\n",
       "</div>"
      ],
      "text/plain": [
       "     week      date      time  enterCnt  leaveCnt     type  weekEncode  \\\n",
       "0  Sunday  07/24/05  00:30:00         1         0  noevent           3   \n",
       "1  Sunday  07/24/05  01:00:00         0         0  noevent           3   \n",
       "2  Sunday  07/24/05  01:30:00         0         0  noevent           3   \n",
       "3  Sunday  07/24/05  02:00:00         0         0  noevent           3   \n",
       "4  Sunday  07/24/05  02:30:00         2         0  noevent           3   \n",
       "\n",
       "   timeEncode  \n",
       "0           1  \n",
       "1           2  \n",
       "2           3  \n",
       "3           4  \n",
       "4           5  "
      ]
     },
     "execution_count": 9,
     "metadata": {},
     "output_type": "execute_result"
    }
   ],
   "source": [
    "df['timeEncode'] = df.time.apply(encode2)\n",
    "df.head()"
   ]
  },
  {
   "cell_type": "markdown",
   "metadata": {},
   "source": [
    "### 处理事件类型数据"
   ]
  },
  {
   "cell_type": "code",
   "execution_count": 10,
   "metadata": {
    "scrolled": true
   },
   "outputs": [],
   "source": [
    "def encode3(x):\n",
    "    if x == 'noevent':\n",
    "        return 0\n",
    "    else:\n",
    "        return 1"
   ]
  },
  {
   "cell_type": "code",
   "execution_count": 11,
   "metadata": {
    "scrolled": true
   },
   "outputs": [
    {
     "data": {
      "text/html": [
       "<div>\n",
       "<style scoped>\n",
       "    .dataframe tbody tr th:only-of-type {\n",
       "        vertical-align: middle;\n",
       "    }\n",
       "\n",
       "    .dataframe tbody tr th {\n",
       "        vertical-align: top;\n",
       "    }\n",
       "\n",
       "    .dataframe thead th {\n",
       "        text-align: right;\n",
       "    }\n",
       "</style>\n",
       "<table border=\"1\" class=\"dataframe\">\n",
       "  <thead>\n",
       "    <tr style=\"text-align: right;\">\n",
       "      <th></th>\n",
       "      <th>week</th>\n",
       "      <th>date</th>\n",
       "      <th>time</th>\n",
       "      <th>enterCnt</th>\n",
       "      <th>leaveCnt</th>\n",
       "      <th>type</th>\n",
       "      <th>weekEncode</th>\n",
       "      <th>timeEncode</th>\n",
       "      <th>typeEncode</th>\n",
       "    </tr>\n",
       "  </thead>\n",
       "  <tbody>\n",
       "    <tr>\n",
       "      <th>0</th>\n",
       "      <td>Sunday</td>\n",
       "      <td>07/24/05</td>\n",
       "      <td>00:30:00</td>\n",
       "      <td>1</td>\n",
       "      <td>0</td>\n",
       "      <td>noevent</td>\n",
       "      <td>3</td>\n",
       "      <td>1</td>\n",
       "      <td>0</td>\n",
       "    </tr>\n",
       "    <tr>\n",
       "      <th>1</th>\n",
       "      <td>Sunday</td>\n",
       "      <td>07/24/05</td>\n",
       "      <td>01:00:00</td>\n",
       "      <td>0</td>\n",
       "      <td>0</td>\n",
       "      <td>noevent</td>\n",
       "      <td>3</td>\n",
       "      <td>2</td>\n",
       "      <td>0</td>\n",
       "    </tr>\n",
       "    <tr>\n",
       "      <th>2</th>\n",
       "      <td>Sunday</td>\n",
       "      <td>07/24/05</td>\n",
       "      <td>01:30:00</td>\n",
       "      <td>0</td>\n",
       "      <td>0</td>\n",
       "      <td>noevent</td>\n",
       "      <td>3</td>\n",
       "      <td>3</td>\n",
       "      <td>0</td>\n",
       "    </tr>\n",
       "    <tr>\n",
       "      <th>3</th>\n",
       "      <td>Sunday</td>\n",
       "      <td>07/24/05</td>\n",
       "      <td>02:00:00</td>\n",
       "      <td>0</td>\n",
       "      <td>0</td>\n",
       "      <td>noevent</td>\n",
       "      <td>3</td>\n",
       "      <td>4</td>\n",
       "      <td>0</td>\n",
       "    </tr>\n",
       "    <tr>\n",
       "      <th>4</th>\n",
       "      <td>Sunday</td>\n",
       "      <td>07/24/05</td>\n",
       "      <td>02:30:00</td>\n",
       "      <td>2</td>\n",
       "      <td>0</td>\n",
       "      <td>noevent</td>\n",
       "      <td>3</td>\n",
       "      <td>5</td>\n",
       "      <td>0</td>\n",
       "    </tr>\n",
       "  </tbody>\n",
       "</table>\n",
       "</div>"
      ],
      "text/plain": [
       "     week      date      time  enterCnt  leaveCnt     type  weekEncode  \\\n",
       "0  Sunday  07/24/05  00:30:00         1         0  noevent           3   \n",
       "1  Sunday  07/24/05  01:00:00         0         0  noevent           3   \n",
       "2  Sunday  07/24/05  01:30:00         0         0  noevent           3   \n",
       "3  Sunday  07/24/05  02:00:00         0         0  noevent           3   \n",
       "4  Sunday  07/24/05  02:30:00         2         0  noevent           3   \n",
       "\n",
       "   timeEncode  typeEncode  \n",
       "0           1           0  \n",
       "1           2           0  \n",
       "2           3           0  \n",
       "3           4           0  \n",
       "4           5           0  "
      ]
     },
     "execution_count": 11,
     "metadata": {},
     "output_type": "execute_result"
    }
   ],
   "source": [
    "df['typeEncode'] = df.type.apply(encode3)\n",
    "df.head()"
   ]
  },
  {
   "cell_type": "markdown",
   "metadata": {},
   "source": [
    "### 提取x_data, y_data数据"
   ]
  },
  {
   "cell_type": "code",
   "execution_count": 12,
   "metadata": {
    "scrolled": true
   },
   "outputs": [
    {
     "data": {
      "text/plain": [
       "array([[ 3,  1,  1,  0],\n",
       "       [ 3,  2,  0,  0],\n",
       "       [ 3,  3,  0,  0],\n",
       "       ...,\n",
       "       [ 2, 45,  0,  0],\n",
       "       [ 2, 46,  0,  0],\n",
       "       [ 2, 47,  1,  0]], dtype=int64)"
      ]
     },
     "execution_count": 12,
     "metadata": {},
     "output_type": "execute_result"
    }
   ],
   "source": [
    "x_data = df[ ['weekEncode', 'timeEncode', 'enterCnt' , 'leaveCnt'] ].values\n",
    "x_data"
   ]
  },
  {
   "cell_type": "markdown",
   "metadata": {},
   "source": [
    "### 对y_data进行OneHot编码"
   ]
  },
  {
   "cell_type": "code",
   "execution_count": 13,
   "metadata": {
    "scrolled": true
   },
   "outputs": [
    {
     "name": "stdout",
     "output_type": "stream",
     "text": [
      "(5039,)\n"
     ]
    },
    {
     "data": {
      "text/plain": [
       "array([[0, 0],\n",
       "       [0, 0],\n",
       "       [0, 0]])"
      ]
     },
     "execution_count": 13,
     "metadata": {},
     "output_type": "execute_result"
    }
   ],
   "source": [
    "y_data = df.typeEncode.values\n",
    "print(y_data.shape)\n",
    "y_data.shape = (5039,1)\n",
    "temp = np.zeros((5039,2)).astype(int)\n",
    "for i in range(len(y_data)):\n",
    "    if y_data[i][0] == 1:\n",
    "        temp[i][0] = 1\n",
    "    else:\n",
    "        temp[i][1] = 0\n",
    "y_data = temp\n",
    "y_data[:3]"
   ]
  },
  {
   "cell_type": "markdown",
   "metadata": {},
   "source": [
    "上面转换可以使用one-hot编码实现"
   ]
  },
  {
   "cell_type": "code",
   "execution_count": 14,
   "metadata": {
    "scrolled": true
   },
   "outputs": [
    {
     "name": "stdout",
     "output_type": "stream",
     "text": [
      "[[0]\n",
      " [0]\n",
      " [0]\n",
      " ...\n",
      " [0]\n",
      " [0]\n",
      " [0]]\n",
      "[1]\n"
     ]
    },
    {
     "data": {
      "text/plain": [
       "array([0., 1.])"
      ]
     },
     "execution_count": 14,
     "metadata": {},
     "output_type": "execute_result"
    }
   ],
   "source": [
    "from sklearn.preprocessing import OneHotEncoder\n",
    "\n",
    "y_data = df.typeEncode.values\n",
    "print(y_data)\n",
    "for i in range(len(y_data)):\n",
    "    if y_data[i][0] == 1:\n",
    "        break\n",
    "print(y_data[i])\n",
    "encoder = OneHotEncoder()\n",
    "y_data = encoder.fit_transform(y_data).toarray()\n",
    "y_data[i]"
   ]
  },
  {
   "cell_type": "markdown",
   "metadata": {},
   "source": [
    "## 模型创建"
   ]
  },
  {
   "cell_type": "markdown",
   "metadata": {},
   "source": [
    "### 根据样本样式定义创建占位符"
   ]
  },
  {
   "cell_type": "code",
   "execution_count": 15,
   "metadata": {
    "scrolled": true
   },
   "outputs": [],
   "source": [
    "x = tf.placeholder(tf.float32,[None,4]) # 4个特征\n",
    "y = tf.placeholder(tf.float32,[None,2]) # 2个类别\n",
    "keep_prob = tf.placeholder(tf.float32)\n",
    "lr =  tf.Variable(0.001, dtype = tf.float32) # 学习率变量"
   ]
  },
  {
   "cell_type": "markdown",
   "metadata": {},
   "source": [
    "### 定义神经网络"
   ]
  },
  {
   "cell_type": "code",
   "execution_count": 16,
   "metadata": {
    "scrolled": true
   },
   "outputs": [
    {
     "name": "stderr",
     "output_type": "stream",
     "text": [
      "WARNING: Logging before flag parsing goes to stderr.\n",
      "W0722 10:35:30.503003 11128 deprecation.py:506] From <ipython-input-16-38be1a7a6944>:5: calling dropout (from tensorflow.python.ops.nn_ops) with keep_prob is deprecated and will be removed in a future version.\n",
      "Instructions for updating:\n",
      "Please use `rate` instead of `keep_prob`. Rate should be set to `rate = 1 - keep_prob`.\n"
     ]
    }
   ],
   "source": [
    "# （输入层4个数据，中间层500个神经元）\n",
    "W1 = tf.Variable(tf.truncated_normal([4,500], stddev=0.1))\n",
    "b1 =  tf.Variable(tf.zeros([500]) + 0.1)\n",
    "L1 = tf.nn.tanh(tf.matmul(x, W1) + b1) # 激活函数：tanh\n",
    "L1_drop = tf.nn.dropout(L1, keep_prob)\n",
    "\n",
    "# 中间层\n",
    "W2 = tf.Variable(tf.truncated_normal([500,300], stddev=0.1)) \n",
    "b2 =  tf.Variable(tf.zeros([300]) + 0.1)\n",
    "L2 = tf.nn.tanh(tf.matmul(L1_drop, W2) + b2)\n",
    "L2_drop =  tf.nn.dropout(L2, keep_prob)\n",
    "\n",
    "# 输出层\n",
    "W3 = tf.Variable(tf.truncated_normal([300,2], stddev=0.1)) \n",
    "b3 =  tf.Variable(tf.zeros([2]) + 0.1)\n",
    "prediction = tf.nn.softmax(tf.matmul(L2_drop, W3) + b3) # 输出层激活函数采用softmax()"
   ]
  },
  {
   "cell_type": "markdown",
   "metadata": {},
   "source": [
    "### 损失函数 分类问题用交叉熵"
   ]
  },
  {
   "cell_type": "code",
   "execution_count": 17,
   "metadata": {
    "scrolled": true
   },
   "outputs": [],
   "source": [
    "loss = tf.reduce_mean(tf.nn.softmax_cross_entropy_with_logits_v2(labels = y, logits = prediction))"
   ]
  },
  {
   "cell_type": "markdown",
   "metadata": {},
   "source": [
    "### 定义一个梯度下降法来进行训练的优化器"
   ]
  },
  {
   "cell_type": "code",
   "execution_count": 23,
   "metadata": {
    "scrolled": true
   },
   "outputs": [],
   "source": [
    "# train =  tf.train.AdamOptimizer(lr).minimize(loss)\n",
    "train = tf.train.GradientDescentOptimizer(lr).minimize(loss)"
   ]
  },
  {
   "cell_type": "markdown",
   "metadata": {},
   "source": [
    "### 结果存放在一个布尔型的列表中"
   ]
  },
  {
   "cell_type": "code",
   "execution_count": 19,
   "metadata": {
    "scrolled": true
   },
   "outputs": [],
   "source": [
    "correct_prediction = tf.equal(tf.argmax(y,1),tf.argmax(prediction,1)) # argmax 返回一维张量中最大值(one-hot编码后，每行只有0和1)的所以在位置"
   ]
  },
  {
   "cell_type": "markdown",
   "metadata": {},
   "source": [
    "### 求准确率"
   ]
  },
  {
   "cell_type": "code",
   "execution_count": 20,
   "metadata": {
    "scrolled": true
   },
   "outputs": [],
   "source": [
    "# cast 把布尔型列表转换为float32， 如[true.true.false] = [1,1,0] ，那么准确率的值即为66.6%\n",
    "accuracy = tf.reduce_mean(tf.cast(correct_prediction,tf.float32))"
   ]
  },
  {
   "cell_type": "markdown",
   "metadata": {},
   "source": [
    "### 训练模型"
   ]
  },
  {
   "cell_type": "code",
   "execution_count": 25,
   "metadata": {
    "scrolled": false
   },
   "outputs": [
    {
     "name": "stdout",
     "output_type": "stream",
     "text": [
      "Iter 0, Acc 0.5356221\n",
      "Iter 1, Acc 0.60904944\n",
      "Iter 2, Acc 0.7033141\n",
      "Iter 3, Acc 0.83131576\n",
      "Iter 4, Acc 0.91744393\n",
      "Iter 5, Acc 0.9474102\n",
      "Iter 6, Acc 0.96546936\n",
      "Iter 7, Acc 0.96507245\n",
      "Iter 8, Acc 0.9652709\n",
      "Iter 9, Acc 0.96507245\n",
      "Iter 10, Acc 0.96507245\n",
      "Iter 11, Acc 0.96487397\n",
      "Iter 12, Acc 0.96487397\n",
      "Iter 13, Acc 0.96487397\n",
      "Iter 14, Acc 0.96487397\n",
      "Iter 15, Acc 0.96487397\n",
      "Iter 16, Acc 0.96487397\n",
      "Iter 17, Acc 0.96487397\n",
      "Iter 18, Acc 0.96487397\n",
      "Iter 19, Acc 0.96487397\n",
      "Iter 20, Acc 0.96487397\n",
      "Iter 21, Acc 0.96487397\n",
      "Iter 22, Acc 0.96487397\n",
      "Iter 23, Acc 0.96507245\n",
      "Iter 24, Acc 0.96507245\n",
      "Iter 25, Acc 0.96507245\n",
      "Iter 26, Acc 0.96507245\n",
      "Iter 27, Acc 0.96507245\n",
      "Iter 28, Acc 0.96507245\n",
      "Iter 29, Acc 0.96507245\n",
      "Iter 30, Acc 0.96507245\n",
      "Iter 31, Acc 0.96507245\n",
      "Iter 32, Acc 0.96507245\n",
      "Iter 33, Acc 0.96507245\n",
      "Iter 34, Acc 0.96507245\n",
      "Iter 35, Acc 0.96507245\n",
      "Iter 36, Acc 0.96507245\n",
      "Iter 37, Acc 0.96507245\n",
      "Iter 38, Acc 0.96507245\n",
      "Iter 39, Acc 0.96507245\n",
      "Iter 40, Acc 0.96507245\n",
      "Iter 41, Acc 0.96507245\n",
      "Iter 42, Acc 0.96507245\n",
      "Iter 43, Acc 0.96507245\n",
      "Iter 44, Acc 0.96507245\n",
      "Iter 45, Acc 0.96507245\n",
      "Iter 46, Acc 0.96507245\n",
      "Iter 47, Acc 0.96507245\n",
      "Iter 48, Acc 0.96507245\n",
      "Iter 49, Acc 0.96507245\n",
      "Iter 50, Acc 0.96507245\n",
      "Iter 51, Acc 0.96507245\n",
      "Iter 52, Acc 0.96507245\n",
      "Iter 53, Acc 0.96507245\n",
      "Iter 54, Acc 0.96507245\n",
      "Iter 55, Acc 0.96507245\n",
      "Iter 56, Acc 0.96507245\n",
      "Iter 57, Acc 0.96507245\n",
      "Iter 58, Acc 0.96507245\n",
      "Iter 59, Acc 0.96507245\n",
      "Iter 60, Acc 0.96507245\n",
      "Iter 61, Acc 0.96507245\n",
      "Iter 62, Acc 0.96507245\n",
      "Iter 63, Acc 0.96507245\n",
      "Iter 64, Acc 0.96507245\n",
      "Iter 65, Acc 0.96507245\n",
      "Iter 66, Acc 0.96507245\n",
      "Iter 67, Acc 0.96507245\n",
      "Iter 68, Acc 0.96507245\n",
      "Iter 69, Acc 0.96507245\n",
      "Iter 70, Acc 0.96507245\n",
      "Iter 71, Acc 0.96507245\n",
      "Iter 72, Acc 0.96507245\n",
      "Iter 73, Acc 0.96507245\n",
      "Iter 74, Acc 0.96507245\n",
      "Iter 75, Acc 0.96507245\n",
      "Iter 76, Acc 0.96507245\n",
      "Iter 77, Acc 0.96507245\n",
      "Iter 78, Acc 0.96507245\n",
      "Iter 79, Acc 0.96507245\n",
      "Iter 80, Acc 0.96507245\n",
      "Iter 81, Acc 0.96507245\n",
      "Iter 82, Acc 0.96507245\n",
      "Iter 83, Acc 0.96507245\n",
      "Iter 84, Acc 0.96507245\n",
      "Iter 85, Acc 0.96507245\n",
      "Iter 86, Acc 0.96507245\n",
      "Iter 87, Acc 0.96507245\n",
      "Iter 88, Acc 0.96507245\n",
      "Iter 89, Acc 0.96507245\n",
      "Iter 90, Acc 0.96507245\n",
      "Iter 91, Acc 0.96507245\n",
      "Iter 92, Acc 0.96507245\n",
      "Iter 93, Acc 0.96507245\n",
      "Iter 94, Acc 0.96507245\n",
      "Iter 95, Acc 0.96507245\n",
      "Iter 96, Acc 0.96507245\n",
      "Iter 97, Acc 0.96507245\n",
      "Iter 98, Acc 0.96507245\n",
      "Iter 99, Acc 0.96507245\n",
      "Iter 100, Acc 0.96507245\n"
     ]
    }
   ],
   "source": [
    "with tf.Session() as sess: \n",
    "    # 初始化全部变量\n",
    "    sess.run(tf.global_variables_initializer())\n",
    "    # 训练51个周期\n",
    "    for epoch in range(101):\n",
    "        # 每个周期都改变学习率（学习越久学习率越低）\n",
    "        sess.run(tf.assign(lr, 0.001*(0.95**epoch)))\n",
    "        # 保存batch_size张图片的数据与标签\n",
    "        sess.run(train, feed_dict={x: x_data, y: y_data, keep_prob: 1.0})\n",
    "        \n",
    "        # 用测试集的图片及标签求得准确率\n",
    "        acc = sess.run(accuracy, feed_dict={x: x_data, y: y_data, keep_prob: 1.0})\n",
    "        print(\"Iter \"+ str(epoch) + \", Acc \" + str(acc))"
   ]
  },
  {
   "cell_type": "code",
   "execution_count": null,
   "metadata": {
    "scrolled": true
   },
   "outputs": [],
   "source": []
  }
 ],
 "metadata": {
  "kernelspec": {
   "display_name": "Python 3",
   "language": "python",
   "name": "python3"
  },
  "language_info": {
   "codemirror_mode": {
    "name": "ipython",
    "version": 3
   },
   "file_extension": ".py",
   "mimetype": "text/x-python",
   "name": "python",
   "nbconvert_exporter": "python",
   "pygments_lexer": "ipython3",
   "version": "3.7.1"
  },
  "toc": {
   "base_numbering": 1,
   "nav_menu": {},
   "number_sections": true,
   "sideBar": true,
   "skip_h1_title": false,
   "title_cell": "Table of Contents",
   "title_sidebar": "Contents",
   "toc_cell": false,
   "toc_position": {},
   "toc_section_display": true,
   "toc_window_display": false
  }
 },
 "nbformat": 4,
 "nbformat_minor": 2
}
