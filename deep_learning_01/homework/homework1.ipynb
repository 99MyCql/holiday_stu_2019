{
 "cells": [
  {
   "cell_type": "markdown",
   "metadata": {},
   "source": [
    "# 房价预测 - 回归问题"
   ]
  },
  {
   "cell_type": "code",
   "execution_count": 1,
   "metadata": {},
   "outputs": [],
   "source": [
    "import tensorflow as tf\n",
    "import numpy as np\n",
    "import pandas as pd\n",
    "import warnings\n",
    "warnings.filterwarnings('ignore')"
   ]
  },
  {
   "cell_type": "markdown",
   "metadata": {},
   "source": [
    "## 导入并处理数据"
   ]
  },
  {
   "cell_type": "markdown",
   "metadata": {},
   "source": [
    "### 导入数据"
   ]
  },
  {
   "cell_type": "code",
   "execution_count": 2,
   "metadata": {},
   "outputs": [
    {
     "name": "stdout",
     "output_type": "stream",
     "text": [
      "<class 'pandas.core.frame.DataFrame'>\n",
      "RangeIndex: 46 entries, 0 to 45\n",
      "Data columns (total 3 columns):\n",
      "2104      46 non-null int64\n",
      "3         46 non-null int64\n",
      "399900    46 non-null int64\n",
      "dtypes: int64(3)\n",
      "memory usage: 1.2 KB\n"
     ]
    }
   ],
   "source": [
    "df = pd.read_csv('data1.csv')\n",
    "df.info()"
   ]
  },
  {
   "cell_type": "code",
   "execution_count": 3,
   "metadata": {},
   "outputs": [
    {
     "data": {
      "text/html": [
       "<div>\n",
       "<style scoped>\n",
       "    .dataframe tbody tr th:only-of-type {\n",
       "        vertical-align: middle;\n",
       "    }\n",
       "\n",
       "    .dataframe tbody tr th {\n",
       "        vertical-align: top;\n",
       "    }\n",
       "\n",
       "    .dataframe thead th {\n",
       "        text-align: right;\n",
       "    }\n",
       "</style>\n",
       "<table border=\"1\" class=\"dataframe\">\n",
       "  <thead>\n",
       "    <tr style=\"text-align: right;\">\n",
       "      <th></th>\n",
       "      <th>area</th>\n",
       "      <th>room_count</th>\n",
       "      <th>menoy</th>\n",
       "    </tr>\n",
       "  </thead>\n",
       "  <tbody>\n",
       "    <tr>\n",
       "      <th>0</th>\n",
       "      <td>1600</td>\n",
       "      <td>3</td>\n",
       "      <td>329900</td>\n",
       "    </tr>\n",
       "    <tr>\n",
       "      <th>1</th>\n",
       "      <td>2400</td>\n",
       "      <td>3</td>\n",
       "      <td>369000</td>\n",
       "    </tr>\n",
       "    <tr>\n",
       "      <th>2</th>\n",
       "      <td>1416</td>\n",
       "      <td>2</td>\n",
       "      <td>232000</td>\n",
       "    </tr>\n",
       "    <tr>\n",
       "      <th>3</th>\n",
       "      <td>3000</td>\n",
       "      <td>4</td>\n",
       "      <td>539900</td>\n",
       "    </tr>\n",
       "    <tr>\n",
       "      <th>4</th>\n",
       "      <td>1985</td>\n",
       "      <td>4</td>\n",
       "      <td>299900</td>\n",
       "    </tr>\n",
       "  </tbody>\n",
       "</table>\n",
       "</div>"
      ],
      "text/plain": [
       "   area  room_count   menoy\n",
       "0  1600           3  329900\n",
       "1  2400           3  369000\n",
       "2  1416           2  232000\n",
       "3  3000           4  539900\n",
       "4  1985           4  299900"
      ]
     },
     "execution_count": 3,
     "metadata": {},
     "output_type": "execute_result"
    }
   ],
   "source": [
    "df.columns = ['area', 'room_count', 'menoy']\n",
    "df.head()"
   ]
  },
  {
   "cell_type": "markdown",
   "metadata": {},
   "source": [
    "### 数据提取"
   ]
  },
  {
   "cell_type": "code",
   "execution_count": 4,
   "metadata": {},
   "outputs": [
    {
     "name": "stdout",
     "output_type": "stream",
     "text": [
      "(46, 2)\n"
     ]
    },
    {
     "data": {
      "text/plain": [
       "array([[1600,    3],\n",
       "       [2400,    3],\n",
       "       [1416,    2]], dtype=int64)"
      ]
     },
     "execution_count": 4,
     "metadata": {},
     "output_type": "execute_result"
    }
   ],
   "source": [
    "x_data = df[['area', 'room_count']].values\n",
    "print(x_data.shape)\n",
    "x_data[:3]"
   ]
  },
  {
   "cell_type": "code",
   "execution_count": 5,
   "metadata": {},
   "outputs": [
    {
     "data": {
      "text/plain": [
       "array([[329900],\n",
       "       [369000],\n",
       "       [232000]], dtype=int64)"
      ]
     },
     "execution_count": 5,
     "metadata": {},
     "output_type": "execute_result"
    }
   ],
   "source": [
    "y_data = df['menoy'].values\n",
    "y_data.shape = (46,1)\n",
    "y_data[:3]"
   ]
  },
  {
   "cell_type": "markdown",
   "metadata": {},
   "source": [
    "### 数据标准化"
   ]
  },
  {
   "cell_type": "markdown",
   "metadata": {},
   "source": [
    "最小-最大规范化 MaxAbsScaler 效果更好"
   ]
  },
  {
   "cell_type": "raw",
   "metadata": {},
   "source": [
    "# 数据标准化处理 减去平均值并除以标准差\n",
    "def handle(np_data):\n",
    "    mean = np_data.mean(axis=0) # 列\n",
    "    std = np_data.std(axis=0)\n",
    "    return (np_data - mean) / std"
   ]
  },
  {
   "cell_type": "raw",
   "metadata": {},
   "source": [
    "x_data = df[['area', 'room_count']].values\n",
    "print(x_data.shape)\n",
    "x_data = handle(x_data)\n",
    "x_data[:3]"
   ]
  },
  {
   "cell_type": "raw",
   "metadata": {},
   "source": [
    "y_data = df['menoy'].values\n",
    "y_data.shape = (46,1)\n",
    "y_data = handle(y_data)\n",
    "y_data[:3]"
   ]
  },
  {
   "cell_type": "markdown",
   "metadata": {},
   "source": [
    "### 最小-最大规范化 MaxAbsScaler"
   ]
  },
  {
   "cell_type": "code",
   "execution_count": 6,
   "metadata": {},
   "outputs": [
    {
     "name": "stdout",
     "output_type": "stream",
     "text": [
      "[[0.20628792 0.5       ]\n",
      " [0.42691671 0.5       ]\n",
      " [0.1555433  0.25      ]]\n",
      "[[0.30188679]\n",
      " [0.37566038]\n",
      " [0.11716981]]\n"
     ]
    }
   ],
   "source": [
    "from sklearn.preprocessing import MinMaxScaler\n",
    "scaler = MinMaxScaler()\n",
    "x_data = scaler.fit_transform(x_data)\n",
    "print(x_data[:3])\n",
    "\n",
    "scaler = MinMaxScaler()\n",
    "y_data = scaler.fit_transform(y_data)\n",
    "print(y_data[:3])"
   ]
  },
  {
   "cell_type": "markdown",
   "metadata": {},
   "source": [
    "## 搭建模型"
   ]
  },
  {
   "cell_type": "markdown",
   "metadata": {},
   "source": [
    "### 定义add_layer()函数"
   ]
  },
  {
   "cell_type": "code",
   "execution_count": 7,
   "metadata": {},
   "outputs": [],
   "source": [
    "# 参数：(输入数据, 前一个神经元个数, 下一层神经元个数, 激活函数)\n",
    "def add_layer(inputs, in_size, out_size, activation_function=None):\n",
    "    Weights = tf.Variable(tf.random_normal([in_size, out_size]))\n",
    "    biases = tf.Variable(tf.zeros([1, out_size]) + 0.1)\n",
    "    Wx_plus_b = tf.matmul(inputs, Weights) + biases\n",
    "    if activation_function is None:\n",
    "        outputs = Wx_plus_b\n",
    "    else:\n",
    "        outputs = activation_function(Wx_plus_b)\n",
    "    return outputs"
   ]
  },
  {
   "cell_type": "markdown",
   "metadata": {},
   "source": [
    "### 定义占位符"
   ]
  },
  {
   "cell_type": "code",
   "execution_count": 8,
   "metadata": {},
   "outputs": [],
   "source": [
    "# x,y 样本,一定要是浮点数。None代表无论输入有多少都可以\n",
    "x = tf.placeholder(tf.float32, [None, 2]) # 两个输入变量\n",
    "y = tf.placeholder(tf.float32, [None, 1]) # 一个输出变量"
   ]
  },
  {
   "cell_type": "markdown",
   "metadata": {},
   "source": [
    "### 搭建网络"
   ]
  },
  {
   "cell_type": "code",
   "execution_count": 9,
   "metadata": {},
   "outputs": [],
   "source": [
    "# 第一层网络\n",
    "Z1 = add_layer(x, 2, 10, tf.nn.tanh)\n",
    "# 第二层网络\n",
    "predition = add_layer(Z1, 10, 1, tf.nn.tanh)"
   ]
  },
  {
   "cell_type": "code",
   "execution_count": 10,
   "metadata": {},
   "outputs": [],
   "source": [
    "# 损失函数\n",
    "loss = tf.reduce_mean(tf.square(y - predition))"
   ]
  },
  {
   "cell_type": "code",
   "execution_count": 11,
   "metadata": {},
   "outputs": [],
   "source": [
    "# 使用梯度下降法最小化误差以此来更新权重\n",
    "train = tf.train.GradientDescentOptimizer(0.01).minimize(loss)"
   ]
  },
  {
   "cell_type": "markdown",
   "metadata": {},
   "source": [
    "## 训练模型"
   ]
  },
  {
   "cell_type": "markdown",
   "metadata": {},
   "source": [
    "### 启动会话"
   ]
  },
  {
   "cell_type": "code",
   "execution_count": 12,
   "metadata": {},
   "outputs": [],
   "source": [
    "# 初始化变量  \n",
    "init = tf.global_variables_initializer()"
   ]
  },
  {
   "cell_type": "code",
   "execution_count": 13,
   "metadata": {},
   "outputs": [],
   "source": [
    "# 启动会话\n",
    "sess = tf.Session()\n",
    "sess.run(init)"
   ]
  },
  {
   "cell_type": "markdown",
   "metadata": {},
   "source": [
    "### 开始训练"
   ]
  },
  {
   "cell_type": "code",
   "execution_count": 14,
   "metadata": {},
   "outputs": [],
   "source": [
    "for step in range(1000):\n",
    "    sess.run(train, feed_dict={x:x_data, y:y_data})"
   ]
  },
  {
   "cell_type": "markdown",
   "metadata": {},
   "source": [
    "### 获取预测值"
   ]
  },
  {
   "cell_type": "code",
   "execution_count": 15,
   "metadata": {},
   "outputs": [
    {
     "name": "stdout",
     "output_type": "stream",
     "text": [
      "预测值： [0.21130951] 真实值： [0.30188679]\n",
      "预测值： [0.47146627] 真实值： [0.37566038]\n",
      "预测值： [0.23006406] 真实值： [0.11716981]\n",
      "预测值： [0.57954943] 真实值： [0.69811321]\n",
      "预测值： [0.29413778] 真实值： [0.24528302]\n",
      "预测值： [0.18739076] 真实值： [0.27358491]\n",
      "预测值： [0.14816882] 真实值： [0.05490377]\n",
      "预测值： [0.13080224] 真实值： [0.07943396]\n",
      "预测值： [0.1727864] 真实值： [0.13698113]\n",
      "预测值： [0.27933267] 真实值： [0.13226226]\n",
      "预测值： [0.34954828] 真实值： [0.33415094]\n",
      "预测值： [0.3129056] 真实值： [0.30207358]\n",
      "预测值： [0.7786117] 真实值： [1.]\n",
      "预测值： [0.08918544] 真实值： [0.16981132]\n",
      "预测值： [0.3937649] 真实值： [0.52830189]\n",
      "预测值： [0.19482416] 真实值： [0.24528302]\n",
      "预测值： [0.07725476] 真实值： [0.05660377]\n",
      "预测值： [0.4826464] 真实值： [0.62282642]\n",
      "预测值： [0.5864383] 真实值： [0.80962264]\n",
      "预测值： [0.27060932] 真实值： [0.15660377]\n",
      "预测值： [0.39134383] 真实值： [0.16056604]\n",
      "预测值： [0.21275136] 真实值： [0.13773585]\n",
      "预测值： [0.28658563] 真实值： [0.16981132]\n",
      "预测值： [0.75086653] 真实值： [0.76226415]\n",
      "预测值： [0.02649392] 真实值： [0.1509434]\n",
      "预测值： [0.15958135] 真实值： [0.55584906]\n",
      "预测值： [0.5057512] 真实值： [0.56433962]\n",
      "预测值： [0.41288197] 真实值： [0.57566038]\n",
      "预测值： [0.5342206] 真实值： [0.24528302]\n",
      "预测值： [0.3757171] 真实值： [0.33962264]\n",
      "预测值： [0.24842885] 真实值： [0.]\n",
      "预测值： [0.31206396] 真实值： [0.27358491]\n",
      "预测值： [0.64241356] 真实值： [0.77358491]\n",
      "预测值： [0.23629765] 真实值： [0.21886792]\n",
      "预测值： [0.15185414] 真实值： [0.1509434]\n",
      "预测值： [0.0783737] 真实值： [0.11320755]\n",
      "预测值： [0.3415865] 真实值： [0.33037736]\n",
      "预测值： [0.7695358] 真实值： [0.71528302]\n",
      "预测值： [0.3510766] 真实值： [0.2209434]\n",
      "预测值： [0.31764323] 真实值： [0.37471698]\n",
      "预测值： [0.42439353] 真实值： [0.30188679]\n",
      "预测值： [0.47116527] 真实值： [0.27188679]\n",
      "预测值： [0.0638214] 真实值： [0.24358491]\n",
      "预测值： [0.0172356] 真实值： [0.01886792]\n",
      "预测值： [0.2500617] 真实值： [0.24528302]\n",
      "预测值： [0.06494109] 真实值： [0.13132075]\n"
     ]
    }
   ],
   "source": [
    "# 获取预测值\n",
    "prediction_value = sess.run(predition, feed_dict={x: x_data})\n",
    "for i in range(len(y_data)):\n",
    "    print('预测值：', prediction_value[i], '真实值：', y_data[i])"
   ]
  },
  {
   "cell_type": "markdown",
   "metadata": {},
   "source": [
    "### 可视化"
   ]
  },
  {
   "cell_type": "code",
   "execution_count": 16,
   "metadata": {},
   "outputs": [
    {
     "data": {
      "image/png": "[encoded data removed]",
      "text/plain": [
       "<Figure size 432x288 with 1 Axes>"
      ]
     },
     "metadata": {
      "needs_background": "light"
     },
     "output_type": "display_data"
    }
   ],
   "source": [
    "from matplotlib import pyplot as plt\n",
    "%matplotlib inline\n",
    "\n",
    "# 画图\n",
    "plt.figure()\n",
    "# plt.ion()  #interactive mode on\n",
    "# 绘制样本点，真实值\n",
    "plt.scatter(x_data[:, 0], y_data)\n",
    "# 预测结果\n",
    "plt.scatter(x_data[:, 0], prediction_value)\n",
    "plt.pause(0.001)\n",
    "plt.show()"
   ]
  },
  {
   "cell_type": "code",
   "execution_count": null,
   "metadata": {},
   "outputs": [],
   "source": []
  }
 ],
 "metadata": {
  "kernelspec": {
   "display_name": "Python 3",
   "language": "python",
   "name": "python3"
  },
  "language_info": {
   "codemirror_mode": {
    "name": "ipython",
    "version": 3
   },
   "file_extension": ".py",
   "mimetype": "text/x-python",
   "name": "python",
   "nbconvert_exporter": "python",
   "pygments_lexer": "ipython3",
   "version": "3.7.1"
  },
  "toc": {
   "base_numbering": 1,
   "nav_menu": {},
   "number_sections": true,
   "sideBar": true,
   "skip_h1_title": false,
   "title_cell": "Table of Contents",
   "title_sidebar": "Contents",
   "toc_cell": false,
   "toc_position": {},
   "toc_section_display": true,
   "toc_window_display": false
  }
 },
 "nbformat": 4,
 "nbformat_minor": 2
}
