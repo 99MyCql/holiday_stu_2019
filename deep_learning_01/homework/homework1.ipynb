{
 "cells": [
  {
   "cell_type": "markdown",
   "metadata": {},
   "source": [
    "# 房价预测"
   ]
  },
  {
   "cell_type": "code",
   "execution_count": 87,
   "metadata": {},
   "outputs": [],
   "source": [
    "import tensorflow as tf\n",
    "import numpy as np\n",
    "import pandas as pd\n",
    "import warnings\n",
    "warnings.filterwarnings('ignore')"
   ]
  },
  {
   "cell_type": "markdown",
   "metadata": {},
   "source": [
    "## 导入数据"
   ]
  },
  {
   "cell_type": "code",
   "execution_count": 88,
   "metadata": {},
   "outputs": [
    {
     "name": "stdout",
     "output_type": "stream",
     "text": [
      "<class 'pandas.core.frame.DataFrame'>\n",
      "RangeIndex: 46 entries, 0 to 45\n",
      "Data columns (total 3 columns):\n",
      "2104      46 non-null int64\n",
      "3         46 non-null int64\n",
      "399900    46 non-null int64\n",
      "dtypes: int64(3)\n",
      "memory usage: 1.2 KB\n"
     ]
    }
   ],
   "source": [
    "df = pd.read_csv('data1.csv')\n",
    "df.info()"
   ]
  },
  {
   "cell_type": "code",
   "execution_count": 89,
   "metadata": {},
   "outputs": [
    {
     "data": {
      "text/html": [
       "<div>\n",
       "<style scoped>\n",
       "    .dataframe tbody tr th:only-of-type {\n",
       "        vertical-align: middle;\n",
       "    }\n",
       "\n",
       "    .dataframe tbody tr th {\n",
       "        vertical-align: top;\n",
       "    }\n",
       "\n",
       "    .dataframe thead th {\n",
       "        text-align: right;\n",
       "    }\n",
       "</style>\n",
       "<table border=\"1\" class=\"dataframe\">\n",
       "  <thead>\n",
       "    <tr style=\"text-align: right;\">\n",
       "      <th></th>\n",
       "      <th>area</th>\n",
       "      <th>room_count</th>\n",
       "      <th>menoy</th>\n",
       "    </tr>\n",
       "  </thead>\n",
       "  <tbody>\n",
       "    <tr>\n",
       "      <th>0</th>\n",
       "      <td>1600</td>\n",
       "      <td>3</td>\n",
       "      <td>329900</td>\n",
       "    </tr>\n",
       "    <tr>\n",
       "      <th>1</th>\n",
       "      <td>2400</td>\n",
       "      <td>3</td>\n",
       "      <td>369000</td>\n",
       "    </tr>\n",
       "    <tr>\n",
       "      <th>2</th>\n",
       "      <td>1416</td>\n",
       "      <td>2</td>\n",
       "      <td>232000</td>\n",
       "    </tr>\n",
       "    <tr>\n",
       "      <th>3</th>\n",
       "      <td>3000</td>\n",
       "      <td>4</td>\n",
       "      <td>539900</td>\n",
       "    </tr>\n",
       "    <tr>\n",
       "      <th>4</th>\n",
       "      <td>1985</td>\n",
       "      <td>4</td>\n",
       "      <td>299900</td>\n",
       "    </tr>\n",
       "  </tbody>\n",
       "</table>\n",
       "</div>"
      ],
      "text/plain": [
       "   area  room_count   menoy\n",
       "0  1600           3  329900\n",
       "1  2400           3  369000\n",
       "2  1416           2  232000\n",
       "3  3000           4  539900\n",
       "4  1985           4  299900"
      ]
     },
     "execution_count": 89,
     "metadata": {},
     "output_type": "execute_result"
    }
   ],
   "source": [
    "df.columns = ['area', 'room_count', 'menoy']\n",
    "df.head()"
   ]
  },
  {
   "cell_type": "code",
   "execution_count": 150,
   "metadata": {},
   "outputs": [
    {
     "name": "stdout",
     "output_type": "stream",
     "text": [
      "(46, 2)\n"
     ]
    },
    {
     "data": {
      "text/plain": [
       "array([[-0.50145768, -0.22866478],\n",
       "       [ 0.50539755, -0.22866478],\n",
       "       [-0.73303438, -1.54348727]])"
      ]
     },
     "execution_count": 150,
     "metadata": {},
     "output_type": "execute_result"
    }
   ],
   "source": [
    "x_data = df[['area', 'room_count']].values\n",
    "print(x_data.shape)\n",
    "# 减去平均值并除以标准偏差\n",
    "mean = x_data.mean(axis=0)\n",
    "std = x_data.std(axis=0)\n",
    "x_data = (x_data - mean) / std\n",
    "x_data[:3,:]"
   ]
  },
  {
   "cell_type": "code",
   "execution_count": 151,
   "metadata": {},
   "outputs": [
    {
     "data": {
      "text/plain": [
       "array([[-0.07391816],\n",
       "       [ 0.23957103],\n",
       "       [-0.85884375]])"
      ]
     },
     "execution_count": 151,
     "metadata": {},
     "output_type": "execute_result"
    }
   ],
   "source": [
    "y_data = df['menoy'].values\n",
    "y_data.shape = (46,1)\n",
    "mean = y_data.mean(axis=0)\n",
    "std = y_data.std(axis=0)\n",
    "y_data = (y_data - mean) / std\n",
    "y_data[:3]"
   ]
  },
  {
   "cell_type": "markdown",
   "metadata": {},
   "source": [
    "## 搭建模型"
   ]
  },
  {
   "cell_type": "markdown",
   "metadata": {},
   "source": [
    "### 定义add_layer()函数"
   ]
  },
  {
   "cell_type": "code",
   "execution_count": 152,
   "metadata": {},
   "outputs": [],
   "source": [
    "# 参数：(输入数据, 前一个神经元个数, 下一层神经元个数, 激活函数)\n",
    "def add_layer(inputs, in_size, out_size, activation_function=None):\n",
    "    Weights = tf.Variable(tf.random_normal([in_size, out_size]))\n",
    "    biases = tf.Variable(tf.zeros([1, out_size]) + 0.1)\n",
    "    Wx_plus_b = tf.matmul(inputs, Weights) + biases\n",
    "    if activation_function is None:\n",
    "        outputs = Wx_plus_b\n",
    "    else:\n",
    "        outputs = activation_function(Wx_plus_b)\n",
    "    return outputs"
   ]
  },
  {
   "cell_type": "markdown",
   "metadata": {},
   "source": [
    "### 定义占位符"
   ]
  },
  {
   "cell_type": "code",
   "execution_count": 153,
   "metadata": {},
   "outputs": [],
   "source": [
    "# x,y 样本,一定要是浮点数。None代表无论输入有多少都可以\n",
    "x = tf.placeholder(tf.float32, [46, 2]) # 两个输入变量\n",
    "y = tf.placeholder(tf.float32, [46, 1]) # 一个输出变量"
   ]
  },
  {
   "cell_type": "markdown",
   "metadata": {},
   "source": [
    "### 搭建网络"
   ]
  },
  {
   "cell_type": "code",
   "execution_count": 154,
   "metadata": {},
   "outputs": [],
   "source": [
    "# 第一层网络\n",
    "Z1 = add_layer(x, 2, 10, tf.nn.sigmoid)\n",
    "# 第二层网络\n",
    "prediction = add_layer(Z1, 10, 1, tf.nn.sigmoid)"
   ]
  },
  {
   "cell_type": "code",
   "execution_count": 155,
   "metadata": {},
   "outputs": [],
   "source": [
    "# 损失函数\n",
    "loss = tf.reduce_mean(tf.square(y - prediction))"
   ]
  },
  {
   "cell_type": "code",
   "execution_count": 156,
   "metadata": {},
   "outputs": [],
   "source": [
    "# 使用梯度下降法最小化误差以此来更新权重\n",
    "train = tf.train.GradientDescentOptimizer(0.1).minimize(loss)"
   ]
  },
  {
   "cell_type": "markdown",
   "metadata": {},
   "source": [
    "## 训练模型"
   ]
  },
  {
   "cell_type": "markdown",
   "metadata": {},
   "source": [
    "### 启动会话"
   ]
  },
  {
   "cell_type": "code",
   "execution_count": 157,
   "metadata": {},
   "outputs": [],
   "source": [
    "# 初始化变量  \n",
    "init = tf.global_variables_initializer()"
   ]
  },
  {
   "cell_type": "code",
   "execution_count": 158,
   "metadata": {},
   "outputs": [],
   "source": [
    "# 启动会话\n",
    "sess = tf.Session()\n",
    "sess.run(init)"
   ]
  },
  {
   "cell_type": "markdown",
   "metadata": {},
   "source": [
    "### 开始训练"
   ]
  },
  {
   "cell_type": "code",
   "execution_count": 159,
   "metadata": {},
   "outputs": [],
   "source": [
    "for step in range(1000):\n",
    "    sess.run(train, feed_dict={x:x_data, y:y_data})"
   ]
  },
  {
   "cell_type": "markdown",
   "metadata": {},
   "source": [
    "### 获取预测值"
   ]
  },
  {
   "cell_type": "code",
   "execution_count": 160,
   "metadata": {},
   "outputs": [
    {
     "data": {
      "text/plain": [
       "array([[4.4009387e-03],\n",
       "       [4.0736735e-01],\n",
       "       [2.7737021e-03],\n",
       "       [9.2510623e-01],\n",
       "       [4.3815106e-02],\n",
       "       [3.3376217e-03],\n",
       "       [2.2599697e-03],\n",
       "       [1.9446909e-03],\n",
       "       [2.8614402e-03],\n",
       "       [3.4213066e-02],\n",
       "       [4.2502522e-02],\n",
       "       [2.0930380e-02],\n",
       "       [9.8207808e-01],\n",
       "       [1.4225841e-03],\n",
       "       [2.5505626e-01],\n",
       "       [1.9666553e-03],\n",
       "       [1.3148189e-03],\n",
       "       [7.0389819e-01],\n",
       "       [9.3107319e-01],\n",
       "       [1.0112017e-02],\n",
       "       [2.9129356e-02],\n",
       "       [4.4794679e-03],\n",
       "       [3.8577944e-02],\n",
       "       [9.7696209e-01],\n",
       "       [9.8380446e-04],\n",
       "       [2.5124252e-03],\n",
       "       [5.9099776e-01],\n",
       "       [1.5304449e-01],\n",
       "       [7.2007585e-01],\n",
       "       [2.2187859e-02],\n",
       "       [1.3779402e-03],\n",
       "       [5.9770644e-02],\n",
       "       [9.3719411e-01],\n",
       "       [1.7598242e-02],\n",
       "       [2.3370683e-03],\n",
       "       [1.3242662e-03],\n",
       "       [1.0154486e-01],\n",
       "       [9.8137265e-01],\n",
       "       [1.2065023e-01],\n",
       "       [8.6051822e-03],\n",
       "       [1.9055197e-01],\n",
       "       [6.5203005e-01],\n",
       "       [1.2094474e-03],\n",
       "       [7.0336083e-04],\n",
       "       [2.1570075e-02],\n",
       "       [1.2176556e-03]], dtype=float32)"
      ]
     },
     "execution_count": 160,
     "metadata": {},
     "output_type": "execute_result"
    }
   ],
   "source": [
    "# 获取预测值\n",
    "prediction_value = sess.run(prediction, feed_dict={x: x_data})\n",
    "prediction_value"
   ]
  },
  {
   "cell_type": "markdown",
   "metadata": {},
   "source": [
    "### 可视化"
   ]
  },
  {
   "cell_type": "code",
   "execution_count": 163,
   "metadata": {},
   "outputs": [
    {
     "data": {
      "image/png": "[encoded data removed]",
      "text/plain": [
       "<Figure size 432x288 with 1 Axes>"
      ]
     },
     "metadata": {
      "needs_background": "light"
     },
     "output_type": "display_data"
    }
   ],
   "source": [
    "from matplotlib import pyplot as plt\n",
    "%matplotlib inline\n",
    "\n",
    "# 画图\n",
    "plt.figure()\n",
    "# plt.ion()  #interactive mode on\n",
    "# 绘制样本点，真实值\n",
    "plt.scatter(x_data[:, 0], y_data)\n",
    "# 预测结果\n",
    "plt.scatter(x_data[:, 0], prediction_value)\n",
    "plt.pause(0.001)\n",
    "plt.show()"
   ]
  },
  {
   "cell_type": "code",
   "execution_count": null,
   "metadata": {},
   "outputs": [],
   "source": []
  }
 ],
 "metadata": {
  "kernelspec": {
   "display_name": "Python 3",
   "language": "python",
   "name": "python3"
  },
  "language_info": {
   "codemirror_mode": {
    "name": "ipython",
    "version": 3
   },
   "file_extension": ".py",
   "mimetype": "text/x-python",
   "name": "python",
   "nbconvert_exporter": "python",
   "pygments_lexer": "ipython3",
   "version": "3.7.1"
  },
  "toc": {
   "base_numbering": 1,
   "nav_menu": {},
   "number_sections": true,
   "sideBar": true,
   "skip_h1_title": false,
   "title_cell": "Table of Contents",
   "title_sidebar": "Contents",
   "toc_cell": false,
   "toc_position": {},
   "toc_section_display": true,
   "toc_window_display": false
  }
 },
 "nbformat": 4,
 "nbformat_minor": 2
}
