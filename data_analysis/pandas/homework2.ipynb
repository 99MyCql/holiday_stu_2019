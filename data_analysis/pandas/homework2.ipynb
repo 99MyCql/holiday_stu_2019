{
 "cells": [
  {
   "cell_type": "markdown",
   "metadata": {},
   "source": [
    "# 国内独角兽公司数据分析"
   ]
  },
  {
   "cell_type": "code",
   "execution_count": 1,
   "metadata": {},
   "outputs": [],
   "source": [
    "import pandas as pd\n",
    "import numpy as np\n",
    "import matplotlib.pyplot as plt\n",
    "%matplotlib inline\n",
    "\n",
    "plt.rcParams['font.sans-serif'] = ['SimHei'] # 步骤一（替换sans-serif字体）\n",
    "plt.rcParams['axes.unicode_minus'] = False   # 步骤二（解决坐标轴负数的负号显示问题）"
   ]
  },
  {
   "cell_type": "code",
   "execution_count": 3,
   "metadata": {},
   "outputs": [
    {
     "data": {
      "text/html": [
       "<div>\n",
       "<style scoped>\n",
       "    .dataframe tbody tr th:only-of-type {\n",
       "        vertical-align: middle;\n",
       "    }\n",
       "\n",
       "    .dataframe tbody tr th {\n",
       "        vertical-align: top;\n",
       "    }\n",
       "\n",
       "    .dataframe thead th {\n",
       "        text-align: right;\n",
       "    }\n",
       "</style>\n",
       "<table border=\"1\" class=\"dataframe\">\n",
       "  <thead>\n",
       "    <tr style=\"text-align: right;\">\n",
       "      <th></th>\n",
       "      <th>Rank</th>\n",
       "      <th>Rank_range</th>\n",
       "      <th>Company</th>\n",
       "      <th>Company_eng</th>\n",
       "      <th>Valuation</th>\n",
       "      <th>Leader</th>\n",
       "      <th>Headquarter</th>\n",
       "      <th>Industry</th>\n",
       "      <th>Select Investors</th>\n",
       "    </tr>\n",
       "  </thead>\n",
       "  <tbody>\n",
       "    <tr>\n",
       "      <th>0</th>\n",
       "      <td>1</td>\n",
       "      <td>→</td>\n",
       "      <td>蚂蚁金服</td>\n",
       "      <td>Ant Financial</td>\n",
       "      <td>10000</td>\n",
       "      <td>井贤栋</td>\n",
       "      <td>杭州</td>\n",
       "      <td>互联网金融</td>\n",
       "      <td>春华资本、中投海外、红杉资本</td>\n",
       "    </tr>\n",
       "    <tr>\n",
       "      <th>1</th>\n",
       "      <td>2</td>\n",
       "      <td>3↑</td>\n",
       "      <td>今日头条</td>\n",
       "      <td>Toutiao</td>\n",
       "      <td>5000</td>\n",
       "      <td>张一鸣</td>\n",
       "      <td>北京</td>\n",
       "      <td>文化娱乐</td>\n",
       "      <td>红杉资本、海纳亚洲、纪源资本</td>\n",
       "    </tr>\n",
       "    <tr>\n",
       "      <th>2</th>\n",
       "      <td>3</td>\n",
       "      <td>1↓</td>\n",
       "      <td>滴滴出行</td>\n",
       "      <td>Didi Chuxing</td>\n",
       "      <td>3000</td>\n",
       "      <td>程维</td>\n",
       "      <td>北京</td>\n",
       "      <td>互联网服务</td>\n",
       "      <td>腾讯、阿里巴巴、红杉资本、经纬中国</td>\n",
       "    </tr>\n",
       "  </tbody>\n",
       "</table>\n",
       "</div>"
      ],
      "text/plain": [
       "   Rank Rank_range Company    Company_eng  Valuation Leader Headquarter  \\\n",
       "0     1          →    蚂蚁金服  Ant Financial      10000    井贤栋          杭州   \n",
       "1     2         3↑    今日头条        Toutiao       5000    张一鸣          北京   \n",
       "2     3         1↓    滴滴出行   Didi Chuxing       3000     程维          北京   \n",
       "\n",
       "  Industry   Select Investors  \n",
       "0    互联网金融     春华资本、中投海外、红杉资本  \n",
       "1     文化娱乐     红杉资本、海纳亚洲、纪源资本  \n",
       "2    互联网服务  腾讯、阿里巴巴、红杉资本、经纬中国  "
      ]
     },
     "execution_count": 3,
     "metadata": {},
     "output_type": "execute_result"
    }
   ],
   "source": [
    "df = pd.read_csv('unicorn_china.csv')\n",
    "df.head(3)"
   ]
  },
  {
   "cell_type": "markdown",
   "metadata": {},
   "source": [
    "## 各地区独角兽公司数量和融资金额"
   ]
  },
  {
   "cell_type": "code",
   "execution_count": 24,
   "metadata": {},
   "outputs": [
    {
     "data": {
      "text/plain": [
       "Headquarter\n",
       "上海    42\n",
       "北京    79\n",
       "南京    10\n",
       "台北     1\n",
       "天津     2\n",
       "广州     7\n",
       "成都     1\n",
       "无锡     1\n",
       "杭州    18\n",
       "武汉     1\n",
       "深圳    15\n",
       "绍兴     1\n",
       "苏州     2\n",
       "重庆     1\n",
       "金华     1\n",
       "长沙     1\n",
       "青岛     1\n",
       "香港     2\n",
       "Name: Company, dtype: int64"
      ]
     },
     "execution_count": 24,
     "metadata": {},
     "output_type": "execute_result"
    }
   ],
   "source": [
    "count_se = df.groupby('Headquarter').count()['Company']\n",
    "count_se"
   ]
  },
  {
   "cell_type": "code",
   "execution_count": 25,
   "metadata": {},
   "outputs": [
    {
     "data": {
      "text/plain": [
       "Headquarter\n",
       "上海     8240\n",
       "北京    20570\n",
       "南京     1760\n",
       "台北       70\n",
       "天津      500\n",
       "广州      960\n",
       "成都       70\n",
       "无锡       70\n",
       "杭州    12730\n",
       "武汉      200\n",
       "深圳     4190\n",
       "绍兴      100\n",
       "苏州      170\n",
       "重庆      100\n",
       "金华       70\n",
       "长沙      100\n",
       "青岛      100\n",
       "香港      140\n",
       "Name: Valuation, dtype: int64"
      ]
     },
     "execution_count": 25,
     "metadata": {},
     "output_type": "execute_result"
    }
   ],
   "source": [
    "val_se = df.groupby('Headquarter').sum()['Valuation']\n",
    "val_se"
   ]
  },
  {
   "cell_type": "code",
   "execution_count": 79,
   "metadata": {},
   "outputs": [
    {
     "data": {
      "text/html": [
       "<div>\n",
       "<style scoped>\n",
       "    .dataframe tbody tr th:only-of-type {\n",
       "        vertical-align: middle;\n",
       "    }\n",
       "\n",
       "    .dataframe tbody tr th {\n",
       "        vertical-align: top;\n",
       "    }\n",
       "\n",
       "    .dataframe thead th {\n",
       "        text-align: right;\n",
       "    }\n",
       "</style>\n",
       "<table border=\"1\" class=\"dataframe\">\n",
       "  <thead>\n",
       "    <tr style=\"text-align: right;\">\n",
       "      <th></th>\n",
       "      <th>Valuation</th>\n",
       "      <th>Company</th>\n",
       "    </tr>\n",
       "    <tr>\n",
       "      <th>Headquarter</th>\n",
       "      <th></th>\n",
       "      <th></th>\n",
       "    </tr>\n",
       "  </thead>\n",
       "  <tbody>\n",
       "    <tr>\n",
       "      <th>上海</th>\n",
       "      <td>8240</td>\n",
       "      <td>42</td>\n",
       "    </tr>\n",
       "    <tr>\n",
       "      <th>北京</th>\n",
       "      <td>20570</td>\n",
       "      <td>79</td>\n",
       "    </tr>\n",
       "    <tr>\n",
       "      <th>南京</th>\n",
       "      <td>1760</td>\n",
       "      <td>10</td>\n",
       "    </tr>\n",
       "    <tr>\n",
       "      <th>台北</th>\n",
       "      <td>70</td>\n",
       "      <td>1</td>\n",
       "    </tr>\n",
       "    <tr>\n",
       "      <th>天津</th>\n",
       "      <td>500</td>\n",
       "      <td>2</td>\n",
       "    </tr>\n",
       "    <tr>\n",
       "      <th>广州</th>\n",
       "      <td>960</td>\n",
       "      <td>7</td>\n",
       "    </tr>\n",
       "    <tr>\n",
       "      <th>成都</th>\n",
       "      <td>70</td>\n",
       "      <td>1</td>\n",
       "    </tr>\n",
       "    <tr>\n",
       "      <th>无锡</th>\n",
       "      <td>70</td>\n",
       "      <td>1</td>\n",
       "    </tr>\n",
       "    <tr>\n",
       "      <th>杭州</th>\n",
       "      <td>12730</td>\n",
       "      <td>18</td>\n",
       "    </tr>\n",
       "    <tr>\n",
       "      <th>武汉</th>\n",
       "      <td>200</td>\n",
       "      <td>1</td>\n",
       "    </tr>\n",
       "    <tr>\n",
       "      <th>深圳</th>\n",
       "      <td>4190</td>\n",
       "      <td>15</td>\n",
       "    </tr>\n",
       "    <tr>\n",
       "      <th>绍兴</th>\n",
       "      <td>100</td>\n",
       "      <td>1</td>\n",
       "    </tr>\n",
       "    <tr>\n",
       "      <th>苏州</th>\n",
       "      <td>170</td>\n",
       "      <td>2</td>\n",
       "    </tr>\n",
       "    <tr>\n",
       "      <th>重庆</th>\n",
       "      <td>100</td>\n",
       "      <td>1</td>\n",
       "    </tr>\n",
       "    <tr>\n",
       "      <th>金华</th>\n",
       "      <td>70</td>\n",
       "      <td>1</td>\n",
       "    </tr>\n",
       "    <tr>\n",
       "      <th>长沙</th>\n",
       "      <td>100</td>\n",
       "      <td>1</td>\n",
       "    </tr>\n",
       "    <tr>\n",
       "      <th>青岛</th>\n",
       "      <td>100</td>\n",
       "      <td>1</td>\n",
       "    </tr>\n",
       "    <tr>\n",
       "      <th>香港</th>\n",
       "      <td>140</td>\n",
       "      <td>2</td>\n",
       "    </tr>\n",
       "  </tbody>\n",
       "</table>\n",
       "</div>"
      ],
      "text/plain": [
       "             Valuation  Company\n",
       "Headquarter                    \n",
       "上海                8240       42\n",
       "北京               20570       79\n",
       "南京                1760       10\n",
       "台北                  70        1\n",
       "天津                 500        2\n",
       "广州                 960        7\n",
       "成都                  70        1\n",
       "无锡                  70        1\n",
       "杭州               12730       18\n",
       "武汉                 200        1\n",
       "深圳                4190       15\n",
       "绍兴                 100        1\n",
       "苏州                 170        2\n",
       "重庆                 100        1\n",
       "金华                  70        1\n",
       "长沙                 100        1\n",
       "青岛                 100        1\n",
       "香港                 140        2"
      ]
     },
     "execution_count": 79,
     "metadata": {},
     "output_type": "execute_result"
    }
   ],
   "source": [
    "newdf = pd.DataFrame({val_se.name: val_se.values, count_se.name: count_se.values})\n",
    "newdf.index = val_se.index\n",
    "newdf"
   ]
  },
  {
   "cell_type": "code",
   "execution_count": 80,
   "metadata": {},
   "outputs": [
    {
     "data": {
      "text/plain": [
       "Text(0, 0.5, '独角兽公司数/个 或 融资总和/100亿元')"
      ]
     },
     "execution_count": 80,
     "metadata": {},
     "output_type": "execute_result"
    },
    {
     "data": {
      "image/png": "[encoded data removed]",
      "text/plain": [
       "<Figure size 720x360 with 1 Axes>"
      ]
     },
     "metadata": {
      "needs_background": "light"
     },
     "output_type": "display_data"
    }
   ],
   "source": [
    "newdf['Valuation'] = newdf['Valuation'] / 100\n",
    "count = len(newdf.index)\n",
    "newdf.sort_values(ascending=False, by='Valuation').head(int(count/2)).plot.bar(figsize=(10, 5), fontsize=15)\n",
    "plt.xlabel('城市', fontsize=15) # x轴名称\n",
    "plt.ylabel('独角兽公司数/个 或 融资总和/100亿元', fontsize=15) # y轴名称"
   ]
  },
  {
   "cell_type": "code",
   "execution_count": 81,
   "metadata": {
    "scrolled": true
   },
   "outputs": [
    {
     "data": {
      "text/plain": [
       "<matplotlib.axes._subplots.AxesSubplot at 0x1500fcf22b0>"
      ]
     },
     "execution_count": 81,
     "metadata": {},
     "output_type": "execute_result"
    },
    {
     "data": {
      "image/png": "[encoded data removed]",
      "text/plain": [
       "<Figure size 720x360 with 1 Axes>"
      ]
     },
     "metadata": {
      "needs_background": "light"
     },
     "output_type": "display_data"
    }
   ],
   "source": [
    "newdf.sort_values(ascending=False, by='Valuation').tail(int(count/2)).plot.bar(figsize=(10, 5), fontsize=15)"
   ]
  },
  {
   "cell_type": "markdown",
   "metadata": {},
   "source": [
    "## 各投资企业投资总额"
   ]
  },
  {
   "cell_type": "code",
   "execution_count": 83,
   "metadata": {},
   "outputs": [
    {
     "data": {
      "text/plain": [
       "0        [春华资本, 中投海外, 红杉资本]\n",
       "1        [红杉资本, 海纳亚洲, 纪源资本]\n",
       "2    [腾讯, 阿里巴巴, 红杉资本, 经纬中国]\n",
       "Name: Select Investors, dtype: object"
      ]
     },
     "execution_count": 83,
     "metadata": {},
     "output_type": "execute_result"
    }
   ],
   "source": [
    "df['Select Investors'].str.split('、').head(3)"
   ]
  },
  {
   "cell_type": "code",
   "execution_count": 85,
   "metadata": {},
   "outputs": [
    {
     "data": {
      "text/html": [
       "<div>\n",
       "<style scoped>\n",
       "    .dataframe tbody tr th:only-of-type {\n",
       "        vertical-align: middle;\n",
       "    }\n",
       "\n",
       "    .dataframe tbody tr th {\n",
       "        vertical-align: top;\n",
       "    }\n",
       "\n",
       "    .dataframe thead th {\n",
       "        text-align: right;\n",
       "    }\n",
       "</style>\n",
       "<table border=\"1\" class=\"dataframe\">\n",
       "  <thead>\n",
       "    <tr style=\"text-align: right;\">\n",
       "      <th></th>\n",
       "      <th>0</th>\n",
       "      <th>1</th>\n",
       "      <th>2</th>\n",
       "      <th>3</th>\n",
       "      <th>4</th>\n",
       "      <th>5</th>\n",
       "    </tr>\n",
       "  </thead>\n",
       "  <tbody>\n",
       "    <tr>\n",
       "      <th>0</th>\n",
       "      <td>春华资本</td>\n",
       "      <td>中投海外</td>\n",
       "      <td>红杉资本</td>\n",
       "      <td>None</td>\n",
       "      <td>None</td>\n",
       "      <td>None</td>\n",
       "    </tr>\n",
       "    <tr>\n",
       "      <th>1</th>\n",
       "      <td>红杉资本</td>\n",
       "      <td>海纳亚洲</td>\n",
       "      <td>纪源资本</td>\n",
       "      <td>None</td>\n",
       "      <td>None</td>\n",
       "      <td>None</td>\n",
       "    </tr>\n",
       "    <tr>\n",
       "      <th>2</th>\n",
       "      <td>腾讯</td>\n",
       "      <td>阿里巴巴</td>\n",
       "      <td>红杉资本</td>\n",
       "      <td>经纬中国</td>\n",
       "      <td>None</td>\n",
       "      <td>None</td>\n",
       "    </tr>\n",
       "  </tbody>\n",
       "</table>\n",
       "</div>"
      ],
      "text/plain": [
       "      0     1     2     3     4     5\n",
       "0  春华资本  中投海外  红杉资本  None  None  None\n",
       "1  红杉资本  海纳亚洲  纪源资本  None  None  None\n",
       "2    腾讯  阿里巴巴  红杉资本  经纬中国  None  None"
      ]
     },
     "execution_count": 85,
     "metadata": {},
     "output_type": "execute_result"
    }
   ],
   "source": [
    "newdf = df['Select Investors'].str.split('、', expand=True).apply(pd.Series)\n",
    "newdf.head(3)"
   ]
  },
  {
   "cell_type": "code",
   "execution_count": 87,
   "metadata": {},
   "outputs": [
    {
     "data": {
      "text/html": [
       "<div>\n",
       "<style scoped>\n",
       "    .dataframe tbody tr th:only-of-type {\n",
       "        vertical-align: middle;\n",
       "    }\n",
       "\n",
       "    .dataframe tbody tr th {\n",
       "        vertical-align: top;\n",
       "    }\n",
       "\n",
       "    .dataframe thead th {\n",
       "        text-align: right;\n",
       "    }\n",
       "</style>\n",
       "<table border=\"1\" class=\"dataframe\">\n",
       "  <thead>\n",
       "    <tr style=\"text-align: right;\">\n",
       "      <th></th>\n",
       "      <th>0</th>\n",
       "      <th>1</th>\n",
       "      <th>2</th>\n",
       "      <th>3</th>\n",
       "      <th>4</th>\n",
       "      <th>5</th>\n",
       "    </tr>\n",
       "  </thead>\n",
       "  <tbody>\n",
       "    <tr>\n",
       "      <th></th>\n",
       "      <td>0.0</td>\n",
       "      <td>0.0</td>\n",
       "      <td>0.0</td>\n",
       "      <td>1.0</td>\n",
       "      <td>0.0</td>\n",
       "      <td>0.0</td>\n",
       "    </tr>\n",
       "    <tr>\n",
       "      <th>58同城</th>\n",
       "      <td>0.0</td>\n",
       "      <td>0.0</td>\n",
       "      <td>1.0</td>\n",
       "      <td>0.0</td>\n",
       "      <td>0.0</td>\n",
       "      <td>0.0</td>\n",
       "    </tr>\n",
       "    <tr>\n",
       "      <th>Accel</th>\n",
       "      <td>1.0</td>\n",
       "      <td>0.0</td>\n",
       "      <td>0.0</td>\n",
       "      <td>0.0</td>\n",
       "      <td>0.0</td>\n",
       "      <td>0.0</td>\n",
       "    </tr>\n",
       "  </tbody>\n",
       "</table>\n",
       "</div>"
      ],
      "text/plain": [
       "         0    1    2    3    4    5\n",
       "       0.0  0.0  0.0  1.0  0.0  0.0\n",
       "58同城   0.0  0.0  1.0  0.0  0.0  0.0\n",
       "Accel  1.0  0.0  0.0  0.0  0.0  0.0"
      ]
     },
     "execution_count": 87,
     "metadata": {},
     "output_type": "execute_result"
    }
   ],
   "source": [
    "newdf.apply(pd.value_counts).fillna(0).head(3)"
   ]
  },
  {
   "cell_type": "code",
   "execution_count": 93,
   "metadata": {},
   "outputs": [
    {
     "data": {
      "text/plain": [
       "红杉资本      48\n",
       "腾讯        30\n",
       "IDG       19\n",
       "经纬中国      17\n",
       "启明创投      16\n",
       "真格基金      15\n",
       "高瓴资本      13\n",
       "顺为资本      12\n",
       "晨兴资本      12\n",
       "阿里巴巴      11\n",
       "高盛        10\n",
       "君联资本       8\n",
       "SIG        8\n",
       "纪源资本       7\n",
       "未透露        6\n",
       "华平投资       6\n",
       "GIC        5\n",
       "北极光创投      5\n",
       "DCM        5\n",
       "蚂蚁金服       4\n",
       "鼎晖投资       4\n",
       "百度         4\n",
       "云锋基金       4\n",
       "今日资本       4\n",
       "软银中国       4\n",
       "新浪         4\n",
       "贝塔斯曼       4\n",
       "淡马锡        4\n",
       "国投创新       3\n",
       "天图资本       3\n",
       "          ..\n",
       "天府集团       1\n",
       "大钲资本       1\n",
       "大中投资       1\n",
       "复星锐正资本     1\n",
       "基石资本       1\n",
       "慕华投资       1\n",
       "新天域资本      1\n",
       "海航资本       1\n",
       "汇能金融       1\n",
       "海航旅游       1\n",
       "海纳亚洲       1\n",
       "浙江金控       1\n",
       "浙富控股       1\n",
       "浙商创投       1\n",
       "泛海控股       1\n",
       "泛海投资       1\n",
       "泛大西洋       1\n",
       "汉能投资       1\n",
       "正和岛基金      1\n",
       "方和资本       1\n",
       "松禾资本       1\n",
       "曜为资本       1\n",
       "暾澜资本       1\n",
       "景林投资       1\n",
       "易方达基金      1\n",
       "易凯资本       1\n",
       "明势资本       1\n",
       "昆仑信托       1\n",
       "方正和生       1\n",
       "           1\n",
       "Length: 224, dtype: int32"
      ]
     },
     "execution_count": 93,
     "metadata": {},
     "output_type": "execute_result"
    }
   ],
   "source": [
    "newdf2.sum(axis=1).astype('int').sort_values(ascending=False)"
   ]
  },
  {
   "cell_type": "code",
   "execution_count": 92,
   "metadata": {},
   "outputs": [
    {
     "data": {
      "text/plain": [
       "<matplotlib.axes._subplots.AxesSubplot at 0x1500fedb1d0>"
      ]
     },
     "execution_count": 92,
     "metadata": {},
     "output_type": "execute_result"
    },
    {
     "data": {
      "image/png": "[encoded data removed]",
      "text/plain": [
       "<Figure size 1800x360 with 1 Axes>"
      ]
     },
     "metadata": {
      "needs_background": "light"
     },
     "output_type": "display_data"
    }
   ],
   "source": [
    "newdf2.sum(axis=1).astype('int').sort_values(ascending=False).plot(figsize=(25, 5), fontsize=15)"
   ]
  }
 ],
 "metadata": {
  "kernelspec": {
   "display_name": "Python 3",
   "language": "python",
   "name": "python3"
  },
  "language_info": {
   "codemirror_mode": {
    "name": "ipython",
    "version": 3
   },
   "file_extension": ".py",
   "mimetype": "text/x-python",
   "name": "python",
   "nbconvert_exporter": "python",
   "pygments_lexer": "ipython3",
   "version": "3.7.1"
  }
 },
 "nbformat": 4,
 "nbformat_minor": 2
}
