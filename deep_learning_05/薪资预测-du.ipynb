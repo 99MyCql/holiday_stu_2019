{
 "cells": [
  {
   "cell_type": "code",
   "execution_count": 1528,
   "metadata": {},
   "outputs": [],
   "source": [
    "#导入相关库\n",
    "import numpy as np\n",
    "import pandas as pd\n",
    "from pandas import Series,DataFrame\n",
    "import matplotlib.pyplot as plt\n",
    "import seaborn as sns\n",
    "%matplotlib inline\n",
    "plt.rcParams['font.sans-serif']=['SimHei'] #用来正常显示中文标签\n",
    "plt.rcParams['axes.unicode_minus']=False #用来正常显示负号\n",
    "import warnings\n",
    "warnings.filterwarnings(\"ignore\")"
   ]
  },
  {
   "cell_type": "markdown",
   "metadata": {},
   "source": [
    "数据加载和清洗"
   ]
  },
  {
   "cell_type": "code",
   "execution_count": 1529,
   "metadata": {},
   "outputs": [
    {
     "name": "stdout",
     "output_type": "stream",
     "text": [
      "<class 'pandas.core.frame.DataFrame'>\n",
      "RangeIndex: 496 entries, 0 to 495\n",
      "Data columns (total 7 columns):\n",
      "职位      496 non-null object\n",
      "公司      496 non-null object\n",
      "城市      496 non-null object\n",
      "工资      496 non-null object\n",
      "发布日期    496 non-null object\n",
      "经验要求    496 non-null object\n",
      "学历      496 non-null object\n",
      "dtypes: object(7)\n",
      "memory usage: 27.2+ KB\n"
     ]
    }
   ],
   "source": [
    "jobs = pd.read_csv('job.csv',engine='python')\n",
    "jobs.info()\n",
    "#np.isnan(jobs).any()\n",
    "#jobs.isnull().any()"
   ]
  },
  {
   "cell_type": "code",
   "execution_count": 1530,
   "metadata": {},
   "outputs": [
    {
     "data": {
      "text/plain": [
       "Index(['职位', '公司', '城市', '工资', '发布日期', '经验要求', '学历'], dtype='object')"
      ]
     },
     "execution_count": 1530,
     "metadata": {},
     "output_type": "execute_result"
    }
   ],
   "source": [
    "jobs.columns"
   ]
  },
  {
   "cell_type": "code",
   "execution_count": 1531,
   "metadata": {},
   "outputs": [
    {
     "data": {
      "text/html": [
       "<div>\n",
       "<style scoped>\n",
       "    .dataframe tbody tr th:only-of-type {\n",
       "        vertical-align: middle;\n",
       "    }\n",
       "\n",
       "    .dataframe tbody tr th {\n",
       "        vertical-align: top;\n",
       "    }\n",
       "\n",
       "    .dataframe thead th {\n",
       "        text-align: right;\n",
       "    }\n",
       "</style>\n",
       "<table border=\"1\" class=\"dataframe\">\n",
       "  <thead>\n",
       "    <tr style=\"text-align: right;\">\n",
       "      <th></th>\n",
       "      <th>职位</th>\n",
       "      <th>公司</th>\n",
       "      <th>城市</th>\n",
       "      <th>工资</th>\n",
       "      <th>发布日期</th>\n",
       "      <th>经验要求</th>\n",
       "      <th>学历</th>\n",
       "    </tr>\n",
       "  </thead>\n",
       "  <tbody>\n",
       "    <tr>\n",
       "      <th>count</th>\n",
       "      <td>496</td>\n",
       "      <td>496</td>\n",
       "      <td>496</td>\n",
       "      <td>496</td>\n",
       "      <td>496</td>\n",
       "      <td>496</td>\n",
       "      <td>496</td>\n",
       "    </tr>\n",
       "    <tr>\n",
       "      <th>unique</th>\n",
       "      <td>251</td>\n",
       "      <td>490</td>\n",
       "      <td>129</td>\n",
       "      <td>108</td>\n",
       "      <td>2</td>\n",
       "      <td>5</td>\n",
       "      <td>5</td>\n",
       "    </tr>\n",
       "    <tr>\n",
       "      <th>top</th>\n",
       "      <td>Python开发工程师</td>\n",
       "      <td>博彦科技股份有限公司</td>\n",
       "      <td>深圳-南山区</td>\n",
       "      <td>1-1.5万/月</td>\n",
       "      <td>07-19</td>\n",
       "      <td>3-4年经验</td>\n",
       "      <td>本科</td>\n",
       "    </tr>\n",
       "    <tr>\n",
       "      <th>freq</th>\n",
       "      <td>155</td>\n",
       "      <td>2</td>\n",
       "      <td>29</td>\n",
       "      <td>85</td>\n",
       "      <td>471</td>\n",
       "      <td>150</td>\n",
       "      <td>333</td>\n",
       "    </tr>\n",
       "  </tbody>\n",
       "</table>\n",
       "</div>"
      ],
      "text/plain": [
       "                 职位          公司      城市        工资   发布日期    经验要求   学历\n",
       "count           496         496     496       496    496     496  496\n",
       "unique          251         490     129       108      2       5    5\n",
       "top     Python开发工程师  博彦科技股份有限公司  深圳-南山区  1-1.5万/月  07-19  3-4年经验   本科\n",
       "freq            155           2      29        85    471     150  333"
      ]
     },
     "execution_count": 1531,
     "metadata": {},
     "output_type": "execute_result"
    }
   ],
   "source": [
    "jobs.describe()"
   ]
  },
  {
   "cell_type": "markdown",
   "metadata": {},
   "source": [
    "选取我们需要的特征"
   ]
  },
  {
   "cell_type": "code",
   "execution_count": 1532,
   "metadata": {},
   "outputs": [
    {
     "name": "stdout",
     "output_type": "stream",
     "text": [
      "       城市          工资    经验要求  学历\n",
      "0  北京-朝阳区  0.8-1.3万/月    2年经验  本科\n",
      "1  深圳-福田区    1-1.5万/月  3-4年经验  本科\n"
     ]
    }
   ],
   "source": [
    "jobs = jobs[['城市','工资','经验要求','学历']]\n",
    "print(jobs.head(2))\n"
   ]
  },
  {
   "cell_type": "code",
   "execution_count": 1533,
   "metadata": {},
   "outputs": [],
   "source": [
    "#jobs['学历']"
   ]
  },
  {
   "cell_type": "code",
   "execution_count": 1534,
   "metadata": {},
   "outputs": [],
   "source": [
    "#type(jobs['经验要求'])"
   ]
  },
  {
   "cell_type": "code",
   "execution_count": 1535,
   "metadata": {},
   "outputs": [],
   "source": [
    "## 城市字符串处理函数\n",
    "def get_area(area):\n",
    "    if '-' in area:\n",
    "        area = area.split('-')\n",
    "        return area[0]\n",
    "    else:\n",
    "        return area"
   ]
  },
  {
   "cell_type": "code",
   "execution_count": 1536,
   "metadata": {},
   "outputs": [],
   "source": [
    "jobs['城市'] = jobs['城市'].apply(get_area)"
   ]
  },
  {
   "cell_type": "markdown",
   "metadata": {},
   "source": [
    "这些注释只是为了分析数据而写的代码，以下相同"
   ]
  },
  {
   "cell_type": "code",
   "execution_count": 1537,
   "metadata": {},
   "outputs": [],
   "source": [
    "#jobs['城市'].unique"
   ]
  },
  {
   "cell_type": "code",
   "execution_count": 1538,
   "metadata": {},
   "outputs": [],
   "source": [
    "#jobs.info()\n",
    "#jobs.describe()"
   ]
  },
  {
   "cell_type": "code",
   "execution_count": 1539,
   "metadata": {},
   "outputs": [
    {
     "name": "stdout",
     "output_type": "stream",
     "text": [
      "   城市          工资    经验要求  学历\n",
      "0  北京  0.8-1.3万/月    2年经验  本科\n",
      "1  深圳    1-1.5万/月  3-4年经验  本科\n"
     ]
    }
   ],
   "source": [
    "print(jobs.head(2))"
   ]
  },
  {
   "cell_type": "code",
   "execution_count": 1540,
   "metadata": {},
   "outputs": [],
   "source": [
    "#str = \"2-年工作经验\"\n",
    "#str = str.split('-')\n",
    "#str"
   ]
  },
  {
   "cell_type": "code",
   "execution_count": 1541,
   "metadata": {},
   "outputs": [],
   "source": [
    "## 经验字符串处理函数           \n",
    "def get_exp(exp):\n",
    "    ## 1年经验，2年经验，3-9年经验，无工作经验\n",
    "    #exp=str(exp)\n",
    "    if '-' in exp:\n",
    "        exp = exp.split('-')\n",
    "        return exp[0] \n",
    "    elif exp=='无工作经验':\n",
    "        return 0\n",
    "    else:\n",
    "        return exp[0]\n"
   ]
  },
  {
   "cell_type": "code",
   "execution_count": 1542,
   "metadata": {},
   "outputs": [],
   "source": [
    "jobs['经验要求'] = jobs['经验要求'].apply(get_exp)"
   ]
  },
  {
   "cell_type": "code",
   "execution_count": 1543,
   "metadata": {},
   "outputs": [
    {
     "name": "stdout",
     "output_type": "stream",
     "text": [
      "   城市          工资 经验要求  学历\n",
      "0  北京  0.8-1.3万/月    2  本科\n",
      "1  深圳    1-1.5万/月    3  本科\n"
     ]
    }
   ],
   "source": [
    "print(jobs.head(2))"
   ]
  },
  {
   "cell_type": "code",
   "execution_count": 1544,
   "metadata": {},
   "outputs": [],
   "source": [
    " \n",
    "## 工资字符串处理函数\n",
    "def get_wage(wage):\n",
    "    ## 三种情况举例：1.5-2千/月,0.4-1.2万/月,12-35万/年\n",
    "    \n",
    "    if wage.endswith('千/月'):\n",
    "        wage = wage.replace('千/月','')\n",
    "        wage = wage.split('-')\n",
    "        wage = '%.2f'%((float(wage[0])+float(wage[1]))*1000/2)\n",
    "        return wage\n",
    "    elif wage.endswith('万/月'):\n",
    "        wage = wage.replace('万/月','')\n",
    "        wage = wage.split('-')\n",
    "        wage = '%.2f'%((float(wage[0])+float(wage[1]))*10000/2)\n",
    "        return wage\n",
    "    elif wage.endswith('万/年'):\n",
    "        wage = wage.replace('万/年','')\n",
    "        wage = wage.split('-')\n",
    "        wage = '%.2f'%((float(wage[0])+float(wage[1]))*10000/(2*12))\n",
    "        return wage"
   ]
  },
  {
   "cell_type": "code",
   "execution_count": 1545,
   "metadata": {},
   "outputs": [],
   "source": [
    "\n",
    "jobs['工资'] = jobs['工资'].apply(get_wage)\n"
   ]
  },
  {
   "cell_type": "code",
   "execution_count": 1546,
   "metadata": {},
   "outputs": [],
   "source": [
    "#jobs['工资']"
   ]
  },
  {
   "cell_type": "code",
   "execution_count": 1547,
   "metadata": {},
   "outputs": [
    {
     "name": "stdout",
     "output_type": "stream",
     "text": [
      "   城市        工资 经验要求  学历\n",
      "0  北京  10500.00    2  本科\n",
      "1  深圳  12500.00    3  本科\n"
     ]
    }
   ],
   "source": [
    "print(jobs.head(2))"
   ]
  },
  {
   "cell_type": "markdown",
   "metadata": {},
   "source": [
    "用图表对数据进行进一步的分析"
   ]
  },
  {
   "cell_type": "code",
   "execution_count": 1548,
   "metadata": {},
   "outputs": [
    {
     "data": {
      "image/png": "[encoded data removed]",
      "text/plain": [
       "<matplotlib.figure.Figure at 0x1dfc5112f28>"
      ]
     },
     "metadata": {},
     "output_type": "display_data"
    }
   ],
   "source": [
    "city_count = jobs.groupby(['城市'])['城市'].count()\n",
    "#df_train.groupby(\"hour\").sum()['count'].sort_index().plot()\n",
    "\n",
    "#city_count5 = city_count.sort('city_count.values', ascending=False)\n",
    "city_count5 = city_count .sort_values(ascending = False).head(5)\n",
    "\n",
    "ax = plt.figure(figsize=(10, 8)).add_subplot(111)\n",
    "sns.barplot(city_count5.index, city_count5.values, alpha=0.8)\n",
    "ax.set_ylim([0, 400])\n",
    "ax.set_xlabel('城市', fontsize=20)\n",
    "ax.set_ylabel('职位数量', fontsize=20)\n",
    "ax.set_title('不同城市Python岗位的需求量', size=24)\n",
    "for x, y in zip(range(5), city_count.values):\n",
    "    ax.text(x, y, '%d'%y, ha='center', va='bottom', fontsize=16, color='b')\n",
    "plt.show()\n"
   ]
  },
  {
   "cell_type": "markdown",
   "metadata": {},
   "source": [
    "从上图可以看出，一线城市，Python岗位的需求最多，就业机会大，不过人才比较集中，也意味着竞争压力也较大。"
   ]
  },
  {
   "cell_type": "code",
   "execution_count": 1549,
   "metadata": {},
   "outputs": [],
   "source": [
    "#city_count5 = city_count.sort_values(ascending = False).head(5)\n",
    "#city_count5"
   ]
  },
  {
   "cell_type": "code",
   "execution_count": 1550,
   "metadata": {},
   "outputs": [
    {
     "data": {
      "text/plain": [
       "<matplotlib.axes._subplots.AxesSubplot at 0x1dfc51b8dd8>"
      ]
     },
     "execution_count": 1550,
     "metadata": {},
     "output_type": "execute_result"
    },
    {
     "data": {
      "image/png": "[encoded data removed]",
      "text/plain": [
       "<matplotlib.figure.Figure at 0x1dfc517feb8>"
      ]
     },
     "metadata": {},
     "output_type": "display_data"
    }
   ],
   "source": [
    "#工资分布情况\n",
    "jobs.groupby(['工资'])['工资'].count().plot()\n"
   ]
  },
  {
   "cell_type": "markdown",
   "metadata": {},
   "source": [
    "从总体薪酬可以看出，Python的收入还是挺可观的。薪酬主要集中在5k-18k，但也有明显的断层。"
   ]
  },
  {
   "cell_type": "code",
   "execution_count": 1551,
   "metadata": {},
   "outputs": [
    {
     "data": {
      "text/plain": [
       "array([110,   3,   1,   1,  43,  23,   2,   1,   1,   4,   6,   2,   8,\n",
       "         1,   1,   3,  47,  13,   3,  18,   2,   1,   4,  30,   1,  34,\n",
       "         1,   2,  66,   1,   4,   1,   6,   1,   1,  16,   8,  12,   1,\n",
       "         8,   5], dtype=int64)"
      ]
     },
     "execution_count": 1551,
     "metadata": {},
     "output_type": "execute_result"
    }
   ],
   "source": [
    "city_count.values"
   ]
  },
  {
   "cell_type": "markdown",
   "metadata": {},
   "source": [
    "ax2 = plt.figure(figsize=(10, 6)).add_subplot(111)\n",
    "#sns.distplot(jobs['工资'].astype(float), kde=False, bins=30)\n",
    "sns.distplot(jobs['工资'], kde=False, bins=30)\n",
    "ax2.set_title('工资分布', fontsize=22)\n",
    "ax2.set_xlabel('工资（元/月）', fontsize=18)\n",
    "ax2.set_xticks(range(0,50000,10000))\n",
    "plt.show()\n"
   ]
  },
  {
   "cell_type": "code",
   "execution_count": 1552,
   "metadata": {},
   "outputs": [
    {
     "data": {
      "image/png": "[encoded data removed]",
      "text/plain": [
       "<matplotlib.figure.Figure at 0x1dfc25dd8d0>"
      ]
     },
     "metadata": {},
     "output_type": "display_data"
    }
   ],
   "source": [
    "group_by_city = jobs.groupby(['城市'])['工资']\n",
    "df_city = []\n",
    "for group in city_count5.index:\n",
    "    v = group_by_city.get_group(group).values\n",
    "    df_city.append(v)\n",
    "ax3 = plt.figure(figsize=(10, 6)).add_subplot(111)\n",
    "sns.boxplot(data=df_city)\n",
    "ax3.set_xticklabels(city_count5.index, fontsize=18)\n",
    "ax3.set_title('前5个城市工资比较', fontsize=22)\n",
    "ax3.set_ylabel('工资（元/月）', fontsize=20)\n",
    "plt.show()\n"
   ]
  },
  {
   "cell_type": "markdown",
   "metadata": {},
   "source": [
    "从图上可以看出北京的工资最高，其次是上海，杭州，深圳，广州。"
   ]
  },
  {
   "cell_type": "code",
   "execution_count": 1553,
   "metadata": {},
   "outputs": [
    {
     "data": {
      "image/png": "[encoded data removed]",
      "text/plain": [
       "<matplotlib.figure.Figure at 0x1dfc27ff7b8>"
      ]
     },
     "metadata": {},
     "output_type": "display_data"
    }
   ],
   "source": [
    "exp_count = jobs.groupby(['经验要求'])['经验要求'].count()\n",
    "ax4 = plt.figure(figsize=(10, 8)).add_subplot(111)\n",
    "sns.barplot(exp_count.index, exp_count.values, alpha=0.8)\n",
    "ax4.set_ylim([0, 150])\n",
    "ax4.set_xlabel('经验要求', fontsize=20)\n",
    "ax4.set_ylabel('数量', fontsize=20)\n",
    "ax4.set_title('经验要求分布', size=24)\n",
    "for x, y in zip(range(5), exp_count.values):\n",
    "    ax4.text(x, y, '%d'%y, ha='center', va='bottom', fontsize=16, color='b')\n",
    "plt.show()\n"
   ]
  },
  {
   "cell_type": "markdown",
   "metadata": {},
   "source": [
    "2-3年经验的需求比较大，主要集中在这两个年限。从这个情况看，虽然该岗位需求大，但是不能盲目转行，毕竟对经验要求比较大。\n",
    "从长远看，5年以上经验的需求还是比较少的，10年以上近乎无，可以看出5年这个点是比较关键的，职业规划需要在前几年做好，尽快提升自己。"
   ]
  },
  {
   "cell_type": "code",
   "execution_count": 1554,
   "metadata": {},
   "outputs": [
    {
     "data": {
      "image/png": "[encoded data removed]",
      "text/plain": [
       "<matplotlib.figure.Figure at 0x1dfc27847f0>"
      ]
     },
     "metadata": {},
     "output_type": "display_data"
    }
   ],
   "source": [
    "xueli_count = jobs.groupby(['学历'])['学历'].count()\n",
    "ax5 = plt.figure(figsize=(10, 8)).add_subplot(111)\n",
    "sns.barplot(xueli_count.index, xueli_count.values, alpha=0.8)\n",
    "ax5.set_ylim([0, 300])\n",
    "ax5.set_xlabel('学历', fontsize=20)\n",
    "ax5.set_ylabel('数量', fontsize=20)\n",
    "ax5.set_title('学历分布', size=24)\n",
    "for x, y in zip(range(5), xueli_count.values):\n",
    "    ax5.text(x, y, '%d'%y, ha='center', va='bottom', fontsize=16, color='b')\n",
    "plt.show()\n"
   ]
  },
  {
   "cell_type": "markdown",
   "metadata": {},
   "source": [
    "Python对本科生的需求最大，其次是大专，其他学历需求很少，对于博士需求基本没有。"
   ]
  },
  {
   "cell_type": "code",
   "execution_count": 1555,
   "metadata": {},
   "outputs": [
    {
     "data": {
      "image/png": "[encoded data removed]",
      "text/plain": [
       "<matplotlib.figure.Figure at 0x1dfc3aa4cf8>"
      ]
     },
     "metadata": {},
     "output_type": "display_data"
    }
   ],
   "source": [
    "sns.boxplot(jobs['经验要求'].astype(int),jobs['工资'].astype(float))\n",
    "plt.xlabel('经验要求')\n",
    "plt.ylabel('工资')\n",
    "plt.title('工作经验与薪酬相关情况',size=24)\n",
    "plt.show()\n"
   ]
  },
  {
   "cell_type": "code",
   "execution_count": 1556,
   "metadata": {},
   "outputs": [
    {
     "data": {
      "image/png": "[encoded data removed]",
      "text/plain": [
       "<matplotlib.figure.Figure at 0x1dfc3c84908>"
      ]
     },
     "metadata": {},
     "output_type": "display_data"
    }
   ],
   "source": [
    " sns.boxplot(jobs['学历'],jobs['工资'].astype(float))\n",
    " plt.xlabel('学历')\n",
    " plt.ylabel('工资')\n",
    " plt.title('学历与薪酬相关情况',size=24)\n",
    " plt.show()\n"
   ]
  },
  {
   "cell_type": "markdown",
   "metadata": {},
   "source": [
    "从以上两图可以看出随着工作经验的增加，相应的工资也会随着增加。随着学历的上升，相应的工资也会随着增加。这些均符合我们的常识判断。"
   ]
  },
  {
   "cell_type": "code",
   "execution_count": 1557,
   "metadata": {},
   "outputs": [],
   "source": [
    "from sklearn.preprocessing import LabelEncoder as LE\n",
    "from sklearn.linear_model import LinearRegression as LR"
   ]
  },
  {
   "cell_type": "markdown",
   "metadata": {},
   "source": [
    "总结\n",
    "1、Python就业机会主要集中在一线城市，如上海、深圳、北京等城市；\n",
    "2、Python岗位的薪资主要集中在5k-18k，中间有几个小分水岭，薪资有较大的发展空间，且一线城市中北京的工资最高，其次是上海，杭州，深圳，广州。\n",
    "3、Python岗位的经验要求集中在2-3年，该岗位对经验方面比较看重，且工作经验和工资呈正相关。值得注意的是从长远看，5年以上经验的需求还是比较少的。\n",
    "4、Python在学历方面对本科生的需求最大，其次是大专，其他学历需求很少，对于博士需求基本没有，在此基础上学历和工资呈正相关。\n"
   ]
  },
  {
   "cell_type": "markdown",
   "metadata": {},
   "source": [
    "#将各字符分类变量重编码为数值分类变量"
   ]
  },
  {
   "cell_type": "code",
   "execution_count": 1558,
   "metadata": {},
   "outputs": [],
   "source": [
    "le = LE()   \n",
    "                                         \n",
    "jobs['城市'] = le.fit_transform(jobs['城市'].values)          #城市重编码  \n"
   ]
  },
  {
   "cell_type": "code",
   "execution_count": null,
   "metadata": {},
   "outputs": [],
   "source": []
  },
  {
   "cell_type": "code",
   "execution_count": 1559,
   "metadata": {},
   "outputs": [],
   "source": [
    "#jobs['城市'].unique"
   ]
  },
  {
   "cell_type": "code",
   "execution_count": 1560,
   "metadata": {},
   "outputs": [],
   "source": [
    "#学历重编码 \n",
    "jobs['学历']=jobs['学历'].replace('中专',0)                  \n",
    "jobs['学历']=jobs['学历'].replace('高中',1)\n",
    "jobs['学历']=jobs['学历'].replace('大专',2)\n",
    "jobs['学历']=jobs['学历'].replace('本科',3)\n",
    "jobs['学历']=jobs['学历'].replace('硕士',4)\n"
   ]
  },
  {
   "cell_type": "code",
   "execution_count": 1561,
   "metadata": {},
   "outputs": [],
   "source": [
    "#jobs['学历']"
   ]
  },
  {
   "cell_type": "code",
   "execution_count": 1562,
   "metadata": {},
   "outputs": [],
   "source": [
    "#jobs['经验要求']"
   ]
  },
  {
   "cell_type": "code",
   "execution_count": 1563,
   "metadata": {},
   "outputs": [
    {
     "data": {
      "text/plain": [
       "Index(['城市', '工资', '经验要求', '学历'], dtype='object')"
      ]
     },
     "execution_count": 1563,
     "metadata": {},
     "output_type": "execute_result"
    }
   ],
   "source": [
    "jobs.columns"
   ]
  },
  {
   "cell_type": "code",
   "execution_count": 1564,
   "metadata": {},
   "outputs": [],
   "source": [
    "#jobs['城市']\n",
    "#jobs['经验要求']"
   ]
  },
  {
   "cell_type": "code",
   "execution_count": 1565,
   "metadata": {
    "scrolled": true
   },
   "outputs": [
    {
     "data": {
      "text/html": [
       "<div>\n",
       "<style scoped>\n",
       "    .dataframe tbody tr th:only-of-type {\n",
       "        vertical-align: middle;\n",
       "    }\n",
       "\n",
       "    .dataframe tbody tr th {\n",
       "        vertical-align: top;\n",
       "    }\n",
       "\n",
       "    .dataframe thead th {\n",
       "        text-align: right;\n",
       "    }\n",
       "</style>\n",
       "<table border=\"1\" class=\"dataframe\">\n",
       "  <thead>\n",
       "    <tr style=\"text-align: right;\">\n",
       "      <th></th>\n",
       "      <th>城市</th>\n",
       "      <th>工资</th>\n",
       "      <th>经验要求</th>\n",
       "      <th>学历</th>\n",
       "    </tr>\n",
       "  </thead>\n",
       "  <tbody>\n",
       "    <tr>\n",
       "      <th>84</th>\n",
       "      <td>0</td>\n",
       "      <td>None</td>\n",
       "      <td>0</td>\n",
       "      <td>3</td>\n",
       "    </tr>\n",
       "    <tr>\n",
       "      <th>294</th>\n",
       "      <td>0</td>\n",
       "      <td>None</td>\n",
       "      <td>3</td>\n",
       "      <td>3</td>\n",
       "    </tr>\n",
       "  </tbody>\n",
       "</table>\n",
       "</div>"
      ],
      "text/plain": [
       "     城市    工资 经验要求  学历\n",
       "84    0  None    0   3\n",
       "294   0  None    3   3"
      ]
     },
     "execution_count": 1565,
     "metadata": {},
     "output_type": "execute_result"
    }
   ],
   "source": [
    "jobs[jobs['工资'].isnull()]"
   ]
  },
  {
   "cell_type": "code",
   "execution_count": 1566,
   "metadata": {},
   "outputs": [],
   "source": [
    "##??jobs.dropna"
   ]
  },
  {
   "cell_type": "code",
   "execution_count": 1567,
   "metadata": {},
   "outputs": [],
   "source": [
    "jobs.dropna(inplace=True)"
   ]
  },
  {
   "cell_type": "code",
   "execution_count": 1568,
   "metadata": {},
   "outputs": [
    {
     "data": {
      "text/plain": [
       "(494, 3)"
      ]
     },
     "execution_count": 1568,
     "metadata": {},
     "output_type": "execute_result"
    }
   ],
   "source": [
    "## 特征选择\n",
    "X = jobs[['城市','经验要求','学历']]\n",
    "X = X.as_matrix().astype(np.float)\n",
    "X.shape"
   ]
  },
  {
   "cell_type": "code",
   "execution_count": 1569,
   "metadata": {},
   "outputs": [],
   "source": [
    "## 结果集\n",
    "y = jobs['工资']\n",
    "y = y.as_matrix().astype(np.float)\n",
    "#y"
   ]
  },
  {
   "cell_type": "code",
   "execution_count": 1570,
   "metadata": {
    "scrolled": false
   },
   "outputs": [
    {
     "name": "stdout",
     "output_type": "stream",
     "text": [
      "<class 'pandas.core.frame.DataFrame'>\n",
      "Int64Index: 494 entries, 0 to 495\n",
      "Data columns (total 4 columns):\n",
      "城市      494 non-null int64\n",
      "工资      494 non-null object\n",
      "经验要求    494 non-null object\n",
      "学历      494 non-null int64\n",
      "dtypes: int64(2), object(2)\n",
      "memory usage: 19.3+ KB\n"
     ]
    }
   ],
   "source": [
    "jobs.info()"
   ]
  },
  {
   "cell_type": "code",
   "execution_count": 1571,
   "metadata": {},
   "outputs": [],
   "source": [
    "XX = X.astype(np.int32)"
   ]
  },
  {
   "cell_type": "code",
   "execution_count": 1572,
   "metadata": {},
   "outputs": [
    {
     "data": {
      "text/plain": [
       "array([108, 137,   5])"
      ]
     },
     "execution_count": 1572,
     "metadata": {},
     "output_type": "execute_result"
    }
   ],
   "source": [
    "sum(XX == 0)"
   ]
  },
  {
   "cell_type": "code",
   "execution_count": 1573,
   "metadata": {},
   "outputs": [
    {
     "data": {
      "text/plain": [
       "array([0, 0, 0])"
      ]
     },
     "execution_count": 1573,
     "metadata": {},
     "output_type": "execute_result"
    }
   ],
   "source": [
    "sum(np.isnan(X))"
   ]
  },
  {
   "cell_type": "code",
   "execution_count": 1574,
   "metadata": {},
   "outputs": [
    {
     "data": {
      "text/plain": [
       "array([40.,  5.,  4.])"
      ]
     },
     "execution_count": 1574,
     "metadata": {},
     "output_type": "execute_result"
    }
   ],
   "source": [
    "np.max(X, axis=0)"
   ]
  },
  {
   "cell_type": "code",
   "execution_count": 1575,
   "metadata": {},
   "outputs": [
    {
     "data": {
      "text/plain": [
       "0"
      ]
     },
     "execution_count": 1575,
     "metadata": {},
     "output_type": "execute_result"
    }
   ],
   "source": [
    "sum(np.isnan(y))"
   ]
  },
  {
   "cell_type": "code",
   "execution_count": 1576,
   "metadata": {},
   "outputs": [],
   "source": [
    "#np.unique(y)"
   ]
  },
  {
   "cell_type": "code",
   "execution_count": 1577,
   "metadata": {},
   "outputs": [],
   "source": [
    "from sklearn import linear_model\n",
    "#clf = linear_model.LogisticRegression(C=1.0, penalty='l1', tol=1e-6)\n",
    "#clf.fit(X, y)\n",
    "    \n",
    "#clf"
   ]
  },
  {
   "cell_type": "code",
   "execution_count": 1578,
   "metadata": {},
   "outputs": [
    {
     "data": {
      "text/plain": [
       "LinearRegression(copy_X=True, fit_intercept=True, n_jobs=1, normalize=False)"
      ]
     },
     "execution_count": 1578,
     "metadata": {},
     "output_type": "execute_result"
    }
   ],
   "source": [
    "## 模型学习\n",
    "model = LR()\n",
    "model.fit(X,y)"
   ]
  },
  {
   "cell_type": "code",
   "execution_count": null,
   "metadata": {},
   "outputs": [],
   "source": []
  },
  {
   "cell_type": "code",
   "execution_count": null,
   "metadata": {},
   "outputs": [],
   "source": []
  },
  {
   "cell_type": "code",
   "execution_count": 1579,
   "metadata": {},
   "outputs": [],
   "source": [
    "from sklearn.model_selection import train_test_split # 分割数据模块\n",
    "from sklearn import preprocessing#数据预处理"
   ]
  },
  {
   "cell_type": "code",
   "execution_count": 1580,
   "metadata": {},
   "outputs": [],
   "source": [
    "#X = preprocessing.scale(X)"
   ]
  },
  {
   "cell_type": "markdown",
   "metadata": {},
   "source": [
    "X, y = make_classification(\n",
    "    n_redundant=0, n_informative=2, \n",
    "    random_state=22, n_clusters_per_class=1, \n",
    "    scale=100)"
   ]
  },
  {
   "cell_type": "code",
   "execution_count": 1581,
   "metadata": {},
   "outputs": [],
   "source": [
    "X_train, X_test, y_train, y_test = train_test_split(X, y, random_state=4)"
   ]
  },
  {
   "cell_type": "code",
   "execution_count": null,
   "metadata": {},
   "outputs": [],
   "source": []
  },
  {
   "cell_type": "code",
   "execution_count": null,
   "metadata": {},
   "outputs": [],
   "source": []
  },
  {
   "cell_type": "code",
   "execution_count": 1582,
   "metadata": {},
   "outputs": [
    {
     "data": {
      "text/plain": [
       "0.16129032258064516"
      ]
     },
     "execution_count": 1582,
     "metadata": {},
     "output_type": "execute_result"
    }
   ],
   "source": [
    "from sklearn.datasets.samples_generator import make_classification\n",
    "from sklearn.svm import SVC\n",
    "#X_train,X_test,y_train,y_test = train_test_split(X,y,test_size=0.3)\n",
    "svm = SVC()\n",
    "svm.fit(X_train.astype(int),y_train.astype(int))\n",
    "svm.score(X_test,y_test)"
   ]
  },
  {
   "cell_type": "code",
   "execution_count": 1583,
   "metadata": {},
   "outputs": [
    {
     "name": "stdout",
     "output_type": "stream",
     "text": [
      "0.15379421274207894\n"
     ]
    }
   ],
   "source": [
    "\n",
    "model = LR()\n",
    "model.fit(X_train, y_train)\n",
    "print(model.score(X_test, y_test))"
   ]
  },
  {
   "cell_type": "code",
   "execution_count": 1584,
   "metadata": {},
   "outputs": [],
   "source": [
    "#from sklearn.metrics import accuracy_score\n",
    "#y_pred = model.predict(X_test)\n",
    "#accuracy_score(y_test, y_pred)"
   ]
  },
  {
   "cell_type": "code",
   "execution_count": 1585,
   "metadata": {},
   "outputs": [],
   "source": [
    "from sklearn.neighbors import KNeighborsClassifier # K最近邻(kNN，k-NearestNeighbor)分类算法"
   ]
  },
  {
   "cell_type": "code",
   "execution_count": 1586,
   "metadata": {},
   "outputs": [
    {
     "name": "stdout",
     "output_type": "stream",
     "text": [
      "0.14516129032258066\n"
     ]
    }
   ],
   "source": [
    "knn = KNeighborsClassifier()\n",
    "knn.fit(X_train.astype(int), y_train.astype(int))\n",
    "print(knn.score(X_test, y_test))"
   ]
  },
  {
   "cell_type": "code",
   "execution_count": 1587,
   "metadata": {},
   "outputs": [
    {
     "data": {
      "text/plain": [
       "0.14516129032258066"
      ]
     },
     "execution_count": 1587,
     "metadata": {},
     "output_type": "execute_result"
    }
   ],
   "source": [
    "from sklearn.metrics import accuracy_score\n",
    "y_pred = knn.predict(X_test)\n",
    "accuracy_score(y_test, y_pred)"
   ]
  },
  {
   "cell_type": "code",
   "execution_count": 1588,
   "metadata": {},
   "outputs": [],
   "source": [
    "from sklearn.model_selection import cross_val_score "
   ]
  },
  {
   "cell_type": "code",
   "execution_count": 1589,
   "metadata": {},
   "outputs": [
    {
     "name": "stdout",
     "output_type": "stream",
     "text": [
      "[0.06896552 0.11594203 0.0877193  0.19607843 0.17021277 0.25\n",
      " 0.14285714 0.10810811 0.125      0.17857143]\n",
      "0.1443454721339176\n"
     ]
    }
   ],
   "source": [
    "from sklearn.model_selection import cross_val_score # K折交叉验证模块\n",
    "\n",
    "#使用K折交叉验证模块\n",
    "#对数据集进行指定次数的交叉验证并为每次验证效果评测\n",
    "# cv  默认使用KFold 或StratifiedKFold 进行数据集打乱\n",
    "scores = cross_val_score(knn,X.astype(int),y.astype(int),scoring='accuracy',cv=10)\n",
    "\n",
    "#将5次的预测准确率打印出\n",
    "print(scores)\n",
    "# [ 0.96666667  1.          0.93333333  0.96666667  1.        ]\n",
    "\n",
    "#将5次的预测准确平均率打印出\n",
    "print(scores.mean())\n",
    "# 0.973333333333"
   ]
  },
  {
   "cell_type": "code",
   "execution_count": 1590,
   "metadata": {},
   "outputs": [
    {
     "data": {
      "image/png": "[encoded data removed]",
      "text/plain": [
       "<matplotlib.figure.Figure at 0x1dfc51b8a58>"
      ]
     },
     "metadata": {},
     "output_type": "display_data"
    }
   ],
   "source": [
    "import matplotlib.pyplot as plt #可视化模块\n",
    "from sklearn.model_selection import cross_val_score\n",
    "from sklearn.model_selection import train_test_split # 分割数据模块\n",
    "from sklearn.neighbors import KNeighborsClassifier # K最近邻(kNN，k-NearestNeighbor)分类算法\n",
    "%matplotlib inline\n",
    "\n",
    "\n",
    "#建立KNN测试参数\n",
    "k_range = range(1, 31)\n",
    "\n",
    "k_scores = []  #用来放每个模型的结果值\n",
    "\n",
    "#藉由迭代的方式来计算不同参数对模型的影响，并返回交叉验证后的平均准确率\n",
    "for k in k_range:\n",
    "    #pass\n",
    "    # #knn模型，这里一个超参数可以做预测，当多个超参数时需要使用另一种方法GridSearchCV\n",
    "    knn=KNeighborsClassifier(n_neighbors=k)  \n",
    "    # 这里的cross_val_score将交叉验证的整个过程连接起来，不用再进行手动的分割数据\n",
    "    # cv参数用于规定将原始数据分成多少份\n",
    "    scores = cross_val_score(knn,X.astype(int),y.astype(int),cv=10,scoring='accuracy')\n",
    "    k_scores.append(scores.mean())\n",
    "    \n",
    "#可视化数据\n",
    "plt.plot(k_range, k_scores)\n",
    "plt.xlabel('Value of K for KNN')\n",
    "plt.ylabel('Cross-Validated Accuracy')\n",
    "plt.show()"
   ]
  },
  {
   "cell_type": "code",
   "execution_count": 1591,
   "metadata": {},
   "outputs": [
    {
     "data": {
      "image/png": "[encoded data removed]",
      "text/plain": [
       "<matplotlib.figure.Figure at 0x1dfc55d1828>"
      ]
     },
     "metadata": {},
     "output_type": "display_data"
    }
   ],
   "source": [
    "import matplotlib.pyplot as plt\n",
    "k_range = range(1, 31)\n",
    "k_scores = []\n",
    "for k in k_range:\n",
    "    knn = KNeighborsClassifier(n_neighbors=k)\n",
    "    #loss = -cross_val_score(knn, X, y, cv=10, scoring='mean_squared_error')\n",
    "    loss = -cross_val_score(knn, X.astype(int), y.astype(int), cv=10, scoring='neg_mean_squared_error')\n",
    "    k_scores.append(loss.mean())\n",
    "\n",
    "plt.plot(k_range, k_scores)\n",
    "plt.xlabel('Value of K for KNN')\n",
    "plt.ylabel('Cross-Validated MSE')\n",
    "plt.show()"
   ]
  },
  {
   "cell_type": "code",
   "execution_count": null,
   "metadata": {},
   "outputs": [],
   "source": []
  },
  {
   "cell_type": "code",
   "execution_count": 1605,
   "metadata": {},
   "outputs": [],
   "source": [
    "def model_compare(classifiers, cv=10, scr='accuracy'):\n",
    "    all_scores = []\n",
    "    for name, clf in classifiers.items():\n",
    "        scores = cross_val_score(clf, X.astype(int), y.astype(int), cv=cv, scoring=scr)\n",
    "        print(name,'\\t--> ',scores.mean())\n",
    "        all_scores.append(scores.mean())\n",
    "    return all_scores"
   ]
  },
  {
   "cell_type": "code",
   "execution_count": 1606,
   "metadata": {},
   "outputs": [],
   "source": [
    "classifiers = {\n",
    "'KN': KNeighborsClassifier(3),\n",
    "'SVM':SVC()\n",
    "}"
   ]
  },
  {
   "cell_type": "code",
   "execution_count": 1607,
   "metadata": {},
   "outputs": [
    {
     "name": "stdout",
     "output_type": "stream",
     "text": [
      "KN \t-->  0.10775772561903388\n",
      "SVM \t-->  0.1918195660320806\n"
     ]
    }
   ],
   "source": [
    "ascores = model_compare(classifiers)"
   ]
  },
  {
   "cell_type": "code",
   "execution_count": 1604,
   "metadata": {},
   "outputs": [
    {
     "name": "stdout",
     "output_type": "stream",
     "text": [
      "15126.96\n"
     ]
    }
   ],
   "source": [
    "\n",
    "##构建预测函数\n",
    "def wage_pred(area,exp,xueli):\n",
    "    area_index = list(le.classes_).index(area)\n",
    "    xueli_index = list(('中专','高中','大专','本科','硕士')).index(xueli)\n",
    "    wage_pred = model.predict([[area_index,exp,xueli_index]])\n",
    "    print('%.2f'%wage_pred)\n",
    "    \n",
    "## 测试代码\n",
    "if __name__ == '__main__':\n",
    "\twage_pred('北京',2,'本科')\n",
    "    #wage_pred('长沙',1,'本科')"
   ]
  },
  {
   "cell_type": "code",
   "execution_count": null,
   "metadata": {},
   "outputs": [],
   "source": []
  },
  {
   "cell_type": "code",
   "execution_count": null,
   "metadata": {},
   "outputs": [],
   "source": []
  },
  {
   "cell_type": "code",
   "execution_count": null,
   "metadata": {},
   "outputs": [],
   "source": []
  },
  {
   "cell_type": "code",
   "execution_count": null,
   "metadata": {},
   "outputs": [],
   "source": []
  },
  {
   "cell_type": "code",
   "execution_count": null,
   "metadata": {},
   "outputs": [],
   "source": []
  }
 ],
 "metadata": {
  "kernelspec": {
   "display_name": "Python 3",
   "language": "python",
   "name": "python3"
  },
  "language_info": {
   "codemirror_mode": {
    "name": "ipython",
    "version": 3
   },
   "file_extension": ".py",
   "mimetype": "text/x-python",
   "name": "python",
   "nbconvert_exporter": "python",
   "pygments_lexer": "ipython3",
   "version": "3.6.4"
  }
 },
 "nbformat": 4,
 "nbformat_minor": 2
}
