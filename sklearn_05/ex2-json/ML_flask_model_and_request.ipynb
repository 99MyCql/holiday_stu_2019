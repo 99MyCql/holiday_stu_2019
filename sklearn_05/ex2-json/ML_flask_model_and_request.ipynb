{
 "cells": [
  {
   "cell_type": "markdown",
   "metadata": {},
   "source": [
    "### Model build\n",
    "Using the [Iris](https://en.wikipedia.org/wiki/Iris_flower_data_set) flower data set we will build a simple logistic regression model to predict the class of our inputs."
   ]
  },
  {
   "cell_type": "code",
   "execution_count": 1,
   "metadata": {},
   "outputs": [
    {
     "name": "stdout",
     "output_type": "stream",
     "text": [
      "Training Accuracy: 0.96\n",
      "Prediciton results: [[0.91120496 0.08679058 0.00200446]]\n"
     ]
    },
    {
     "name": "stderr",
     "output_type": "stream",
     "text": [
      "C:\\ProgramData\\Anaconda3\\lib\\site-packages\\sklearn\\linear_model\\logistic.py:432: FutureWarning: Default solver will be changed to 'lbfgs' in 0.22. Specify a solver to silence this warning.\n",
      "  FutureWarning)\n",
      "C:\\ProgramData\\Anaconda3\\lib\\site-packages\\sklearn\\linear_model\\logistic.py:469: FutureWarning: Default multi_class will be changed to 'auto' in 0.22. Specify the multi_class option to silence this warning.\n",
      "  \"this warning.\", FutureWarning)\n"
     ]
    }
   ],
   "source": [
    "from sklearn import datasets, linear_model\n",
    "\n",
    "iris = datasets.load_iris()\n",
    "X, Y = iris.data, iris.target\n",
    "\n",
    "logreg = linear_model.LogisticRegression()\n",
    "\n",
    "logreg.fit(X, Y)\n",
    "\n",
    "print(\"Training Accuracy:\", logreg.score(X, Y))\n",
    "print(\"Prediciton results:\", logreg.predict_proba([[5.2, 3.5, 2.4, 1.2]]))"
   ]
  },
  {
   "cell_type": "markdown",
   "metadata": {},
   "source": [
    "### Persisit the model\n",
    "\n",
    "We will use the [pickle module](https://docs.python.org/3/library/pickle.html) to serialize our sklearn model so that we may use in our Flask app to make real time predictions on new input data. We will later `load` this model in our Flask app."
   ]
  },
  {
   "cell_type": "code",
   "execution_count": 2,
   "metadata": {},
   "outputs": [],
   "source": [
    "import pickle\n",
    "\n",
    "pickle.dump(logreg, open('iris_lr_model.pkl', 'wb'))"
   ]
  },
  {
   "cell_type": "markdown",
   "metadata": {},
   "source": [
    "### Start our Flask app\n",
    "Go to our Flask app and start the api.\n",
    "\n",
    "To start the api run these 2 commands in your terminal within the directory:\n",
    "\n",
    "`$ export FLASK_APP=iris_app.py`\n",
    "\n",
    "`$ flask run`"
   ]
  },
  {
   "cell_type": "markdown",
   "metadata": {},
   "source": [
    "### Predict on our endpoint\n",
    "Now that our api is up and running we can use the [requests module](http://docs.python-requests.org/en/master/) to score against our model with new inputs."
   ]
  },
  {
   "cell_type": "code",
   "execution_count": 1,
   "metadata": {},
   "outputs": [
    {
     "data": {
      "text/plain": [
       "[{'name': 'Iris-Setosa', 'value': 93.51},\n",
       " {'name': 'Iris-Versicolour', 'value': 0.01},\n",
       " {'name': 'Iris-Virginica', 'value': 6.48}]"
      ]
     },
     "execution_count": 1,
     "metadata": {},
     "output_type": "execute_result"
    }
   ],
   "source": [
    "import requests, json\n",
    "\n",
    "BASE_URL = \"http://localhost:5000\"\n",
    "\n",
    "input_data = {\"sepalLength\": 5.2, \n",
    "              \"sepalWidth\": 4.5, \n",
    "              \"petalLength\": 1.4, \n",
    "              \"petalWidth\": 4.2}\n",
    "\n",
    "response = requests.post(\"{}/predict\".format(BASE_URL), json = input_data)\n",
    "\n",
    "response.json()"
   ]
  },
  {
   "cell_type": "code",
   "execution_count": null,
   "metadata": {
    "collapsed": true
   },
   "outputs": [],
   "source": []
  }
 ],
 "metadata": {
  "kernelspec": {
   "display_name": "Python 3",
   "language": "python",
   "name": "python3"
  },
  "language_info": {
   "codemirror_mode": {
    "name": "ipython",
    "version": 3
   },
   "file_extension": ".py",
   "mimetype": "text/x-python",
   "name": "python",
   "nbconvert_exporter": "python",
   "pygments_lexer": "ipython3",
   "version": "3.7.1"
  },
  "toc": {
   "base_numbering": 1,
   "nav_menu": {},
   "number_sections": true,
   "sideBar": true,
   "skip_h1_title": false,
   "title_cell": "Table of Contents",
   "title_sidebar": "Contents",
   "toc_cell": false,
   "toc_position": {},
   "toc_section_display": true,
   "toc_window_display": false
  }
 },
 "nbformat": 4,
 "nbformat_minor": 2
}
